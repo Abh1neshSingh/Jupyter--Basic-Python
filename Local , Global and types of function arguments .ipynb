{
 "cells": [
  {
   "cell_type": "code",
   "execution_count": null,
   "id": "4671a5be-f619-4163-99c1-516f46838cd3",
   "metadata": {},
   "outputs": [],
   "source": [
    "Q. Accept a string as input. your task is to determine\n",
    "   if the input string is a valid password or not.\n",
    "    for a string to be a valid password , it must satisfy \n",
    "    all conditions  given below:\n",
    "1) It should have at least 8 and it most 32 characters\n",
    "2) It should Start with an uppercase or lowercases letter\n",
    "3) It should not have any of these character :/ \\ =   .\"\n",
    "4) It shouldn’t have space \n",
    "It could have any Character that is not mentioned in the list\n",
    "of characters to be avoided (point3 and 4).\n",
    "5) Output true if the string forms a valid password and False \n",
    "   Otherwise \n"
   ]
  },
  {
   "cell_type": "code",
   "execution_count": null,
   "id": "bd92463c-0ff4-4f69-b6f4-7dd66f5a2d60",
   "metadata": {},
   "outputs": [],
   "source": []
  },
  {
   "cell_type": "code",
   "execution_count": 8,
   "id": "228fc1b1-1c7e-4975-81af-0caed9fb86d4",
   "metadata": {},
   "outputs": [
    {
     "name": "stdin",
     "output_type": "stream",
     "text": [
      "Enter a password:  Abhi1234\n"
     ]
    },
    {
     "name": "stdout",
     "output_type": "stream",
     "text": [
      "Output: True\n"
     ]
    }
   ],
   "source": [
    "def is_valid_password(password):\n",
    "    # Condition 1: Check length\n",
    "    if not (8 <= len(password) <= 32):\n",
    "        return False\n",
    "    \n",
    "    # Condition 2: Start with an uppercase or lowercase letter\n",
    "    if not password[0].isalpha():\n",
    "        return False\n",
    "    \n",
    "    # Condition 3: Avoid specified characters\n",
    "    invalid_characters = set(\":/\\\\=\\\".\")\n",
    "    if any(char in invalid_characters for char in password):\n",
    "        return False\n",
    "    \n",
    "    # Condition 4: No spaces allowed\n",
    "    if ' ' in password:\n",
    "        return False\n",
    "    \n",
    "    # If all conditions are met, the password is valid\n",
    "    return True\n",
    "\n",
    "# Example usage:\n",
    "input_password = input(\"Enter a password: \")\n",
    "result = is_valid_password(input_password)\n",
    "print(\"Output:\", result)\n"
   ]
  },
  {
   "cell_type": "code",
   "execution_count": null,
   "id": "0877cbe4-6e7a-4232-8b80-cd9b7d311db1",
   "metadata": {},
   "outputs": [],
   "source": []
  },
  {
   "cell_type": "code",
   "execution_count": 1,
   "id": "472666b2-0b5a-4b8b-8be8-1cd13b51cc81",
   "metadata": {},
   "outputs": [],
   "source": [
    "def greet():\n",
    "    message =\"Hello\"\n",
    "    print(\"Abhinesh\",message)"
   ]
  },
  {
   "cell_type": "code",
   "execution_count": 2,
   "id": "0aba7ecc-f94c-42b1-88c3-2ed061cec32e",
   "metadata": {},
   "outputs": [
    {
     "name": "stdout",
     "output_type": "stream",
     "text": [
      "Abhinesh Hello\n"
     ]
    }
   ],
   "source": [
    "greet()"
   ]
  },
  {
   "cell_type": "code",
   "execution_count": null,
   "id": "362f0f20-a7b9-412e-85d6-cc0d3fb3eb07",
   "metadata": {},
   "outputs": [],
   "source": [
    "# learn local Variable "
   ]
  },
  {
   "cell_type": "code",
   "execution_count": 4,
   "id": "cbfee175-0f13-4e8b-a2d3-4ef818d77de2",
   "metadata": {},
   "outputs": [
    {
     "ename": "NameError",
     "evalue": "name 'message' is not defined",
     "output_type": "error",
     "traceback": [
      "\u001b[0;31m---------------------------------------------------------------------------\u001b[0m",
      "\u001b[0;31mNameError\u001b[0m                                 Traceback (most recent call last)",
      "Cell \u001b[0;32mIn[4], line 6\u001b[0m\n\u001b[1;32m      2\u001b[0m     message \u001b[38;5;241m=\u001b[39m\u001b[38;5;124m\"\u001b[39m\u001b[38;5;124mHello\u001b[39m\u001b[38;5;124m\"\u001b[39m        \u001b[38;5;66;03m# It is local Variable It is accessible only inside in funcation\u001b[39;00m\n\u001b[1;32m      4\u001b[0m     \u001b[38;5;28mprint\u001b[39m(\u001b[38;5;124m\"\u001b[39m\u001b[38;5;124mAbhinesh\u001b[39m\u001b[38;5;124m\"\u001b[39m,message)\n\u001b[0;32m----> 6\u001b[0m \u001b[38;5;28mprint\u001b[39m(\u001b[43mmessage\u001b[49m) \u001b[38;5;66;03m# We Can’t print message because it is not present \u001b[39;00m\n\u001b[1;32m      7\u001b[0m                \u001b[38;5;66;03m# in Globally \u001b[39;00m\n",
      "\u001b[0;31mNameError\u001b[0m: name 'message' is not defined"
     ]
    }
   ],
   "source": [
    "def greet():\n",
    "    message =\"Hello\"        # It is local Variable It is accessible only inside in funcation\n",
    "    \n",
    "    print(\"Abhinesh\",message)\n",
    "\n",
    "print(message) # We Can’t print message because it is not present \n",
    "               # in Globally "
   ]
  },
  {
   "cell_type": "code",
   "execution_count": 4,
   "id": "a172fdd3-44f1-4230-9711-413a6716a5a6",
   "metadata": {},
   "outputs": [
    {
     "ename": "NameError",
     "evalue": "name 'message' is not defined",
     "output_type": "error",
     "traceback": [
      "\u001b[0;31m---------------------------------------------------------------------------\u001b[0m",
      "\u001b[0;31mNameError\u001b[0m                                 Traceback (most recent call last)",
      "Cell \u001b[0;32mIn[4], line 6\u001b[0m\n\u001b[1;32m      2\u001b[0m     message \u001b[38;5;241m=\u001b[39m\u001b[38;5;124m\"\u001b[39m\u001b[38;5;124mHello\u001b[39m\u001b[38;5;124m\"\u001b[39m        \u001b[38;5;66;03m# It is local Variable It is accessible only inside in funcation\u001b[39;00m\n\u001b[1;32m      4\u001b[0m     \u001b[38;5;28mprint\u001b[39m(\u001b[38;5;124m\"\u001b[39m\u001b[38;5;124mAbhinesh\u001b[39m\u001b[38;5;124m\"\u001b[39m,message)\n\u001b[0;32m----> 6\u001b[0m \u001b[38;5;28mprint\u001b[39m(\u001b[43mmessage\u001b[49m) \u001b[38;5;66;03m# We Can’t print message because it is not present \u001b[39;00m\n\u001b[1;32m      7\u001b[0m                \u001b[38;5;66;03m# in Globally \u001b[39;00m\n",
      "\u001b[0;31mNameError\u001b[0m: name 'message' is not defined"
     ]
    }
   ],
   "source": [
    "def greet():\n",
    "    message =\"Hello\"        # It is local Variable It is accessible only inside in funcation\n",
    "    \n",
    "    print(\"Abhinesh\",message)\n",
    "\n",
    "print(message) # We Can’t print message because it is not present \n",
    "               # in Globally "
   ]
  },
  {
   "cell_type": "code",
   "execution_count": null,
   "id": "f8d0706c-6b78-421e-8bdc-3a9bf19f15e3",
   "metadata": {},
   "outputs": [],
   "source": []
  },
  {
   "cell_type": "code",
   "execution_count": 5,
   "id": "74970c76-fc52-4bf9-8d20-d65712e9da66",
   "metadata": {},
   "outputs": [
    {
     "ename": "NameError",
     "evalue": "name 'x' is not defined",
     "output_type": "error",
     "traceback": [
      "\u001b[0;31m---------------------------------------------------------------------------\u001b[0m",
      "\u001b[0;31mNameError\u001b[0m                                 Traceback (most recent call last)",
      "Cell \u001b[0;32mIn[5], line 5\u001b[0m\n\u001b[1;32m      3\u001b[0m     y\u001b[38;5;241m=\u001b[39m\u001b[38;5;241m30\u001b[39m\n\u001b[1;32m      4\u001b[0m     \u001b[38;5;28mprint\u001b[39m(x\u001b[38;5;241m+\u001b[39my)\n\u001b[0;32m----> 5\u001b[0m \u001b[38;5;28mprint\u001b[39m(\u001b[43mx\u001b[49m)  \u001b[38;5;66;03m#Can’t access \u001b[39;00m\n\u001b[1;32m      6\u001b[0m \u001b[38;5;28mprint\u001b[39m(y)   \u001b[38;5;66;03m#Can’t access \u001b[39;00m\n",
      "\u001b[0;31mNameError\u001b[0m: name 'x' is not defined"
     ]
    }
   ],
   "source": [
    "def add():\n",
    "    x=20\n",
    "    y=30\n",
    "    print(x+y)\n",
    "print(x)  #Can’t access \n",
    "print(y)   #Can’t access "
   ]
  },
  {
   "cell_type": "code",
   "execution_count": null,
   "id": "6520c243-52ed-4eda-8ca1-e709ea3d1dc5",
   "metadata": {},
   "outputs": [],
   "source": []
  },
  {
   "cell_type": "code",
   "execution_count": 6,
   "id": "902d3f0b-648f-4fad-b437-33665f362a7d",
   "metadata": {},
   "outputs": [],
   "source": [
    "# learn global varible"
   ]
  },
  {
   "cell_type": "code",
   "execution_count": 10,
   "id": "620e5e29-6664-473d-a368-c6ef596cb3a7",
   "metadata": {},
   "outputs": [
    {
     "name": "stdout",
     "output_type": "stream",
     "text": [
      "My name is: Singh\n",
      "Abhinesh\n"
     ]
    }
   ],
   "source": [
    "x=\"Abhinesh\" # global variable -- It will use any where in program\n",
    "\n",
    "def myfun():\n",
    "    x=\"Singh\"   # local variable\n",
    "    print(\"My name is: \"+x)\n",
    "    \n",
    "myfun() # It will access only inside of funcation varible and print --Singh\n",
    "print(x) # It will access any where  in program and print --Abhinesh"
   ]
  },
  {
   "cell_type": "code",
   "execution_count": 13,
   "id": "a62d0578-1268-4752-90f0-cb42e14d32af",
   "metadata": {},
   "outputs": [
    {
     "name": "stdout",
     "output_type": "stream",
     "text": [
      "local variable y= 30\n",
      "global variable x= 20\n",
      "50\n",
      "local variable p= 10\n",
      "global variable x= 20\n",
      "-10\n"
     ]
    }
   ],
   "source": [
    "x =20\n",
    "\n",
    "def add():\n",
    "    y=30\n",
    "    print(\"local variable y=\",y)\n",
    "    print (\"global variable x=\",x)\n",
    "    z=x+y\n",
    "    print(z)\n",
    "\n",
    "def sub():\n",
    "    p=10\n",
    "    print(\"local variable p=\",p)\n",
    "    print (\"global variable x=\",x)\n",
    "    q=p-x\n",
    "    print(q)\n",
    "\n",
    "add()\n",
    "sub()"
   ]
  },
  {
   "cell_type": "code",
   "execution_count": null,
   "id": "91ad4443-9db4-41a3-9e8b-d12b487da5b9",
   "metadata": {},
   "outputs": [],
   "source": []
  },
  {
   "cell_type": "code",
   "execution_count": null,
   "id": "68ddc810-b121-4e25-9caf-a31b568a337a",
   "metadata": {},
   "outputs": [],
   "source": [
    "      Function  \n",
    "  ________|_________ \n",
    "  |                 |\n",
    "user define      build function\n",
    "  |                     |\n",
    " User define         Developers maked it \n",
    "Function are         it is already in python\n",
    "created by user \n"
   ]
  },
  {
   "cell_type": "code",
   "execution_count": null,
   "id": "c42c51ee-4900-4ccf-a10e-2691f28f57e8",
   "metadata": {},
   "outputs": [],
   "source": [
    " function argument ---- we have different types of argument\n",
    "    1) Positional arguments\n",
    "    2) Default argument\n",
    "    3) Keyword arguments\n",
    "    4) Arbitrary arguments (variable-length arguments *args and **kwargs)"
   ]
  },
  {
   "cell_type": "code",
   "execution_count": 1,
   "id": "65d59bf3-640c-4ca0-802a-100642395950",
   "metadata": {},
   "outputs": [],
   "source": [
    "#1) Positional arguments"
   ]
  },
  {
   "cell_type": "code",
   "execution_count": 2,
   "id": "c383c522-06c6-475f-8fdd-6fbef37391a7",
   "metadata": {},
   "outputs": [
    {
     "name": "stdout",
     "output_type": "stream",
     "text": [
      "Sum 6\n"
     ]
    }
   ],
   "source": [
    "def add_number(a,b):\n",
    "    sum=a+b\n",
    "    print(\"Sum\",sum)\n",
    "add_number(2,4)"
   ]
  },
  {
   "cell_type": "code",
   "execution_count": 3,
   "id": "af8a2090-11be-4a83-8dcd-19a9b808acf0",
   "metadata": {},
   "outputs": [],
   "source": [
    "# We used the Position argument during the function call\n",
    "# so that the first argument (or value) is assigned to (a) \n",
    "# and the second argument (or value) is assigned to (b). "
   ]
  },
  {
   "cell_type": "code",
   "execution_count": 5,
   "id": "42d7ecec-70fd-4b14-a407-08e044eb7170",
   "metadata": {},
   "outputs": [
    {
     "name": "stdout",
     "output_type": "stream",
     "text": [
      "My name is: Abhinesh singh\n",
      "My age is: 23\n"
     ]
    }
   ],
   "source": [
    "def name_age(name,age):\n",
    "    print(\"My name is:\",name)\n",
    "    print(\"My age is:\",age)\n",
    "    \n",
    "name_age(\"Abhinesh singh\",23)"
   ]
  },
  {
   "cell_type": "code",
   "execution_count": null,
   "id": "31287993-ea56-4529-9d78-872d3f361e5f",
   "metadata": {},
   "outputs": [],
   "source": []
  },
  {
   "cell_type": "code",
   "execution_count": 6,
   "id": "6a19857d-c5df-44df-994a-9b54ffbe162f",
   "metadata": {},
   "outputs": [],
   "source": [
    "# Default argument"
   ]
  },
  {
   "cell_type": "code",
   "execution_count": 7,
   "id": "5fc8bf72-8eac-4f6e-be51-ab4f13578a9e",
   "metadata": {},
   "outputs": [],
   "source": [
    "def add_number(a=4,b=5):\n",
    "    sum=a+b\n",
    "    print(\"Sum\",sum)"
   ]
  },
  {
   "cell_type": "code",
   "execution_count": 8,
   "id": "16b29dd4-c15c-49e2-8ca0-aad999cbb1bd",
   "metadata": {},
   "outputs": [
    {
     "name": "stdout",
     "output_type": "stream",
     "text": [
      "Sum 9\n"
     ]
    }
   ],
   "source": [
    "add_number()"
   ]
  },
  {
   "cell_type": "code",
   "execution_count": 9,
   "id": "34544353-a06b-4b11-beac-db3d2fca6e28",
   "metadata": {},
   "outputs": [
    {
     "name": "stdout",
     "output_type": "stream",
     "text": [
      "Sum 78\n"
     ]
    }
   ],
   "source": [
    "add_number(34,44)"
   ]
  },
  {
   "cell_type": "code",
   "execution_count": 10,
   "id": "429e0447-9833-4d15-a6f1-6537ead45901",
   "metadata": {},
   "outputs": [],
   "source": [
    "# A default argument is a parameter that assumes a default \n",
    "# value if a value is not provided in the function call for \n",
    "# that argument.\n"
   ]
  },
  {
   "cell_type": "code",
   "execution_count": 13,
   "id": "bbd699dc-860a-4122-a8bf-82fbc64f676c",
   "metadata": {},
   "outputs": [],
   "source": [
    "def name_age(name=\"Pw Skills\",age=30):\n",
    "    print(\"My name is:\",name)\n",
    "    print(\"My age is:\",age)"
   ]
  },
  {
   "cell_type": "code",
   "execution_count": 14,
   "id": "2846a42e-1c4b-43f8-a85f-03e67c58d3da",
   "metadata": {},
   "outputs": [
    {
     "name": "stdout",
     "output_type": "stream",
     "text": [
      "My name is: Pw Skills\n",
      "My age is: 30\n"
     ]
    }
   ],
   "source": [
    "name_age()"
   ]
  },
  {
   "cell_type": "code",
   "execution_count": 15,
   "id": "44a8fdac-19db-434d-94ce-fa6e82643a5e",
   "metadata": {},
   "outputs": [
    {
     "name": "stdout",
     "output_type": "stream",
     "text": [
      "My name is: Abhinesh Singh\n",
      "My age is: 23\n"
     ]
    }
   ],
   "source": [
    "name_age(\"Abhinesh Singh\",23)"
   ]
  },
  {
   "cell_type": "code",
   "execution_count": null,
   "id": "ba062282-53d1-436e-997d-3571e9ee124b",
   "metadata": {},
   "outputs": [],
   "source": []
  },
  {
   "cell_type": "code",
   "execution_count": 16,
   "id": "ce5efa49-e0da-4bc4-8123-586c9d61c221",
   "metadata": {},
   "outputs": [],
   "source": [
    "#  Keyword arguments"
   ]
  },
  {
   "cell_type": "code",
   "execution_count": 17,
   "id": "b05409ad-e956-4a3a-825d-99ca8f5eba18",
   "metadata": {},
   "outputs": [],
   "source": [
    "def display_info(f_name,l_name):\n",
    "    print(\"first name:\",f_name)\n",
    "    print(\"second name:\",l_name)\n"
   ]
  },
  {
   "cell_type": "code",
   "execution_count": 18,
   "id": "047b1ffe-e34d-41c2-9645-50b5bf15bb6e",
   "metadata": {},
   "outputs": [
    {
     "name": "stdout",
     "output_type": "stream",
     "text": [
      "first name: Abhinesh\n",
      "second name: Singh\n"
     ]
    }
   ],
   "source": [
    "display_info(f_name=\"Abhinesh\",l_name=\"Singh\")"
   ]
  },
  {
   "cell_type": "code",
   "execution_count": 19,
   "id": "e280e97c-e51a-4a56-87a3-8bde4ce5e556",
   "metadata": {},
   "outputs": [],
   "source": [
    "# The idea is to allow the caller to specify the argument\n",
    "# name with values so that the caller does not need to \n",
    "# remember the order of parameters.\n",
    "\n"
   ]
  },
  {
   "cell_type": "code",
   "execution_count": 20,
   "id": "a7638fb1-b162-464f-8770-3b68cb0df469",
   "metadata": {},
   "outputs": [],
   "source": [
    "def add_number(a,b):\n",
    "    sum=a+b\n",
    "    print(\"Sum\",sum)"
   ]
  },
  {
   "cell_type": "code",
   "execution_count": 21,
   "id": "706db54e-cd06-4152-bf7e-a69d5dd77604",
   "metadata": {},
   "outputs": [
    {
     "name": "stdout",
     "output_type": "stream",
     "text": [
      "Sum 135\n"
     ]
    }
   ],
   "source": [
    "add_number(a=12,b=123)"
   ]
  },
  {
   "cell_type": "code",
   "execution_count": 22,
   "id": "5bb79c99-1ce5-40a9-9d2d-e15c91409211",
   "metadata": {},
   "outputs": [],
   "source": [
    "def name_age(name,age):\n",
    "    print(\"My name is:\",name)\n",
    "    print(\"My age is:\",age)"
   ]
  },
  {
   "cell_type": "code",
   "execution_count": 23,
   "id": "08225589-ed89-451c-9e49-469ebfa624cb",
   "metadata": {},
   "outputs": [
    {
     "name": "stdout",
     "output_type": "stream",
     "text": [
      "My name is: Abhinesh Singh\n",
      "My age is: 30\n"
     ]
    }
   ],
   "source": [
    "name_age(age=30,name=\"Abhinesh Singh\")"
   ]
  },
  {
   "cell_type": "code",
   "execution_count": null,
   "id": "acc93d6a-978b-4fc5-9501-8ea2986558ab",
   "metadata": {},
   "outputs": [],
   "source": []
  },
  {
   "cell_type": "code",
   "execution_count": 24,
   "id": "260e3199-a3ea-4111-b2a5-4bacf0c7acc9",
   "metadata": {},
   "outputs": [],
   "source": [
    "# Arbitrary arguments \n",
    "# (variable-length arguments *args and **kwargs)"
   ]
  },
  {
   "cell_type": "code",
   "execution_count": 32,
   "id": "deccd919-f0a4-4273-91f7-c19735c7cb3a",
   "metadata": {},
   "outputs": [],
   "source": [
    "def find_sum(*number):\n",
    "    result=0\n",
    "    for num in number:\n",
    "        result=result+num\n",
    "    print(\"Sum\",result)"
   ]
  },
  {
   "cell_type": "code",
   "execution_count": 33,
   "id": "2f847611-8ecd-4e43-bf24-c77e8c92182f",
   "metadata": {},
   "outputs": [
    {
     "name": "stdout",
     "output_type": "stream",
     "text": [
      "Sum 0\n"
     ]
    }
   ],
   "source": [
    "find_sum()"
   ]
  },
  {
   "cell_type": "code",
   "execution_count": 34,
   "id": "1f9ba064-ea66-40b9-9083-e4a0aff6a4aa",
   "metadata": {},
   "outputs": [
    {
     "name": "stdout",
     "output_type": "stream",
     "text": [
      "Sum 8\n"
     ]
    }
   ],
   "source": [
    "find_sum(1,3,4)"
   ]
  },
  {
   "cell_type": "code",
   "execution_count": 35,
   "id": "ff7b7896-f50f-4053-b0bd-738dc3523f56",
   "metadata": {},
   "outputs": [
    {
     "name": "stdout",
     "output_type": "stream",
     "text": [
      "Sum 50\n"
     ]
    }
   ],
   "source": [
    "find_sum(2,3,4,5,5,6,5,4,3,3,3,4,3)"
   ]
  },
  {
   "cell_type": "code",
   "execution_count": 36,
   "id": "335732ad-6e82-481d-a737-bb178885fc8d",
   "metadata": {},
   "outputs": [],
   "source": [
    "# * means it will accepting variable length of Arguments "
   ]
  },
  {
   "cell_type": "code",
   "execution_count": null,
   "id": "b818b536-62cb-4423-b363-0c0a19e63cda",
   "metadata": {},
   "outputs": [],
   "source": [
    "Arbitrary Keyword  Arguments\n",
    "In Python Arbitrary Keyword Arguments, \n",
    "*args, and **kwargs can pass a variable number of arguments \n",
    "to a function using special symbols. There are two special \n",
    "symbols:\n",
    "\n",
    "*args in Python (Non-Keyword Arguments)\n",
    "**kwargs in Python (Keyword Arguments)"
   ]
  },
  {
   "cell_type": "code",
   "execution_count": 37,
   "id": "40493ff1-4e99-4711-a114-2cce4bc18431",
   "metadata": {},
   "outputs": [],
   "source": [
    "def add_number(*num):\n",
    "    sum=0\n",
    "    for i in num:\n",
    "        sum=sum+i\n",
    "    print(\"Sum\",sum)"
   ]
  },
  {
   "cell_type": "code",
   "execution_count": 38,
   "id": "b83e38fd-aee6-408e-ad14-f880588c3272",
   "metadata": {},
   "outputs": [
    {
     "name": "stdout",
     "output_type": "stream",
     "text": [
      "Sum 0\n"
     ]
    }
   ],
   "source": [
    "add_number()"
   ]
  },
  {
   "cell_type": "code",
   "execution_count": 39,
   "id": "db4fd405-8e8b-41d5-a456-ce584d8bf47b",
   "metadata": {},
   "outputs": [
    {
     "name": "stdout",
     "output_type": "stream",
     "text": [
      "Sum 270\n"
     ]
    }
   ],
   "source": [
    "add_number(234,4,3,3,3,23)"
   ]
  },
  {
   "cell_type": "code",
   "execution_count": 40,
   "id": "2265ace0-dd31-429e-9f68-1078fda940e6",
   "metadata": {},
   "outputs": [],
   "source": [
    "def simple(*x):\n",
    "    print(x)"
   ]
  },
  {
   "cell_type": "code",
   "execution_count": 41,
   "id": "c8a421e8-c7a8-4b20-9cd5-a4faa28e948a",
   "metadata": {},
   "outputs": [
    {
     "name": "stdout",
     "output_type": "stream",
     "text": [
      "(23, 4, 3, 4)\n"
     ]
    }
   ],
   "source": [
    "simple(23,4,3,4)"
   ]
  },
  {
   "cell_type": "code",
   "execution_count": 42,
   "id": "bfc2a800-b6e6-4539-85ab-9e83bc7419ec",
   "metadata": {},
   "outputs": [
    {
     "name": "stdout",
     "output_type": "stream",
     "text": [
      "()\n"
     ]
    }
   ],
   "source": [
    "simple()"
   ]
  },
  {
   "cell_type": "code",
   "execution_count": 43,
   "id": "59717bc3-8b33-44cc-9ea8-4d8408123048",
   "metadata": {},
   "outputs": [
    {
     "data": {
      "text/plain": [
       "function"
      ]
     },
     "execution_count": 43,
     "metadata": {},
     "output_type": "execute_result"
    }
   ],
   "source": [
    "type(simple)"
   ]
  },
  {
   "cell_type": "code",
   "execution_count": 44,
   "id": "9f8d8b7a-6fa3-4a0f-a764-19e480a74223",
   "metadata": {},
   "outputs": [],
   "source": [
    "# **kwargs in Python (Keyword Arguments)"
   ]
  },
  {
   "cell_type": "code",
   "execution_count": 53,
   "id": "ebd4540c-689c-499e-9f44-4218cbb33568",
   "metadata": {},
   "outputs": [],
   "source": [
    "def intro(**data):\n",
    "    print(\"data types of argrument:\",type(data))\n",
    "    for key,value in data.items():\n",
    "        print(key,value)\n",
    "    "
   ]
  },
  {
   "cell_type": "code",
   "execution_count": 55,
   "id": "7e69a488-65ce-4178-b73c-63abf85e5349",
   "metadata": {},
   "outputs": [
    {
     "name": "stdout",
     "output_type": "stream",
     "text": [
      "data types of argrument: <class 'dict'>\n",
      "f_name pw\n",
      "l_name skils\n"
     ]
    }
   ],
   "source": [
    "intro(f_name=\"pw\",l_name=\"skils\")"
   ]
  },
  {
   "cell_type": "code",
   "execution_count": null,
   "id": "b9c8aa2a-e53b-4d15-80bf-738aa6b49d78",
   "metadata": {},
   "outputs": [],
   "source": []
  },
  {
   "cell_type": "code",
   "execution_count": 56,
   "id": "f5f4d78f-2f93-4fca-92b4-e8a6b945c680",
   "metadata": {},
   "outputs": [],
   "source": [
    "def simple(**x):\n",
    "    print(x)"
   ]
  },
  {
   "cell_type": "code",
   "execution_count": 57,
   "id": "2ab1ed0d-a658-4f5c-b4b8-368335d34808",
   "metadata": {},
   "outputs": [
    {
     "name": "stdout",
     "output_type": "stream",
     "text": [
      "{'name': 'Abhinesh Singh', 'age': 23, 'mobile_number': 7905838674}\n"
     ]
    }
   ],
   "source": [
    "simple(name=\"Abhinesh Singh\",age=23,mobile_number=7905838674)"
   ]
  },
  {
   "cell_type": "code",
   "execution_count": 58,
   "id": "28e33aed-9350-4dd0-8cfa-16d679a0c39d",
   "metadata": {},
   "outputs": [],
   "source": [
    "def show_number(*x):\n",
    "    print(x)"
   ]
  },
  {
   "cell_type": "code",
   "execution_count": 59,
   "id": "e07e5e7b-2c88-42bf-89e1-a401919e8699",
   "metadata": {},
   "outputs": [
    {
     "name": "stdout",
     "output_type": "stream",
     "text": [
      "(1, 2, 3, 4, 5, 5, 6, 6)\n"
     ]
    }
   ],
   "source": [
    "show_number(1,2,3,4,5,5,6,6)"
   ]
  },
  {
   "cell_type": "code",
   "execution_count": 60,
   "id": "dcba77f0-cb4b-4a6a-a4f2-910bd3734b3b",
   "metadata": {},
   "outputs": [],
   "source": [
    "def show_key_values(**x):\n",
    "    print(x)"
   ]
  },
  {
   "cell_type": "code",
   "execution_count": 62,
   "id": "c578a7fb-4285-499c-811f-56bd4e8888e8",
   "metadata": {},
   "outputs": [
    {
     "name": "stdout",
     "output_type": "stream",
     "text": [
      "{'x': 1, 'y': 2, 'z': 3, 'name': 'Abhinesh'}\n"
     ]
    }
   ],
   "source": [
    "show_key_values(x=1,y=2,z=3,name=\"Abhinesh\")"
   ]
  },
  {
   "cell_type": "code",
   "execution_count": null,
   "id": "63d8020f-075b-4537-b312-13213b853b0c",
   "metadata": {},
   "outputs": [],
   "source": []
  }
 ],
 "metadata": {
  "kernelspec": {
   "display_name": "Python 3 (ipykernel)",
   "language": "python",
   "name": "python3"
  },
  "language_info": {
   "codemirror_mode": {
    "name": "ipython",
    "version": 3
   },
   "file_extension": ".py",
   "mimetype": "text/x-python",
   "name": "python",
   "nbconvert_exporter": "python",
   "pygments_lexer": "ipython3",
   "version": "3.10.8"
  }
 },
 "nbformat": 4,
 "nbformat_minor": 5
}
