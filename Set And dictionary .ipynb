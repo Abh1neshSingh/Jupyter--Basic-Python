{
 "cells": [
  {
   "cell_type": "code",
   "execution_count": 1,
   "id": "63cc7883-0aed-4385-894c-b68d7c34cf4c",
   "metadata": {},
   "outputs": [],
   "source": [
    "#-------------Set------------"
   ]
  },
  {
   "cell_type": "code",
   "execution_count": 2,
   "id": "a30c9ea2-f95a-4ebc-95b9-48c8e33236f1",
   "metadata": {},
   "outputs": [],
   "source": [
    "s={}"
   ]
  },
  {
   "cell_type": "code",
   "execution_count": 3,
   "id": "4e081219-2038-4df1-9688-7149168ad9fd",
   "metadata": {},
   "outputs": [
    {
     "data": {
      "text/plain": [
       "dict"
      ]
     },
     "execution_count": 3,
     "metadata": {},
     "output_type": "execute_result"
    }
   ],
   "source": [
    "type(s)"
   ]
  },
  {
   "cell_type": "code",
   "execution_count": 18,
   "id": "f9e6ff32-817a-4b73-a68f-865155a642bb",
   "metadata": {},
   "outputs": [],
   "source": [
    "# Basically Set is a collection. set similar to\n",
    "# list and tuples but its main work is to remove\n",
    "# duplicate data in common set.\n",
    "# always try to make a unique element \n",
    "s1={1,2,3,4,5,5} "
   ]
  },
  {
   "cell_type": "code",
   "execution_count": 11,
   "id": "51425933-7485-43ca-bc0a-12397ce854f3",
   "metadata": {},
   "outputs": [
    {
     "data": {
      "text/plain": [
       "set"
      ]
     },
     "execution_count": 11,
     "metadata": {},
     "output_type": "execute_result"
    }
   ],
   "source": [
    "type(s1)"
   ]
  },
  {
   "cell_type": "code",
   "execution_count": 14,
   "id": "5143fde7-941e-4ef7-8734-3bb7cbcf76d1",
   "metadata": {},
   "outputs": [
    {
     "data": {
      "text/plain": [
       "{1, 2, 3, 4, 5}"
      ]
     },
     "execution_count": 14,
     "metadata": {},
     "output_type": "execute_result"
    }
   ],
   "source": [
    "s1 # like wise it remove 5,5 in single 5"
   ]
  },
  {
   "cell_type": "code",
   "execution_count": 20,
   "id": "9b3c04f4-ce4f-4a9a-8a62-8180d339923c",
   "metadata": {},
   "outputs": [],
   "source": [
    "s2={\"Abhi\",\"Abhi\",\"Abhi\",1,2,3,3,4,4,5,6,7,8}"
   ]
  },
  {
   "cell_type": "code",
   "execution_count": 16,
   "id": "36159710-a0df-482a-82d0-77a497494dd9",
   "metadata": {},
   "outputs": [
    {
     "data": {
      "text/plain": [
       "set"
      ]
     },
     "execution_count": 16,
     "metadata": {},
     "output_type": "execute_result"
    }
   ],
   "source": [
    "type(s2)"
   ]
  },
  {
   "cell_type": "code",
   "execution_count": 21,
   "id": "30a94caf-9a87-42bb-97dd-5a4c2f79e1f2",
   "metadata": {},
   "outputs": [
    {
     "data": {
      "text/plain": [
       "{1, 2, 3, 4, 5, 6, 7, 8, 'Abhi'}"
      ]
     },
     "execution_count": 21,
     "metadata": {},
     "output_type": "execute_result"
    }
   ],
   "source": [
    "s2 "
   ]
  },
  {
   "cell_type": "code",
   "execution_count": 22,
   "id": "89e8dc92-90c3-4cbe-9d79-907d621e2c00",
   "metadata": {},
   "outputs": [],
   "source": [
    "# set is Nothings but a collection , a Entity \n",
    "# which can be crete a unique elements "
   ]
  },
  {
   "cell_type": "code",
   "execution_count": 23,
   "id": "53cf643f-361e-4bbe-a2e7-2c509925c352",
   "metadata": {},
   "outputs": [
    {
     "data": {
      "text/plain": [
       "[1, 2, 3, 4, 5, 6, 7, 8, 'Abhi']"
      ]
     },
     "execution_count": 23,
     "metadata": {},
     "output_type": "execute_result"
    }
   ],
   "source": [
    "list(s2)"
   ]
  },
  {
   "cell_type": "code",
   "execution_count": 24,
   "id": "a4bd23bb-7b38-44f4-bb3c-9098c241cdc1",
   "metadata": {},
   "outputs": [
    {
     "data": {
      "text/plain": [
       "{1, 2, 3, 4, 5, 6, 7, 8, 'Abhi'}"
      ]
     },
     "execution_count": 24,
     "metadata": {},
     "output_type": "execute_result"
    }
   ],
   "source": [
    "set(s2)"
   ]
  },
  {
   "cell_type": "code",
   "execution_count": 25,
   "id": "84edade3-e67c-4001-9246-0f6d8c26b667",
   "metadata": {},
   "outputs": [
    {
     "data": {
      "text/plain": [
       "(1, 2, 3, 4, 5, 6, 7, 8, 'Abhi')"
      ]
     },
     "execution_count": 25,
     "metadata": {},
     "output_type": "execute_result"
    }
   ],
   "source": [
    "tuple(s2)"
   ]
  },
  {
   "cell_type": "code",
   "execution_count": 26,
   "id": "660d9457-363a-441b-ae14-73383d47dd59",
   "metadata": {},
   "outputs": [
    {
     "data": {
      "text/plain": [
       "{1, 2, 3, 4, 5, 6, 7, 8, 'Abhi'}"
      ]
     },
     "execution_count": 26,
     "metadata": {},
     "output_type": "execute_result"
    }
   ],
   "source": [
    "set(s2)"
   ]
  },
  {
   "cell_type": "code",
   "execution_count": 29,
   "id": "8b1aca38-a7f6-4840-815a-e77a2cf87ce5",
   "metadata": {},
   "outputs": [],
   "source": [
    "# set are Directly not access the index of data \n",
    "# we indireectly access it data by first typecast\n",
    "# into list or tuple then we can access it data by indexing."
   ]
  },
  {
   "cell_type": "code",
   "execution_count": 30,
   "id": "821a2ff5-6fd9-47e4-9f67-47c4eed1d768",
   "metadata": {},
   "outputs": [],
   "source": [
    "# Set are Immutable . "
   ]
  },
  {
   "cell_type": "code",
   "execution_count": null,
   "id": "55d57bb8-e9aa-4297-ae9a-e30d0c405424",
   "metadata": {},
   "outputs": [],
   "source": []
  },
  {
   "cell_type": "code",
   "execution_count": 31,
   "id": "689dc705-72dd-4444-a4b4-26d21e132a59",
   "metadata": {},
   "outputs": [],
   "source": [
    "#----------dictionary--------------"
   ]
  },
  {
   "cell_type": "code",
   "execution_count": 33,
   "id": "b5ae28fd-fbd5-4656-9f3e-2e8e8f5cb4fe",
   "metadata": {},
   "outputs": [],
   "source": [
    "# Dictionary is a kind of collection where we hold \n",
    "# data in way of key and value pair.\n",
    "# In a pair we hold data."
   ]
  },
  {
   "cell_type": "code",
   "execution_count": 34,
   "id": "98791e61-187e-41fb-8cfe-edf757b3cb0d",
   "metadata": {},
   "outputs": [],
   "source": [
    "d={}"
   ]
  },
  {
   "cell_type": "code",
   "execution_count": 35,
   "id": "c28903e3-52d0-4899-a7fa-2344828b2d8d",
   "metadata": {},
   "outputs": [
    {
     "data": {
      "text/plain": [
       "dict"
      ]
     },
     "execution_count": 35,
     "metadata": {},
     "output_type": "execute_result"
    }
   ],
   "source": [
    "type(d)"
   ]
  },
  {
   "cell_type": "code",
   "execution_count": 42,
   "id": "1ba94d89-09aa-4602-a10d-9e833d8bcc8f",
   "metadata": {},
   "outputs": [],
   "source": [
    "d1={'name':\"Abhinesh\",\"subject\":[\"data science\",\"big data\",\"python\"],\"number\":[7905838674,7052872801]}\n",
    "# here name is key \n",
    "# and Abhinesh is value"
   ]
  },
  {
   "cell_type": "code",
   "execution_count": 44,
   "id": "31d1df61-a274-44ff-96b0-dbd9ebdc899c",
   "metadata": {},
   "outputs": [
    {
     "data": {
      "text/plain": [
       "{'name': 'Abhinesh',\n",
       " 'subject': ['data science', 'big data', 'python'],\n",
       " 'number': [7905838674, 7052872801]}"
      ]
     },
     "execution_count": 44,
     "metadata": {},
     "output_type": "execute_result"
    }
   ],
   "source": [
    "d1"
   ]
  },
  {
   "cell_type": "code",
   "execution_count": 78,
   "id": "3f449001-c377-401d-a957-79322eafba00",
   "metadata": {},
   "outputs": [],
   "source": [
    "d2={\"name\":\"Abhinesh\",\"name\":\"pwskills\"}"
   ]
  },
  {
   "cell_type": "code",
   "execution_count": 79,
   "id": "00f9cc3b-4829-4111-9154-199ae0f62d40",
   "metadata": {},
   "outputs": [
    {
     "data": {
      "text/plain": [
       "{'name': 'pwskills'}"
      ]
     },
     "execution_count": 79,
     "metadata": {},
     "output_type": "execute_result"
    }
   ],
   "source": [
    "d2"
   ]
  },
  {
   "cell_type": "code",
   "execution_count": 48,
   "id": "95352b8e-4cb5-432b-9ceb-fd39182836b5",
   "metadata": {},
   "outputs": [],
   "source": [
    "# key is not two or more same. it is just behaving like\n",
    "# index"
   ]
  },
  {
   "cell_type": "code",
   "execution_count": 49,
   "id": "b9668b5d-87aa-478d-aa23-ae870ba790f7",
   "metadata": {},
   "outputs": [],
   "source": [
    "d3={2323:\"Abhinesh\"}"
   ]
  },
  {
   "cell_type": "code",
   "execution_count": 50,
   "id": "dd6ae85c-1614-4924-8305-21bdce09ea4f",
   "metadata": {},
   "outputs": [
    {
     "data": {
      "text/plain": [
       "{2323: 'Abhinesh'}"
      ]
     },
     "execution_count": 50,
     "metadata": {},
     "output_type": "execute_result"
    }
   ],
   "source": [
    "d3"
   ]
  },
  {
   "cell_type": "code",
   "execution_count": 51,
   "id": "c90f8111-f981-48d5-8741-4a696f3d70eb",
   "metadata": {},
   "outputs": [
    {
     "ename": "SyntaxError",
     "evalue": "invalid syntax (2446698598.py, line 1)",
     "output_type": "error",
     "traceback": [
      "\u001b[0;36m  Cell \u001b[0;32mIn[51], line 1\u001b[0;36m\u001b[0m\n\u001b[0;31m    d4 {[1,2,34]:\"abhi\"}\u001b[0m\n\u001b[0m       ^\u001b[0m\n\u001b[0;31mSyntaxError\u001b[0m\u001b[0;31m:\u001b[0m invalid syntax\n"
     ]
    }
   ],
   "source": [
    "d4 {[1,2,34]:\"abhi\"}"
   ]
  },
  {
   "cell_type": "code",
   "execution_count": 52,
   "id": "ea94c2c2-feac-4105-a5f1-05bf6aa29794",
   "metadata": {},
   "outputs": [],
   "source": [
    "# list and set  can'nt make key\n",
    "# but int ,tuples, string are behave like key"
   ]
  },
  {
   "cell_type": "code",
   "execution_count": 64,
   "id": "330b339c-6a42-4d50-875c-72b46c6dbefe",
   "metadata": {},
   "outputs": [],
   "source": [
    "d4={\"course\":['dsa','java','cloud','web'],'mentor':('Abhinesh', 'Ram','sudhanshu'),\n",
    "   'price':{2332,3233,4545,3433,34344},'Duration':1,'access year':1,'Syllabus':{'python':['core python'\n",
    "                                                                                         ,'oops','padas','numpy']}}"
   ]
  },
  {
   "cell_type": "code",
   "execution_count": 56,
   "id": "fce95a6e-254e-46a3-8e4c-b47a080c963c",
   "metadata": {},
   "outputs": [],
   "source": [
    "# values wise its any types data stores"
   ]
  },
  {
   "cell_type": "code",
   "execution_count": 65,
   "id": "ab46edde-49e3-41c6-b465-e5682e996a8e",
   "metadata": {},
   "outputs": [
    {
     "data": {
      "text/plain": [
       "{'course': ['dsa', 'java', 'cloud', 'web'],\n",
       " 'mentor': ('Abhinesh', 'Ram', 'sudhanshu'),\n",
       " 'price': {2332, 3233, 3433, 4545, 34344},\n",
       " 'Duration': 1,\n",
       " 'access year': 1,\n",
       " 'Syllabus': {'python': ['core python', 'oops', 'padas', 'numpy']}}"
      ]
     },
     "execution_count": 65,
     "metadata": {},
     "output_type": "execute_result"
    }
   ],
   "source": [
    "d4"
   ]
  },
  {
   "cell_type": "code",
   "execution_count": 58,
   "id": "83a06bb8-8f58-4350-9dd1-18d9fdd21add",
   "metadata": {},
   "outputs": [
    {
     "data": {
      "text/plain": [
       "['dsa', 'java', 'cloud', 'web']"
      ]
     },
     "execution_count": 58,
     "metadata": {},
     "output_type": "execute_result"
    }
   ],
   "source": [
    "d4['course'] # access the value"
   ]
  },
  {
   "cell_type": "code",
   "execution_count": 59,
   "id": "2bc03778-42af-4e61-826c-97ca8c8a1379",
   "metadata": {},
   "outputs": [
    {
     "data": {
      "text/plain": [
       "('Abhinesh', 'Ram', 'sudhanshu')"
      ]
     },
     "execution_count": 59,
     "metadata": {},
     "output_type": "execute_result"
    }
   ],
   "source": [
    "d4['mentor']"
   ]
  },
  {
   "cell_type": "code",
   "execution_count": 60,
   "id": "e4d00532-f500-42ca-9aa7-70a892867c81",
   "metadata": {},
   "outputs": [
    {
     "data": {
      "text/plain": [
       "{2332, 3233, 3433, 4545, 34344}"
      ]
     },
     "execution_count": 60,
     "metadata": {},
     "output_type": "execute_result"
    }
   ],
   "source": [
    "d4['price']"
   ]
  },
  {
   "cell_type": "code",
   "execution_count": 62,
   "id": "46eba285-6f54-47e8-91d4-3a3aa0091a52",
   "metadata": {},
   "outputs": [
    {
     "data": {
      "text/plain": [
       "1"
      ]
     },
     "execution_count": 62,
     "metadata": {},
     "output_type": "execute_result"
    }
   ],
   "source": [
    "d4['Duration']"
   ]
  },
  {
   "cell_type": "code",
   "execution_count": 63,
   "id": "c1e4ef17-5056-49c6-8a6a-fdf6407333b3",
   "metadata": {},
   "outputs": [
    {
     "data": {
      "text/plain": [
       "1"
      ]
     },
     "execution_count": 63,
     "metadata": {},
     "output_type": "execute_result"
    }
   ],
   "source": [
    "d4['access year']"
   ]
  },
  {
   "cell_type": "code",
   "execution_count": 67,
   "id": "3ed9469f-9438-49bd-b814-c5b9653c608c",
   "metadata": {},
   "outputs": [
    {
     "data": {
      "text/plain": [
       "{'python': ['core python', 'oops', 'padas', 'numpy']}"
      ]
     },
     "execution_count": 67,
     "metadata": {},
     "output_type": "execute_result"
    }
   ],
   "source": [
    "d4['Syllabus']"
   ]
  },
  {
   "cell_type": "code",
   "execution_count": 77,
   "id": "29513ba8-1f0f-4b25-9a25-aab56b0aef05",
   "metadata": {},
   "outputs": [
    {
     "data": {
      "text/plain": [
       "{'name': ['Abhinesh'], 'phone number': 9936145543}"
      ]
     },
     "execution_count": 77,
     "metadata": {},
     "output_type": "execute_result"
    }
   ],
   "source": [
    "d2"
   ]
  },
  {
   "cell_type": "code",
   "execution_count": 84,
   "id": "25bdd630-fc5d-4906-8ec1-d2f246ff06c7",
   "metadata": {},
   "outputs": [],
   "source": [
    "d2['phone number']= 9936145543 \n",
    "# here we add new data in dictionary "
   ]
  },
  {
   "cell_type": "code",
   "execution_count": 70,
   "id": "d18a1b82-b9e9-452c-8b5a-02f3d8a5b789",
   "metadata": {},
   "outputs": [
    {
     "data": {
      "text/plain": [
       "{'name': 'pwskills', 'phone number': 9936145543}"
      ]
     },
     "execution_count": 70,
     "metadata": {},
     "output_type": "execute_result"
    }
   ],
   "source": [
    "d2"
   ]
  },
  {
   "cell_type": "code",
   "execution_count": 85,
   "id": "22b9a779-2db9-4274-a01b-175915cd3f9d",
   "metadata": {},
   "outputs": [],
   "source": [
    "d2['name']=\"Abhinesh\""
   ]
  },
  {
   "cell_type": "code",
   "execution_count": 86,
   "id": "b04854be-8aa0-4585-8626-7dad1b09f614",
   "metadata": {},
   "outputs": [
    {
     "data": {
      "text/plain": [
       "{'name': 'Abhinesh', 'phone number': 9936145543}"
      ]
     },
     "execution_count": 86,
     "metadata": {},
     "output_type": "execute_result"
    }
   ],
   "source": [
    "d2 # override on old data"
   ]
  },
  {
   "cell_type": "code",
   "execution_count": null,
   "id": "accf2791-da95-44b7-a809-acd1d0a1b0d3",
   "metadata": {},
   "outputs": [],
   "source": [
    "# yes Dictionary is mutable "
   ]
  }
 ],
 "metadata": {
  "kernelspec": {
   "display_name": "Python 3 (ipykernel)",
   "language": "python",
   "name": "python3"
  },
  "language_info": {
   "codemirror_mode": {
    "name": "ipython",
    "version": 3
   },
   "file_extension": ".py",
   "mimetype": "text/x-python",
   "name": "python",
   "nbconvert_exporter": "python",
   "pygments_lexer": "ipython3",
   "version": "3.10.8"
  }
 },
 "nbformat": 4,
 "nbformat_minor": 5
}
