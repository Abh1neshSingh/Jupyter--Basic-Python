{
 "cells": [
  {
   "cell_type": "code",
   "execution_count": 1,
   "id": "2909e5a6-6690-4c6b-8a3c-1134ba845c47",
   "metadata": {},
   "outputs": [],
   "source": [
    " Abstraction : creating a Skeletons or creating a outline"
   ]
  },
  {
   "cell_type": "code",
   "execution_count": null,
   "id": "44000b06-318e-4d24-a28f-d4ef51a5b5c9",
   "metadata": {},
   "outputs": [],
   "source": [
    "Abstraction in Python is like using a TV remote— you press a button\n",
    "without knowing how it works inside. It hides complex details and \n",
    "focuses on essential features. Abstract classes set a blueprint,\n",
    "and abstract methods outline what must be done. It simplifies code,\n",
    "letting you work with what's necessary, not how it's achieved. \n",
    "It's like enjoying TV content without worrying about the \n",
    "technicalities behind the scenes."
   ]
  },
  {
   "cell_type": "code",
   "execution_count": null,
   "id": "b67b7c3b-a214-4851-9ad3-be09728c38df",
   "metadata": {},
   "outputs": [],
   "source": [
    "Abstraction is a concept in programming that involves simplifying\n",
    "complex systems by modeling classes based on their essential \n",
    "features. It focuses on what an object does rather than how it \n",
    "achieves its functionality. Abstraction allows the creation of\n",
    "abstract classes and methods, providing a blueprint for concrete \n",
    "classes to implement. It helps in reducing complexity, \n",
    "managing code at a higher level, and emphasizing the necessary\n",
    "details while hiding unnecessary implementation details. \n",
    "In simpler terms, abstraction enables a more straightforward and \n",
    "conceptual view of objects in a system."
   ]
  },
  {
   "cell_type": "code",
   "execution_count": null,
   "id": "400915b7-e02a-44f1-8d04-50784524bf72",
   "metadata": {},
   "outputs": [],
   "source": [
    "In Python, abstraction is a key principle of object-oriented \n",
    "programming (OOP). It involves creating abstract classes with \n",
    "abstract methods that define a blueprint for how classes should \n",
    "behave, without specifying their implementation details.\n",
    "Python achieves abstraction using the ABC (Abstract Base Class)\n",
    "module. Abstract classes cannot be instantiated on their own and\n",
    "need to be subclassed, providing concrete implementations for \n",
    "abstract methods."
   ]
  },
  {
   "cell_type": "code",
   "execution_count": 5,
   "id": "503c0f05-4033-4fba-9122-422ff7e4417d",
   "metadata": {},
   "outputs": [],
   "source": [
    "class pwskills:\n",
    "    def student_details(self):\n",
    "        return \"this will give you a student details \"\n",
    "    \n",
    "    "
   ]
  },
  {
   "cell_type": "code",
   "execution_count": 2,
   "id": "eaf27574-e5bb-4cfb-a7b1-a205b320dbe3",
   "metadata": {},
   "outputs": [],
   "source": [
    "from abc import ABC , abstractmethod\n",
    "class pwskills(ABC):\n",
    "    \n",
    "    @abstractmethod\n",
    "    def databaseconnect(self):\n",
    "        pass\n",
    "    @abstractmethod\n",
    "    def check_User_Enrollment(self,user_mail_ID):\n",
    "        pass\n",
    "    @abstractmethod\n",
    "    def check_completed_lecture(self,user_ID,class_ID):\n",
    "        pass\n",
    "    @abstractmethod\n",
    "    def check_lab_usases(self,user_ID):\n",
    "        pass\n",
    "    @abstractmethod\n",
    "    def check_internship(self,user_ID):\n",
    "        pass"
   ]
  },
  {
   "cell_type": "code",
   "execution_count": 3,
   "id": "6cf8acea-cfa2-4553-8ce9-42cadcc76eeb",
   "metadata": {},
   "outputs": [],
   "source": [
    "class databaseconnect(pwskills):\n",
    "    def databaseconnect(self):\n",
    "        print(\"this is a Implementation of database connect\")\n",
    "    \n",
    "    def check_User_Enrollment(self,user_mail_ID):\n",
    "        return \"test\"\n",
    "    def check_completed_lecture(self,user_ID,class_ID):\n",
    "        return \"test\"\n",
    "    def check_lab_usases(self,user_ID):\n",
    "        return \"test\"\n",
    "    def check_internship(self,user_ID):\n",
    "        return \"test\"\n",
    "    \n",
    "        \n",
    "    \n",
    "    \n",
    "        \n",
    "    "
   ]
  },
  {
   "cell_type": "code",
   "execution_count": 4,
   "id": "6a0bf87d-a189-4c85-8f3d-477c9dd6e15f",
   "metadata": {},
   "outputs": [],
   "source": [
    "db1=databaseconnect()"
   ]
  },
  {
   "cell_type": "code",
   "execution_count": 5,
   "id": "9540e47b-d76a-4851-a129-96a83fe9c6ec",
   "metadata": {},
   "outputs": [
    {
     "name": "stdout",
     "output_type": "stream",
     "text": [
      "this is a Implementation of database connect\n"
     ]
    }
   ],
   "source": [
    "db1.databaseconnect()"
   ]
  },
  {
   "cell_type": "code",
   "execution_count": null,
   "id": "ef68a981-eaa6-4330-8be5-01c7c1e27d6f",
   "metadata": {},
   "outputs": [],
   "source": []
  },
  {
   "cell_type": "code",
   "execution_count": 19,
   "id": "d547d3bb-aaef-46b5-8218-f1596274d0a9",
   "metadata": {},
   "outputs": [],
   "source": [
    "class calculation:\n",
    "    @staticmethod\n",
    "    def add(x,y):\n",
    "        return x+y\n",
    "    @staticmethod\n",
    "    def sub(x,y):\n",
    "        return x-y\n",
    "    \n",
    "    def div(self,x,y):\n",
    "        return x/y\n",
    "    \n",
    "    "
   ]
  },
  {
   "cell_type": "code",
   "execution_count": 20,
   "id": "3edcd5ec-0945-467d-a0e9-5e40cc2b560c",
   "metadata": {},
   "outputs": [
    {
     "data": {
      "text/plain": [
       "6"
      ]
     },
     "execution_count": 20,
     "metadata": {},
     "output_type": "execute_result"
    }
   ],
   "source": [
    "calculation.add(2,4)"
   ]
  },
  {
   "cell_type": "code",
   "execution_count": 21,
   "id": "96444144-3dd8-4efd-9942-527f6c902442",
   "metadata": {},
   "outputs": [
    {
     "data": {
      "text/plain": [
       "0.75"
      ]
     },
     "execution_count": 21,
     "metadata": {},
     "output_type": "execute_result"
    }
   ],
   "source": [
    "a = calculation()\n",
    "a.div(3,4)"
   ]
  },
  {
   "cell_type": "code",
   "execution_count": 12,
   "id": "913d8842-b1f9-4959-ac1c-a89f8cd6769d",
   "metadata": {},
   "outputs": [
    {
     "data": {
      "text/plain": [
       "1.5"
      ]
     },
     "execution_count": 12,
     "metadata": {},
     "output_type": "execute_result"
    }
   ],
   "source": [
    "b=calculation()\n",
    "a.div(3,2)"
   ]
  },
  {
   "cell_type": "code",
   "execution_count": 14,
   "id": "230b3c45-be45-415b-bdf0-1aa604e59b79",
   "metadata": {},
   "outputs": [
    {
     "data": {
      "text/plain": [
       "38"
      ]
     },
     "execution_count": 14,
     "metadata": {},
     "output_type": "execute_result"
    }
   ],
   "source": [
    "calculation.sub(43,5)"
   ]
  },
  {
   "cell_type": "code",
   "execution_count": 18,
   "id": "135968d6-dd79-4ad7-a35e-f3755f2aa229",
   "metadata": {},
   "outputs": [
    {
     "data": {
      "text/plain": [
       "11.0"
      ]
     },
     "execution_count": 18,
     "metadata": {},
     "output_type": "execute_result"
    }
   ],
   "source": [
    "calculation.div(_,22,2)"
   ]
  },
  {
   "cell_type": "code",
   "execution_count": null,
   "id": "7d41500f-177d-4d0b-bca5-5cee604f0a25",
   "metadata": {},
   "outputs": [],
   "source": []
  },
  {
   "cell_type": "code",
   "execution_count": 32,
   "id": "0401d38d-8c9b-4d7a-a8db-3957e8d464b7",
   "metadata": {},
   "outputs": [],
   "source": [
    "class cal(calculation):\n",
    "    def add(self,x,y):\n",
    "        return x*y"
   ]
  },
  {
   "cell_type": "code",
   "execution_count": 33,
   "id": "00bb155e-7a78-4a38-b50e-8b3e96195234",
   "metadata": {},
   "outputs": [],
   "source": [
    "c1=cal()"
   ]
  },
  {
   "cell_type": "code",
   "execution_count": 34,
   "id": "180408ca-c2e0-408e-a7df-8aadf215cab6",
   "metadata": {},
   "outputs": [
    {
     "data": {
      "text/plain": [
       "6"
      ]
     },
     "execution_count": 34,
     "metadata": {},
     "output_type": "execute_result"
    }
   ],
   "source": [
    "c1.add(2,3)"
   ]
  },
  {
   "cell_type": "code",
   "execution_count": 25,
   "id": "53cd2646-df9f-4f76-af59-dbf1f3402a06",
   "metadata": {},
   "outputs": [
    {
     "data": {
      "text/plain": [
       "0"
      ]
     },
     "execution_count": 25,
     "metadata": {},
     "output_type": "execute_result"
    }
   ],
   "source": [
    "c1.sub(23,23)"
   ]
  },
  {
   "cell_type": "code",
   "execution_count": 27,
   "id": "07347835-ae4b-4d75-bc99-375ef00aabc2",
   "metadata": {},
   "outputs": [
    {
     "data": {
      "text/plain": [
       "2.0"
      ]
     },
     "execution_count": 27,
     "metadata": {},
     "output_type": "execute_result"
    }
   ],
   "source": [
    "c1.div(2,1)"
   ]
  },
  {
   "cell_type": "code",
   "execution_count": 28,
   "id": "46f4b75e-b10f-44c2-b986-5cc0505a35d3",
   "metadata": {},
   "outputs": [
    {
     "data": {
      "text/plain": [
       "26"
      ]
     },
     "execution_count": 28,
     "metadata": {},
     "output_type": "execute_result"
    }
   ],
   "source": [
    "cal.add(23,3)"
   ]
  },
  {
   "cell_type": "code",
   "execution_count": null,
   "id": "ff931ce4-3178-451b-b2a6-6d5cc09c8788",
   "metadata": {},
   "outputs": [],
   "source": []
  },
  {
   "cell_type": "code",
   "execution_count": null,
   "id": "170147bc-4d73-454c-9ead-a9385bc482d2",
   "metadata": {},
   "outputs": [],
   "source": [
    "class file_ops:\n",
    "    def __init__(self,filename):\n",
    "        self.filename=filename\n",
    "    \n",
    "    def readfile(self):\n",
    "        \n",
    "        with open(self.filename,'r')as file:\n",
    "            return file.read()\n",
    "    def writefile(self,data):\n",
    "        with open(self.filename,'w')as file:\n",
    "            file.write(data)\n",
    "            "
   ]
  },
  {
   "cell_type": "code",
   "execution_count": 46,
   "id": "b2ae6211-8828-40df-9344-5b1fa3631271",
   "metadata": {},
   "outputs": [],
   "source": [
    "Abhi_ops_file=file_ops(\"Abhi.txt\")\n",
    "Abhi_ops_file.writefile(\"d ejdejjcecjd cj c\")"
   ]
  },
  {
   "cell_type": "code",
   "execution_count": 47,
   "id": "2162b883-2181-4783-b8d5-95b75c848303",
   "metadata": {},
   "outputs": [],
   "source": [
    "ritika=file_ops(\"ritika.txt\")\n",
    "ritika.writefile(\"jdbrjce dc rbd\")"
   ]
  },
  {
   "cell_type": "code",
   "execution_count": 48,
   "id": "46c8ad09-9c29-4688-a22c-43abf008f48c",
   "metadata": {},
   "outputs": [
    {
     "data": {
      "text/plain": [
       "'d ejdejjcecjd cj c'"
      ]
     },
     "execution_count": 48,
     "metadata": {},
     "output_type": "execute_result"
    }
   ],
   "source": [
    "Abhi_ops_file.readfile()"
   ]
  },
  {
   "cell_type": "code",
   "execution_count": 49,
   "id": "f2ed69a3-d48a-4805-890f-aaed0ef537a1",
   "metadata": {},
   "outputs": [
    {
     "data": {
      "text/plain": [
       "'jdbrjce dc rbd'"
      ]
     },
     "execution_count": 49,
     "metadata": {},
     "output_type": "execute_result"
    }
   ],
   "source": [
    "ritika.readfile()\n"
   ]
  },
  {
   "cell_type": "code",
   "execution_count": null,
   "id": "4fec1e36-8284-491b-ba93-bdd92cf440a6",
   "metadata": {},
   "outputs": [],
   "source": []
  }
 ],
 "metadata": {
  "kernelspec": {
   "display_name": "Python 3 (ipykernel)",
   "language": "python",
   "name": "python3"
  },
  "language_info": {
   "codemirror_mode": {
    "name": "ipython",
    "version": 3
   },
   "file_extension": ".py",
   "mimetype": "text/x-python",
   "name": "python",
   "nbconvert_exporter": "python",
   "pygments_lexer": "ipython3",
   "version": "3.10.8"
  }
 },
 "nbformat": 4,
 "nbformat_minor": 5
}
