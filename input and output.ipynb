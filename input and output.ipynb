{
 "cells": [
  {
   "cell_type": "code",
   "execution_count": 1,
   "id": "2ce66e43-093b-4efe-91d1-0adc0c960ad9",
   "metadata": {},
   "outputs": [],
   "source": [
    "# input output functions "
   ]
  },
  {
   "cell_type": "code",
   "execution_count": 3,
   "id": "a019a39a-6b60-4620-ae75-89c34d331b89",
   "metadata": {},
   "outputs": [
    {
     "name": "stdin",
     "output_type": "stream",
     "text": [
      " hi\n"
     ]
    }
   ],
   "source": [
    "x=input()"
   ]
  },
  {
   "cell_type": "code",
   "execution_count": 4,
   "id": "40e33646-4200-4e1c-a89b-ce26eacf285e",
   "metadata": {},
   "outputs": [
    {
     "data": {
      "text/plain": [
       "'hi'"
      ]
     },
     "execution_count": 4,
     "metadata": {},
     "output_type": "execute_result"
    }
   ],
   "source": [
    "x"
   ]
  },
  {
   "cell_type": "code",
   "execution_count": 5,
   "id": "d05a14bf-1e92-4de5-bc53-6fe5e45d4f16",
   "metadata": {},
   "outputs": [
    {
     "name": "stdin",
     "output_type": "stream",
     "text": [
      " 5\n"
     ]
    }
   ],
   "source": [
    "y=input()"
   ]
  },
  {
   "cell_type": "code",
   "execution_count": 6,
   "id": "80500b0b-7e74-4df4-b54f-9f12aeb9c16f",
   "metadata": {},
   "outputs": [
    {
     "data": {
      "text/plain": [
       "str"
      ]
     },
     "execution_count": 6,
     "metadata": {},
     "output_type": "execute_result"
    }
   ],
   "source": [
    "type(y)"
   ]
  },
  {
   "cell_type": "code",
   "execution_count": 7,
   "id": "7e22ec3e-7d8c-41d4-94ee-73be0569d8e1",
   "metadata": {},
   "outputs": [
    {
     "name": "stdin",
     "output_type": "stream",
     "text": [
      "enter your name Abhinesh Singh\n"
     ]
    }
   ],
   "source": [
    "w=input(\"enter your name\")"
   ]
  },
  {
   "cell_type": "code",
   "execution_count": 8,
   "id": "8933c89e-068e-482e-8371-b629515ad5bf",
   "metadata": {},
   "outputs": [
    {
     "name": "stdout",
     "output_type": "stream",
     "text": [
      "hi\n"
     ]
    }
   ],
   "source": [
    "print(\"hi\")"
   ]
  },
  {
   "cell_type": "code",
   "execution_count": 10,
   "id": "27efc8c5-6990-4876-ab86-983890b4f306",
   "metadata": {},
   "outputs": [
    {
     "name": "stdin",
     "output_type": "stream",
     "text": [
      "Enter your name PwSkills\n"
     ]
    },
    {
     "name": "stdout",
     "output_type": "stream",
     "text": [
      "PwSkills\n"
     ]
    }
   ],
   "source": [
    "x=input(\"Enter your name\")\n",
    "print(x)"
   ]
  },
  {
   "cell_type": "code",
   "execution_count": 11,
   "id": "61fcd1ee-f820-406b-84dd-de013a1b2cfa",
   "metadata": {},
   "outputs": [
    {
     "name": "stdin",
     "output_type": "stream",
     "text": [
      "Enter your age 15\n"
     ]
    },
    {
     "name": "stdout",
     "output_type": "stream",
     "text": [
      "My age is 15\n"
     ]
    }
   ],
   "source": [
    "y=input(\"Enter your age\")\n",
    "print(\"My age is \"+ y)"
   ]
  },
  {
   "cell_type": "code",
   "execution_count": 12,
   "id": "dfa0959d-f42f-4e0d-87f0-83914e6a4766",
   "metadata": {},
   "outputs": [
    {
     "name": "stdout",
     "output_type": "stream",
     "text": [
      "40\n"
     ]
    }
   ],
   "source": [
    "x=10\n",
    "y=30\n",
    "print(x+y)"
   ]
  },
  {
   "cell_type": "code",
   "execution_count": 15,
   "id": "e2d7127a-8306-4fda-b02f-a6ac78e94bef",
   "metadata": {},
   "outputs": [
    {
     "name": "stdin",
     "output_type": "stream",
     "text": [
      "Enter a number 34\n",
      "Enter a number 234\n"
     ]
    },
    {
     "name": "stdout",
     "output_type": "stream",
     "text": [
      "268\n"
     ]
    }
   ],
   "source": [
    "x=int(input(\"Enter a number\"))\n",
    "y= int(input(\"Enter a number\"))\n",
    "print(x+y)"
   ]
  },
  {
   "cell_type": "code",
   "execution_count": 16,
   "id": "cc657491-044d-4df7-a3b5-ac1ee0a47bca",
   "metadata": {},
   "outputs": [
    {
     "name": "stdout",
     "output_type": "stream",
     "text": [
      "pwskills\n"
     ]
    }
   ],
   "source": [
    "print(\"pwskills\")"
   ]
  },
  {
   "cell_type": "code",
   "execution_count": 19,
   "id": "1048da36-4240-4011-a0d2-b4142243f053",
   "metadata": {},
   "outputs": [
    {
     "name": "stdout",
     "output_type": "stream",
     "text": [
      " hi  Abhinesh Singh\n"
     ]
    }
   ],
   "source": [
    "# f string print format\n",
    "x=\"hi\"\n",
    "y=\"Abhinesh Singh\"\n",
    "print(f\" {x}  {y}\")"
   ]
  },
  {
   "cell_type": "code",
   "execution_count": 23,
   "id": "c3d43b09-7fbd-4ede-aaa9-60f15eaf3932",
   "metadata": {},
   "outputs": [
    {
     "name": "stdout",
     "output_type": "stream",
     "text": [
      " PW and Skills \n"
     ]
    }
   ],
   "source": [
    "# dot format for print \n",
    "print(\" {0} and {1} \".format(\"PW\",\"Skills\"))\n",
    "# {0} {1} are define the index holder for pw skills\n"
   ]
  },
  {
   "cell_type": "code",
   "execution_count": 24,
   "id": "8dbf201a-3c96-499c-b586-d771e034e57d",
   "metadata": {},
   "outputs": [
    {
     "name": "stdout",
     "output_type": "stream",
     "text": [
      "Abhinesh Abhinesh Ritika singh\n"
     ]
    }
   ],
   "source": [
    "print(\"{1} {1} {2} {0}\".format(\"singh\",\"Abhinesh\",\"Ritika\"))"
   ]
  },
  {
   "cell_type": "code",
   "execution_count": 44,
   "id": "f65bd570-eb0f-431f-bfef-a23e2a9ea7df",
   "metadata": {},
   "outputs": [
    {
     "name": "stdin",
     "output_type": "stream",
     "text": [
      "Enter the string 45\n"
     ]
    },
    {
     "name": "stdout",
     "output_type": "stream",
     "text": [
      "!45!\n",
      "copy of x and store in y= 45 \n"
     ]
    }
   ],
   "source": [
    "x =input(\"Enter the string\")\n",
    "y=x  # to make copy of x and store in y\n",
    "z=\"!\" + x + \"!\"\n",
    "print(z)\n",
    "print(f\"copy of x and store in y= {y} \")\n"
   ]
  },
  {
   "cell_type": "code",
   "execution_count": null,
   "id": "66d5d789-c54a-4d55-9b06-34342bb0f023",
   "metadata": {},
   "outputs": [],
   "source": []
  }
 ],
 "metadata": {
  "kernelspec": {
   "display_name": "Python 3 (ipykernel)",
   "language": "python",
   "name": "python3"
  },
  "language_info": {
   "codemirror_mode": {
    "name": "ipython",
    "version": 3
   },
   "file_extension": ".py",
   "mimetype": "text/x-python",
   "name": "python",
   "nbconvert_exporter": "python",
   "pygments_lexer": "ipython3",
   "version": "3.10.8"
  }
 },
 "nbformat": 4,
 "nbformat_minor": 5
}
