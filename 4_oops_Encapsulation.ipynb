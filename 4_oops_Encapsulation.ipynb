{
 "cells": [
  {
   "cell_type": "code",
   "execution_count": 1,
   "id": "a5729fa9-4c23-420a-bd7e-76d98e9cee3f",
   "metadata": {},
   "outputs": [],
   "source": [
    "#Encapsulation: Encapsulation  is nothing but hiding of Details \n",
    "\n"
   ]
  },
  {
   "cell_type": "code",
   "execution_count": 2,
   "id": "b591a449-b19d-4cfa-b874-3af06436ecec",
   "metadata": {},
   "outputs": [],
   "source": [
    "# When we hide the internal Implemention but we known what is going\n",
    "# in . and what is going to out that concept is called as Encapsulation\n"
   ]
  },
  {
   "cell_type": "code",
   "execution_count": null,
   "id": "84eab511-fe08-4401-815e-fd24e26646ad",
   "metadata": {},
   "outputs": [],
   "source": []
  },
  {
   "cell_type": "code",
   "execution_count": 50,
   "id": "dc45fcf6-26c1-4bc3-bc1e-0a6a97aade7a",
   "metadata": {},
   "outputs": [],
   "source": [
    "class test:\n",
    "    def __init__(self):\n",
    "        self.__x=\"Abhinesh\"\n",
    "        self.y=\"Singh\"\n",
    "        self.z=\"pwskills\"\n",
    "        self.__xx=\"My name is Abhinesh Singh\"\n",
    "    def __test_meth(self):\n",
    "        return \"this is just a test\"\n",
    "    def access_var(self):\n",
    "        \n",
    "        return self.__x\n",
    "    def update_var(self,data):\n",
    "        self.__x=data\n",
    "    \n",
    "    def access_data_of_xx(self):\n",
    "        return self.__xx\n",
    "    \n",
    "    \n"
   ]
  },
  {
   "cell_type": "code",
   "execution_count": 51,
   "id": "b0b54498-8dd9-4b9b-adb6-1cdbfcc59b00",
   "metadata": {},
   "outputs": [],
   "source": [
    "t1=test()\n",
    "t1.update_var(23434434)"
   ]
  },
  {
   "cell_type": "code",
   "execution_count": 33,
   "id": "83d0737b-7d31-4931-9ce9-aff79d26ee4e",
   "metadata": {},
   "outputs": [
    {
     "data": {
      "text/plain": [
       "23434434"
      ]
     },
     "execution_count": 33,
     "metadata": {},
     "output_type": "execute_result"
    }
   ],
   "source": [
    "t1.access_var()"
   ]
  },
  {
   "cell_type": "code",
   "execution_count": 34,
   "id": "cd009f78-bcbf-41d2-b793-b1145cc6fa33",
   "metadata": {},
   "outputs": [],
   "source": [
    "t1.update_var(\"Abhinesh Singh\")"
   ]
  },
  {
   "cell_type": "code",
   "execution_count": 35,
   "id": "f70ad951-e0dd-463c-a407-37cbabcdba99",
   "metadata": {},
   "outputs": [
    {
     "data": {
      "text/plain": [
       "'Abhinesh Singh'"
      ]
     },
     "execution_count": 35,
     "metadata": {},
     "output_type": "execute_result"
    }
   ],
   "source": [
    "t1.access_var()"
   ]
  },
  {
   "cell_type": "code",
   "execution_count": 53,
   "id": "b84d51aa-cdc3-4123-ba69-c9a71c527524",
   "metadata": {},
   "outputs": [
    {
     "data": {
      "text/plain": [
       "'My name is Abhinesh Singh'"
      ]
     },
     "execution_count": 53,
     "metadata": {},
     "output_type": "execute_result"
    }
   ],
   "source": [
    "t1.access_data_of_xx()"
   ]
  },
  {
   "cell_type": "code",
   "execution_count": 25,
   "id": "b24f6af6-bbb1-4ed8-b923-4b3ee8fe211a",
   "metadata": {},
   "outputs": [
    {
     "data": {
      "text/plain": [
       "'Abhinesh'"
      ]
     },
     "execution_count": 25,
     "metadata": {},
     "output_type": "execute_result"
    }
   ],
   "source": [
    "t1._test__x"
   ]
  },
  {
   "cell_type": "code",
   "execution_count": null,
   "id": "14f99474-550a-44ed-82c8-632238892ef4",
   "metadata": {},
   "outputs": [],
   "source": []
  },
  {
   "cell_type": "code",
   "execution_count": 19,
   "id": "4df66258-f78f-4333-bd1b-217b787fd914",
   "metadata": {},
   "outputs": [
    {
     "data": {
      "text/plain": [
       "'Singh'"
      ]
     },
     "execution_count": 19,
     "metadata": {},
     "output_type": "execute_result"
    }
   ],
   "source": [
    "t1.y"
   ]
  },
  {
   "cell_type": "code",
   "execution_count": 22,
   "id": "385272bd-31be-40c6-a7ef-35581d8e5520",
   "metadata": {},
   "outputs": [
    {
     "data": {
      "text/plain": [
       "'pwskills'"
      ]
     },
     "execution_count": 22,
     "metadata": {},
     "output_type": "execute_result"
    }
   ],
   "source": [
    "t1.z\n"
   ]
  },
  {
   "cell_type": "code",
   "execution_count": 14,
   "id": "7dd0c02d-cb64-45a2-9555-d2a089ab3aea",
   "metadata": {},
   "outputs": [
    {
     "data": {
      "text/plain": [
       "'this is just a test'"
      ]
     },
     "execution_count": 14,
     "metadata": {},
     "output_type": "execute_result"
    }
   ],
   "source": [
    "t1._test__test_meth()"
   ]
  },
  {
   "cell_type": "code",
   "execution_count": 32,
   "id": "997003bf-5375-47ff-84d1-6bc3e477ae04",
   "metadata": {},
   "outputs": [
    {
     "data": {
      "text/plain": [
       "23434434"
      ]
     },
     "execution_count": 32,
     "metadata": {},
     "output_type": "execute_result"
    }
   ],
   "source": [
    "t1.access_var()"
   ]
  },
  {
   "cell_type": "code",
   "execution_count": null,
   "id": "daee5ae4-fb90-4449-99cb-9ca778ef4f4c",
   "metadata": {},
   "outputs": [],
   "source": []
  },
  {
   "cell_type": "code",
   "execution_count": 9,
   "id": "19f23dd1-2645-4b50-8862-fcde9751657d",
   "metadata": {},
   "outputs": [
    {
     "data": {
      "text/plain": [
       "'incorrect Password '"
      ]
     },
     "execution_count": 9,
     "metadata": {},
     "output_type": "execute_result"
    }
   ],
   "source": [
    "class blank:\n",
    "    def __init__(self,account_no,balance):\n",
    "        self._account_no=account_no\n",
    "        self.__balance=balance\n",
    "    \n",
    "    def check_balance(self,password):\n",
    "        if password==\"Abhi@123\":\n",
    "              return self.__balance\n",
    "        else:\n",
    "                return \"incorrect Password \"\n",
    "Abhi= blank(2233323,3232)\n",
    "\n",
    "        \n",
    "        \n",
    "      \n",
    "        \n",
    "    "
   ]
  },
  {
   "cell_type": "code",
   "execution_count": 11,
   "id": "72bbf6dd-3b12-4c17-9e30-0b47d08d246a",
   "metadata": {},
   "outputs": [
    {
     "data": {
      "text/plain": [
       "3232"
      ]
     },
     "execution_count": 11,
     "metadata": {},
     "output_type": "execute_result"
    }
   ],
   "source": [
    "Abhi.check_balance(\"Abhi@123\")"
   ]
  },
  {
   "cell_type": "code",
   "execution_count": 19,
   "id": "887c45ce-0037-47ab-bc57-1007913cc4ac",
   "metadata": {},
   "outputs": [],
   "source": [
    "class queue:\n",
    "    def __init__(self):\n",
    "        self._queue =[]\n",
    "    \n",
    "    def enqueue(self,data):\n",
    "        self._queue.append(data)\n",
    "    \n",
    "    def dequeue(self):\n",
    "        if self._queue:\n",
    "            return self._queue.pop(0)\n",
    "        else:\n",
    "            print(\"Empty list\")\n",
    "    def showdata(self):\n",
    "        return self._queue"
   ]
  },
  {
   "cell_type": "code",
   "execution_count": 22,
   "id": "5c2e377e-f99a-43dc-acef-a10054475957",
   "metadata": {},
   "outputs": [],
   "source": [
    "q=queue()"
   ]
  },
  {
   "cell_type": "code",
   "execution_count": 23,
   "id": "f38241e6-d1d2-4269-9c87-affad51c231a",
   "metadata": {},
   "outputs": [
    {
     "name": "stdout",
     "output_type": "stream",
     "text": [
      "Empty list\n"
     ]
    }
   ],
   "source": [
    "q.dequeue()"
   ]
  },
  {
   "cell_type": "code",
   "execution_count": 24,
   "id": "1a0ca1fb-6a7b-4499-9fef-32b51fcd1934",
   "metadata": {},
   "outputs": [],
   "source": [
    "q.enqueue(40)"
   ]
  },
  {
   "cell_type": "code",
   "execution_count": 25,
   "id": "6b4c6dce-f657-4f95-819a-72653ed308fb",
   "metadata": {},
   "outputs": [
    {
     "data": {
      "text/plain": [
       "40"
      ]
     },
     "execution_count": 25,
     "metadata": {},
     "output_type": "execute_result"
    }
   ],
   "source": [
    "q.dequeue()"
   ]
  },
  {
   "cell_type": "code",
   "execution_count": 26,
   "id": "af01daf9-5c7a-42d3-a8b9-c98b32a475db",
   "metadata": {},
   "outputs": [
    {
     "name": "stdout",
     "output_type": "stream",
     "text": [
      "Empty list\n"
     ]
    }
   ],
   "source": [
    "q.dequeue()"
   ]
  },
  {
   "cell_type": "code",
   "execution_count": 27,
   "id": "20836c09-c291-4b08-adcf-7cfbb98d26e4",
   "metadata": {},
   "outputs": [],
   "source": [
    "q.enqueue(50)"
   ]
  },
  {
   "cell_type": "code",
   "execution_count": 28,
   "id": "40b5f708-9329-42bc-b6f1-1625d4fa3e5e",
   "metadata": {},
   "outputs": [],
   "source": [
    "q.enqueue(40)"
   ]
  },
  {
   "cell_type": "code",
   "execution_count": 29,
   "id": "8a8b12b3-bcd8-4744-baea-e33185e41234",
   "metadata": {},
   "outputs": [],
   "source": [
    "q.enqueue(30)"
   ]
  },
  {
   "cell_type": "code",
   "execution_count": 30,
   "id": "ca2a46d6-5124-4d22-858a-d09380dfd03b",
   "metadata": {},
   "outputs": [
    {
     "data": {
      "text/plain": [
       "[50, 40, 30]"
      ]
     },
     "execution_count": 30,
     "metadata": {},
     "output_type": "execute_result"
    }
   ],
   "source": [
    "q.showdata()"
   ]
  },
  {
   "cell_type": "code",
   "execution_count": 31,
   "id": "3f2cdc55-c4c1-4221-b7cb-e337f1532bf9",
   "metadata": {},
   "outputs": [
    {
     "data": {
      "text/plain": [
       "50"
      ]
     },
     "execution_count": 31,
     "metadata": {},
     "output_type": "execute_result"
    }
   ],
   "source": [
    "q.dequeue()"
   ]
  },
  {
   "cell_type": "code",
   "execution_count": 32,
   "id": "1da708a8-5be0-4e3d-b7b8-c8512a54fe2b",
   "metadata": {},
   "outputs": [
    {
     "data": {
      "text/plain": [
       "[40, 30]"
      ]
     },
     "execution_count": 32,
     "metadata": {},
     "output_type": "execute_result"
    }
   ],
   "source": [
    "q.showdata()"
   ]
  },
  {
   "cell_type": "code",
   "execution_count": null,
   "id": "92b1c7de-2de3-4622-a092-2f29871c9eb2",
   "metadata": {},
   "outputs": [],
   "source": []
  }
 ],
 "metadata": {
  "kernelspec": {
   "display_name": "Python 3 (ipykernel)",
   "language": "python",
   "name": "python3"
  },
  "language_info": {
   "codemirror_mode": {
    "name": "ipython",
    "version": 3
   },
   "file_extension": ".py",
   "mimetype": "text/x-python",
   "name": "python",
   "nbconvert_exporter": "python",
   "pygments_lexer": "ipython3",
   "version": "3.10.8"
  }
 },
 "nbformat": 4,
 "nbformat_minor": 5
}
