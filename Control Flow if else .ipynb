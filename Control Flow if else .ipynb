{
 "cells": [
  {
   "cell_type": "code",
   "execution_count": 1,
   "id": "a430ffc6-aba2-477c-8953-ac4cd9694159",
   "metadata": {},
   "outputs": [],
   "source": [
    "# Conditional Statements "
   ]
  },
  {
   "cell_type": "code",
   "execution_count": 2,
   "id": "7873546a-8112-4e1a-9e28-532422edc5b7",
   "metadata": {},
   "outputs": [],
   "source": [
    "# if\n",
    "# if else\n",
    "# if elif else\n",
    "# Important --> : It is indentation in python"
   ]
  },
  {
   "cell_type": "code",
   "execution_count": 7,
   "id": "ac8569a3-3635-4f7e-af98-d55e9f0caaf5",
   "metadata": {},
   "outputs": [],
   "source": [
    "age =19"
   ]
  },
  {
   "cell_type": "code",
   "execution_count": 8,
   "id": "ffbe442d-5555-491d-a7ae-95b02b9b7a37",
   "metadata": {},
   "outputs": [
    {
     "name": "stdout",
     "output_type": "stream",
     "text": [
      "You can drive\n"
     ]
    }
   ],
   "source": [
    "if age>=18:\n",
    "    print(\"You can drive\")"
   ]
  },
  {
   "cell_type": "code",
   "execution_count": 14,
   "id": "4c003f2d-7695-4878-ae48-c7778ed80392",
   "metadata": {},
   "outputs": [
    {
     "name": "stdout",
     "output_type": "stream",
     "text": [
      "You are inside the if block\n"
     ]
    }
   ],
   "source": [
    "x=23\n",
    "if x>=23:\n",
    "    print(\"You are inside the if block\")"
   ]
  },
  {
   "cell_type": "code",
   "execution_count": 18,
   "id": "fd8f43ba-3442-488f-b97c-7d091ea88209",
   "metadata": {},
   "outputs": [
    {
     "name": "stdin",
     "output_type": "stream",
     "text": [
      "Enter age 23\n"
     ]
    }
   ],
   "source": [
    "x=int(input(\"Enter age\"))\n"
   ]
  },
  {
   "cell_type": "code",
   "execution_count": 19,
   "id": "533390db-ce02-4e36-9e22-548871b150f7",
   "metadata": {},
   "outputs": [
    {
     "name": "stdout",
     "output_type": "stream",
     "text": [
      "You are a Adult\n"
     ]
    }
   ],
   "source": [
    "if x>18:\n",
    "    print(\"You are a Adult\")\n",
    "else:\n",
    "        print(\"You are kid\")"
   ]
  },
  {
   "cell_type": "code",
   "execution_count": 25,
   "id": "1405308b-2532-4726-8a79-fcf2338457ce",
   "metadata": {},
   "outputs": [
    {
     "name": "stdin",
     "output_type": "stream",
     "text": [
      "Enter your score 95\n"
     ]
    }
   ],
   "source": [
    "score=float(input(\"Enter your score\"))\n"
   ]
  },
  {
   "cell_type": "code",
   "execution_count": 26,
   "id": "de5c2eda-5cfb-491c-b00c-241bbac8e491",
   "metadata": {},
   "outputs": [
    {
     "name": "stdout",
     "output_type": "stream",
     "text": [
      "Excellent! Performance your grade is A+\n"
     ]
    }
   ],
   "source": [
    "if score >=90:\n",
    "    print(\"Excellent! Performance your grade is A+\")\n",
    "elif score >=80:\n",
    "    print(\"Excellent! Performance your grade is A \")\n",
    "elif score >=70:\n",
    "    print(\"Excellent! Performance your grade is B  \")\n",
    "elif score >=50:\n",
    "     print(\"Excellent! Performance your grade is c  \")\n",
    "else:\n",
    "    print(\"Poor! You are fail\")\n",
    "    \n",
    "    \n",
    "    \n",
    "    "
   ]
  },
  {
   "cell_type": "code",
   "execution_count": null,
   "id": "0c372a58-d26d-4507-944f-f28648af0dea",
   "metadata": {},
   "outputs": [],
   "source": []
  },
  {
   "cell_type": "code",
   "execution_count": 14,
   "id": "1f4e6730-0dd2-404e-9458-9d0f0b41d818",
   "metadata": {},
   "outputs": [
    {
     "name": "stdin",
     "output_type": "stream",
     "text": [
      "Enter the time  20\n"
     ]
    },
    {
     "name": "stdout",
     "output_type": "stream",
     "text": [
      "Evening \n"
     ]
    }
   ],
   "source": [
    "T=int(input(\"Enter the time \"))\n",
    "if T<0:\n",
    "    print(\"Invalid\")\n",
    "elif 0<=T<=5:\n",
    "    print(\"Night\")\n",
    "elif 6<=T<=11:\n",
    "    print(\"Morning \")\n",
    "elif 12<=T<=17:\n",
    "    print(\"Afternoon\")\n",
    "elif 18<=T<=23:\n",
    "    print(\"Evening \")\n",
    "else:\n",
    "    print(\"Invalid \")"
   ]
  },
  {
   "cell_type": "code",
   "execution_count": null,
   "id": "90eb5919-7b96-475a-b59e-6af87a3aa225",
   "metadata": {},
   "outputs": [],
   "source": []
  },
  {
   "cell_type": "code",
   "execution_count": 15,
   "id": "1c9ae1e7-e451-4b4b-b09d-b68b4de873e3",
   "metadata": {},
   "outputs": [],
   "source": [
    "# find the largest number from 3 given numbers"
   ]
  },
  {
   "cell_type": "code",
   "execution_count": 21,
   "id": "f03a8b7f-c30a-4e81-981e-86bebe218830",
   "metadata": {},
   "outputs": [
    {
     "name": "stdout",
     "output_type": "stream",
     "text": [
      "largest number is 30\n"
     ]
    }
   ],
   "source": [
    "num1=10\n",
    "num2=20\n",
    "num3=30\n",
    "\n",
    "if(num1>=num2) and (num1>=num3):\n",
    "    largest=num1\n",
    "    print(\"largest number is\", largest)\n",
    "    \n",
    "elif(num2>=num1) and (num2>=num3):\n",
    "    largest=num2\n",
    "    print(\"largest number is\", largest)\n",
    "else:\n",
    "    largest=num3\n",
    "    print(\"largest number is\", largest)"
   ]
  },
  {
   "cell_type": "code",
   "execution_count": null,
   "id": "e56ffbb0-3b4e-49b1-b574-627fce7e4695",
   "metadata": {},
   "outputs": [],
   "source": []
  },
  {
   "cell_type": "code",
   "execution_count": 22,
   "id": "4025f9f1-75dc-4416-8d92-2a089568b525",
   "metadata": {},
   "outputs": [],
   "source": [
    "# make a calculator for +, -,* and / \n",
    "\n"
   ]
  },
  {
   "cell_type": "code",
   "execution_count": 33,
   "id": "6c6374ac-cabc-456e-ada9-21ac4bf03948",
   "metadata": {},
   "outputs": [
    {
     "name": "stdout",
     "output_type": "stream",
     "text": [
      "Operation: + , - , * , / \n"
     ]
    },
    {
     "name": "stdin",
     "output_type": "stream",
     "text": [
      "Enter operation +\n",
      "Enter the First number: 23\n",
      "Enter the Second number: 45\n"
     ]
    },
    {
     "name": "stdout",
     "output_type": "stream",
     "text": [
      "Result: 23.0 + 45.0 = 68.0\n"
     ]
    }
   ],
   "source": [
    "print(\"Operation: + , - , * , / \")\n",
    "operation =input(\"Enter operation\")\n",
    "num1=float(input(\"Enter the First number:\"))\n",
    "num2=float(input(\"Enter the Second number:\"))\n",
    "if operation =='+':\n",
    "    Result= num1+num2\n",
    "    print(f\"Result: {num1} + {num2} = {Result}\")\n",
    "elif operation =='-':\n",
    "    Result = num1 - num2\n",
    "    print(f\"Result: {num1} + {num2} = {Result}\")\n",
    "elif operation =='*':\n",
    "    Result= num1*num2\n",
    "    print(f\"Result: {num1} + {num2} = {Result}\")\n",
    "elif operation =='/':\n",
    "    if num2 !=0:\n",
    "        Result=num1/num2\n",
    "        print(f\"Result: {num1} + {num2} = {Result}\")\n",
    "    else:\n",
    "        print(\"Error : Division by zero\")\n",
    "else:\n",
    "    print(\"Invalid operation. Please enter a valid operation\")\n",
    "\n"
   ]
  },
  {
   "cell_type": "code",
   "execution_count": null,
   "id": "9e7f82a0-fde2-4388-bdf9-8b05f9d09698",
   "metadata": {},
   "outputs": [],
   "source": [
    "\n"
   ]
  },
  {
   "cell_type": "code",
   "execution_count": 47,
   "id": "f41007cf-7d7f-4054-b42e-6a4873a45c69",
   "metadata": {},
   "outputs": [
    {
     "name": "stdin",
     "output_type": "stream",
     "text": [
      "Enter number 0\n"
     ]
    },
    {
     "name": "stdout",
     "output_type": "stream",
     "text": [
      "number is zero\n"
     ]
    }
   ],
   "source": [
    "num=float(input(\"Enter number\"))\n",
    "\n",
    "if (num>=0):\n",
    "    if num ==0:\n",
    "        print(\"number is zero\")\n",
    "    else:\n",
    "        print(\"number is postive\")\n",
    "else:\n",
    "    print(\"number is negative\")\n",
    "        \n",
    "\n",
    "    \n",
    "    "
   ]
  },
  {
   "cell_type": "code",
   "execution_count": null,
   "id": "f9eb6f6f-f0eb-43b6-80eb-99d7790504a1",
   "metadata": {},
   "outputs": [],
   "source": []
  }
 ],
 "metadata": {
  "kernelspec": {
   "display_name": "Python 3 (ipykernel)",
   "language": "python",
   "name": "python3"
  },
  "language_info": {
   "codemirror_mode": {
    "name": "ipython",
    "version": 3
   },
   "file_extension": ".py",
   "mimetype": "text/x-python",
   "name": "python",
   "nbconvert_exporter": "python",
   "pygments_lexer": "ipython3",
   "version": "3.10.8"
  }
 },
 "nbformat": 4,
 "nbformat_minor": 5
}
