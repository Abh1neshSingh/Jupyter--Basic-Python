{
 "cells": [
  {
   "cell_type": "code",
   "execution_count": 1,
   "id": "18477c2f-2657-448b-b2c5-69c0c3b6ca6d",
   "metadata": {},
   "outputs": [],
   "source": [
    "# polymorphism: poly-Many, morphism- Variety or type"
   ]
  },
  {
   "cell_type": "code",
   "execution_count": null,
   "id": "0f170b05-da08-4a0e-8515-933d567083cd",
   "metadata": {},
   "outputs": [],
   "source": [
    "Polymorphism is nothing but a kind of Phenomena or form or \n",
    "kind of state so where same thing is going to  behave \n",
    "Differently ."
   ]
  },
  {
   "cell_type": "code",
   "execution_count": null,
   "id": "768fa780-c28f-42d1-9d50-08ab469fe0c7",
   "metadata": {},
   "outputs": [],
   "source": []
  },
  {
   "cell_type": "code",
   "execution_count": 3,
   "id": "62a444f6-0c95-4660-80e6-91841857ccb8",
   "metadata": {},
   "outputs": [],
   "source": [
    "def test (a,b):\n",
    "    return a+b"
   ]
  },
  {
   "cell_type": "code",
   "execution_count": 4,
   "id": "7bc94539-66c5-4dc8-a2fe-4962bba9e470",
   "metadata": {},
   "outputs": [
    {
     "data": {
      "text/plain": [
       "79"
      ]
     },
     "execution_count": 4,
     "metadata": {},
     "output_type": "execute_result"
    }
   ],
   "source": [
    "test(34,45)"
   ]
  },
  {
   "cell_type": "code",
   "execution_count": 5,
   "id": "4826416f-de9b-4c62-9883-a6565b28e3a7",
   "metadata": {},
   "outputs": [
    {
     "data": {
      "text/plain": [
       "'AbhineshSingh'"
      ]
     },
     "execution_count": 5,
     "metadata": {},
     "output_type": "execute_result"
    }
   ],
   "source": [
    "test(\"Abhinesh\",\"Singh\")"
   ]
  },
  {
   "cell_type": "code",
   "execution_count": 7,
   "id": "37df9fc9-7bc1-43bf-98b3-7827189f2d29",
   "metadata": {},
   "outputs": [
    {
     "name": "stdout",
     "output_type": "stream",
     "text": [
      "this will give me a details about data Science student\n",
      "this will give me details about big data student \n"
     ]
    }
   ],
   "source": [
    "class pwskills:\n",
    "    def student(self):\n",
    "        pass\n",
    "    \n",
    "class dataScience(pwskills):\n",
    "    \n",
    "    def student(self):\n",
    "        print(\"this will give me a details about data Science student\")\n",
    "class bigdata(pwskills):\n",
    "    \n",
    "    def student(self):\n",
    "        print(\"this will give me details about big data student \")\n",
    "    \n",
    "Abhi=dataScience()\n",
    "ritika=bigdata()\n",
    "Abhi.student()\n",
    "ritika.student()"
   ]
  },
  {
   "cell_type": "code",
   "execution_count": 8,
   "id": "47e76eb0-8b23-4f81-9201-6f9781cf201d",
   "metadata": {},
   "outputs": [],
   "source": [
    "# Above method is method overriding "
   ]
  },
  {
   "cell_type": "code",
   "execution_count": null,
   "id": "f329830f-5f05-4c3d-91c5-95294a9e1576",
   "metadata": {},
   "outputs": [],
   "source": [
    "method overriding is nothing but is so I have some function by the \n",
    "Situation or may be the definition of those method I am going to change\n",
    "as per Scenario or may be the Situation and that is called method overriding "
   ]
  },
  {
   "cell_type": "code",
   "execution_count": null,
   "id": "225c574e-4bac-420c-a307-f1da5158cb3c",
   "metadata": {},
   "outputs": [],
   "source": [
    "In Python, you can achieve method overriding by defining \n",
    "a method in the child class with the same name as a method \n",
    "in the parent class."
   ]
  },
  {
   "cell_type": "code",
   "execution_count": 1,
   "id": "0e929dee-fc2b-4bc0-b6ce-31aacb21b989",
   "metadata": {},
   "outputs": [
    {
     "name": "stdout",
     "output_type": "stream",
     "text": [
      "3 22\n"
     ]
    }
   ],
   "source": [
    "# method overloading \n",
    "class bigdata:\n",
    "    def __init__(self,number_of_class,number_of_student):\n",
    "        self.number_of_class=number_of_class\n",
    "        self.number_of_student=number_of_student\n",
    "    \n",
    "    def __add__(self,other):\n",
    "        return bigdata(self.number_of_class +other.number_of_class,self.number_of_student+other.number_of_student)\n",
    "c1=bigdata(1,10)\n",
    "c2=bigdata(2,12)\n",
    "result=c1+c2\n",
    "print(result.number_of_class,result.number_of_student)\n",
    "\n",
    "    "
   ]
  },
  {
   "cell_type": "code",
   "execution_count": 7,
   "id": "7b945959-7214-4f1e-95ab-99ad35950cce",
   "metadata": {},
   "outputs": [],
   "source": [
    "\n",
    "class dataScience():\n",
    "    \n",
    "    def student(self):\n",
    "        print(\"this will give me a details about data Science student\")\n",
    "class bigdata():\n",
    "    \n",
    "    def student(self):\n",
    "        print(\"this will give me details about big data student \")\n",
    "\n",
    "def output_class(class_obj):\n",
    "    return class_obj.student()\n",
    "    "
   ]
  },
  {
   "cell_type": "code",
   "execution_count": 8,
   "id": "a3baae14-dba9-4249-a582-508128308e5c",
   "metadata": {},
   "outputs": [],
   "source": [
    "rohit=dataScience()\n",
    "sashi=bigdata()\n"
   ]
  },
  {
   "cell_type": "code",
   "execution_count": 9,
   "id": "f5086d69-81e7-49b2-b36b-98bea4d8d192",
   "metadata": {},
   "outputs": [
    {
     "name": "stdout",
     "output_type": "stream",
     "text": [
      "this will give me details about big data student \n"
     ]
    }
   ],
   "source": [
    "output_class(sashi)"
   ]
  },
  {
   "cell_type": "code",
   "execution_count": 10,
   "id": "3ee58fa2-89d0-4cd4-ade1-4e7aa95c0e21",
   "metadata": {},
   "outputs": [
    {
     "name": "stdout",
     "output_type": "stream",
     "text": [
      "this will give me a details about data Science student\n"
     ]
    }
   ],
   "source": [
    "output_class(rohit)"
   ]
  },
  {
   "cell_type": "code",
   "execution_count": 11,
   "id": "48ce1860-739c-4984-9e59-173f099d545c",
   "metadata": {},
   "outputs": [],
   "source": [
    "class pwskills:\n",
    "    def student(self):\n",
    "        return \"this is a pwskills student\"\n",
    "    \n",
    "class dataScience(pwskills):\n",
    "    \n",
    "    def student(self):\n",
    "        print(\"this will give me a details about data Science student\")"
   ]
  },
  {
   "cell_type": "code",
   "execution_count": 13,
   "id": "78300fdf-3aef-4eb1-a8ae-15fa57c9c49d",
   "metadata": {},
   "outputs": [
    {
     "name": "stdout",
     "output_type": "stream",
     "text": [
      "this will give me a details about data Science student\n"
     ]
    }
   ],
   "source": [
    "Abhi=dataScience()\n",
    "Abhi.student()"
   ]
  },
  {
   "cell_type": "code",
   "execution_count": null,
   "id": "90512682-4a29-4f38-bf98-12c1cc572af8",
   "metadata": {},
   "outputs": [],
   "source": []
  },
  {
   "cell_type": "code",
   "execution_count": 14,
   "id": "a947a9f3-39f1-49b6-854c-774937fea83b",
   "metadata": {},
   "outputs": [
    {
     "data": {
      "text/plain": [
       "4"
      ]
     },
     "execution_count": 14,
     "metadata": {},
     "output_type": "execute_result"
    }
   ],
   "source": [
    "len(\"Abhi\")"
   ]
  },
  {
   "cell_type": "code",
   "execution_count": 16,
   "id": "da5ff543-ba89-493e-aea9-29c2a0ca8b95",
   "metadata": {},
   "outputs": [
    {
     "data": {
      "text/plain": [
       "5"
      ]
     },
     "execution_count": 16,
     "metadata": {},
     "output_type": "execute_result"
    }
   ],
   "source": [
    "len([1,3,4,5,32])"
   ]
  },
  {
   "cell_type": "code",
   "execution_count": null,
   "id": "d86782d8-65a3-4053-94ec-afc45efacc59",
   "metadata": {},
   "outputs": [],
   "source": []
  }
 ],
 "metadata": {
  "kernelspec": {
   "display_name": "Python 3 (ipykernel)",
   "language": "python",
   "name": "python3"
  },
  "language_info": {
   "codemirror_mode": {
    "name": "ipython",
    "version": 3
   },
   "file_extension": ".py",
   "mimetype": "text/x-python",
   "name": "python",
   "nbconvert_exporter": "python",
   "pygments_lexer": "ipython3",
   "version": "3.10.8"
  }
 },
 "nbformat": 4,
 "nbformat_minor": 5
}
