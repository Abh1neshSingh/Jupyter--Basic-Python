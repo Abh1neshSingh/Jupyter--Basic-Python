{
 "cells": [
  {
   "cell_type": "code",
   "execution_count": null,
   "id": "1b83535b-ca53-4c17-a3f0-360d1ec98cba",
   "metadata": {},
   "outputs": [],
   "source": []
  },
  {
   "cell_type": "code",
   "execution_count": 2,
   "id": "d689e306-3283-4983-94a9-09ecbb1a2373",
   "metadata": {},
   "outputs": [
    {
     "name": "stdin",
     "output_type": "stream",
     "text": [
      "Enter a value for a  6\n",
      "ENter a value for b 0\n"
     ]
    }
   ],
   "source": [
    "a=int(input(\"Enter a value for a \" ))\n",
    "b=int(input(\"ENter a value for b\"))\n"
   ]
  },
  {
   "cell_type": "code",
   "execution_count": 3,
   "id": "57e471da-d273-4c48-8fef-02060e1aef7a",
   "metadata": {},
   "outputs": [
    {
     "data": {
      "text/plain": [
       "0"
      ]
     },
     "execution_count": 3,
     "metadata": {},
     "output_type": "execute_result"
    }
   ],
   "source": [
    "a*b"
   ]
  },
  {
   "cell_type": "code",
   "execution_count": 6,
   "id": "0156ce69-283b-447f-bd64-36e23a818c5d",
   "metadata": {},
   "outputs": [
    {
     "ename": "ZeroDivisionError",
     "evalue": "division by zero",
     "output_type": "error",
     "traceback": [
      "\u001b[0;31m---------------------------------------------------------------------------\u001b[0m",
      "\u001b[0;31mZeroDivisionError\u001b[0m                         Traceback (most recent call last)",
      "Cell \u001b[0;32mIn[6], line 1\u001b[0m\n\u001b[0;32m----> 1\u001b[0m \u001b[43ma\u001b[49m\u001b[38;5;241;43m/\u001b[39;49m\u001b[43mb\u001b[49m \n\u001b[1;32m      2\u001b[0m \u001b[38;5;28mprint\u001b[39m(\u001b[38;5;124m\"\u001b[39m\u001b[38;5;124mPrint Something\u001b[39m\u001b[38;5;124m\"\u001b[39m)\n",
      "\u001b[0;31mZeroDivisionError\u001b[0m: division by zero"
     ]
    }
   ],
   "source": [
    "a/b \n",
    "print(\"Print Something\")"
   ]
  },
  {
   "cell_type": "code",
   "execution_count": 5,
   "id": "44a5a544-4c29-4e1e-bf14-e3c411ca5f5b",
   "metadata": {},
   "outputs": [
    {
     "data": {
      "text/plain": [
       "6"
      ]
     },
     "execution_count": 5,
     "metadata": {},
     "output_type": "execute_result"
    }
   ],
   "source": [
    "a+b"
   ]
  },
  {
   "cell_type": "code",
   "execution_count": null,
   "id": "f8fed104-1789-44d2-b093-8c0694995b33",
   "metadata": {},
   "outputs": [],
   "source": [
    "----------About Exception Handling And thi\n",
    "Exception handling in Python allows you to gracefully manage and respond to errors that might occur during the execution of your program. Here's a concise overview of the basic structure using try, except, and optional else and finally blocks:\n",
    "\n",
    "python\n",
    "Copy code\n",
    "try:\n",
    "    # Code that might raise an exception\n",
    "    result = 10 / 0  # Example: Division by zero\n",
    "\n",
    "except ZeroDivisionError:\n",
    "    # Handle a specific exception\n",
    "    print(\"Error: Cannot divide by zero\")\n",
    "\n",
    "except Exception as e:\n",
    "    # Handle any other exceptions\n",
    "    print(f\"An error occurred: {e}\")\n",
    "\n",
    "else:\n",
    "    # Optional: Code to be executed if no exception occurred\n",
    "    print(\"No exceptions were raised\")\n",
    "\n",
    "finally:\n",
    "    # Optional: Code that always runs, whether an exception occurred or not\n",
    "    print(\"This code always executes, cleanup or finalization can be done here\")\n",
    "The try block encloses the code that might raise an exception.\n",
    "The except block catches and handles specific exceptions. You can have multiple except blocks to handle different exceptions.\n",
    "The else block (optional) contains code that runs only if no exceptions were raised in the try block.\n",
    "The finally block (optional) contains code that always runs, whether an exception occurred or not. It is often used for cleanup or finalization tasks.\n",
    "This structure allows you to control how your program responds to different types of errors, providing a more robust and user-friendly experience."
   ]
  },
  {
   "cell_type": "code",
   "execution_count": null,
   "id": "d3c94fd5-e27f-4a40-9215-a560b9467554",
   "metadata": {},
   "outputs": [],
   "source": [
    "try----- Exception handling block"
   ]
  },
  {
   "cell_type": "code",
   "execution_count": 12,
   "id": "d8f9847c-fa1b-433a-9a39-22adc7be7558",
   "metadata": {},
   "outputs": [],
   "source": [
    "l=[4,5,6,7,8,9,0]\n",
    "l1= []\n",
    "def even_num(l):\n",
    "    for i in l:\n",
    "        if i%2==0:\n",
    "            l1.append(i)\n",
    "    return l1\n"
   ]
  },
  {
   "cell_type": "code",
   "execution_count": 22,
   "id": "5906d161-0731-4942-873b-a589b2ef5a67",
   "metadata": {},
   "outputs": [
    {
     "ename": "NameError",
     "evalue": "name 'jj' is not defined",
     "output_type": "error",
     "traceback": [
      "\u001b[0;31m---------------------------------------------------------------------------\u001b[0m",
      "\u001b[0;31mNameError\u001b[0m                                 Traceback (most recent call last)",
      "Cell \u001b[0;32mIn[22], line 1\u001b[0m\n\u001b[0;32m----> 1\u001b[0m even_num(\u001b[43mjj\u001b[49m)\n\u001b[1;32m      3\u001b[0m \u001b[38;5;28mprint\u001b[39m(\u001b[38;5;124m\"\u001b[39m\u001b[38;5;124mwns \u001b[39m\u001b[38;5;124m\"\u001b[39m)\n",
      "\u001b[0;31mNameError\u001b[0m: name 'jj' is not defined"
     ]
    }
   ],
   "source": [
    "even_num(jj)\n",
    "\n",
    "print(\"wns \")"
   ]
  },
  {
   "cell_type": "code",
   "execution_count": null,
   "id": "dc7fa5ec-1f58-4a3f-a5e7-e3d5ef492bf5",
   "metadata": {},
   "outputs": [],
   "source": [
    "try: \n",
    "    Suspicious code write here\n",
    "    \n",
    "    \n",
    "except:  ------catch name not present in python so place of catch we use except\n"
   ]
  },
  {
   "cell_type": "code",
   "execution_count": 37,
   "id": "7746a09f-f40e-4c94-89d5-bd4862615627",
   "metadata": {},
   "outputs": [
    {
     "name": "stdin",
     "output_type": "stream",
     "text": [
      "Enter a value for a  4\n",
      "ENter a value for b 5\n"
     ]
    },
    {
     "name": "stdout",
     "output_type": "stream",
     "text": [
      "0.8\n",
      "Print Something\n"
     ]
    }
   ],
   "source": [
    "try:\n",
    "    a=int(input(\"Enter a value for a \" ))\n",
    "    b=int(input(\"ENter a value for b\"))\n",
    "    c=a/b\n",
    "    print(c)\n",
    "except:\n",
    "    pass\n",
    "print(\"Print Something\")"
   ]
  },
  {
   "cell_type": "code",
   "execution_count": 7,
   "id": "397c8891-ed9a-42bb-aed6-a9b3f2d4718d",
   "metadata": {},
   "outputs": [],
   "source": [
    "\n",
    "    l=[4,5,6,7,8,9,0]\n",
    "    l1= []\n",
    "    def even_num(l):\n",
    "        try:\n",
    "            \n",
    "            for i in l:\n",
    "                if i%2==0:\n",
    "                    l1.append(i)\n",
    "            return l1\n",
    "    \n",
    "        except:\n",
    "             pass"
   ]
  },
  {
   "cell_type": "code",
   "execution_count": 8,
   "id": "bdd8b5b2-e267-4a3f-8bf7-defc11d77ea7",
   "metadata": {},
   "outputs": [
    {
     "name": "stdout",
     "output_type": "stream",
     "text": [
      "Hello\n"
     ]
    }
   ],
   "source": [
    "even_num(6)\n",
    "print(\"Hello\")"
   ]
  },
  {
   "cell_type": "code",
   "execution_count": 22,
   "id": "57f5ee53-d6b1-4371-909b-66aedc9e1680",
   "metadata": {
    "jupyter": {
     "source_hidden": true
    },
    "tags": []
   },
   "outputs": [
    {
     "name": "stdin",
     "output_type": "stream",
     "text": [
      " 3\n",
      " 0\n"
     ]
    },
    {
     "name": "stdout",
     "output_type": "stream",
     "text": [
      "division by zero\n"
     ]
    }
   ],
   "source": [
    "try:\n",
    "    a=int(input())\n",
    "    b=int(input())\n",
    "    c=a/b\n",
    "    print(c)\n",
    "except Exception as e:\n",
    "    print(e)\n",
    "    \n",
    "#----Exception is Library or package it is inside in python\n",
    "# it is superclass \n",
    "    "
   ]
  },
  {
   "cell_type": "code",
   "execution_count": 2,
   "id": "19829321-c6d7-4922-830d-5acbe778916a",
   "metadata": {},
   "outputs": [
    {
     "ename": "ZeroDivisionError",
     "evalue": "division by zero",
     "output_type": "error",
     "traceback": [
      "\u001b[0;31m---------------------------------------------------------------------------\u001b[0m",
      "\u001b[0;31mZeroDivisionError\u001b[0m                         Traceback (most recent call last)",
      "Cell \u001b[0;32mIn[2], line 1\u001b[0m\n\u001b[0;32m----> 1\u001b[0m c\u001b[38;5;241m=\u001b[39m\u001b[38;5;241;43m6\u001b[39;49m\u001b[38;5;241;43m/\u001b[39;49m\u001b[38;5;241;43m0\u001b[39;49m\n",
      "\u001b[0;31mZeroDivisionError\u001b[0m: division by zero"
     ]
    }
   ],
   "source": [
    "    c=6/0"
   ]
  },
  {
   "cell_type": "code",
   "execution_count": 11,
   "id": "a8ca296d-5055-4f88-b607-06100f8a9771",
   "metadata": {},
   "outputs": [],
   "source": [
    "\n",
    "    l=[4,5,6,7,8,9,0]\n",
    "    l1= []\n",
    "    def even_num(l):\n",
    "        try:\n",
    "            \n",
    "            for i in l:\n",
    "                if i%2==0:\n",
    "                    l1.append(i)\n",
    "            return l1\n",
    "    \n",
    "        except Exception as error_message:\n",
    "            print(error_message)\n",
    "             "
   ]
  },
  {
   "cell_type": "code",
   "execution_count": 16,
   "id": "18ccf227-ac97-4a25-b989-087a262c1f61",
   "metadata": {},
   "outputs": [
    {
     "name": "stdout",
     "output_type": "stream",
     "text": [
      "'int' object is not iterable\n",
      "Hello\n"
     ]
    }
   ],
   "source": [
    "even_num(45)\n",
    "print(\"Hello\")"
   ]
  },
  {
   "cell_type": "code",
   "execution_count": 24,
   "id": "1877a673-9e64-416f-80af-1d28f6e14cbf",
   "metadata": {},
   "outputs": [
    {
     "name": "stdin",
     "output_type": "stream",
     "text": [
      " 3\n",
      " 3\n"
     ]
    },
    {
     "name": "stdout",
     "output_type": "stream",
     "text": [
      "1.0\n"
     ]
    }
   ],
   "source": [
    "# Generic error messages show by these superclass\n",
    "try:\n",
    "    a=int(input())\n",
    "    b=int(input())\n",
    "    c=a/b\n",
    "    print(c)\n",
    "except Exception as error_mess: #<-----------Generic  superclass\n",
    "    print(error_mess)\n"
   ]
  },
  {
   "cell_type": "code",
   "execution_count": 26,
   "id": "57fe3413-09ac-4207-afc1-bc82a39edd2a",
   "metadata": {},
   "outputs": [
    {
     "name": "stdin",
     "output_type": "stream",
     "text": [
      " va\n"
     ]
    },
    {
     "name": "stdout",
     "output_type": "stream",
     "text": [
      "invalid literal for int() with base 10: 'va'\n"
     ]
    }
   ],
   "source": [
    "# Specific error message show by thses class\n",
    "try:\n",
    "    a=int(input())\n",
    "    b=int(input())\n",
    "    c=a/b\n",
    "    print(c)\n",
    "except TypeError as t:  #<------- Specific class\n",
    "    print(t)\n",
    "except ZeroDivisionError as z:#<-------Specific class\n",
    "    print(z)\n",
    "except ValueError as v:#<---------Specific class\n",
    "    print(v)\n",
    "    "
   ]
  },
  {
   "cell_type": "code",
   "execution_count": null,
   "id": "9ee0f6e7-d5de-49c4-9629-38bbaab2423f",
   "metadata": {},
   "outputs": [],
   "source": []
  },
  {
   "cell_type": "code",
   "execution_count": 30,
   "id": "b81734e0-8964-48a2-9d96-868202aa6852",
   "metadata": {},
   "outputs": [
    {
     "name": "stdout",
     "output_type": "stream",
     "text": [
      "division by zero\n",
      "invalid literal for int() with base 10: 'sud'\n"
     ]
    }
   ],
   "source": [
    "# nested error handling\n",
    "try:\n",
    "    x=5/0\n",
    "except ZeroDivisionError as z:\n",
    "        print(z)\n",
    "        try:\n",
    "             y=int(\"sud\")\n",
    "        except ValueError as v:\n",
    "            print(v)\n",
    "       "
   ]
  },
  {
   "cell_type": "code",
   "execution_count": 36,
   "id": "9c23f6db-b3c2-4159-b28a-740c959dd04f",
   "metadata": {},
   "outputs": [
    {
     "name": "stdout",
     "output_type": "stream",
     "text": [
      "division by zero\n",
      "invalid literal for int() with base 10: 'sud'\n"
     ]
    }
   ],
   "source": [
    "# nested error handling\n",
    "try:\n",
    "    x=5/0\n",
    "except Exception as z:\n",
    "        print(z)\n",
    "        try:\n",
    "             y=int(\"sud\")\n",
    "        except Exception as v:\n",
    "            print(v)"
   ]
  },
  {
   "cell_type": "code",
   "execution_count": 43,
   "id": "ca4ffb73-9139-439c-a5d2-56663a35029f",
   "metadata": {},
   "outputs": [
    {
     "name": "stdout",
     "output_type": "stream",
     "text": [
      "division by zero\n",
      "this will be execute always\n"
     ]
    }
   ],
   "source": [
    "try:\n",
    "    x=5/0\n",
    "    y=x\n",
    "    print(y)\n",
    "except ZeroDivisionError as z:\n",
    "        print(z)\n",
    "else:\n",
    "    print(\"this will execute itself once try will execute and error\")\n",
    "finally:\n",
    "    print(\"this will be execute always\")"
   ]
  },
  {
   "cell_type": "code",
   "execution_count": 44,
   "id": "44591037-16b2-483b-b728-007666a73138",
   "metadata": {},
   "outputs": [
    {
     "name": "stdout",
     "output_type": "stream",
     "text": [
      "5.0\n",
      "this will execute itself once try will execute and error\n",
      "this will be execute always\n"
     ]
    }
   ],
   "source": [
    "try:\n",
    "    x=5/1\n",
    "    y=x\n",
    "    print(y)\n",
    "except ZeroDivisionError as z:\n",
    "        print(z)\n",
    "else:\n",
    "    print(\"this will execute itself once try will execute and error\")\n",
    "finally:\n",
    "    print(\"this will be execute always\")"
   ]
  },
  {
   "cell_type": "code",
   "execution_count": null,
   "id": "9e50bc52-dda2-4586-8f1f-895bb340f8c3",
   "metadata": {},
   "outputs": [],
   "source": []
  },
  {
   "cell_type": "code",
   "execution_count": null,
   "id": "28656d3c-985c-4f3d-9cc5-7ad072633376",
   "metadata": {},
   "outputs": [],
   "source": []
  },
  {
   "cell_type": "code",
   "execution_count": 6,
   "id": "3852f2f2-db1f-4eab-9256-8cd003fc560b",
   "metadata": {},
   "outputs": [
    {
     "ename": "KeyError",
     "evalue": "'course'",
     "output_type": "error",
     "traceback": [
      "\u001b[0;31m---------------------------------------------------------------------------\u001b[0m",
      "\u001b[0;31mKeyError\u001b[0m                                  Traceback (most recent call last)",
      "Cell \u001b[0;32mIn[6], line 2\u001b[0m\n\u001b[1;32m      1\u001b[0m a\u001b[38;5;241m=\u001b[39m {\u001b[38;5;124m'\u001b[39m\u001b[38;5;124mname\u001b[39m\u001b[38;5;124m'\u001b[39m:\u001b[38;5;124m'\u001b[39m\u001b[38;5;124mAbhinesh\u001b[39m\u001b[38;5;124m'\u001b[39m,\u001b[38;5;124m'\u001b[39m\u001b[38;5;124mmobile no\u001b[39m\u001b[38;5;124m'\u001b[39m:\u001b[38;5;241m7905838674\u001b[39m,\u001b[38;5;124m'\u001b[39m\u001b[38;5;124memail_id\u001b[39m\u001b[38;5;124m'\u001b[39m:\u001b[38;5;124m'\u001b[39m\u001b[38;5;124mAbhinesh1455@gmil.com\u001b[39m\u001b[38;5;124m'\u001b[39m}\n\u001b[0;32m----> 2\u001b[0m \u001b[43ma\u001b[49m\u001b[43m[\u001b[49m\u001b[38;5;124;43m'\u001b[39;49m\u001b[38;5;124;43mcourse\u001b[39;49m\u001b[38;5;124;43m'\u001b[39;49m\u001b[43m]\u001b[49m\n",
      "\u001b[0;31mKeyError\u001b[0m: 'course'"
     ]
    }
   ],
   "source": [
    "a= {'name':'Abhinesh','mobile no':7905838674,'email_id':'Abhinesh1455@gmil.com'}\n",
    "a['course']"
   ]
  },
  {
   "cell_type": "code",
   "execution_count": 5,
   "id": "30817ceb-0806-46b5-a0a9-2941efc97fa2",
   "metadata": {},
   "outputs": [
    {
     "data": {
      "text/plain": [
       "['course']"
      ]
     },
     "execution_count": 5,
     "metadata": {},
     "output_type": "execute_result"
    }
   ],
   "source": [
    "a"
   ]
  },
  {
   "cell_type": "code",
   "execution_count": 8,
   "id": "0b83fe30-4933-4706-8591-da3142fc7627",
   "metadata": {},
   "outputs": [
    {
     "name": "stdout",
     "output_type": "stream",
     "text": [
      "'course'\n"
     ]
    }
   ],
   "source": [
    "try:\n",
    "    a= {'name':'Abhinesh','mobile no':7905838674,'email_id':'Abhinesh1455@gmil.com'}\n",
    "    a['course']\n",
    "except Exception as k:\n",
    "    print(k)\n",
    "    "
   ]
  },
  {
   "cell_type": "code",
   "execution_count": 9,
   "id": "3ccbd30c-1c50-427e-96f8-7b485c09702e",
   "metadata": {},
   "outputs": [
    {
     "name": "stdout",
     "output_type": "stream",
     "text": [
      "this is key Error\n"
     ]
    }
   ],
   "source": [
    "try:\n",
    "    a= {'name':'Abhinesh','mobile no':7905838674,'email_id':'Abhinesh1455@gmil.com'}\n",
    "    a['course']\n",
    "except Exception:\n",
    "    print(\"this is key Error\")\n",
    "    "
   ]
  },
  {
   "cell_type": "code",
   "execution_count": 11,
   "id": "c57c4e00-4acf-41bc-8c8c-93f111868235",
   "metadata": {},
   "outputs": [
    {
     "name": "stdout",
     "output_type": "stream",
     "text": [
      "list index out of range\n"
     ]
    }
   ],
   "source": [
    "try:\n",
    "    \n",
    "    l=[4,5,45,4,53,4]\n",
    "    l[10]\n",
    "except Exception as e:\n",
    "    print(e)\n"
   ]
  },
  {
   "cell_type": "code",
   "execution_count": 12,
   "id": "54fa0cc7-97be-4ce9-a3c6-742a38d7b260",
   "metadata": {},
   "outputs": [
    {
     "ename": "ValueError",
     "evalue": "invalid literal for int() with base 10: 'Abhinesh'",
     "output_type": "error",
     "traceback": [
      "\u001b[0;31m---------------------------------------------------------------------------\u001b[0m",
      "\u001b[0;31mValueError\u001b[0m                                Traceback (most recent call last)",
      "Cell \u001b[0;32mIn[12], line 2\u001b[0m\n\u001b[1;32m      1\u001b[0m a \u001b[38;5;241m=\u001b[39m\u001b[38;5;124m\"\u001b[39m\u001b[38;5;124mAbhinesh\u001b[39m\u001b[38;5;124m\"\u001b[39m\n\u001b[0;32m----> 2\u001b[0m \u001b[38;5;28;43mint\u001b[39;49m\u001b[43m(\u001b[49m\u001b[43ma\u001b[49m\u001b[43m)\u001b[49m\n",
      "\u001b[0;31mValueError\u001b[0m: invalid literal for int() with base 10: 'Abhinesh'"
     ]
    }
   ],
   "source": [
    "a =\"Abhinesh\"\n",
    "int(a)"
   ]
  },
  {
   "cell_type": "code",
   "execution_count": 18,
   "id": "24337955-1851-4ef4-a9ed-9ea21268216c",
   "metadata": {},
   "outputs": [
    {
     "name": "stdout",
     "output_type": "stream",
     "text": [
      "invalid literal for int() with base 10: 'Abhinesh'\n"
     ]
    }
   ],
   "source": [
    "try:\n",
    "    a=\"Abhinesh\"\n",
    "    int(a)\n",
    "except Exception as e:\n",
    "    print(e)"
   ]
  },
  {
   "cell_type": "code",
   "execution_count": 26,
   "id": "9a36e333-ddcf-4d05-8fbb-8bf0125d95c8",
   "metadata": {},
   "outputs": [
    {
     "name": "stdout",
     "output_type": "stream",
     "text": [
      "[Errno 2] No such file or directory: 'text.txt'\n"
     ]
    }
   ],
   "source": [
    "\n",
    "try:\n",
    "    file_name=\"text.txt\"\n",
    "    f=open(file_name)\n",
    "    f.read()\n",
    "except Exception as e:\n",
    "    print(e)"
   ]
  },
  {
   "cell_type": "code",
   "execution_count": 28,
   "id": "6777a8e8-764f-41a3-9e15-01134af43694",
   "metadata": {},
   "outputs": [
    {
     "data": {
      "text/plain": [
       "'/home/jovyan/work'"
      ]
     },
     "execution_count": 28,
     "metadata": {},
     "output_type": "execute_result"
    }
   ],
   "source": []
  },
  {
   "cell_type": "code",
   "execution_count": 33,
   "id": "a1180f4d-6679-4764-be22-e87af097a7f5",
   "metadata": {},
   "outputs": [
    {
     "data": {
      "text/plain": [
       "'hacvsx\\nxsccds\\ncdvc\\nsdvc\\nsd\\nvds\\nv\\nsdv\\n\\ndsv\\nsd\\nvs\\nv\\nsdv\\nds\\nv\\nsv\\nsd\\nv\\nsdv\\nsd\\nvsd\\nv\\nsdv\\nsd\\nvsd\\nvsd'"
      ]
     },
     "execution_count": 33,
     "metadata": {},
     "output_type": "execute_result"
    }
   ],
   "source": [
    "    file_name=\"/home/jovyan/work/pro/pro2/text.txt\"\n",
    "    f=open(file_name)\n",
    "    f.read()"
   ]
  },
  {
   "cell_type": "code",
   "execution_count": null,
   "id": "7f19396c-ae00-4e2a-9852-f0815f9f9966",
   "metadata": {},
   "outputs": [],
   "source": []
  },
  {
   "cell_type": "code",
   "execution_count": 41,
   "id": "8928b009-a029-4c44-bfe2-0c08fd1781e2",
   "metadata": {},
   "outputs": [
    {
     "name": "stdin",
     "output_type": "stream",
     "text": [
      "Enter a number: ggg\n"
     ]
    },
    {
     "name": "stdout",
     "output_type": "stream",
     "text": [
      "User has enterd invalid input\n"
     ]
    }
   ],
   "source": [
    "try:\n",
    "    n=int(input(\"Enter a number:\"))\n",
    "    div =342/n\n",
    "    print(div)\n",
    "except ValueError:\n",
    "    print(\"User has enterd invalid input\")\n",
    "except ZeroDivisionError :\n",
    "    print(\"User has enterd zero\")"
   ]
  },
  {
   "cell_type": "code",
   "execution_count": 45,
   "id": "6f9c6c64-57a9-4b03-8688-4910d001a90a",
   "metadata": {},
   "outputs": [
    {
     "name": "stdin",
     "output_type": "stream",
     "text": [
      "Enter a number: tfh\n"
     ]
    },
    {
     "name": "stdout",
     "output_type": "stream",
     "text": [
      "User has entered invalid input or may be zero\n"
     ]
    }
   ],
   "source": [
    "try:\n",
    "    n=int(input(\"Enter a number:\"))\n",
    "    div =342/n\n",
    "    print(div)\n",
    "except (ValueError,ZeroDivisionError):\n",
    "    print(\"User has entered invalid input or may be zero\")"
   ]
  },
  {
   "cell_type": "code",
   "execution_count": 48,
   "id": "faa86130-121c-4424-b6e4-c02629d7249c",
   "metadata": {},
   "outputs": [
    {
     "name": "stdin",
     "output_type": "stream",
     "text": [
      "Enter a number: 0\n"
     ]
    },
    {
     "name": "stdout",
     "output_type": "stream",
     "text": [
      "User has enterd zero\n"
     ]
    }
   ],
   "source": [
    "try:\n",
    "    try:\n",
    "        \n",
    "        n=int(input(\"Enter a number:\"))\n",
    "        div =342/n\n",
    "        print(div)\n",
    "    except ZeroDivisionError:\n",
    "        print(\"User has enterd zero\")\n",
    "except ValueError:\n",
    "    print(\"User has enterd invalid input\")"
   ]
  },
  {
   "cell_type": "code",
   "execution_count": 49,
   "id": "64deb494-14e4-4d77-8a7a-3f7c37facfa5",
   "metadata": {},
   "outputs": [
    {
     "name": "stdin",
     "output_type": "stream",
     "text": [
      "Enter a number: xhva\n"
     ]
    },
    {
     "name": "stdout",
     "output_type": "stream",
     "text": [
      "User has entered invalid input or may be zero\n"
     ]
    }
   ],
   "source": [
    "try:\n",
    "    n=int(input(\"Enter a number:\"))\n",
    "    div =342/n\n",
    "    print(div)\n",
    "except Exception:\n",
    "    print(\"User has entered invalid input or may be zero\")"
   ]
  },
  {
   "cell_type": "code",
   "execution_count": 2,
   "id": "4c716ba0-77d1-48d2-a57c-4bcd5fb7b328",
   "metadata": {},
   "outputs": [
    {
     "name": "stdin",
     "output_type": "stream",
     "text": [
      "Enter a number: 0\n"
     ]
    },
    {
     "name": "stdout",
     "output_type": "stream",
     "text": [
      "User has entered invalid input or may be zero\n"
     ]
    }
   ],
   "source": [
    "try:\n",
    "    n=int(input(\"Enter a number:\"))\n",
    "    div =342/n\n",
    "    print(div)\n",
    "except Exception:\n",
    "    print(\"User has entered invalid input or may be zero\")\n",
    "else:\n",
    "    print(div)\n"
   ]
  },
  {
   "cell_type": "code",
   "execution_count": 3,
   "id": "6179a774-f5b2-4e30-9eee-07193196250b",
   "metadata": {},
   "outputs": [],
   "source": [
    "f=open(\"/home/jovyan/work/pro/pro2/text.txt\")"
   ]
  },
  {
   "cell_type": "code",
   "execution_count": 3,
   "id": "ea5c2036-d565-4155-a461-e8d3b2dbe452",
   "metadata": {},
   "outputs": [],
   "source": [
    "f=open(\"/home/jovyan/work/pro/pro2/text.txt\")"
   ]
  },
  {
   "cell_type": "code",
   "execution_count": 4,
   "id": "2dc96513-6181-4fc3-89d3-fa763e7c18dd",
   "metadata": {},
   "outputs": [
    {
     "data": {
      "text/plain": [
       "<_io.TextIOWrapper name='/home/jovyan/work/pro/pro2/text.txt' mode='r' encoding='UTF-8'>"
      ]
     },
     "execution_count": 4,
     "metadata": {},
     "output_type": "execute_result"
    }
   ],
   "source": [
    "f"
   ]
  },
  {
   "cell_type": "code",
   "execution_count": 5,
   "id": "27c099eb-84c1-4222-b3c5-b9784c5408ea",
   "metadata": {},
   "outputs": [
    {
     "data": {
      "text/plain": [
       "'hacvsx\\nxsccds\\ncdvc\\nsdvc\\nsd\\nvds\\nv\\nsdv\\n\\ndsv\\nsd\\nvs\\nv\\nsdv\\nds\\nv\\nsv\\nsd\\nv\\nsdv\\nsd\\nvsd\\nv\\nsdv\\nsd\\nvsd\\nvsd'"
      ]
     },
     "execution_count": 5,
     "metadata": {},
     "output_type": "execute_result"
    }
   ],
   "source": [
    "f.read()"
   ]
  },
  {
   "cell_type": "code",
   "execution_count": 8,
   "id": "7dfe1265-8d97-4c43-8440-a41cf21f7d06",
   "metadata": {},
   "outputs": [],
   "source": [
    "f=open(\"/home/jovyan/work/pro/pro2/text.txt\")\n",
    "f.read()\n",
    "f.close()"
   ]
  },
  {
   "cell_type": "code",
   "execution_count": 4,
   "id": "194112ad-2a06-4778-a970-45d21932978c",
   "metadata": {},
   "outputs": [
    {
     "name": "stdout",
     "output_type": "stream",
     "text": [
      "There is some issue\n"
     ]
    }
   ],
   "source": [
    "try:\n",
    "    f=open(\"/home/jovyan/work/pro/pro2/text.txt\")\n",
    "    f.write(\"usgcxhcvb\")\n",
    "    f.close()\n",
    "except Exception:\n",
    "    print(\"There is some issue\")\n",
    "finally:\n",
    "    f.close()\n",
    "    print(\"file closed\")\n",
    "    "
   ]
  },
  {
   "cell_type": "code",
   "execution_count": 5,
   "id": "9884d5ae-e275-45b4-942b-d84dff597e7e",
   "metadata": {},
   "outputs": [
    {
     "name": "stdout",
     "output_type": "stream",
     "text": [
      "hacvsx\n",
      "xsccds\n",
      "cdvc\n",
      "sdvc\n",
      "sd\n",
      "vds\n",
      "v\n",
      "sdv\n",
      "\n",
      "dsv\n",
      "sd\n",
      "vs\n",
      "v\n",
      "sdv\n",
      "ds\n",
      "v\n",
      "sv\n",
      "sd\n",
      "v\n",
      "sdv\n",
      "sd\n",
      "vsd\n",
      "v\n",
      "sdv\n",
      "sd\n",
      "vsd\n",
      "vsd\n",
      "file closed\n"
     ]
    }
   ],
   "source": [
    "try:\n",
    "    f=open(\"/home/jovyan/work/pro/pro2/text.txt\")\n",
    "    data=f.read()\n",
    "    \n",
    "except Exception:\n",
    "    print(\"There is some issue\")\n",
    "else:\n",
    "    print(data)\n",
    "finally:\n",
    "    f.close()\n",
    "    print(\"file closed\")\n",
    "    "
   ]
  },
  {
   "cell_type": "code",
   "execution_count": 1,
   "id": "9cbb40e8-e136-4019-9b4f-4e9eb16de14d",
   "metadata": {},
   "outputs": [
    {
     "name": "stdout",
     "output_type": "stream",
     "text": [
      "There is some issue\n",
      "file closed\n"
     ]
    }
   ],
   "source": [
    "try:\n",
    "    f=open(\"/home/jovyan/work/pro/pro2/text.txt\")\n",
    "    data=f.write()\n",
    "    \n",
    "except Exception:\n",
    "    print(\"There is some issue\")\n",
    "else:\n",
    "    print(data)\n",
    "finally:\n",
    "    try:\n",
    "        \n",
    "        print(data)\n",
    "    except:\n",
    "        pass\n",
    "    f.close()\n",
    "    print(\"file closed\")"
   ]
  },
  {
   "cell_type": "code",
   "execution_count": null,
   "id": "4c432255-57b1-4b37-bf9e-33a693ccacb4",
   "metadata": {},
   "outputs": [],
   "source": [
    "# own Custom  exception "
   ]
  },
  {
   "cell_type": "code",
   "execution_count": 7,
   "id": "351c2aef-338f-478a-acc2-710b7d457153",
   "metadata": {},
   "outputs": [
    {
     "name": "stdin",
     "output_type": "stream",
     "text": [
      "Enter hight of the wall -33\n"
     ]
    },
    {
     "name": "stdout",
     "output_type": "stream",
     "text": [
      "Enter hight is Negative  value\n"
     ]
    }
   ],
   "source": [
    "try:\n",
    "    a=int(input(\"Enter hight of the wall\")) # height can't -ve\n",
    "    if a<0:\n",
    "        raise ValueError(\"Enter hight is Negative  value\")\n",
    "except ValueError as v:\n",
    "    print(v)\n",
    "    "
   ]
  },
  {
   "cell_type": "code",
   "execution_count": null,
   "id": "732dba11-2a7b-467b-9a49-557448a9f9a1",
   "metadata": {},
   "outputs": [],
   "source": []
  },
  {
   "cell_type": "code",
   "execution_count": 11,
   "id": "30068963-ff77-4576-b19b-65e661587d4a",
   "metadata": {},
   "outputs": [
    {
     "name": "stdin",
     "output_type": "stream",
     "text": [
      "Enter your age 12\n"
     ]
    },
    {
     "name": "stdout",
     "output_type": "stream",
     "text": [
      "User is under age\n"
     ]
    }
   ],
   "source": [
    "try:\n",
    "    age=int(input(\"Enter your age\"))\n",
    "    if age< 0:\n",
    "        raise ValueError(\"user has enterd a negative age which is not vaild\")\n",
    "    elif age<18:\n",
    "        raise ValueError(\"User is under age\")\n",
    "    else:\n",
    "        print(\"Valid age\")\n",
    "except ValueError as v:\n",
    "    print(v)\n",
    "        \n",
    "    "
   ]
  },
  {
   "cell_type": "code",
   "execution_count": 13,
   "id": "a15f9644-cfa5-4007-a2c3-6cb732195e3a",
   "metadata": {},
   "outputs": [
    {
     "name": "stdin",
     "output_type": "stream",
     "text": [
      "Enter your age -34\n"
     ]
    },
    {
     "name": "stdout",
     "output_type": "stream",
     "text": [
      "user has enterd a negative age which is not vaild\n"
     ]
    }
   ],
   "source": [
    "try:\n",
    "    age=int(input(\"Enter your age\"))\n",
    "    if age< 0:\n",
    "        raise ValueError(\"user has enterd a negative age which is not vaild\")\n",
    "    elif age<18:\n",
    "        raise Exception(\"User is under age\")\n",
    "    else:\n",
    "        print(\"Valid age\")\n",
    "except Exception as v:\n",
    "    print(v)"
   ]
  },
  {
   "cell_type": "code",
   "execution_count": null,
   "id": "3ede4ed2-6c89-4160-a98c-38f042ef2382",
   "metadata": {},
   "outputs": [],
   "source": []
  },
  {
   "cell_type": "code",
   "execution_count": 14,
   "id": "71bb2b7c-6092-4f13-af20-64b5fb29d73b",
   "metadata": {},
   "outputs": [],
   "source": [
    "# logging"
   ]
  },
  {
   "cell_type": "code",
   "execution_count": 15,
   "id": "b774982e-e76a-46ca-8c2f-6ec163f605ce",
   "metadata": {},
   "outputs": [],
   "source": [
    "# it is concept and it is not conding and logic but It is Conversation "
   ]
  },
  {
   "cell_type": "code",
   "execution_count": null,
   "id": "fbe88704-d14e-455f-9ec4-6cdc8dda12df",
   "metadata": {},
   "outputs": [],
   "source": [
    "# Loging means We are store the messages in some file system "
   ]
  },
  {
   "cell_type": "code",
   "execution_count": 1,
   "id": "1bb73c3c-3dbc-4c31-bac4-95f4098946b1",
   "metadata": {},
   "outputs": [],
   "source": [
    "# first Implement logging you have import the loging module\n",
    "import logging as log"
   ]
  },
  {
   "cell_type": "code",
   "execution_count": 2,
   "id": "67924179-b4fc-405c-869e-112d01463cb9",
   "metadata": {},
   "outputs": [],
   "source": [
    "#to create file use basicConfig() \n",
    "\n",
    "#inside a basicConfig() you can try to  create file\n",
    "# basicConfig will be  use to create a file at any point of time \n",
    "log.basicConfig(filename='test.log',level=log.INFO)  \n",
    "# in python there is five level \n",
    "# DEBUG  --DEBUG (10): Detailed information, typically used for \n",
    "#.       debugging purposes. Messages at this level provide the \n",
    "#        most detailed information.\n",
    "# INFO --INFO (20): General information about the program's \n",
    "#.       execution. It indicates that things are working as \n",
    "#.       expected.\n",
    "# warning --WARNING (30): Indicates a potential issue or something\n",
    "#.        unexpected happened, but the program can still continue \n",
    "#.         running.\n",
    "# ERROR --ERROR (40):Indicates a more serious issue that prevented\n",
    "#.        a part of the program from functioning.\n",
    "# CRITICAL--CRITICAL (50): The most severe level. It indicates a\n",
    "#.  critical error that may lead to the termination of the program."
   ]
  },
  {
   "cell_type": "code",
   "execution_count": 3,
   "id": "7de26d75-96cc-477c-bd87-a3fe165a6fa8",
   "metadata": {},
   "outputs": [],
   "source": [
    "log.info(\"Store a mesg\") # to write something in file"
   ]
  },
  {
   "cell_type": "code",
   "execution_count": 4,
   "id": "9af07762-2a3a-47f4-ae21-ba630b8255f0",
   "metadata": {},
   "outputs": [],
   "source": [
    "log.debug(\"this is a debug msg\")"
   ]
  },
  {
   "cell_type": "code",
   "execution_count": 5,
   "id": "258bbbff-f473-4de1-a06c-fe5ac0800598",
   "metadata": {},
   "outputs": [],
   "source": [
    "log.warning(\"this is my warring\")"
   ]
  },
  {
   "cell_type": "code",
   "execution_count": 6,
   "id": "5d2007ae-dd6c-4598-9621-dde11c633ecf",
   "metadata": {},
   "outputs": [],
   "source": [
    "log.error(\"this a error log\")"
   ]
  },
  {
   "cell_type": "code",
   "execution_count": 7,
   "id": "e821b284-e390-4267-be0f-c681ab85fd26",
   "metadata": {},
   "outputs": [],
   "source": [
    "log.critical(\"this is a Critical msg\")"
   ]
  },
  {
   "cell_type": "code",
   "execution_count": null,
   "id": "6af65b28-65d8-462e-850a-565696841826",
   "metadata": {},
   "outputs": [],
   "source": [
    "INFO:root:Store a mesg\n",
    "INFO:root:Store a mesg\n",
    "INFO:root:Store a mesg\n",
    "WARNING:root:this is my warring\n",
    "ERROR:root:this a error log\n",
    "CRITICAL:root:this is a Critical msg\n",
    "ERROR:Comm:No such comm target registered: jupyter.widget.control\n",
    "WARNING:Comm:No such comm: ef0e5210-7a67-48da-9876-eb8afa3df5bc\n",
    "INFO:root:This is a start my program\n",
    "INFO:root:asking user to enter age\n",
    "INFO:root:User has enterd the age\n",
    "INFO:root:I am checking negative condition \n",
    "INFO:root:This is a start my program\n",
    "INFO:root:asking user to enter age\n",
    "INFO:root:User has enterd the age\n",
    "INFO:root:I am checking negative condition \n",
    "ERROR:root:user has enterd a negative age which is not vaild\n"
   ]
  },
  {
   "cell_type": "code",
   "execution_count": 1,
   "id": "d3ecdf42-91db-4dbd-9234-378fe4929a0b",
   "metadata": {},
   "outputs": [
    {
     "name": "stdin",
     "output_type": "stream",
     "text": [
      "Enter your age -12\n"
     ]
    }
   ],
   "source": [
    "import logging\n",
    "logging.basicConfig(filename='trytest.log', level = logging.DEBUG ,format ='%(asctime)s- %(levelname)s-  %(message)s')\n",
    "try:\n",
    "    logging .info(\"This is a start my program\")\n",
    "    logging.info(\"asking user to enter age\")\n",
    "    age=int(input(\"Enter your age\"))\n",
    "    logging.info(\"User has enterd the age = %d\",age)\n",
    "    if age< 0:\n",
    "        logging.info(\"I am checking negative condition \")\n",
    "        raise ValueError(\"user has enterd a negative age which is not vaild\")\n",
    "    elif age<18:\n",
    "        logging.info(\"I am trying to check underage condition \")\n",
    "        raise Exception(\"User is under age\")\n",
    "    else:\n",
    "        logging.info(\"Valid age\")\n",
    "except Exception as e:\n",
    "    logging.error(e)"
   ]
  },
  {
   "cell_type": "code",
   "execution_count": null,
   "id": "ec0bec8c-4b5d-4b5c-b3e5-d210b01e235f",
   "metadata": {},
   "outputs": [],
   "source": [
    "INFO:root:This is a start my program\n",
    "INFO:root:asking user to enter age\n",
    "INFO:root:User has enterd the age\n",
    "INFO:root:I am checking negative condition \n",
    "ERROR:root:user has enterd a negative age which is not vaild\n",
    "ERROR:Comm:No such comm target registered: jupyter.widget.control\n",
    "WARNING:Comm:No such comm: 61a9f11b-05e2-4ea1-bbef-fcb9b4c47212\n",
    "DEBUG:Comm:Current comms: []\n",
    "ERROR:Comm:No such comm target registered: jupyter.widget.control\n",
    "WARNING:Comm:No such comm: 67674ea8-4be4-465d-b86c-340c2bff3a78\n",
    "DEBUG:Comm:Current comms: []\n",
    "ERROR:Comm:No such comm target registered: jupyter.widget.control\n",
    "WARNING:Comm:No such comm: f795de50-7cb6-49a7-a19a-892b90d29772\n",
    "DEBUG:Comm:Current comms: []\n",
    "INFO:root:This is a start my program\n",
    "INFO:root:asking user to enter age\n",
    "INFO:root:User has enterd the age\n",
    "INFO:root:I am checking negative condition \n",
    "ERROR:root:user has enterd a negative age which is not vaild\n",
    "INFO:root:This is a start my program\n",
    "INFO:root:asking user to enter age\n",
    "INFO:root:User has enterd the age = 345\n",
    "INFO:root:Valid age\n",
    "INFO:root:This is a start my program\n",
    "INFO:root:asking user to enter age\n",
    "INFO:root:User has enterd the age = 67\n",
    "INFO:root:Valid age\n",
    "2024-02-01 08:00:05,185\n",
    "2024-02-01 08:00:05,185\n",
    "2024-02-01 08:00:10,826\n",
    "2024-02-01 08:00:10,826\n",
    "2024-02-01 08:02:35,474- This is a start my program\n",
    "2024-02-01 08:02:35,474- asking user to enter age\n",
    "2024-02-01 08:02:39,718- User has enterd the age = 89\n",
    "2024-02-01 08:02:39,719- Valid age\n",
    "2024-02-01 08:03:55,308- This is a start my program\n",
    "2024-02-01 08:03:55,309- asking user to enter age\n",
    "2024-02-01 08:04:04,938- User has enterd the age = 34\n",
    "2024-02-01 08:04:04,938- Valid age\n",
    "2024-02-01 08:06:52,937- INFO-  This is a start my program\n",
    "2024-02-01 08:06:52,937- INFO-  asking user to enter age\n",
    "2024-02-01 08:07:01,543- INFO-  User has enterd the age = -12\n",
    "2024-02-01 08:07:01,543- INFO-  I am checking negative condition \n",
    "2024-02-01 08:07:01,543- ERROR-  user has enterd a negative age which is not vaild\n",
    "2024-02-01 08:15:56,962- ERROR-  No such comm target registered: jupyter.widget.control\n",
    "2024-02-01 08:15:56,965- WARNING-  No such comm: 5ae39f33-5052-4a24-a6a1-3e4d431f9565\n",
    "2024-02-01 08:15:56,965- DEBUG-  Current comms: []\n"
   ]
  },
  {
   "cell_type": "code",
   "execution_count": 2,
   "id": "6e2a6e4a-47fc-4884-8fc3-b16b29e299c5",
   "metadata": {},
   "outputs": [],
   "source": [
    "import logging\n",
    "logging.basicConfig(filename='evenNum.log', level = logging.DEBUG ,format ='%(asctime)s- %(levelname)s-  %(message)s')\n",
    "\n",
    "l=[4,5,6,7,8,9,0]\n",
    "logging.info(l)\n",
    "l1= []\n",
    "def even_num(l):\n",
    "    try:\n",
    "        \n",
    "        logging.info(\"inside try block\")\n",
    "        for i in l:\n",
    "            logging.info(\"inside for loop i=%d\",i)\n",
    "            if i%2==0:\n",
    "                logging.info(\"checking the value of i\")\n",
    "                l1.append(i)\n",
    "                logging.info(\"appending the value i=%d\",i)\n",
    "        return l1\n",
    "    except Ecxeption as e:\n",
    "        \n",
    "        logging.error(e)"
   ]
  },
  {
   "cell_type": "code",
   "execution_count": 3,
   "id": "9abd5d29-08dc-4608-bdd8-e65796d23de1",
   "metadata": {},
   "outputs": [
    {
     "data": {
      "text/plain": [
       "[4, 6, 8, 0]"
      ]
     },
     "execution_count": 3,
     "metadata": {},
     "output_type": "execute_result"
    }
   ],
   "source": [
    "even_num(l)"
   ]
  },
  {
   "cell_type": "code",
   "execution_count": null,
   "id": "d7fbf783-4a31-42d4-b937-649c9f9e6fe9",
   "metadata": {},
   "outputs": [],
   "source": [
    "2024-02-01 09:58:06,095- INFO-  [4, 5, 6, 7, 8, 9, 0]\n",
    "2024-02-01 09:58:26,617- INFO-  [4, 5, 6, 7, 8, 9, 0]\n",
    "2024-02-01 09:58:29,831- INFO-  [4, 5, 6, 7, 8, 9, 0]\n",
    "2024-02-01 10:00:33,922- INFO-  inside try block\n",
    "2024-02-01 10:00:33,922- INFO-  inside for loop i=4\n",
    "2024-02-01 10:00:33,923- INFO-  checking the value of i\n",
    "2024-02-01 10:00:33,923- INFO-  appending the value i=4\n",
    "2024-02-01 10:00:33,923- INFO-  inside for loop i=5\n",
    "2024-02-01 10:00:33,923- INFO-  inside for loop i=6\n",
    "2024-02-01 10:00:33,923- INFO-  checking the value of i\n",
    "2024-02-01 10:00:33,923- INFO-  appending the value i=6\n",
    "2024-02-01 10:00:33,923- INFO-  inside for loop i=7\n",
    "2024-02-01 10:00:33,923- INFO-  inside for loop i=8\n",
    "2024-02-01 10:00:33,923- INFO-  checking the value of i\n",
    "2024-02-01 10:00:33,923- INFO-  appending the value i=8\n",
    "2024-02-01 10:00:33,923- INFO-  inside for loop i=9\n",
    "2024-02-01 10:00:33,923- INFO-  inside for loop i=0\n",
    "2024-02-01 10:00:33,923- INFO-  checking the value of i\n",
    "2024-02-01 10:00:33,923- INFO-  appending the value i=0\n"
   ]
  }
 ],
 "metadata": {
  "kernelspec": {
   "display_name": "Python 3 (ipykernel)",
   "language": "python",
   "name": "python3"
  },
  "language_info": {
   "codemirror_mode": {
    "name": "ipython",
    "version": 3
   },
   "file_extension": ".py",
   "mimetype": "text/x-python",
   "name": "python",
   "nbconvert_exporter": "python",
   "pygments_lexer": "ipython3",
   "version": "3.10.8"
  }
 },
 "nbformat": 4,
 "nbformat_minor": 5
}
