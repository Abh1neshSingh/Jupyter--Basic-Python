{
 "cells": [
  {
   "cell_type": "code",
   "execution_count": 1,
   "id": "3cc2bd3f-e24c-4878-90e4-e7068a18a4b7",
   "metadata": {},
   "outputs": [],
   "source": [
    "#-----------break---------"
   ]
  },
  {
   "cell_type": "code",
   "execution_count": null,
   "id": "c0341290-0c2e-4e7e-b3c4-7100217dbfb3",
   "metadata": {},
   "outputs": [],
   "source": [
    "# in break it usually  break loop and come out from loop"
   ]
  },
  {
   "cell_type": "code",
   "execution_count": 11,
   "id": "e92ed01d-82d2-44b8-b00c-e9529b575ccb",
   "metadata": {},
   "outputs": [
    {
     "name": "stdout",
     "output_type": "stream",
     "text": [
      "hello\n"
     ]
    }
   ],
   "source": [
    "print(\"hello\")"
   ]
  },
  {
   "cell_type": "code",
   "execution_count": 7,
   "id": "776aea29-dda3-4422-a3ea-9d4d088b21f3",
   "metadata": {},
   "outputs": [],
   "source": [
    "a=10"
   ]
  },
  {
   "cell_type": "code",
   "execution_count": 8,
   "id": "5b8d43fb-e489-46bb-8a86-89801b1a2a3c",
   "metadata": {},
   "outputs": [
    {
     "data": {
      "text/plain": [
       "10"
      ]
     },
     "execution_count": 8,
     "metadata": {},
     "output_type": "execute_result"
    }
   ],
   "source": [
    "a"
   ]
  },
  {
   "cell_type": "code",
   "execution_count": 9,
   "id": "e6d854f6-5394-4a57-ac51-168a8d5d3704",
   "metadata": {},
   "outputs": [
    {
     "name": "stdout",
     "output_type": "stream",
     "text": [
      "letter p\n",
      "letter w\n",
      "letter s\n",
      "letter k\n",
      "letter i\n",
      "letter l\n",
      "letter l\n",
      "letter s\n"
     ]
    }
   ],
   "source": [
    "for letter in \"pwskills\":\n",
    "    print('letter',letter)"
   ]
  },
  {
   "cell_type": "code",
   "execution_count": 10,
   "id": "05324a93-ae48-4d70-995a-b64b40bef300",
   "metadata": {},
   "outputs": [
    {
     "name": "stdout",
     "output_type": "stream",
     "text": [
      "letter p\n",
      "letter w\n",
      "letter s\n",
      "letter k\n",
      "letter i\n"
     ]
    }
   ],
   "source": [
    "for letter in \"pwskills\":\n",
    "    if letter ==\"l\":\n",
    "        break\n",
    "    print('letter',letter)"
   ]
  },
  {
   "cell_type": "code",
   "execution_count": 12,
   "id": "deb6e07d-07fa-4ddb-90f9-46196296610b",
   "metadata": {},
   "outputs": [
    {
     "name": "stdout",
     "output_type": "stream",
     "text": [
      "0\n",
      "1\n",
      "2\n"
     ]
    }
   ],
   "source": [
    "for i in range(5):\n",
    "    if i==3:\n",
    "        break\n",
    "    print(i)"
   ]
  },
  {
   "cell_type": "code",
   "execution_count": 13,
   "id": "6cdc30b6-f66c-4cde-921e-3297d26052ca",
   "metadata": {},
   "outputs": [
    {
     "name": "stdout",
     "output_type": "stream",
     "text": [
      "1\n",
      "2\n",
      "3\n",
      "4\n",
      "5\n"
     ]
    }
   ],
   "source": [
    "i =1\n",
    "while i<=10:\n",
    "    print(i)\n",
    "    \n",
    "    if i>=5:\n",
    "        break\n",
    "    i=i+1"
   ]
  },
  {
   "cell_type": "code",
   "execution_count": 15,
   "id": "3598bd67-1ca5-425a-adaa-483d7e336910",
   "metadata": {},
   "outputs": [
    {
     "name": "stdout",
     "output_type": "stream",
     "text": [
      "10\n",
      "20\n",
      "30\n",
      "40\n"
     ]
    }
   ],
   "source": [
    "num =[10,20,30,40,120,130]\n",
    "\n",
    "for i in num:\n",
    "    if i>100:\n",
    "        break\n",
    "    print(i)"
   ]
  },
  {
   "cell_type": "code",
   "execution_count": 17,
   "id": "f0fc68fa-d1ff-4665-8423-caa883ba0b25",
   "metadata": {},
   "outputs": [
    {
     "name": "stdout",
     "output_type": "stream",
     "text": [
      "h\n",
      "e\n",
      "l\n",
      "l\n",
      "o\n",
      " \n"
     ]
    }
   ],
   "source": [
    "s =\"hello world\"\n",
    "for char in s:\n",
    "    print(char)\n",
    "    if char == ' ':\n",
    "        break\n",
    "    \n",
    "    "
   ]
  },
  {
   "cell_type": "code",
   "execution_count": 18,
   "id": "3d7d02db-16d0-4aab-8428-27662d08466c",
   "metadata": {},
   "outputs": [],
   "source": [
    "#--------------Continue -------------------"
   ]
  },
  {
   "cell_type": "code",
   "execution_count": null,
   "id": "38850196-fb1d-4f89-95f1-ca4cce970e39",
   "metadata": {},
   "outputs": [],
   "source": [
    "# in Continue basically it skip the Iteration "
   ]
  },
  {
   "cell_type": "code",
   "execution_count": 19,
   "id": "0e326742-8ce7-4b69-9498-d5ff86d05eac",
   "metadata": {},
   "outputs": [
    {
     "name": "stdout",
     "output_type": "stream",
     "text": [
      "P\n",
      "w\n",
      "s\n",
      "k\n",
      "i\n",
      "s\n"
     ]
    }
   ],
   "source": [
    "for i in \"Pwskills\":\n",
    "    if i == \"l\": # it will skip 'l' letter\n",
    "        continue\n",
    "    print(i)\n",
    "    \n",
    "    "
   ]
  },
  {
   "cell_type": "code",
   "execution_count": 20,
   "id": "ef313ae8-d098-4ada-9b4a-14477adb984e",
   "metadata": {},
   "outputs": [
    {
     "name": "stdout",
     "output_type": "stream",
     "text": [
      "0\n",
      "1\n",
      "2\n",
      "4\n"
     ]
    }
   ],
   "source": [
    " for i in range(5):\n",
    "        if i==3: \n",
    "            continue   # it will skip 3 and go next Iteration\n",
    "        print(i)"
   ]
  },
  {
   "cell_type": "code",
   "execution_count": 21,
   "id": "1ee63470-7bea-4d4a-83c1-f78526a3f2e1",
   "metadata": {},
   "outputs": [],
   "source": [
    "# break ----- end the loop\n",
    "# Continue ----- it will skip the loop"
   ]
  },
  {
   "cell_type": "code",
   "execution_count": 22,
   "id": "b101627d-842f-40c2-894a-2e37c05c35cb",
   "metadata": {},
   "outputs": [],
   "source": [
    "# Write a program to print from odd number from 1 to 10"
   ]
  },
  {
   "cell_type": "code",
   "execution_count": 26,
   "id": "e1367a22-6668-442e-9e94-5fff31b2e92f",
   "metadata": {},
   "outputs": [
    {
     "name": "stdout",
     "output_type": "stream",
     "text": [
      "1\n",
      "3\n",
      "5\n",
      "7\n",
      "9\n"
     ]
    }
   ],
   "source": [
    "for i in range (1,11):\n",
    "    if (i % 2)==0:\n",
    "        continue\n",
    "    print(i)"
   ]
  },
  {
   "cell_type": "code",
   "execution_count": 27,
   "id": "4c30bcc5-89ed-4bdd-b28e-bafbf6940147",
   "metadata": {},
   "outputs": [],
   "source": [
    "# ---------pass---------------"
   ]
  },
  {
   "cell_type": "code",
   "execution_count": 28,
   "id": "ae109de9-0b51-48a8-898f-cb2b914da071",
   "metadata": {},
   "outputs": [
    {
     "name": "stdout",
     "output_type": "stream",
     "text": [
      "hello\n"
     ]
    }
   ],
   "source": [
    "n=10\n",
    "if n>10:\n",
    "    pass\n",
    "print(\"hello\")\n"
   ]
  },
  {
   "cell_type": "code",
   "execution_count": 29,
   "id": "78d7ae93-e190-4c19-ae46-a42c36deb091",
   "metadata": {},
   "outputs": [
    {
     "ename": "SyntaxError",
     "evalue": "incomplete input (96672814.py, line 2)",
     "output_type": "error",
     "traceback": [
      "\u001b[0;36m  Cell \u001b[0;32mIn[29], line 2\u001b[0;36m\u001b[0m\n\u001b[0;31m    if n>10:\u001b[0m\n\u001b[0m            ^\u001b[0m\n\u001b[0;31mSyntaxError\u001b[0m\u001b[0;31m:\u001b[0m incomplete input\n"
     ]
    }
   ],
   "source": [
    "n=10\n",
    "if n>10:"
   ]
  },
  {
   "cell_type": "code",
   "execution_count": 30,
   "id": "ccdd62ba-9d2f-43b7-8547-ce57cae3b8b6",
   "metadata": {},
   "outputs": [],
   "source": [
    "# used when the programmer wants to \n",
    "# bypass any coding segment"
   ]
  },
  {
   "cell_type": "code",
   "execution_count": 34,
   "id": "ac3d2e13-1493-457a-ac89-540c09e3d2c5",
   "metadata": {},
   "outputs": [
    {
     "name": "stdout",
     "output_type": "stream",
     "text": [
      "hello\n"
     ]
    }
   ],
   "source": [
    "for  i in range (5):\n",
    "    pass\n",
    "print(\"hello\")\n",
    "    "
   ]
  },
  {
   "cell_type": "code",
   "execution_count": 35,
   "id": "6e8bec4b-475d-4733-bee0-1cb96eaf5b88",
   "metadata": {},
   "outputs": [
    {
     "name": "stdout",
     "output_type": "stream",
     "text": [
      "P\n",
      "w\n",
      "s\n",
      "k\n",
      "i\n",
      "l\n",
      "l\n",
      "s\n"
     ]
    }
   ],
   "source": [
    "for i in \"Pwskills\":\n",
    "    if i == \"l\": \n",
    "        pass\n",
    "    print(i)"
   ]
  },
  {
   "cell_type": "code",
   "execution_count": null,
   "id": "014369d3-fce3-4fa4-9e13-99a1d76ae29b",
   "metadata": {},
   "outputs": [],
   "source": []
  }
 ],
 "metadata": {
  "kernelspec": {
   "display_name": "Python 3 (ipykernel)",
   "language": "python",
   "name": "python3"
  },
  "language_info": {
   "codemirror_mode": {
    "name": "ipython",
    "version": 3
   },
   "file_extension": ".py",
   "mimetype": "text/x-python",
   "name": "python",
   "nbconvert_exporter": "python",
   "pygments_lexer": "ipython3",
   "version": "3.10.8"
  }
 },
 "nbformat": 4,
 "nbformat_minor": 5
}
