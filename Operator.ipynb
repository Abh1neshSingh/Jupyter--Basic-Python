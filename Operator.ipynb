{
 "cells": [
  {
   "cell_type": "code",
   "execution_count": 3,
   "id": "c1745f42-cdb9-40bb-84b8-944c202ab37f",
   "metadata": {},
   "outputs": [],
   "source": [
    "# learn Basic operator or Arithmetic operators\n",
    "a=10\n",
    "b=20"
   ]
  },
  {
   "cell_type": "code",
   "execution_count": 4,
   "id": "ef3e9809-969a-4060-b984-50f85c8d0886",
   "metadata": {},
   "outputs": [
    {
     "data": {
      "text/plain": [
       "30"
      ]
     },
     "execution_count": 4,
     "metadata": {},
     "output_type": "execute_result"
    }
   ],
   "source": [
    "a+b"
   ]
  },
  {
   "cell_type": "code",
   "execution_count": 3,
   "id": "2605dfec-594a-4246-a062-f0c3df619685",
   "metadata": {},
   "outputs": [
    {
     "data": {
      "text/plain": [
       "-10"
      ]
     },
     "execution_count": 3,
     "metadata": {},
     "output_type": "execute_result"
    }
   ],
   "source": [
    "a-b"
   ]
  },
  {
   "cell_type": "code",
   "execution_count": 4,
   "id": "950be74b-d2ed-41ff-8381-ef69611d6bb1",
   "metadata": {},
   "outputs": [
    {
     "data": {
      "text/plain": [
       "200"
      ]
     },
     "execution_count": 4,
     "metadata": {},
     "output_type": "execute_result"
    }
   ],
   "source": [
    "a*b"
   ]
  },
  {
   "cell_type": "code",
   "execution_count": 5,
   "id": "6a4752d9-996b-4352-95c0-0ad82e04e093",
   "metadata": {},
   "outputs": [
    {
     "data": {
      "text/plain": [
       "0.5"
      ]
     },
     "execution_count": 5,
     "metadata": {},
     "output_type": "execute_result"
    }
   ],
   "source": [
    "a/b "
   ]
  },
  {
   "cell_type": "code",
   "execution_count": 8,
   "id": "1d9d6b8f-8bc2-4c89-a00a-369051cf89c8",
   "metadata": {},
   "outputs": [
    {
     "data": {
      "text/plain": [
       "0"
      ]
     },
     "execution_count": 8,
     "metadata": {},
     "output_type": "execute_result"
    }
   ],
   "source": [
    "b%a"
   ]
  },
  {
   "cell_type": "code",
   "execution_count": 1,
   "id": "23c4850f-fe01-477b-9add-932e723afc1a",
   "metadata": {},
   "outputs": [],
   "source": [
    "# Comparison operators\n",
    "a=10 # assign operators which help to assign value"
   ]
  },
  {
   "cell_type": "code",
   "execution_count": 5,
   "id": "4b6b9862-2ca8-4439-871b-b98fd0a458a1",
   "metadata": {},
   "outputs": [
    {
     "data": {
      "text/plain": [
       "False"
      ]
     },
     "execution_count": 5,
     "metadata": {},
     "output_type": "execute_result"
    }
   ],
   "source": [
    "a==b # Equality operators which are same or not \n",
    "     # alway result in boolean means true or false"
   ]
  },
  {
   "cell_type": "code",
   "execution_count": 6,
   "id": "487dd46e-6a03-46e1-89a3-d14a446ba626",
   "metadata": {},
   "outputs": [
    {
     "data": {
      "text/plain": [
       "False"
      ]
     },
     "execution_count": 6,
     "metadata": {},
     "output_type": "execute_result"
    }
   ],
   "source": [
    "a is b  # is operator is called Identity operator"
   ]
  },
  {
   "cell_type": "code",
   "execution_count": 11,
   "id": "3ea5de62-b464-454a-8bcd-262c8c3fc202",
   "metadata": {},
   "outputs": [],
   "source": [
    "a=20\n",
    "b=2"
   ]
  },
  {
   "cell_type": "code",
   "execution_count": 12,
   "id": "58dbb1f3-a035-4e05-8fe7-95a2c62d1631",
   "metadata": {},
   "outputs": [
    {
     "data": {
      "text/plain": [
       "False"
      ]
     },
     "execution_count": 12,
     "metadata": {},
     "output_type": "execute_result"
    }
   ],
   "source": [
    "a is b"
   ]
  },
  {
   "cell_type": "code",
   "execution_count": 13,
   "id": "c8080442-6124-4d12-be57-f2404f196803",
   "metadata": {},
   "outputs": [
    {
     "data": {
      "text/plain": [
       "140444755870544"
      ]
     },
     "execution_count": 13,
     "metadata": {},
     "output_type": "execute_result"
    }
   ],
   "source": [
    "id(a)"
   ]
  },
  {
   "cell_type": "code",
   "execution_count": 14,
   "id": "ecf3c96d-1069-4cbb-a075-85b0115d8ab8",
   "metadata": {},
   "outputs": [
    {
     "data": {
      "text/plain": [
       "140444755869968"
      ]
     },
     "execution_count": 14,
     "metadata": {},
     "output_type": "execute_result"
    }
   ],
   "source": [
    "id(b)"
   ]
  },
  {
   "cell_type": "code",
   "execution_count": 15,
   "id": "bbe000b6-b653-4b5a-968d-42ac28031567",
   "metadata": {},
   "outputs": [
    {
     "data": {
      "text/plain": [
       "True"
      ]
     },
     "execution_count": 15,
     "metadata": {},
     "output_type": "execute_result"
    }
   ],
   "source": [
    "a!=b # not equal operator"
   ]
  },
  {
   "cell_type": "code",
   "execution_count": 16,
   "id": "23e41613-4b9a-4cd7-8b1c-968d41a061f3",
   "metadata": {},
   "outputs": [],
   "source": [
    "a=[1,2,3]"
   ]
  },
  {
   "cell_type": "code",
   "execution_count": 17,
   "id": "738f35a8-4887-40d4-8d71-42e720aee9bf",
   "metadata": {},
   "outputs": [],
   "source": [
    "b=[1,2,3]"
   ]
  },
  {
   "cell_type": "code",
   "execution_count": 18,
   "id": "70b227d6-0fb2-4ef5-93e4-4b60e2436195",
   "metadata": {},
   "outputs": [
    {
     "data": {
      "text/plain": [
       "True"
      ]
     },
     "execution_count": 18,
     "metadata": {},
     "output_type": "execute_result"
    }
   ],
   "source": [
    "a==b"
   ]
  },
  {
   "cell_type": "code",
   "execution_count": 19,
   "id": "d019b73a-3aae-4599-980e-20879d913777",
   "metadata": {},
   "outputs": [
    {
     "data": {
      "text/plain": [
       "False"
      ]
     },
     "execution_count": 19,
     "metadata": {},
     "output_type": "execute_result"
    }
   ],
   "source": [
    "a is b"
   ]
  },
  {
   "cell_type": "code",
   "execution_count": 20,
   "id": "c734d539-6e44-4547-b173-bab1fc06d4ed",
   "metadata": {},
   "outputs": [
    {
     "data": {
      "text/plain": [
       "140444625787264"
      ]
     },
     "execution_count": 20,
     "metadata": {},
     "output_type": "execute_result"
    }
   ],
   "source": [
    "id(a)"
   ]
  },
  {
   "cell_type": "code",
   "execution_count": 21,
   "id": "3853b2f5-6139-4004-857a-c591a26c601f",
   "metadata": {},
   "outputs": [
    {
     "data": {
      "text/plain": [
       "140444706965312"
      ]
     },
     "execution_count": 21,
     "metadata": {},
     "output_type": "execute_result"
    }
   ],
   "source": [
    "id(b)"
   ]
  },
  {
   "cell_type": "code",
   "execution_count": 23,
   "id": "babbd989-8e2c-41a4-af3c-04ab67f484ee",
   "metadata": {},
   "outputs": [],
   "source": [
    "a=[1,2,3]"
   ]
  },
  {
   "cell_type": "code",
   "execution_count": 24,
   "id": "8a675b1d-6129-4b92-8716-9633a21a27dc",
   "metadata": {},
   "outputs": [],
   "source": [
    "a=b"
   ]
  },
  {
   "cell_type": "code",
   "execution_count": 25,
   "id": "d4873c30-f770-43ff-a9d6-97cbbd9d77b6",
   "metadata": {},
   "outputs": [
    {
     "data": {
      "text/plain": [
       "True"
      ]
     },
     "execution_count": 25,
     "metadata": {},
     "output_type": "execute_result"
    }
   ],
   "source": [
    "a is b"
   ]
  },
  {
   "cell_type": "code",
   "execution_count": 26,
   "id": "2337a236-1f2a-4e0e-b98e-9df12b177609",
   "metadata": {},
   "outputs": [
    {
     "data": {
      "text/plain": [
       "True"
      ]
     },
     "execution_count": 26,
     "metadata": {},
     "output_type": "execute_result"
    }
   ],
   "source": [
    "a==b"
   ]
  },
  {
   "cell_type": "code",
   "execution_count": 27,
   "id": "88972981-fbe4-425d-bbc8-7f191ea475df",
   "metadata": {},
   "outputs": [
    {
     "data": {
      "text/plain": [
       "False"
      ]
     },
     "execution_count": 27,
     "metadata": {},
     "output_type": "execute_result"
    }
   ],
   "source": [
    "a!=b"
   ]
  },
  {
   "cell_type": "code",
   "execution_count": 23,
   "id": "64441545-47d3-40f4-b45d-255ab749e4bc",
   "metadata": {},
   "outputs": [
    {
     "name": "stdin",
     "output_type": "stream",
     "text": [
      "Enter a number 10\n"
     ]
    }
   ],
   "source": [
    "# Accept an interger from input. Find the quotient when 3^{35} is divided by x and print the output\n",
    "x= int(input(\"Enter a number\"))"
   ]
  },
  {
   "cell_type": "code",
   "execution_count": 24,
   "id": "976c48d3-f171-46a6-86f6-4362b9182422",
   "metadata": {},
   "outputs": [],
   "source": [
    "y=3**35//x"
   ]
  },
  {
   "cell_type": "code",
   "execution_count": 25,
   "id": "a7ec3e6a-1566-4f07-b76a-8c0ebdf26eb0",
   "metadata": {},
   "outputs": [
    {
     "name": "stdout",
     "output_type": "stream",
     "text": [
      "5003154509899970\n"
     ]
    }
   ],
   "source": [
    "print(y)"
   ]
  },
  {
   "cell_type": "code",
   "execution_count": 7,
   "id": "b0336203-2c0b-4c97-9b64-18243d1a11ec",
   "metadata": {},
   "outputs": [
    {
     "data": {
      "text/plain": [
       "4"
      ]
     },
     "execution_count": 7,
     "metadata": {},
     "output_type": "execute_result"
    }
   ],
   "source": [
    "# for power \n",
    "2**2"
   ]
  },
  {
   "cell_type": "code",
   "execution_count": 9,
   "id": "406d815b-422b-459b-931c-e883b83a312a",
   "metadata": {},
   "outputs": [
    {
     "data": {
      "text/plain": [
       "27"
      ]
     },
     "execution_count": 9,
     "metadata": {},
     "output_type": "execute_result"
    }
   ],
   "source": [
    "3**3"
   ]
  },
  {
   "cell_type": "code",
   "execution_count": 14,
   "id": "9c4022fd-426b-4395-be85-bdaea3662918",
   "metadata": {},
   "outputs": [
    {
     "name": "stdin",
     "output_type": "stream",
     "text": [
      "Enter a number 3\n"
     ]
    }
   ],
   "source": [
    "# for square root\n",
    "import math\n",
    "x=int(input(\"Enter a number\"))"
   ]
  },
  {
   "cell_type": "code",
   "execution_count": 15,
   "id": "8d310c31-05cb-42aa-96cd-7bb81d73f6ca",
   "metadata": {},
   "outputs": [
    {
     "name": "stdout",
     "output_type": "stream",
     "text": [
      "1.7320508075688772\n"
     ]
    }
   ],
   "source": [
    "print (math.sqrt(x))"
   ]
  },
  {
   "cell_type": "code",
   "execution_count": 26,
   "id": "d2ddb2ce-13e3-4913-9e17-f07cee0f5c8f",
   "metadata": {},
   "outputs": [],
   "source": [
    "a=10"
   ]
  },
  {
   "cell_type": "code",
   "execution_count": 27,
   "id": "163e6abc-9a1b-4e9c-8cdd-a123f28ebab1",
   "metadata": {},
   "outputs": [],
   "source": [
    "b=20"
   ]
  },
  {
   "cell_type": "code",
   "execution_count": 28,
   "id": "6d3745f5-c313-47da-bbfe-7572115b4466",
   "metadata": {},
   "outputs": [
    {
     "data": {
      "text/plain": [
       "False"
      ]
     },
     "execution_count": 28,
     "metadata": {},
     "output_type": "execute_result"
    }
   ],
   "source": [
    "a>b"
   ]
  },
  {
   "cell_type": "code",
   "execution_count": 29,
   "id": "8e3fb963-aa44-4724-834d-cd077ce82ec9",
   "metadata": {},
   "outputs": [
    {
     "data": {
      "text/plain": [
       "True"
      ]
     },
     "execution_count": 29,
     "metadata": {},
     "output_type": "execute_result"
    }
   ],
   "source": [
    "a<b"
   ]
  },
  {
   "cell_type": "code",
   "execution_count": null,
   "id": "d7274d16-985f-43a2-968d-b560b7533cac",
   "metadata": {},
   "outputs": [],
   "source": []
  },
  {
   "cell_type": "code",
   "execution_count": 21,
   "id": "c35e092f-0738-419a-b67d-a12e32c485e8",
   "metadata": {},
   "outputs": [],
   "source": [
    "\n",
    "# bitwise operator\n",
    "# & ---> and\n",
    "# | ---> or\n",
    "# ^ ---> xor\n",
    "# ~ ---> not or we can say that Negation \n",
    "# << ---> left shift\n",
    "# >> ---> right shift"
   ]
  },
  {
   "cell_type": "code",
   "execution_count": 31,
   "id": "c428d45a-b9da-48ac-ac2b-1e9d61adcb1b",
   "metadata": {},
   "outputs": [],
   "source": [
    "a=10"
   ]
  },
  {
   "cell_type": "code",
   "execution_count": 32,
   "id": "cdc930d2-bbb7-4c4d-a51e-e38d52c82b27",
   "metadata": {},
   "outputs": [],
   "source": [
    "b=4"
   ]
  },
  {
   "cell_type": "code",
   "execution_count": 33,
   "id": "592b9694-bfde-457b-96ba-b4e237b1f17c",
   "metadata": {},
   "outputs": [
    {
     "data": {
      "text/plain": [
       "'0b1010'"
      ]
     },
     "execution_count": 33,
     "metadata": {},
     "output_type": "execute_result"
    }
   ],
   "source": [
    "bin(a)"
   ]
  },
  {
   "cell_type": "code",
   "execution_count": 34,
   "id": "bd4e9ecb-4bc0-443e-83c5-0beaacb06e84",
   "metadata": {},
   "outputs": [
    {
     "data": {
      "text/plain": [
       "'0b100'"
      ]
     },
     "execution_count": 34,
     "metadata": {},
     "output_type": "execute_result"
    }
   ],
   "source": [
    "bin(b)"
   ]
  },
  {
   "cell_type": "code",
   "execution_count": 37,
   "id": "20f740b7-9ee8-47b3-82e3-083ce28af0e4",
   "metadata": {},
   "outputs": [
    {
     "data": {
      "text/plain": [
       "0"
      ]
     },
     "execution_count": 37,
     "metadata": {},
     "output_type": "execute_result"
    }
   ],
   "source": [
    "a & b # and operator"
   ]
  },
  {
   "cell_type": "code",
   "execution_count": 38,
   "id": "a386cf80-d6d0-4e5e-8746-69952802d396",
   "metadata": {},
   "outputs": [
    {
     "data": {
      "text/plain": [
       "14"
      ]
     },
     "execution_count": 38,
     "metadata": {},
     "output_type": "execute_result"
    }
   ],
   "source": [
    "a|b # or operator"
   ]
  },
  {
   "cell_type": "code",
   "execution_count": 39,
   "id": "d805c289-13b9-4b89-b0a8-9a36c37bb1c4",
   "metadata": {},
   "outputs": [],
   "source": [
    "a=10"
   ]
  },
  {
   "cell_type": "code",
   "execution_count": 40,
   "id": "6df70441-3bc3-4df6-b451-796704576da1",
   "metadata": {},
   "outputs": [
    {
     "data": {
      "text/plain": [
       "-11"
      ]
     },
     "execution_count": 40,
     "metadata": {},
     "output_type": "execute_result"
    }
   ],
   "source": [
    "~a # not"
   ]
  },
  {
   "cell_type": "code",
   "execution_count": 41,
   "id": "c132e0f6-0b0b-4584-99f4-6284d2968d0a",
   "metadata": {},
   "outputs": [
    {
     "data": {
      "text/plain": [
       "14"
      ]
     },
     "execution_count": 41,
     "metadata": {},
     "output_type": "execute_result"
    }
   ],
   "source": [
    "a^b # xor"
   ]
  },
  {
   "cell_type": "code",
   "execution_count": 42,
   "id": "a3a8996e-5d4f-490e-96e5-ca433d6debb2",
   "metadata": {},
   "outputs": [],
   "source": [
    "a=10"
   ]
  },
  {
   "cell_type": "code",
   "execution_count": 43,
   "id": "920edd13-304c-476e-8a69-867870109347",
   "metadata": {},
   "outputs": [
    {
     "data": {
      "text/plain": [
       "5"
      ]
     },
     "execution_count": 43,
     "metadata": {},
     "output_type": "execute_result"
    }
   ],
   "source": [
    "a>>1 # right shift"
   ]
  },
  {
   "cell_type": "code",
   "execution_count": 44,
   "id": "426eeef5-fe66-4731-a0b7-34ba6ca388a0",
   "metadata": {},
   "outputs": [
    {
     "data": {
      "text/plain": [
       "20"
      ]
     },
     "execution_count": 44,
     "metadata": {},
     "output_type": "execute_result"
    }
   ],
   "source": [
    "a<<1 # left shift"
   ]
  },
  {
   "cell_type": "code",
   "execution_count": 53,
   "id": "b1648eca-cf5e-4b4b-bdcb-89e6215590e0",
   "metadata": {},
   "outputs": [],
   "source": [
    "a=10"
   ]
  },
  {
   "cell_type": "code",
   "execution_count": 46,
   "id": "988ec642-bdc2-4a77-97d5-026bae390479",
   "metadata": {},
   "outputs": [
    {
     "data": {
      "text/plain": [
       "'0b1010'"
      ]
     },
     "execution_count": 46,
     "metadata": {},
     "output_type": "execute_result"
    }
   ],
   "source": [
    "bin(a)"
   ]
  },
  {
   "cell_type": "code",
   "execution_count": 47,
   "id": "91820e08-4345-4f6d-87d3-4dbdd7c66030",
   "metadata": {},
   "outputs": [
    {
     "data": {
      "text/plain": [
       "-11"
      ]
     },
     "execution_count": 47,
     "metadata": {},
     "output_type": "execute_result"
    }
   ],
   "source": [
    "~a"
   ]
  },
  {
   "cell_type": "code",
   "execution_count": 48,
   "id": "c9fa007a-12e6-4f7c-8482-587bb18d0891",
   "metadata": {},
   "outputs": [
    {
     "data": {
      "text/plain": [
       "'-0b1011'"
      ]
     },
     "execution_count": 48,
     "metadata": {},
     "output_type": "execute_result"
    }
   ],
   "source": [
    "bin(~a)"
   ]
  },
  {
   "cell_type": "code",
   "execution_count": 51,
   "id": "6b5efc5e-fed9-45a6-abe8-93fbd79c51c3",
   "metadata": {},
   "outputs": [],
   "source": []
  },
  {
   "cell_type": "code",
   "execution_count": null,
   "id": "79151908-75c7-42ee-9f67-6ecc9b5d2829",
   "metadata": {},
   "outputs": [],
   "source": [
    "#Assignment Operators"
   ]
  },
  {
   "cell_type": "code",
   "execution_count": 54,
   "id": "604f6183-c3cb-4985-82e9-22d3215a1ef5",
   "metadata": {},
   "outputs": [],
   "source": [
    "a=10"
   ]
  },
  {
   "cell_type": "code",
   "execution_count": 55,
   "id": "b1d2ce27-55af-4060-8856-71379c106cd2",
   "metadata": {},
   "outputs": [],
   "source": [
    "a=a+1"
   ]
  },
  {
   "cell_type": "code",
   "execution_count": 56,
   "id": "14df9976-e69d-42d1-af21-c04b77c0bba9",
   "metadata": {},
   "outputs": [
    {
     "data": {
      "text/plain": [
       "11"
      ]
     },
     "execution_count": 56,
     "metadata": {},
     "output_type": "execute_result"
    }
   ],
   "source": [
    "a"
   ]
  },
  {
   "cell_type": "code",
   "execution_count": 59,
   "id": "25b7236d-85f7-4483-bc30-3bb2b0af6220",
   "metadata": {},
   "outputs": [],
   "source": [
    "b=10"
   ]
  },
  {
   "cell_type": "code",
   "execution_count": 63,
   "id": "b17d338a-e36b-4621-887a-4c9c3a201870",
   "metadata": {},
   "outputs": [],
   "source": [
    "b+=3"
   ]
  },
  {
   "cell_type": "code",
   "execution_count": 64,
   "id": "49c97910-4437-48a1-9725-8ee408e8bedb",
   "metadata": {},
   "outputs": [
    {
     "data": {
      "text/plain": [
       "13"
      ]
     },
     "execution_count": 64,
     "metadata": {},
     "output_type": "execute_result"
    }
   ],
   "source": [
    "b"
   ]
  },
  {
   "cell_type": "code",
   "execution_count": 65,
   "id": "161b6263-9239-4f66-ab60-18b280d4f5fa",
   "metadata": {},
   "outputs": [],
   "source": [
    "b-=2"
   ]
  },
  {
   "cell_type": "code",
   "execution_count": 66,
   "id": "9fec91a6-ae21-4933-a54a-22976470f5be",
   "metadata": {},
   "outputs": [
    {
     "data": {
      "text/plain": [
       "11"
      ]
     },
     "execution_count": 66,
     "metadata": {},
     "output_type": "execute_result"
    }
   ],
   "source": [
    "b"
   ]
  },
  {
   "cell_type": "code",
   "execution_count": 67,
   "id": "45a171cd-b516-438a-90f9-f370ca965532",
   "metadata": {},
   "outputs": [],
   "source": [
    "b*=2"
   ]
  },
  {
   "cell_type": "code",
   "execution_count": 68,
   "id": "d79b7a3c-0661-47c4-903d-0e8ab76a6017",
   "metadata": {},
   "outputs": [
    {
     "data": {
      "text/plain": [
       "22"
      ]
     },
     "execution_count": 68,
     "metadata": {},
     "output_type": "execute_result"
    }
   ],
   "source": [
    "b"
   ]
  },
  {
   "cell_type": "code",
   "execution_count": 69,
   "id": "f268d4eb-11f4-493b-b045-56db52ed5dfc",
   "metadata": {},
   "outputs": [],
   "source": [
    "b/=3"
   ]
  },
  {
   "cell_type": "code",
   "execution_count": 70,
   "id": "4ffe4130-4783-481a-9c15-9985694d6e5e",
   "metadata": {},
   "outputs": [
    {
     "data": {
      "text/plain": [
       "7.333333333333333"
      ]
     },
     "execution_count": 70,
     "metadata": {},
     "output_type": "execute_result"
    }
   ],
   "source": [
    "b"
   ]
  },
  {
   "cell_type": "code",
   "execution_count": 71,
   "id": "05c7d7e8-37f5-46a5-88ab-321f498b578a",
   "metadata": {},
   "outputs": [],
   "source": [
    "b//=3"
   ]
  },
  {
   "cell_type": "code",
   "execution_count": 72,
   "id": "6a2dd6c0-7fbb-4cb6-8007-9bd1b5b7a681",
   "metadata": {},
   "outputs": [
    {
     "data": {
      "text/plain": [
       "2.0"
      ]
     },
     "execution_count": 72,
     "metadata": {},
     "output_type": "execute_result"
    }
   ],
   "source": [
    "b"
   ]
  },
  {
   "cell_type": "code",
   "execution_count": null,
   "id": "0e510be8-d87b-4af2-9efa-bf44a29f9d8f",
   "metadata": {},
   "outputs": [],
   "source": []
  },
  {
   "cell_type": "code",
   "execution_count": 73,
   "id": "d857b470-d49a-4b9a-8f82-9efc98629cec",
   "metadata": {},
   "outputs": [],
   "source": [
    "#Logical Operators"
   ]
  },
  {
   "cell_type": "code",
   "execution_count": 74,
   "id": "c58bbee2-eedb-44f5-aa2c-de98f974c4e6",
   "metadata": {},
   "outputs": [],
   "source": [
    "x=5"
   ]
  },
  {
   "cell_type": "code",
   "execution_count": 75,
   "id": "898caf12-ecfd-41eb-bcb6-43548b3fcb85",
   "metadata": {},
   "outputs": [
    {
     "data": {
      "text/plain": [
       "True"
      ]
     },
     "execution_count": 75,
     "metadata": {},
     "output_type": "execute_result"
    }
   ],
   "source": [
    "x>3 and x<6"
   ]
  },
  {
   "cell_type": "code",
   "execution_count": 85,
   "id": "7b588bd7-2009-4e62-b6eb-1db16ec93d4e",
   "metadata": {},
   "outputs": [],
   "source": [
    "y=5"
   ]
  },
  {
   "cell_type": "code",
   "execution_count": 87,
   "id": "7e031a61-b56e-4ed6-9c52-7e1b4573529e",
   "metadata": {},
   "outputs": [
    {
     "data": {
      "text/plain": [
       "5"
      ]
     },
     "execution_count": 87,
     "metadata": {},
     "output_type": "execute_result"
    }
   ],
   "source": [
    "y"
   ]
  },
  {
   "cell_type": "code",
   "execution_count": 90,
   "id": "c908eaf3-b837-4276-8b09-55a859f328dc",
   "metadata": {},
   "outputs": [
    {
     "data": {
      "text/plain": [
       "True"
      ]
     },
     "execution_count": 90,
     "metadata": {},
     "output_type": "execute_result"
    }
   ],
   "source": [
    "y>3 or y<6"
   ]
  },
  {
   "cell_type": "code",
   "execution_count": 91,
   "id": "0a8012b8-a369-479e-9057-b1a636a211c1",
   "metadata": {},
   "outputs": [],
   "source": [
    "z=5"
   ]
  },
  {
   "cell_type": "code",
   "execution_count": 93,
   "id": "b543bea4-d942-451d-8c86-50ac62eb0053",
   "metadata": {},
   "outputs": [
    {
     "data": {
      "text/plain": [
       "False"
      ]
     },
     "execution_count": 93,
     "metadata": {},
     "output_type": "execute_result"
    }
   ],
   "source": [
    "not z>4 and z<5"
   ]
  },
  {
   "cell_type": "code",
   "execution_count": 1,
   "id": "4b89c3cc-1c26-4c9e-875b-0daeca5a93ce",
   "metadata": {},
   "outputs": [],
   "source": [
    "a=10\n",
    "b=20"
   ]
  },
  {
   "cell_type": "code",
   "execution_count": 2,
   "id": "a674cc73-84f4-4b41-99f3-54e0f6ce0749",
   "metadata": {},
   "outputs": [
    {
     "data": {
      "text/plain": [
       "False"
      ]
     },
     "execution_count": 2,
     "metadata": {},
     "output_type": "execute_result"
    }
   ],
   "source": [
    "(a>10) and (b>20) "
   ]
  },
  {
   "cell_type": "code",
   "execution_count": 4,
   "id": "f15d3961-b5d9-459a-acc6-aea4909e4e9a",
   "metadata": {},
   "outputs": [],
   "source": [
    "#   1 1 -->1   And trueth table\n",
    "#   1 0 -->0\n",
    "#   0 1 -->0\n",
    "#   0 0 -->0\n"
   ]
  },
  {
   "cell_type": "code",
   "execution_count": 5,
   "id": "a89da725-72bf-4d40-9617-c9996d60da7b",
   "metadata": {},
   "outputs": [
    {
     "data": {
      "text/plain": [
       "True"
      ]
     },
     "execution_count": 5,
     "metadata": {},
     "output_type": "execute_result"
    }
   ],
   "source": [
    "(a>9) and (b>2)"
   ]
  },
  {
   "cell_type": "code",
   "execution_count": 6,
   "id": "8355c7ea-d0ed-490e-a3ea-225b852df3d2",
   "metadata": {},
   "outputs": [
    {
     "name": "stdout",
     "output_type": "stream",
     "text": [
      "True\n"
     ]
    }
   ],
   "source": [
    "print(True and True)"
   ]
  },
  {
   "cell_type": "code",
   "execution_count": 7,
   "id": "3b5fd5b8-6ca9-4a47-95e3-0fdfe214d5c4",
   "metadata": {},
   "outputs": [
    {
     "name": "stdout",
     "output_type": "stream",
     "text": [
      "False\n"
     ]
    }
   ],
   "source": [
    "print(False and True )"
   ]
  },
  {
   "cell_type": "code",
   "execution_count": null,
   "id": "2e5b1f39-3d0d-4fc7-9ce6-99767c8f5842",
   "metadata": {},
   "outputs": [],
   "source": [
    "\n"
   ]
  },
  {
   "cell_type": "code",
   "execution_count": 8,
   "id": "31ae8052-ec2f-4b13-9f92-9fb8cc09483b",
   "metadata": {},
   "outputs": [],
   "source": [
    "#   1 1 -->1   or trueth table\n",
    "#   1 0 -->1\n",
    "#   0 1 -->1\n",
    "#   0 0 -->0\n"
   ]
  },
  {
   "cell_type": "code",
   "execution_count": 9,
   "id": "1fae9486-75fb-4bb0-8143-952104359210",
   "metadata": {},
   "outputs": [
    {
     "data": {
      "text/plain": [
       "False"
      ]
     },
     "execution_count": 9,
     "metadata": {},
     "output_type": "execute_result"
    }
   ],
   "source": [
    "(a>10) or (b>20) "
   ]
  },
  {
   "cell_type": "code",
   "execution_count": 11,
   "id": "76e239b0-0afe-45ea-9c3c-0465cf959f94",
   "metadata": {},
   "outputs": [
    {
     "name": "stdout",
     "output_type": "stream",
     "text": [
      "True\n"
     ]
    }
   ],
   "source": [
    "print(False or True )"
   ]
  },
  {
   "cell_type": "code",
   "execution_count": 12,
   "id": "dc525ddf-86ca-49be-8df9-2e74981e1feb",
   "metadata": {},
   "outputs": [
    {
     "name": "stdout",
     "output_type": "stream",
     "text": [
      "False\n"
     ]
    }
   ],
   "source": [
    "print(False or False)"
   ]
  },
  {
   "cell_type": "code",
   "execution_count": null,
   "id": "707faf9b-c3a1-4b4d-8a2b-1584fa55b3c7",
   "metadata": {},
   "outputs": [],
   "source": []
  },
  {
   "cell_type": "code",
   "execution_count": 13,
   "id": "ed56435f-1c88-4c3a-9fac-847efcf4a66b",
   "metadata": {},
   "outputs": [],
   "source": [
    "#   1  -->0   not trueth table\n",
    "#   0  -->1\n"
   ]
  },
  {
   "cell_type": "code",
   "execution_count": 14,
   "id": "c2e827bd-49df-4ac4-8855-56a2370f1807",
   "metadata": {},
   "outputs": [],
   "source": [
    "a=True"
   ]
  },
  {
   "cell_type": "code",
   "execution_count": 15,
   "id": "36a89f19-5f8a-4b43-85f7-f9ea8c0d65db",
   "metadata": {},
   "outputs": [
    {
     "data": {
      "text/plain": [
       "False"
      ]
     },
     "execution_count": 15,
     "metadata": {},
     "output_type": "execute_result"
    }
   ],
   "source": [
    "not (a)"
   ]
  },
  {
   "cell_type": "code",
   "execution_count": 16,
   "id": "d2f8c77b-e027-4c1e-9d5f-7316cced044a",
   "metadata": {},
   "outputs": [],
   "source": [
    "a=False\n"
   ]
  },
  {
   "cell_type": "code",
   "execution_count": 17,
   "id": "63c91475-9e86-4847-b164-58f02609b33a",
   "metadata": {},
   "outputs": [
    {
     "data": {
      "text/plain": [
       "True"
      ]
     },
     "execution_count": 17,
     "metadata": {},
     "output_type": "execute_result"
    }
   ],
   "source": [
    "not (a)"
   ]
  },
  {
   "cell_type": "code",
   "execution_count": null,
   "id": "d2f4484c-66d6-4074-ad56-8473b134411b",
   "metadata": {},
   "outputs": [],
   "source": []
  },
  {
   "cell_type": "code",
   "execution_count": 22,
   "id": "f6dc060a-c154-4c7e-84a1-719d658041e3",
   "metadata": {},
   "outputs": [],
   "source": [
    "# membership operator "
   ]
  },
  {
   "cell_type": "code",
   "execution_count": 23,
   "id": "30dec7f2-9fd7-43c3-9464-c3eea7712714",
   "metadata": {},
   "outputs": [],
   "source": [
    "x=[1,3,4,5,6,7]"
   ]
  },
  {
   "cell_type": "code",
   "execution_count": 24,
   "id": "563784ee-8b86-4786-8d96-c1b37218dfb6",
   "metadata": {},
   "outputs": [
    {
     "data": {
      "text/plain": [
       "False"
      ]
     },
     "execution_count": 24,
     "metadata": {},
     "output_type": "execute_result"
    }
   ],
   "source": [
    "2 in x"
   ]
  },
  {
   "cell_type": "code",
   "execution_count": 25,
   "id": "a8590ab8-d3f1-4bdf-bb33-131251b8ce38",
   "metadata": {},
   "outputs": [
    {
     "data": {
      "text/plain": [
       "True"
      ]
     },
     "execution_count": 25,
     "metadata": {},
     "output_type": "execute_result"
    }
   ],
   "source": [
    "1 in x"
   ]
  },
  {
   "cell_type": "code",
   "execution_count": 26,
   "id": "de5531d5-160c-4085-aae5-4df1510e9b43",
   "metadata": {},
   "outputs": [
    {
     "data": {
      "text/plain": [
       "False"
      ]
     },
     "execution_count": 26,
     "metadata": {},
     "output_type": "execute_result"
    }
   ],
   "source": [
    "23 in x"
   ]
  },
  {
   "cell_type": "code",
   "execution_count": 27,
   "id": "25a06251-55e7-4b24-a81d-803e7f734fd1",
   "metadata": {},
   "outputs": [
    {
     "data": {
      "text/plain": [
       "True"
      ]
     },
     "execution_count": 27,
     "metadata": {},
     "output_type": "execute_result"
    }
   ],
   "source": [
    "23 not in x"
   ]
  },
  {
   "cell_type": "code",
   "execution_count": 28,
   "id": "1b1d63ec-4e14-415e-b11c-888dfd4c64c1",
   "metadata": {},
   "outputs": [
    {
     "data": {
      "text/plain": [
       "False"
      ]
     },
     "execution_count": 28,
     "metadata": {},
     "output_type": "execute_result"
    }
   ],
   "source": [
    "1 not in x"
   ]
  },
  {
   "cell_type": "code",
   "execution_count": null,
   "id": "b5d71ee2-62b4-4884-826b-29efa819c326",
   "metadata": {},
   "outputs": [],
   "source": []
  }
 ],
 "metadata": {
  "kernelspec": {
   "display_name": "Python 3 (ipykernel)",
   "language": "python",
   "name": "python3"
  },
  "language_info": {
   "codemirror_mode": {
    "name": "ipython",
    "version": 3
   },
   "file_extension": ".py",
   "mimetype": "text/x-python",
   "name": "python",
   "nbconvert_exporter": "python",
   "pygments_lexer": "ipython3",
   "version": "3.10.8"
  }
 },
 "nbformat": 4,
 "nbformat_minor": 5
}
