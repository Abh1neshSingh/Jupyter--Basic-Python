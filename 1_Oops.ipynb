{
 "cells": [
  {
   "cell_type": "code",
   "execution_count": null,
   "id": "6c40cbaa-9be5-4c19-89a0-f0ff2ed9d8ac",
   "metadata": {},
   "outputs": [],
   "source": [
    "-------Object Oriented Programming-------------"
   ]
  },
  {
   "cell_type": "code",
   "execution_count": null,
   "id": "4169fd6d-807a-4af8-893f-31926d494032",
   "metadata": {},
   "outputs": [],
   "source": [
    "Object-Oriented Programming (OOP):\n",
    "Object-Oriented Programming is a programming paradigm that \n",
    "organizes code into objects, which are instances of classes.\n",
    "A class is a blueprint or template that defines the attributes\n",
    "and behaviors common to all objects of that type. \n",
    "Attributes are the properties or characteristics of an \n",
    "object, and methods are the functions or behaviors associated\n",
    "with the object."
   ]
  },
  {
   "cell_type": "code",
   "execution_count": null,
   "id": "bcdcbdb9-0491-4f60-9803-2538c9093ac9",
   "metadata": {},
   "outputs": [],
   "source": []
  },
  {
   "cell_type": "code",
   "execution_count": 1,
   "id": "727be94a-22eb-41f0-99a9-6ec9f1424de8",
   "metadata": {},
   "outputs": [],
   "source": [
    "# class and object"
   ]
  },
  {
   "cell_type": "code",
   "execution_count": null,
   "id": "13b01870-ee5c-4885-be21-a2c4d6afcb79",
   "metadata": {},
   "outputs": [],
   "source": [
    "Class:\n",
    "\n",
    "A class is a user-defined data type that represents a \n",
    "blueprint for creating objects.\n",
    "It defines a set of attributes (data) and methods (functions)\n",
    "that the objects created from the class will have.\n",
    "Example:\n",
    "\n",
    "python\n",
    "Copy code\n",
    "class Dog:\n",
    "    def __init__(self, name, age):\n",
    "        self.name = name\n",
    "        self.age = age\n",
    "\n",
    "    def bark(self):\n",
    "        print(\"Woof!\")\n",
    "In this example, Dog is a class with attributes name and age,\n",
    "and a method bark.\n",
    "\n",
    "Object:\n",
    "\n",
    "An object is an instance of a class. It is a concrete entity\n",
    "created based on the blueprint defined by the class.\n",
    "Objects have attributes (characteristics) and methods \n",
    "(behaviors) associated with the class.\n",
    "Example:\n",
    "\n",
    "python\n",
    "Copy code\n",
    "# Creating an object (instance) of the Dog class\n",
    "my_dog = Dog(\"Buddy\", 3)\n",
    "\n",
    "# Accessing attributes and calling methods of the object\n",
    "print(my_dog.name)  # Output: Buddy\n",
    "print(my_dog.age)   # Output: 3\n",
    "my_dog.bark()       # Output: Woof!\n",
    "Here, my_dog is an object created from the Dog class, and it \n",
    "has attributes name and age, as well as the method bark.\n",
    "\n",
    "In summary, a class defines a template with attributes and \n",
    "methods, and an object is an instance of that class with \n",
    "specific values for those attributes. \n",
    "Object-oriented programming in Python revolves around creating \n",
    "and manipulating objects to structure and organize code \n",
    "effectively.\n",
    "\n",
    "\n",
    "\n",
    "\n"
   ]
  },
  {
   "cell_type": "code",
   "execution_count": null,
   "id": "8ef5c3c3-71e9-4d64-8b43-65f00c1a1945",
   "metadata": {},
   "outputs": [],
   "source": []
  },
  {
   "cell_type": "code",
   "execution_count": null,
   "id": "52bb5277-0bca-44b0-abc8-af020a732ee1",
   "metadata": {},
   "outputs": [],
   "source": [
    "class -Class is nothong but its  Classification of real word\n",
    "        entity.\n",
    "    It is something like if we are classify with certain Property "
   ]
  },
  {
   "cell_type": "code",
   "execution_count": null,
   "id": "5989dce0-f6eb-43af-b93f-4f7b35ce2650",
   "metadata": {},
   "outputs": [],
   "source": []
  },
  {
   "cell_type": "code",
   "execution_count": null,
   "id": "d3d3564c-56d2-49b0-a4c3-5c6e5410fc1a",
   "metadata": {},
   "outputs": [],
   "source": [
    "object-- object is nothing but a variable of class\n",
    "or \n",
    "for example"
   ]
  },
  {
   "cell_type": "code",
   "execution_count": null,
   "id": "8a735b0f-8e9b-4a43-b6c2-a81e64638e4f",
   "metadata": {},
   "outputs": [],
   "source": [
    "a=10\n",
    "b=20\n",
    "c=30\n",
    "# data is belong to interger data type \n",
    "# class is interger"
   ]
  },
  {
   "cell_type": "code",
   "execution_count": 1,
   "id": "13ff930a-db6b-4223-a7c2-f6beaeb2369a",
   "metadata": {},
   "outputs": [],
   "source": [
    "class bank_account: # Create a class\n",
    "    \n",
    "    def openAccount(self,name,email_id):\n",
    "        print(\"Open an account by taking name and email_id\")\n",
    "        return name+email_id\n",
    "    \n",
    "    def deposite(self,amount):\n",
    "        print(\"I am trying to deposite an amount in my account\")\n",
    "    \n",
    "    def withdraw(self,amount):\n",
    "        print(\"withdraw the amount\")\n",
    "    \n",
    "    def update_details(self, name_update,email_id_update):\n",
    "        print(\"this function will update my name and email_id for account\")\n",
    "        \n",
    "        "
   ]
  },
  {
   "cell_type": "code",
   "execution_count": 3,
   "id": "f5b6e9fe-eca1-40ac-a7ba-1ec59835c31a",
   "metadata": {},
   "outputs": [],
   "source": [
    "Abhi=bank_account() # Create a object of class"
   ]
  },
  {
   "cell_type": "code",
   "execution_count": 5,
   "id": "07b100e0-8b8b-4821-bc36-4b5a681c1f4a",
   "metadata": {},
   "outputs": [
    {
     "name": "stdout",
     "output_type": "stream",
     "text": [
      "Open an account by taking name and email_id\n"
     ]
    },
    {
     "data": {
      "text/plain": [
       "'Abhinesh SinghAbhinesh1455@gmail.com'"
      ]
     },
     "execution_count": 5,
     "metadata": {},
     "output_type": "execute_result"
    }
   ],
   "source": [
    "# call a Specific funcation of class by using object name and funcation name\n",
    "Abhi.openAccount(\"Abhinesh Singh\",\"Abhinesh1455@gmail.com\")"
   ]
  },
  {
   "cell_type": "code",
   "execution_count": 6,
   "id": "bf25d48d-ae7c-4d87-9d0a-85c80e5526e9",
   "metadata": {},
   "outputs": [
    {
     "name": "stdout",
     "output_type": "stream",
     "text": [
      "I am trying to deposite an amount in my account\n"
     ]
    }
   ],
   "source": [
    "Abhi.deposite(123)"
   ]
  },
  {
   "cell_type": "code",
   "execution_count": 39,
   "id": "825d5c11-17e8-46ae-b385-fc556608dc92",
   "metadata": {},
   "outputs": [],
   "source": [
    "class list_operation:\n",
    "    a=10\n",
    "    l=[2,43,4,23,4,34,332,4,3,4]\n",
    "    \n",
    "    def exractFromIndex(self,l,index):\n",
    "        return l[index]\n",
    "    def exractRangeData(self,l,start,end):\n",
    "        return l[start:end]\n",
    "    def extractEven(self,l):\n",
    "        l1=[]\n",
    "        for i in l:\n",
    "            if i%2==0:\n",
    "                l1.append(i)\n",
    "        return l1            "
   ]
  },
  {
   "cell_type": "code",
   "execution_count": 40,
   "id": "9ff47e76-5201-4f17-abc1-b25471199c41",
   "metadata": {},
   "outputs": [],
   "source": [
    "Obj=list_operation()\n"
   ]
  },
  {
   "cell_type": "code",
   "execution_count": 44,
   "id": "08f9fae1-78c5-4d70-b496-5953ea79baf5",
   "metadata": {},
   "outputs": [
    {
     "data": {
      "text/plain": [
       "4"
      ]
     },
     "execution_count": 44,
     "metadata": {},
     "output_type": "execute_result"
    }
   ],
   "source": [
    "Obj.exractFromIndex(Obj.l ,7)"
   ]
  },
  {
   "cell_type": "code",
   "execution_count": 46,
   "id": "4cda8a8f-7614-4aab-8602-33e4bb9e32d9",
   "metadata": {},
   "outputs": [
    {
     "data": {
      "text/plain": [
       "[4, 5, 6, 7]"
      ]
     },
     "execution_count": 46,
     "metadata": {},
     "output_type": "execute_result"
    }
   ],
   "source": [
    "Obj.exractRangeData([4,5,6,7,8],0,4)\n"
   ]
  },
  {
   "cell_type": "code",
   "execution_count": 26,
   "id": "5e02be3c-45d5-443f-bdf3-1abcb9bf9d3f",
   "metadata": {},
   "outputs": [
    {
     "data": {
      "text/plain": [
       "[4, 6, 8]"
      ]
     },
     "execution_count": 26,
     "metadata": {},
     "output_type": "execute_result"
    }
   ],
   "source": [
    "Obj.extractEven([4,5,6,7,8])"
   ]
  },
  {
   "cell_type": "code",
   "execution_count": 38,
   "id": "18367104-6fc4-48db-8908-277dc6e4428d",
   "metadata": {},
   "outputs": [
    {
     "data": {
      "text/plain": [
       "10"
      ]
     },
     "execution_count": 38,
     "metadata": {},
     "output_type": "execute_result"
    }
   ],
   "source": [
    "Obj.a"
   ]
  },
  {
   "cell_type": "code",
   "execution_count": 41,
   "id": "25068ef7-42f6-433d-a256-e6c5c8a1d909",
   "metadata": {},
   "outputs": [
    {
     "data": {
      "text/plain": [
       "[2, 43, 4, 23, 4, 34, 332, 4, 3, 4]"
      ]
     },
     "execution_count": 41,
     "metadata": {},
     "output_type": "execute_result"
    }
   ],
   "source": [
    "Obj.l"
   ]
  },
  {
   "cell_type": "code",
   "execution_count": null,
   "id": "e257cd84-5016-48d8-afca-11d8c94aa05a",
   "metadata": {},
   "outputs": [],
   "source": [
    "In Python, a constructor is a special method that is automatically\n",
    "called when an object is created from a class. It is used to \n",
    "initialize the attributes of the object. The constructor method \n",
    "in Python is named __init__. Here's a basic example:\n",
    "\n",
    "python\n",
    "Copy code\n",
    "class MyClass:\n",
    "    def __init__(self, parameter1, parameter2):\n",
    "        self.attribute1 = parameter1\n",
    "        self.attribute2 = parameter2\n",
    "\n",
    "# Creating an object of MyClass\n",
    "my_object = MyClass(\"value1\", \"value2\")\n",
    "\n",
    "# Accessing the attributes of the object\n",
    "print(my_object.attribute1)  # Output: value1\n",
    "print(my_object.attribute2)  # Output: value2\n",
    "In the above example, __init__ is the constructor method, \n",
    "and self refers to the instance of the class. \n",
    "The constructor takes parameters \n",
    "(parameter1 and parameter2 in this case) that are used to\n",
    "initialize the attributes (attribute1 and attribute2).\n",
    "\n",
    "It's important to note that the self parameter is required in the\n",
    "constructor, as it refers to the instance of the class. When you\n",
    "create an object (e.g., my_object), Python automatically passes \n",
    "the instance as the first parameter to the __init__ method.\n",
    "\n",
    "Here's a breakdown of the key components:\n",
    "\n",
    "__init__(self, parameter1, parameter2): Constructor method \n",
    "with parameters.\n",
    "self.attribute1 = parameter1: Initializing an attribute \n",
    "with the value passed as parameter1.\n",
    "self.attribute2 = parameter2: Initializing another attribute \n",
    "with the value passed as parameter2."
   ]
  },
  {
   "cell_type": "code",
   "execution_count": 21,
   "id": "c1c1ecf4-89f1-4a00-93bf-da692e33aa9d",
   "metadata": {},
   "outputs": [],
   "source": [
    "class list_operation:\n",
    "    #a=10\n",
    "    #l=[2,43,4,23,4,34,332,4,3,4]\n",
    "    def __init__(self,l):# It is called as Constructor Method .\n",
    "        # Constructor is nothing but a kind of method by which you will be able\n",
    "        # to provide a data to your classes.\n",
    "        # __init__ is in-built function which is been used to provide a data for a particular object \n",
    "        \n",
    "        ## by default when ever you are create any object then __init__ will Executes internally \n",
    "        self.l1=l \n",
    "        self.l2=40\n",
    "        self.l3=\"Abhinesh\"\n",
    "        self.l4=(23,4,3,5,43,3,5)\n",
    "        self.l5={'Key':'Value'}\n",
    "    def exractFromIndex(self,l,index):\n",
    "        return l[index]\n",
    "    def exractRangeData(self,l,start,end):\n",
    "        return l[start:end]\n",
    "    def extractEven(self,l):\n",
    "        l1=[]\n",
    "        for i in l:\n",
    "            if i%2==0:\n",
    "                l1.append(i)\n",
    "        return l1            "
   ]
  },
  {
   "cell_type": "code",
   "execution_count": 22,
   "id": "308b6225-af0b-4682-8fad-4472e37a32b5",
   "metadata": {},
   "outputs": [],
   "source": [
    "seceond_obs=list_operation([3,4,5,5,4,3,2,4,3])"
   ]
  },
  {
   "cell_type": "code",
   "execution_count": 25,
   "id": "ca38d263-5950-4aaa-a8a0-6bda18707b4a",
   "metadata": {},
   "outputs": [
    {
     "data": {
      "text/plain": [
       "'Abhinesh'"
      ]
     },
     "execution_count": 25,
     "metadata": {},
     "output_type": "execute_result"
    }
   ],
   "source": [
    "seceond_obs.l3"
   ]
  },
  {
   "cell_type": "code",
   "execution_count": 26,
   "id": "e5e654e6-9b15-4910-948a-013bc03b910d",
   "metadata": {},
   "outputs": [
    {
     "data": {
      "text/plain": [
       "40"
      ]
     },
     "execution_count": 26,
     "metadata": {},
     "output_type": "execute_result"
    }
   ],
   "source": [
    "seceond_obs.l2"
   ]
  },
  {
   "cell_type": "code",
   "execution_count": 27,
   "id": "e6ca9d44-8ea6-459f-a833-62934eee7e69",
   "metadata": {},
   "outputs": [
    {
     "data": {
      "text/plain": [
       "(23, 4, 3, 5, 43, 3, 5)"
      ]
     },
     "execution_count": 27,
     "metadata": {},
     "output_type": "execute_result"
    }
   ],
   "source": [
    "seceond_obs.l4"
   ]
  },
  {
   "cell_type": "code",
   "execution_count": 28,
   "id": "de2126e6-afd9-4b3b-bd9e-19bc502b2a20",
   "metadata": {},
   "outputs": [
    {
     "data": {
      "text/plain": [
       "{'Key': 'Value'}"
      ]
     },
     "execution_count": 28,
     "metadata": {},
     "output_type": "execute_result"
    }
   ],
   "source": [
    "seceond_obs.l5"
   ]
  },
  {
   "cell_type": "code",
   "execution_count": null,
   "id": "87bde3c6-4ee1-478c-b7d2-ec65d6fdd87c",
   "metadata": {},
   "outputs": [],
   "source": []
  },
  {
   "cell_type": "code",
   "execution_count": 42,
   "id": "99af036f-6603-4dcb-9bcd-27abc8c397f1",
   "metadata": {},
   "outputs": [],
   "source": [
    "class book:\n",
    "    \n",
    "    def __init__(self,name,title,pageno):\n",
    "        self.name_of_book=name\n",
    "        self.title_of_book=title\n",
    "        self.page_no=pageno\n",
    "    \n",
    "    def extract_details(self):\n",
    "        print(self.name_of_book,self.title_of_book,self)\n",
    "    \n",
    "    def print_page_no(self):\n",
    "        print(self.page_no)\n",
    "        "
   ]
  },
  {
   "cell_type": "code",
   "execution_count": 34,
   "id": "8a3ef6a8-f410-4b3f-aa14-997014e04eaf",
   "metadata": {},
   "outputs": [],
   "source": [
    "Abhinesh=book('DSA','Practical DSA',234)\n",
    "Ritika=book('Web Dev','Full Stack ',3453)"
   ]
  },
  {
   "cell_type": "code",
   "execution_count": 35,
   "id": "46418a7c-2dc8-4784-bbdb-852bf47f12ac",
   "metadata": {},
   "outputs": [
    {
     "data": {
      "text/plain": [
       "'DSA'"
      ]
     },
     "execution_count": 35,
     "metadata": {},
     "output_type": "execute_result"
    }
   ],
   "source": [
    "Abhinesh.name_of_book"
   ]
  },
  {
   "cell_type": "code",
   "execution_count": 36,
   "id": "286bb785-65fa-44d7-a14c-e10ec3ab26da",
   "metadata": {},
   "outputs": [
    {
     "data": {
      "text/plain": [
       "'Practical DSA'"
      ]
     },
     "execution_count": 36,
     "metadata": {},
     "output_type": "execute_result"
    }
   ],
   "source": [
    "Abhinesh.title_of_book"
   ]
  },
  {
   "cell_type": "code",
   "execution_count": 37,
   "id": "be722421-f891-442e-ad9c-b3d21f4eb11b",
   "metadata": {},
   "outputs": [
    {
     "data": {
      "text/plain": [
       "234"
      ]
     },
     "execution_count": 37,
     "metadata": {},
     "output_type": "execute_result"
    }
   ],
   "source": [
    "Abhinesh.page_no"
   ]
  },
  {
   "cell_type": "code",
   "execution_count": 38,
   "id": "83b4e256-63f0-46b4-b2f7-eb1d953240bc",
   "metadata": {},
   "outputs": [
    {
     "data": {
      "text/plain": [
       "'Web Dev'"
      ]
     },
     "execution_count": 38,
     "metadata": {},
     "output_type": "execute_result"
    }
   ],
   "source": [
    "Ritika.name_of_book"
   ]
  },
  {
   "cell_type": "code",
   "execution_count": 39,
   "id": "6850d5cf-43a5-4fa4-83ad-5a10301dfbbf",
   "metadata": {},
   "outputs": [
    {
     "data": {
      "text/plain": [
       "'Full Stack '"
      ]
     },
     "execution_count": 39,
     "metadata": {},
     "output_type": "execute_result"
    }
   ],
   "source": [
    "Ritika.title_of_book"
   ]
  },
  {
   "cell_type": "code",
   "execution_count": 40,
   "id": "5e2f6873-6005-4419-9ade-a2ad9b6931da",
   "metadata": {},
   "outputs": [
    {
     "data": {
      "text/plain": [
       "3453"
      ]
     },
     "execution_count": 40,
     "metadata": {},
     "output_type": "execute_result"
    }
   ],
   "source": [
    "Ritika.page_no"
   ]
  },
  {
   "cell_type": "code",
   "execution_count": 43,
   "id": "7c7bf42c-32c7-4858-8607-ff8a5d1ba79a",
   "metadata": {},
   "outputs": [
    {
     "name": "stdout",
     "output_type": "stream",
     "text": [
      "DSA Practical DSA <__main__.book object at 0x7f0d4e7c16f0>\n"
     ]
    }
   ],
   "source": [
    "Abhinesh.extract_details()"
   ]
  },
  {
   "cell_type": "code",
   "execution_count": 44,
   "id": "761b7725-59f4-43d9-a891-f16490528b3f",
   "metadata": {},
   "outputs": [
    {
     "name": "stdout",
     "output_type": "stream",
     "text": [
      "Web Dev Full Stack  <__main__.book object at 0x7f0d4e7c24d0>\n"
     ]
    }
   ],
   "source": [
    "Ritika.extract_details()"
   ]
  },
  {
   "cell_type": "code",
   "execution_count": 45,
   "id": "060c71d7-ffaa-41c4-9bcb-e160c32514b6",
   "metadata": {},
   "outputs": [
    {
     "name": "stdout",
     "output_type": "stream",
     "text": [
      "234\n"
     ]
    }
   ],
   "source": [
    "Abhinesh.print_page_no()"
   ]
  },
  {
   "cell_type": "code",
   "execution_count": 46,
   "id": "c1536263-5680-458f-8fa5-160f42fcb2ec",
   "metadata": {},
   "outputs": [
    {
     "data": {
      "text/plain": [
       "3453"
      ]
     },
     "execution_count": 46,
     "metadata": {},
     "output_type": "execute_result"
    }
   ],
   "source": [
    "Ritika.page_no"
   ]
  },
  {
   "cell_type": "code",
   "execution_count": null,
   "id": "c8bf921f-e114-4b89-854f-66a8e7853c36",
   "metadata": {},
   "outputs": [],
   "source": []
  },
  {
   "cell_type": "code",
   "execution_count": 52,
   "id": "c8263378-8b14-42c2-8f3b-54ddc1ebd10c",
   "metadata": {},
   "outputs": [],
   "source": [
    "class gmail_ops:\n",
    "    def __init__(self,userid,password):\n",
    "        self.UserID=userid\n",
    "        self.Password=password\n",
    "        self.url='https://mail.google.com/mail/u/0/#inbox'\n",
    "        \n",
    "    def login(self):\n",
    "        print(\"take userID:\" + self.UserID + \"take password:\" + self.Password + \" hit url:\" + self.url)\n",
    "        print(\"login\")\n",
    "        \n",
    "    def read_mail(self):\n",
    "        print(\"read mail for: \" + self.UserID + \" \"+ self.Password)\n",
    "    \n",
    "    def reply_mail(self):\n",
    "        print(\"reply mail for \" +self.UserID + \" \"+self.Password)\n",
    "    "
   ]
  },
  {
   "cell_type": "code",
   "execution_count": 53,
   "id": "bc7e3a29-87fd-4e97-be0e-87b39d48f6a9",
   "metadata": {},
   "outputs": [],
   "source": [
    "user1=gmail_ops('Abhinesh Singh','Abhi@232')\n",
    "user2=gmail_ops('Ritika Singh','ritz@232')"
   ]
  },
  {
   "cell_type": "code",
   "execution_count": 54,
   "id": "9cff5b8d-62d4-4ad2-ba81-f49d19802226",
   "metadata": {},
   "outputs": [
    {
     "name": "stdout",
     "output_type": "stream",
     "text": [
      "take userID:Abhinesh Singhtake password:Abhi@232 hit url:https://mail.google.com/mail/u/0/#inbox\n",
      "login\n"
     ]
    }
   ],
   "source": [
    "user1.login()"
   ]
  },
  {
   "cell_type": "code",
   "execution_count": 55,
   "id": "77afc4b7-81a6-40c4-83af-ccd83b01beff",
   "metadata": {},
   "outputs": [
    {
     "name": "stdout",
     "output_type": "stream",
     "text": [
      "take userID:Ritika Singhtake password:ritz@232 hit url:https://mail.google.com/mail/u/0/#inbox\n",
      "login\n"
     ]
    }
   ],
   "source": [
    "user2.login()"
   ]
  },
  {
   "cell_type": "code",
   "execution_count": 56,
   "id": "f13537c3-8d73-4cee-af50-29a80b0d8860",
   "metadata": {},
   "outputs": [
    {
     "name": "stdout",
     "output_type": "stream",
     "text": [
      "read mail for: Abhinesh Singh Abhi@232\n"
     ]
    }
   ],
   "source": [
    "user1.read_mail()"
   ]
  },
  {
   "cell_type": "code",
   "execution_count": 58,
   "id": "78459d6e-4af8-49d3-92ed-400c859d9a11",
   "metadata": {},
   "outputs": [
    {
     "name": "stdout",
     "output_type": "stream",
     "text": [
      "read mail for: Ritika Singh ritz@232\n"
     ]
    }
   ],
   "source": [
    "user2.read_mail()"
   ]
  },
  {
   "cell_type": "code",
   "execution_count": 59,
   "id": "7565efd6-2b06-45b8-a59b-6a9edcb76c79",
   "metadata": {},
   "outputs": [
    {
     "name": "stdout",
     "output_type": "stream",
     "text": [
      "reply mail for Abhinesh Singh Abhi@232\n"
     ]
    }
   ],
   "source": [
    "user1.reply_mail()"
   ]
  },
  {
   "cell_type": "code",
   "execution_count": 60,
   "id": "3449f68e-7002-4637-a30d-8cc1b03ff27c",
   "metadata": {},
   "outputs": [
    {
     "name": "stdout",
     "output_type": "stream",
     "text": [
      "reply mail for Ritika Singh ritz@232\n"
     ]
    }
   ],
   "source": [
    "user2.reply_mail()"
   ]
  },
  {
   "cell_type": "code",
   "execution_count": null,
   "id": "b9e8a050-4957-4349-b27d-51abd5c03ace",
   "metadata": {},
   "outputs": [],
   "source": []
  },
  {
   "cell_type": "code",
   "execution_count": null,
   "id": "d613dfad-1c15-4dd7-81b5-fec6c3b0b4d2",
   "metadata": {},
   "outputs": [],
   "source": []
  },
  {
   "cell_type": "code",
   "execution_count": 1,
   "id": "546462a2-3d66-405c-bf25-e0f0a3f001c3",
   "metadata": {},
   "outputs": [],
   "source": [
    "from functools import reduce\n",
    "class calculator:\n",
    "    def add(self,*args):\n",
    "        return sum(args)\n",
    "    \n",
    "    def subtraction(self,*args):\n",
    "        return reduce(lambda a,b:a-b,args)\n",
    "    \n",
    "    def multiple(self,*args):\n",
    "        return reduce(lambda a,b:a*b,args)\n",
    "    \n",
    "    def div(self,*args):\n",
    "        return reduce(lambda a,b:a/b,args)"
   ]
  },
  {
   "cell_type": "code",
   "execution_count": 5,
   "id": "6a699d44-0451-4a6a-946a-3b1da2116111",
   "metadata": {},
   "outputs": [],
   "source": [
    "Abhi=calculator()"
   ]
  },
  {
   "cell_type": "code",
   "execution_count": 6,
   "id": "bb3e1d59-4528-49a7-9be4-fac546ddc897",
   "metadata": {},
   "outputs": [
    {
     "data": {
      "text/plain": [
       "37"
      ]
     },
     "execution_count": 6,
     "metadata": {},
     "output_type": "execute_result"
    }
   ],
   "source": [
    "Abhi.add(1,32,4)"
   ]
  },
  {
   "cell_type": "code",
   "execution_count": 7,
   "id": "f5f0c0ec-7b54-44a9-b7fa-0ebac66ce31d",
   "metadata": {},
   "outputs": [
    {
     "data": {
      "text/plain": [
       "-11"
      ]
     },
     "execution_count": 7,
     "metadata": {},
     "output_type": "execute_result"
    }
   ],
   "source": [
    "Abhi.subtraction(23,3,4,23,4)"
   ]
  },
  {
   "cell_type": "code",
   "execution_count": 8,
   "id": "1368ea71-6640-40d0-828b-f56e2c4b873b",
   "metadata": {},
   "outputs": [
    {
     "data": {
      "text/plain": [
       "16008"
      ]
     },
     "execution_count": 8,
     "metadata": {},
     "output_type": "execute_result"
    }
   ],
   "source": [
    "Abhi.multiple(232,23,3)"
   ]
  },
  {
   "cell_type": "code",
   "execution_count": 12,
   "id": "7043e65e-6dd6-49d9-9dcd-66429ad41cb7",
   "metadata": {},
   "outputs": [
    {
     "data": {
      "text/plain": [
       "4.0"
      ]
     },
     "execution_count": 12,
     "metadata": {},
     "output_type": "execute_result"
    }
   ],
   "source": [
    "Abhi.div(12,3)"
   ]
  },
  {
   "cell_type": "code",
   "execution_count": 16,
   "id": "5dffcad8-017d-4b39-b24d-a62a54547a6b",
   "metadata": {},
   "outputs": [],
   "source": [
    "from functools import reduce\n",
    "class calculator:\n",
    "    def __init__(self,username):\n",
    "        self.username=username\n",
    "        \n",
    "    \n",
    "    \n",
    "    def add(self,*args):\n",
    "        return self.username,sum(args)\n",
    "    \n",
    "    def subtraction(self,*args):\n",
    "        return self.username, reduce(lambda a,b:a-b,args)\n",
    "    \n",
    "    def multiple(self,*args):\n",
    "        return self.username, reduce(lambda a,b:a*b,args)\n",
    "    \n",
    "    def div(self,*args):\n",
    "        return self.username, reduce(lambda a,b:a/b,args)"
   ]
  },
  {
   "cell_type": "code",
   "execution_count": 17,
   "id": "08ebe05e-61d6-4112-aa3f-8acb179363e4",
   "metadata": {},
   "outputs": [],
   "source": [
    "abhi=calculator(\"Abhinesh Singh\")"
   ]
  },
  {
   "cell_type": "code",
   "execution_count": 18,
   "id": "d2739bf8-527d-495b-852f-8e610c7194c3",
   "metadata": {},
   "outputs": [
    {
     "data": {
      "text/plain": [
       "('Abhinesh Singh', 242)"
      ]
     },
     "execution_count": 18,
     "metadata": {},
     "output_type": "execute_result"
    }
   ],
   "source": [
    "abhi.add(232,2,3,2,3)"
   ]
  },
  {
   "cell_type": "code",
   "execution_count": 19,
   "id": "41942c02-f0d5-4a9c-9f3a-d99b300b3d90",
   "metadata": {},
   "outputs": [
    {
     "data": {
      "text/plain": [
       "('Abhinesh Singh', 222)"
      ]
     },
     "execution_count": 19,
     "metadata": {},
     "output_type": "execute_result"
    }
   ],
   "source": [
    "abhi.subtraction(232,2,3,2,3)"
   ]
  },
  {
   "cell_type": "code",
   "execution_count": 20,
   "id": "668f6dbd-c7fc-4033-b6d2-32e61b20a08d",
   "metadata": {},
   "outputs": [
    {
     "data": {
      "text/plain": [
       "('Abhinesh Singh', 16008)"
      ]
     },
     "execution_count": 20,
     "metadata": {},
     "output_type": "execute_result"
    }
   ],
   "source": [
    "abhi.multiple(232,23,3)"
   ]
  },
  {
   "cell_type": "code",
   "execution_count": 21,
   "id": "8b019770-0ab5-47aa-aa0c-7dc2c206ad13",
   "metadata": {},
   "outputs": [
    {
     "data": {
      "text/plain": [
       "('Abhinesh Singh', 4.0)"
      ]
     },
     "execution_count": 21,
     "metadata": {},
     "output_type": "execute_result"
    }
   ],
   "source": [
    "abhi.div(12,3)"
   ]
  },
  {
   "cell_type": "code",
   "execution_count": null,
   "id": "efa4a2e8-2f77-44a0-aaef-3e6e14d75447",
   "metadata": {},
   "outputs": [],
   "source": []
  }
 ],
 "metadata": {
  "kernelspec": {
   "display_name": "Python 3 (ipykernel)",
   "language": "python",
   "name": "python3"
  },
  "language_info": {
   "codemirror_mode": {
    "name": "ipython",
    "version": 3
   },
   "file_extension": ".py",
   "mimetype": "text/x-python",
   "name": "python",
   "nbconvert_exporter": "python",
   "pygments_lexer": "ipython3",
   "version": "3.10.8"
  }
 },
 "nbformat": 4,
 "nbformat_minor": 5
}
