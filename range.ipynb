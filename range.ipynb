{
 "cells": [
  {
   "cell_type": "code",
   "execution_count": 1,
   "id": "3692251e-bf64-4553-9ba8-d3fcfa98fc7f",
   "metadata": {},
   "outputs": [],
   "source": [
    "# Range Function use to generate the Sequce of number"
   ]
  },
  {
   "cell_type": "code",
   "execution_count": 2,
   "id": "fd185562-6e00-46ce-bd59-fe11bf06690d",
   "metadata": {},
   "outputs": [
    {
     "data": {
      "text/plain": [
       "range(0, 5)"
      ]
     },
     "execution_count": 2,
     "metadata": {},
     "output_type": "execute_result"
    }
   ],
   "source": [
    "range(5)"
   ]
  },
  {
   "cell_type": "code",
   "execution_count": 3,
   "id": "c3373739-6037-45b0-a90f-bc8fd2313b2d",
   "metadata": {},
   "outputs": [
    {
     "data": {
      "text/plain": [
       "[0, 1, 2, 3, 4]"
      ]
     },
     "execution_count": 3,
     "metadata": {},
     "output_type": "execute_result"
    }
   ],
   "source": [
    "list(range(5))"
   ]
  },
  {
   "cell_type": "code",
   "execution_count": 4,
   "id": "0738f8ea-b914-4816-893d-f7745e827644",
   "metadata": {},
   "outputs": [],
   "source": [
    "# range having three Parameter like --> range(start, stop , step)"
   ]
  },
  {
   "cell_type": "code",
   "execution_count": 5,
   "id": "e98fd6f0-5286-48a2-a607-d99d8ebd82a7",
   "metadata": {},
   "outputs": [],
   "source": [
    "# if we enter only one number in range then it will tell  stop"
   ]
  },
  {
   "cell_type": "code",
   "execution_count": 6,
   "id": "18871d4c-0048-4e88-a753-7ea96b05bd4c",
   "metadata": {},
   "outputs": [
    {
     "data": {
      "text/plain": [
       "[0, 1, 2, 3, 4, 5, 6, 7, 8, 9]"
      ]
     },
     "execution_count": 6,
     "metadata": {},
     "output_type": "execute_result"
    }
   ],
   "source": [
    "list (range(10))"
   ]
  },
  {
   "cell_type": "code",
   "execution_count": 7,
   "id": "92fa0e98-7e37-4195-a6a4-5d136ff8ae99",
   "metadata": {},
   "outputs": [],
   "source": [
    "# for start and stop"
   ]
  },
  {
   "cell_type": "code",
   "execution_count": 8,
   "id": "6a4c978c-7d43-47b4-b8e9-59d100d6fae9",
   "metadata": {},
   "outputs": [
    {
     "data": {
      "text/plain": [
       "[2, 3, 4, 5, 6, 7, 8, 9]"
      ]
     },
     "execution_count": 8,
     "metadata": {},
     "output_type": "execute_result"
    }
   ],
   "source": [
    "list(range(2,10))"
   ]
  },
  {
   "cell_type": "code",
   "execution_count": 12,
   "id": "081a45d8-6a73-4b2f-b2c8-f799537acc8f",
   "metadata": {},
   "outputs": [
    {
     "data": {
      "text/plain": [
       "[42, 43, 44, 45, 46, 47, 48, 49]"
      ]
     },
     "execution_count": 12,
     "metadata": {},
     "output_type": "execute_result"
    }
   ],
   "source": [
    "list(range(42,50))"
   ]
  },
  {
   "cell_type": "code",
   "execution_count": 13,
   "id": "d20dfe66-f5d4-4458-a955-dbaf0ebf53ca",
   "metadata": {},
   "outputs": [
    {
     "data": {
      "text/plain": [
       "[45,\n",
       " 46,\n",
       " 47,\n",
       " 48,\n",
       " 49,\n",
       " 50,\n",
       " 51,\n",
       " 52,\n",
       " 53,\n",
       " 54,\n",
       " 55,\n",
       " 56,\n",
       " 57,\n",
       " 58,\n",
       " 59,\n",
       " 60,\n",
       " 61,\n",
       " 62,\n",
       " 63,\n",
       " 64,\n",
       " 65,\n",
       " 66,\n",
       " 67,\n",
       " 68,\n",
       " 69,\n",
       " 70,\n",
       " 71,\n",
       " 72,\n",
       " 73,\n",
       " 74,\n",
       " 75,\n",
       " 76,\n",
       " 77]"
      ]
     },
     "execution_count": 13,
     "metadata": {},
     "output_type": "execute_result"
    }
   ],
   "source": [
    "list(range(45,78))"
   ]
  },
  {
   "cell_type": "code",
   "execution_count": 15,
   "id": "53b1e5df-91e6-4704-97cb-ac0283303166",
   "metadata": {},
   "outputs": [
    {
     "data": {
      "text/plain": [
       "[2, 7, 12, 17, 22, 27, 32, 37, 42, 47]"
      ]
     },
     "execution_count": 15,
     "metadata": {},
     "output_type": "execute_result"
    }
   ],
   "source": [
    "list(range(2,50,5))# basically step is also known as jump"
   ]
  },
  {
   "cell_type": "code",
   "execution_count": 19,
   "id": "259656a2-3fe9-4d0c-97c9-f3bdff86beef",
   "metadata": {},
   "outputs": [
    {
     "data": {
      "text/plain": [
       "[1, 11, 21, 31, 41, 51, 61, 71, 81, 91, 101]"
      ]
     },
     "execution_count": 19,
     "metadata": {},
     "output_type": "execute_result"
    }
   ],
   "source": [
    "list(range(1,102,10))"
   ]
  },
  {
   "cell_type": "code",
   "execution_count": null,
   "id": "a753c9a0-ec40-46ed-8fec-1d2281f9fa37",
   "metadata": {},
   "outputs": [],
   "source": []
  }
 ],
 "metadata": {
  "kernelspec": {
   "display_name": "Python 3 (ipykernel)",
   "language": "python",
   "name": "python3"
  },
  "language_info": {
   "codemirror_mode": {
    "name": "ipython",
    "version": 3
   },
   "file_extension": ".py",
   "mimetype": "text/x-python",
   "name": "python",
   "nbconvert_exporter": "python",
   "pygments_lexer": "ipython3",
   "version": "3.10.8"
  }
 },
 "nbformat": 4,
 "nbformat_minor": 5
}
