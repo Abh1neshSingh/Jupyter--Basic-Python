{
 "cells": [
  {
   "cell_type": "code",
   "execution_count": null,
   "id": "ccd5f417-0e19-4721-8d2e-e977a15cb486",
   "metadata": {},
   "outputs": [],
   "source": [
    "# Lambda Funcation \n",
    "Lambda is keyword . It is a Anonymous funcation .\n",
    "function is without a name so that why we cay Anonymous\n",
    " "
   ]
  },
  {
   "cell_type": "code",
   "execution_count": null,
   "id": "4e82b0cd-9efd-4ef8-aaa2-bf376cbca689",
   "metadata": {},
   "outputs": [],
   "source": [
    "Python Lambda Functions are anonymous functions means that\n",
    "the function is without a name. As we already know the \n",
    "def keyword is used to define a normal function in Python.\n",
    "Similarly, the lambda keyword is used to define an anonymous\n",
    "function in Python."
   ]
  },
  {
   "cell_type": "code",
   "execution_count": null,
   "id": "83b721d9-a7f8-4862-b052-da74091717c4",
   "metadata": {},
   "outputs": [],
   "source": [
    "A lambda function is a small anonymous function.\n",
    "\n",
    "A lambda function can take any number of arguments, \n",
    "but can only have one expression."
   ]
  },
  {
   "cell_type": "code",
   "execution_count": null,
   "id": "d8b5f961-96aa-40f8-9b51-eb3c69e79141",
   "metadata": {},
   "outputs": [],
   "source": [
    "sytax for lambda\n",
    "-----> lambda argument(s): Expression "
   ]
  },
  {
   "cell_type": "code",
   "execution_count": 1,
   "id": "30058936-3dce-4c0f-b491-43ef2381e3c5",
   "metadata": {},
   "outputs": [],
   "source": [
    "greet=lambda:print(\"Hello\")"
   ]
  },
  {
   "cell_type": "code",
   "execution_count": 3,
   "id": "2536b301-fcd1-4fdc-b720-cb839c86eafc",
   "metadata": {},
   "outputs": [
    {
     "name": "stdout",
     "output_type": "stream",
     "text": [
      "Hello\n"
     ]
    }
   ],
   "source": [
    "greet()"
   ]
  },
  {
   "cell_type": "code",
   "execution_count": 11,
   "id": "e0fbb50d-6230-4e23-abc2-b17ed32659ab",
   "metadata": {},
   "outputs": [],
   "source": [
    "add_num=lambda a,b: a+b"
   ]
  },
  {
   "cell_type": "code",
   "execution_count": 12,
   "id": "ede92966-cfd4-441d-a0cd-10986508af10",
   "metadata": {},
   "outputs": [
    {
     "data": {
      "text/plain": [
       "5"
      ]
     },
     "execution_count": 12,
     "metadata": {},
     "output_type": "execute_result"
    }
   ],
   "source": [
    "add_num(2,3)"
   ]
  },
  {
   "cell_type": "code",
   "execution_count": 13,
   "id": "c3df6f3a-d8fa-4193-b8d9-4fe2c8b97936",
   "metadata": {},
   "outputs": [],
   "source": [
    "multi=lambda num1,num2: num1*num2\n"
   ]
  },
  {
   "cell_type": "code",
   "execution_count": 14,
   "id": "44553988-0310-42bb-9fe0-0c433dc29414",
   "metadata": {},
   "outputs": [
    {
     "data": {
      "text/plain": [
       "8"
      ]
     },
     "execution_count": 14,
     "metadata": {},
     "output_type": "execute_result"
    }
   ],
   "source": [
    "multi(2,4)"
   ]
  },
  {
   "cell_type": "code",
   "execution_count": 16,
   "id": "91079dc2-33d1-488f-968f-3cc9ea48636f",
   "metadata": {},
   "outputs": [
    {
     "name": "stdin",
     "output_type": "stream",
     "text": [
      "Enter first number 3\n",
      "Enter second number 4\n"
     ]
    },
    {
     "name": "stdout",
     "output_type": "stream",
     "text": [
      "(9, 16)\n"
     ]
    }
   ],
   "source": [
    "a= int(input(\"Enter first number\"))\n",
    "b= int(input(\"Enter second number\"))\n",
    "square=lambda a,b: (a**2,b**2)\n",
    "print(square(a,b))"
   ]
  },
  {
   "cell_type": "code",
   "execution_count": 18,
   "id": "dfff6acb-06eb-449f-bff6-9408256c0d40",
   "metadata": {},
   "outputs": [
    {
     "name": "stdin",
     "output_type": "stream",
     "text": [
      "Enter a number 2\n"
     ]
    },
    {
     "name": "stdout",
     "output_type": "stream",
     "text": [
      "True\n"
     ]
    }
   ],
   "source": [
    "num=int(input(\"Enter a number\"))\n",
    "even =lambda num:(num%2==0)\n",
    "print(even(num))"
   ]
  },
  {
   "cell_type": "code",
   "execution_count": 22,
   "id": "bff325e8-4271-4699-b50b-10620e2ec486",
   "metadata": {},
   "outputs": [],
   "source": [
    "x=lambda n:\"number is even\" if n%2==0 else\"number is odd\""
   ]
  },
  {
   "cell_type": "code",
   "execution_count": 23,
   "id": "9bdb6420-d69b-4985-92bb-9c9f2f95f2e9",
   "metadata": {},
   "outputs": [
    {
     "data": {
      "text/plain": [
       "'number is even'"
      ]
     },
     "execution_count": 23,
     "metadata": {},
     "output_type": "execute_result"
    }
   ],
   "source": [
    "x(2)"
   ]
  },
  {
   "cell_type": "code",
   "execution_count": 24,
   "id": "d2997bf0-bea8-4df1-97c8-db0de44528bd",
   "metadata": {},
   "outputs": [
    {
     "data": {
      "text/plain": [
       "'number is odd'"
      ]
     },
     "execution_count": 24,
     "metadata": {},
     "output_type": "execute_result"
    }
   ],
   "source": [
    "x(3)"
   ]
  },
  {
   "cell_type": "code",
   "execution_count": 25,
   "id": "93c64f4e-8271-45ff-bca2-ca2d8eae510e",
   "metadata": {},
   "outputs": [],
   "source": [
    "# Write a lambda funcation that accept 2 argument and return \n",
    "# the greater amongest them"
   ]
  },
  {
   "cell_type": "code",
   "execution_count": 26,
   "id": "a89a35df-c0d0-4be2-9695-11ebef2c7a71",
   "metadata": {},
   "outputs": [],
   "source": [
    "x = lambda a,b: \"a is greater\" if a>b else\" b is greater\""
   ]
  },
  {
   "cell_type": "code",
   "execution_count": 27,
   "id": "20eac2bf-6c28-441a-8916-0c72d10c6f9a",
   "metadata": {},
   "outputs": [
    {
     "data": {
      "text/plain": [
       "'a is greater'"
      ]
     },
     "execution_count": 27,
     "metadata": {},
     "output_type": "execute_result"
    }
   ],
   "source": [
    "x(23,4)"
   ]
  },
  {
   "cell_type": "code",
   "execution_count": 28,
   "id": "59f5a5fd-8c9e-45db-bfe9-5daebc2129c1",
   "metadata": {},
   "outputs": [
    {
     "data": {
      "text/plain": [
       "' b is greater'"
      ]
     },
     "execution_count": 28,
     "metadata": {},
     "output_type": "execute_result"
    }
   ],
   "source": [
    "x(45,60)"
   ]
  },
  {
   "cell_type": "code",
   "execution_count": 30,
   "id": "1dc1fe15-6bb5-41d7-9d85-32a604b6a2ff",
   "metadata": {},
   "outputs": [],
   "source": [
    "y= lambda a,b: a if a>b else b"
   ]
  },
  {
   "cell_type": "code",
   "execution_count": 31,
   "id": "bcfb32a4-7f1d-4ccf-a5dd-198473ccf6fe",
   "metadata": {},
   "outputs": [
    {
     "data": {
      "text/plain": [
       "5"
      ]
     },
     "execution_count": 31,
     "metadata": {},
     "output_type": "execute_result"
    }
   ],
   "source": [
    "y(4,5)"
   ]
  },
  {
   "cell_type": "code",
   "execution_count": 32,
   "id": "ee3fd675-384d-49ed-a43a-02f36607575c",
   "metadata": {},
   "outputs": [],
   "source": [
    "# sum of three number"
   ]
  },
  {
   "cell_type": "code",
   "execution_count": 33,
   "id": "c4928cbb-e5eb-4613-aba9-fac6680695ce",
   "metadata": {},
   "outputs": [],
   "source": [
    "sum=lambda a,b,c: a+b+c"
   ]
  },
  {
   "cell_type": "code",
   "execution_count": 34,
   "id": "f647fc48-9862-4aa6-957a-65238c6ed813",
   "metadata": {},
   "outputs": [
    {
     "data": {
      "text/plain": [
       "6"
      ]
     },
     "execution_count": 34,
     "metadata": {},
     "output_type": "execute_result"
    }
   ],
   "source": [
    "sum(1,2,3)"
   ]
  },
  {
   "cell_type": "code",
   "execution_count": 47,
   "id": "793b666e-f80a-4787-aebe-9c1fb3183875",
   "metadata": {},
   "outputs": [
    {
     "name": "stdin",
     "output_type": "stream",
     "text": [
      "Enter number 12\n",
      "Enter number 1\n",
      "Enter number 2\n"
     ]
    },
    {
     "name": "stdout",
     "output_type": "stream",
     "text": [
      "15\n"
     ]
    }
   ],
   "source": [
    "a=int(input(\"Enter number\"))\n",
    "b=int(input(\"Enter number\"))\n",
    "c=int(input(\"Enter number\"))\n",
    "sum=lambda a,b,c:(a+b+c)\n",
    "print(sum(a,b,c))"
   ]
  },
  {
   "cell_type": "code",
   "execution_count": null,
   "id": "8175018e-c915-419e-8148-5356e6a91928",
   "metadata": {},
   "outputs": [],
   "source": []
  },
  {
   "cell_type": "code",
   "execution_count": null,
   "id": "574a804c-87aa-4978-b283-4eeae592019b",
   "metadata": {},
   "outputs": [],
   "source": [
    "# real use case"
   ]
  },
  {
   "cell_type": "code",
   "execution_count": 57,
   "id": "17cd115c-6baa-4f74-9699-72c89e6245df",
   "metadata": {},
   "outputs": [],
   "source": [
    "Products =[\n",
    "    {'name':'mobile1','price':50},\n",
    "    {'name':'mobile2','price':52},\n",
    "    {'name':'mobile3','price':23},\n",
    "    {'name':'mobile4','price':54}\n",
    "]\n",
    "sorted_products= sorted(Products ,key=lambda x:x['price'])\n"
   ]
  },
  {
   "cell_type": "code",
   "execution_count": 58,
   "id": "5e58dde4-8c02-4741-b338-187b57ca958a",
   "metadata": {},
   "outputs": [
    {
     "name": "stdout",
     "output_type": "stream",
     "text": [
      "{'name': 'mobile3', 'price': 23}\n",
      "{'name': 'mobile1', 'price': 50}\n",
      "{'name': 'mobile2', 'price': 52}\n",
      "{'name': 'mobile4', 'price': 54}\n"
     ]
    }
   ],
   "source": [
    "for i in sorted_products:\n",
    "    print(i)"
   ]
  },
  {
   "cell_type": "code",
   "execution_count": 59,
   "id": "2ec1f586-c2c2-4982-bd0f-8bc8f187229e",
   "metadata": {},
   "outputs": [],
   "source": [
    "Products =[\n",
    "    {'name':'mobile1','price':50},\n",
    "    {'name':'mobile2','price':52},\n",
    "    {'name':'mobile3','price':23},\n",
    "    {'name':'mobile4','price':54}\n",
    "]\n",
    "sorted_products= sorted(Products ,key=lambda x:x['price'],reverse=True)"
   ]
  },
  {
   "cell_type": "code",
   "execution_count": 60,
   "id": "02bc2f76-5229-4267-a5e8-af37e1bfecc7",
   "metadata": {},
   "outputs": [
    {
     "name": "stdout",
     "output_type": "stream",
     "text": [
      "{'name': 'mobile4', 'price': 54}\n",
      "{'name': 'mobile2', 'price': 52}\n",
      "{'name': 'mobile1', 'price': 50}\n",
      "{'name': 'mobile3', 'price': 23}\n"
     ]
    }
   ],
   "source": [
    "for i in sorted_products:\n",
    "    print(i)"
   ]
  },
  {
   "cell_type": "code",
   "execution_count": 65,
   "id": "bd5a8cbd-27fb-40c2-89fb-a085d35370bb",
   "metadata": {},
   "outputs": [],
   "source": [
    "# Write a lambda Expressions that accept a charater as argument and return true\n",
    "# if it is a vowel other false\n",
    "# a e i o u\n",
    "# input----Abhinesh\n",
    "# output----A i e\n"
   ]
  },
  {
   "cell_type": "code",
   "execution_count": null,
   "id": "9137e7e9-c83c-411d-a71d-6ed2a25e4a88",
   "metadata": {},
   "outputs": [],
   "source": [
    "# filter"
   ]
  },
  {
   "cell_type": "code",
   "execution_count": 68,
   "id": "10f56a65-148f-45b9-9027-09f4ae9a5e38",
   "metadata": {},
   "outputs": [],
   "source": [
    "# map"
   ]
  },
  {
   "cell_type": "code",
   "execution_count": 69,
   "id": "c013ed3c-0666-491e-b6c9-bf31b0601fb5",
   "metadata": {},
   "outputs": [],
   "source": [
    "# reduce"
   ]
  },
  {
   "cell_type": "code",
   "execution_count": null,
   "id": "704d69ed-ee1f-4f08-a24a-d2d5cf0b6005",
   "metadata": {},
   "outputs": [],
   "source": []
  },
  {
   "cell_type": "code",
   "execution_count": 70,
   "id": "0a03b38d-a3b4-4712-8354-265d68941dde",
   "metadata": {},
   "outputs": [],
   "source": [
    "#  learn in-built functions "
   ]
  },
  {
   "cell_type": "code",
   "execution_count": 71,
   "id": "3b330415-abbd-4f10-b387-cfced206595a",
   "metadata": {},
   "outputs": [],
   "source": [
    "lang=['python','java','c','c++','R']"
   ]
  },
  {
   "cell_type": "code",
   "execution_count": 72,
   "id": "599a209e-335b-46a2-81f2-c9872a5e4715",
   "metadata": {},
   "outputs": [],
   "source": [
    "enumerate_prime=enumerate(lang)"
   ]
  },
  {
   "cell_type": "code",
   "execution_count": 73,
   "id": "21b6cc40-a5b3-4a34-affd-4a40394afa49",
   "metadata": {},
   "outputs": [
    {
     "data": {
      "text/plain": [
       "<enumerate at 0x7f94ee9601c0>"
      ]
     },
     "execution_count": 73,
     "metadata": {},
     "output_type": "execute_result"
    }
   ],
   "source": [
    "enumerate_prime"
   ]
  },
  {
   "cell_type": "code",
   "execution_count": 74,
   "id": "cd1c1ce3-4fd7-4680-a4a8-b509be2cb493",
   "metadata": {},
   "outputs": [
    {
     "data": {
      "text/plain": [
       "[(0, 'python'), (1, 'java'), (2, 'c'), (3, 'c++'), (4, 'R')]"
      ]
     },
     "execution_count": 74,
     "metadata": {},
     "output_type": "execute_result"
    }
   ],
   "source": [
    "list(enumerate_prime)"
   ]
  },
  {
   "cell_type": "code",
   "execution_count": null,
   "id": "e2b7e07d-0c7f-4776-bcec-27fb75b0d9b4",
   "metadata": {},
   "outputs": [],
   "source": []
  },
  {
   "cell_type": "code",
   "execution_count": 75,
   "id": "e5c9b13b-0d2f-4547-b658-59cb36dc1aa5",
   "metadata": {},
   "outputs": [],
   "source": [
    "lan=['python','java','c','c++','R']"
   ]
  },
  {
   "cell_type": "code",
   "execution_count": 82,
   "id": "cbce2108-1172-4d06-b0f2-a15bc26de12c",
   "metadata": {},
   "outputs": [],
   "source": [
    "enumerate_prim=enumerate(lan,10)"
   ]
  },
  {
   "cell_type": "code",
   "execution_count": 83,
   "id": "3305440d-f998-4b09-a51d-fa8b0ffcabb6",
   "metadata": {},
   "outputs": [
    {
     "data": {
      "text/plain": [
       "[(10, 'python'), (11, 'java'), (12, 'c'), (13, 'c++'), (14, 'R')]"
      ]
     },
     "execution_count": 83,
     "metadata": {},
     "output_type": "execute_result"
    }
   ],
   "source": [
    "list(enumerate_prim)"
   ]
  },
  {
   "cell_type": "code",
   "execution_count": null,
   "id": "c442c365-2389-47ca-bb11-1acc38a95beb",
   "metadata": {},
   "outputs": [],
   "source": []
  },
  {
   "cell_type": "code",
   "execution_count": 84,
   "id": "d4c68ef7-bce9-405c-b237-287303f92a36",
   "metadata": {},
   "outputs": [],
   "source": [
    "# list comprehension"
   ]
  },
  {
   "cell_type": "code",
   "execution_count": null,
   "id": "b71ae08c-b8ae-478e-b32c-73123ad0f5e5",
   "metadata": {},
   "outputs": [],
   "source": [
    "[  output    |       collection             |        Condition         ]"
   ]
  },
  {
   "cell_type": "code",
   "execution_count": null,
   "id": "9e9cf76e-bf51-4bdc-be44-17509aaeee92",
   "metadata": {},
   "outputs": [],
   "source": [
    "    []         | for x in range(5)            |  if x %2 ==2"
   ]
  },
  {
   "cell_type": "code",
   "execution_count": 86,
   "id": "650d66c1-a152-4466-80d7-f0650550a2ca",
   "metadata": {},
   "outputs": [],
   "source": [
    "lst =[1,2,3,4,5,6,7,8,9,10]"
   ]
  },
  {
   "cell_type": "code",
   "execution_count": 87,
   "id": "20bb28cb-1895-42d9-8676-bd6a746e1b3a",
   "metadata": {},
   "outputs": [],
   "source": [
    "a=[x for x in lst]"
   ]
  },
  {
   "cell_type": "code",
   "execution_count": 88,
   "id": "d0bc898b-fedc-4700-a6bf-79cbc38c71c3",
   "metadata": {},
   "outputs": [
    {
     "data": {
      "text/plain": [
       "[1, 2, 3, 4, 5, 6, 7, 8, 9, 10]"
      ]
     },
     "execution_count": 88,
     "metadata": {},
     "output_type": "execute_result"
    }
   ],
   "source": [
    "a"
   ]
  },
  {
   "cell_type": "code",
   "execution_count": 91,
   "id": "98684c57-8242-4cbc-bb82-71290fa16ea6",
   "metadata": {},
   "outputs": [],
   "source": [
    "lst =[1,2,3,4,5,6,7,8,9,10]\n",
    "a=[x+1 for x in lst]"
   ]
  },
  {
   "cell_type": "code",
   "execution_count": 92,
   "id": "27652250-e857-47e4-932c-5b0a8fae777c",
   "metadata": {},
   "outputs": [
    {
     "data": {
      "text/plain": [
       "[2, 3, 4, 5, 6, 7, 8, 9, 10, 11]"
      ]
     },
     "execution_count": 92,
     "metadata": {},
     "output_type": "execute_result"
    }
   ],
   "source": [
    "a"
   ]
  },
  {
   "cell_type": "code",
   "execution_count": 93,
   "id": "d253a0b9-3aa8-48f6-99d9-d0bd93b2d7ea",
   "metadata": {},
   "outputs": [],
   "source": [
    "lst =[1,2,3,4,5,6,7,8,9,10]\n",
    "a=[x*1 for x in lst]"
   ]
  },
  {
   "cell_type": "code",
   "execution_count": 94,
   "id": "6761b426-11c7-4df5-8cbd-187d5e59525e",
   "metadata": {},
   "outputs": [
    {
     "data": {
      "text/plain": [
       "[1, 2, 3, 4, 5, 6, 7, 8, 9, 10]"
      ]
     },
     "execution_count": 94,
     "metadata": {},
     "output_type": "execute_result"
    }
   ],
   "source": [
    "a"
   ]
  },
  {
   "cell_type": "code",
   "execution_count": 97,
   "id": "a9a729c3-5737-4213-b8a6-df5c90c056ec",
   "metadata": {},
   "outputs": [],
   "source": [
    "lst =[1,2,3,4,5,6,7,8,9,10]\n",
    "a=[x*2 for x in lst]"
   ]
  },
  {
   "cell_type": "code",
   "execution_count": 98,
   "id": "7e47a142-7697-4583-9345-e06dddb51b04",
   "metadata": {},
   "outputs": [
    {
     "data": {
      "text/plain": [
       "[2, 4, 6, 8, 10, 12, 14, 16, 18, 20]"
      ]
     },
     "execution_count": 98,
     "metadata": {},
     "output_type": "execute_result"
    }
   ],
   "source": [
    "a"
   ]
  },
  {
   "cell_type": "code",
   "execution_count": 99,
   "id": "0605ff47-e7eb-4d7e-8415-4148f41b132f",
   "metadata": {},
   "outputs": [],
   "source": [
    "lst =[1,2,3,4,5,6,7,8,9,10]\n",
    "a=[x*3 for x in lst]"
   ]
  },
  {
   "cell_type": "code",
   "execution_count": 100,
   "id": "b7d4657a-294c-4d92-82ac-65b1ee1cc104",
   "metadata": {},
   "outputs": [
    {
     "data": {
      "text/plain": [
       "[3, 6, 9, 12, 15, 18, 21, 24, 27, 30]"
      ]
     },
     "execution_count": 100,
     "metadata": {},
     "output_type": "execute_result"
    }
   ],
   "source": [
    "a"
   ]
  },
  {
   "cell_type": "code",
   "execution_count": 102,
   "id": "82ace0fa-75bd-4aae-8dfa-ad4ea6d793d8",
   "metadata": {},
   "outputs": [],
   "source": [
    "lst =[1,2,3,4,5,6,7,8,9,10]\n",
    "c=[x for x in lst if x>4]"
   ]
  },
  {
   "cell_type": "code",
   "execution_count": 103,
   "id": "b3ed7cc9-e1fd-46b5-ab9e-c8dfd10815a2",
   "metadata": {},
   "outputs": [
    {
     "data": {
      "text/plain": [
       "[5, 6, 7, 8, 9, 10]"
      ]
     },
     "execution_count": 103,
     "metadata": {},
     "output_type": "execute_result"
    }
   ],
   "source": [
    "c"
   ]
  },
  {
   "cell_type": "code",
   "execution_count": 104,
   "id": "0727d587-95b5-4da0-ab16-8a3495155aee",
   "metadata": {},
   "outputs": [],
   "source": [
    "lst =[1,2,3,4,5,6,7,8,9,10]\n",
    "c=[x for x in lst if x %2==0]"
   ]
  },
  {
   "cell_type": "code",
   "execution_count": 105,
   "id": "f2d892ee-f092-4d76-9b05-d7aa14cdaf0f",
   "metadata": {},
   "outputs": [
    {
     "data": {
      "text/plain": [
       "[2, 4, 6, 8, 10]"
      ]
     },
     "execution_count": 105,
     "metadata": {},
     "output_type": "execute_result"
    }
   ],
   "source": [
    "c"
   ]
  },
  {
   "cell_type": "code",
   "execution_count": 106,
   "id": "293bed9e-a41a-43e7-9417-d37a9db4f941",
   "metadata": {},
   "outputs": [],
   "source": [
    "lst =[1,2,3,4,5,6,7,8,9,10]\n",
    "c=[x for x in lst if x %2!=0]"
   ]
  },
  {
   "cell_type": "code",
   "execution_count": 107,
   "id": "ea68cf89-6569-42c6-bb0b-db87491a41fa",
   "metadata": {},
   "outputs": [
    {
     "data": {
      "text/plain": [
       "[1, 3, 5, 7, 9]"
      ]
     },
     "execution_count": 107,
     "metadata": {},
     "output_type": "execute_result"
    }
   ],
   "source": [
    "c"
   ]
  },
  {
   "cell_type": "code",
   "execution_count": 108,
   "id": "febd6f7e-a6cb-4ddd-822f-0bc9d3c60f88",
   "metadata": {},
   "outputs": [],
   "source": [
    "lst =[1,2,3,4,5,6,7,8,9,10]\n",
    "d=[x for x in lst if x>4 if x %2==0]"
   ]
  },
  {
   "cell_type": "code",
   "execution_count": 109,
   "id": "69749058-c5ae-4f04-8757-3a611c05c018",
   "metadata": {},
   "outputs": [
    {
     "data": {
      "text/plain": [
       "[6, 8, 10]"
      ]
     },
     "execution_count": 109,
     "metadata": {},
     "output_type": "execute_result"
    }
   ],
   "source": [
    "d"
   ]
  },
  {
   "cell_type": "code",
   "execution_count": 112,
   "id": "356f2f72-9882-477f-a42f-712f63b7df70",
   "metadata": {},
   "outputs": [],
   "source": [
    "lst =[1,2,3,4,5,6,7,8,9,10]\n",
    "e=[x if x>4 else 'lessthan 4' for x in lst]"
   ]
  },
  {
   "cell_type": "code",
   "execution_count": 113,
   "id": "893d5b48-8c60-4ddc-9457-6189f320c3a9",
   "metadata": {},
   "outputs": [
    {
     "data": {
      "text/plain": [
       "['lessthan 4', 'lessthan 4', 'lessthan 4', 'lessthan 4', 5, 6, 7, 8, 9, 10]"
      ]
     },
     "execution_count": 113,
     "metadata": {},
     "output_type": "execute_result"
    }
   ],
   "source": [
    "e"
   ]
  },
  {
   "cell_type": "code",
   "execution_count": null,
   "id": "46532a08-7517-4507-89f3-44538583d363",
   "metadata": {},
   "outputs": [],
   "source": []
  },
  {
   "cell_type": "code",
   "execution_count": 116,
   "id": "ecbc839a-d035-4449-9fe9-e42e81e5bb0b",
   "metadata": {},
   "outputs": [],
   "source": [
    "lst =[1,2,3,4,5,6,7,8,9,10]\n",
    "f =['two' if x%2==0 else 'three' if x%3==0 else 'not 2 and 3 ' for x in lst]"
   ]
  },
  {
   "cell_type": "code",
   "execution_count": 117,
   "id": "94c5b503-9308-4470-abdb-3d1e4ef1ca92",
   "metadata": {},
   "outputs": [
    {
     "data": {
      "text/plain": [
       "['not 2 and 3 ',\n",
       " 'two',\n",
       " 'three',\n",
       " 'two',\n",
       " 'not 2 and 3 ',\n",
       " 'two',\n",
       " 'not 2 and 3 ',\n",
       " 'two',\n",
       " 'three',\n",
       " 'two']"
      ]
     },
     "execution_count": 117,
     "metadata": {},
     "output_type": "execute_result"
    }
   ],
   "source": [
    "f"
   ]
  },
  {
   "cell_type": "code",
   "execution_count": null,
   "id": "3412fcbd-1163-4978-98f0-7dfa391eda2b",
   "metadata": {},
   "outputs": [],
   "source": []
  }
 ],
 "metadata": {
  "kernelspec": {
   "display_name": "Python 3 (ipykernel)",
   "language": "python",
   "name": "python3"
  },
  "language_info": {
   "codemirror_mode": {
    "name": "ipython",
    "version": 3
   },
   "file_extension": ".py",
   "mimetype": "text/x-python",
   "name": "python",
   "nbconvert_exporter": "python",
   "pygments_lexer": "ipython3",
   "version": "3.10.8"
  }
 },
 "nbformat": 4,
 "nbformat_minor": 5
}
