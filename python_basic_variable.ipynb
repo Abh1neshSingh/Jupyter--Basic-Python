{
 "cells": [
  {
   "cell_type": "code",
   "execution_count": 9,
   "id": "7a2e1b0f-3c13-4099-863a-9a41e388e710",
   "metadata": {},
   "outputs": [],
   "source": [
    "a=10"
   ]
  },
  {
   "cell_type": "code",
   "execution_count": 10,
   "id": "6247c8f8-67df-4618-983f-15c19d2f8a96",
   "metadata": {},
   "outputs": [
    {
     "data": {
      "text/plain": [
       "10"
      ]
     },
     "execution_count": 10,
     "metadata": {},
     "output_type": "execute_result"
    }
   ],
   "source": [
    "a"
   ]
  },
  {
   "cell_type": "code",
   "execution_count": 10,
   "id": "b29ba712-d504-4aef-a981-06b2c5a06a2c",
   "metadata": {},
   "outputs": [],
   "source": [
    "abhi=2323"
   ]
  },
  {
   "cell_type": "code",
   "execution_count": 11,
   "id": "0f939d9f-7880-45fd-8868-f09e7f388761",
   "metadata": {},
   "outputs": [
    {
     "data": {
      "text/plain": [
       "2323"
      ]
     },
     "execution_count": 11,
     "metadata": {},
     "output_type": "execute_result"
    }
   ],
   "source": [
    "abhi"
   ]
  },
  {
   "cell_type": "code",
   "execution_count": 12,
   "id": "14454ab6-8197-43e5-be5a-2b8bb6b4f55b",
   "metadata": {},
   "outputs": [
    {
     "data": {
      "text/plain": [
       "int"
      ]
     },
     "execution_count": 12,
     "metadata": {},
     "output_type": "execute_result"
    }
   ],
   "source": [
    "type(abhi)"
   ]
  },
  {
   "cell_type": "code",
   "execution_count": 13,
   "id": "ba85a664-fcf0-4755-bae7-e7a221e77b3b",
   "metadata": {},
   "outputs": [],
   "source": [
    "b=34.34"
   ]
  },
  {
   "cell_type": "code",
   "execution_count": 14,
   "id": "68de737e-f1ac-41cb-898b-65c7c783b286",
   "metadata": {},
   "outputs": [
    {
     "data": {
      "text/plain": [
       "34.34"
      ]
     },
     "execution_count": 14,
     "metadata": {},
     "output_type": "execute_result"
    }
   ],
   "source": [
    "b"
   ]
  },
  {
   "cell_type": "code",
   "execution_count": 15,
   "id": "b44d4342-258c-402e-9371-fc039507ad0b",
   "metadata": {},
   "outputs": [
    {
     "data": {
      "text/plain": [
       "float"
      ]
     },
     "execution_count": 15,
     "metadata": {},
     "output_type": "execute_result"
    }
   ],
   "source": [
    "type(b)"
   ]
  },
  {
   "cell_type": "code",
   "execution_count": 17,
   "id": "9cb18bb7-761b-4f2f-a0ea-8cff18272eff",
   "metadata": {},
   "outputs": [],
   "source": [
    "s=\"Abhinesh Singh\""
   ]
  },
  {
   "cell_type": "code",
   "execution_count": 18,
   "id": "148fd44d-9a3c-4082-a82d-1937accdc3b9",
   "metadata": {},
   "outputs": [
    {
     "data": {
      "text/plain": [
       "str"
      ]
     },
     "execution_count": 18,
     "metadata": {},
     "output_type": "execute_result"
    }
   ],
   "source": [
    "type(s)"
   ]
  },
  {
   "cell_type": "code",
   "execution_count": 19,
   "id": "a633086d-dd68-4154-940d-e7a0e635fe1c",
   "metadata": {},
   "outputs": [
    {
     "data": {
      "text/plain": [
       "'Abhinesh Singh'"
      ]
     },
     "execution_count": 19,
     "metadata": {},
     "output_type": "execute_result"
    }
   ],
   "source": [
    "s"
   ]
  },
  {
   "cell_type": "code",
   "execution_count": 20,
   "id": "946eadcf-7e02-465d-9944-51198687cf78",
   "metadata": {},
   "outputs": [],
   "source": [
    "s1=' this is my first pythons lectures'\n"
   ]
  },
  {
   "cell_type": "code",
   "execution_count": 21,
   "id": "ffec34a5-6237-4652-9cc4-40c4ad934e87",
   "metadata": {},
   "outputs": [
    {
     "data": {
      "text/plain": [
       "' this is my first pythons lectures'"
      ]
     },
     "execution_count": 21,
     "metadata": {},
     "output_type": "execute_result"
    }
   ],
   "source": [
    "s1"
   ]
  },
  {
   "cell_type": "code",
   "execution_count": 22,
   "id": "0be9e9e6-0d1f-461f-8898-f6ae74375d90",
   "metadata": {},
   "outputs": [
    {
     "data": {
      "text/plain": [
       "str"
      ]
     },
     "execution_count": 22,
     "metadata": {},
     "output_type": "execute_result"
    }
   ],
   "source": [
    "type(s1)"
   ]
  },
  {
   "cell_type": "code",
   "execution_count": 23,
   "id": "377e0ff0-2543-4283-b025-4cd856b30897",
   "metadata": {},
   "outputs": [],
   "source": [
    "c = 23+ 6j"
   ]
  },
  {
   "cell_type": "code",
   "execution_count": 24,
   "id": "c7420dd9-ead5-4eec-9fac-c2c169d78daa",
   "metadata": {},
   "outputs": [
    {
     "data": {
      "text/plain": [
       "complex"
      ]
     },
     "execution_count": 24,
     "metadata": {},
     "output_type": "execute_result"
    }
   ],
   "source": [
    "type(c)"
   ]
  },
  {
   "cell_type": "code",
   "execution_count": 25,
   "id": "eab33a32-2b5e-4bda-93fd-7c85b7911d29",
   "metadata": {},
   "outputs": [
    {
     "data": {
      "text/plain": [
       "(23+6j)"
      ]
     },
     "execution_count": 25,
     "metadata": {},
     "output_type": "execute_result"
    }
   ],
   "source": [
    "c"
   ]
  },
  {
   "cell_type": "code",
   "execution_count": 26,
   "id": "2248472f-1750-4320-9dcc-3512498b5017",
   "metadata": {},
   "outputs": [
    {
     "data": {
      "text/plain": [
       "23.0"
      ]
     },
     "execution_count": 26,
     "metadata": {},
     "output_type": "execute_result"
    }
   ],
   "source": [
    "c.real"
   ]
  },
  {
   "cell_type": "code",
   "execution_count": 27,
   "id": "60a30970-4247-4e39-babc-6eab94058fa0",
   "metadata": {},
   "outputs": [
    {
     "data": {
      "text/plain": [
       "6.0"
      ]
     },
     "execution_count": 27,
     "metadata": {},
     "output_type": "execute_result"
    }
   ],
   "source": [
    "c.imag"
   ]
  },
  {
   "cell_type": "code",
   "execution_count": 28,
   "id": "81b6ec50-cd79-4918-83d9-049afaea054b",
   "metadata": {},
   "outputs": [],
   "source": [
    "b= True"
   ]
  },
  {
   "cell_type": "code",
   "execution_count": 29,
   "id": "3b5d9461-6259-42a0-9498-243628e054be",
   "metadata": {},
   "outputs": [
    {
     "data": {
      "text/plain": [
       "bool"
      ]
     },
     "execution_count": 29,
     "metadata": {},
     "output_type": "execute_result"
    }
   ],
   "source": [
    "type(b)"
   ]
  },
  {
   "cell_type": "code",
   "execution_count": 30,
   "id": "2af27235-5c21-4a14-9e2c-d0a243ea8e8a",
   "metadata": {},
   "outputs": [
    {
     "data": {
      "text/plain": [
       "True"
      ]
     },
     "execution_count": 30,
     "metadata": {},
     "output_type": "execute_result"
    }
   ],
   "source": [
    "b"
   ]
  },
  {
   "cell_type": "code",
   "execution_count": 31,
   "id": "bd1341f0-bc33-442d-bc7b-03230a385f94",
   "metadata": {},
   "outputs": [],
   "source": [
    "b1 = False"
   ]
  },
  {
   "cell_type": "code",
   "execution_count": 32,
   "id": "557b1d8b-c25b-4427-aad4-59bc341a906f",
   "metadata": {},
   "outputs": [
    {
     "data": {
      "text/plain": [
       "bool"
      ]
     },
     "execution_count": 32,
     "metadata": {},
     "output_type": "execute_result"
    }
   ],
   "source": [
    "type(b1)"
   ]
  },
  {
   "cell_type": "code",
   "execution_count": 33,
   "id": "0b3c24d2-775e-4b9a-aa6d-52b8d8c2cca4",
   "metadata": {},
   "outputs": [],
   "source": [
    "a1= 45\n",
    "a2= 34"
   ]
  },
  {
   "cell_type": "code",
   "execution_count": 34,
   "id": "4188b381-6826-4ab0-9b02-53bad9deaf8c",
   "metadata": {},
   "outputs": [
    {
     "data": {
      "text/plain": [
       "79"
      ]
     },
     "execution_count": 34,
     "metadata": {},
     "output_type": "execute_result"
    }
   ],
   "source": [
    "a1+a2"
   ]
  },
  {
   "cell_type": "code",
   "execution_count": 35,
   "id": "29b4c0fb-7280-4e68-8817-f576533119b9",
   "metadata": {},
   "outputs": [
    {
     "data": {
      "text/plain": [
       "11"
      ]
     },
     "execution_count": 35,
     "metadata": {},
     "output_type": "execute_result"
    }
   ],
   "source": [
    "a1-a2"
   ]
  },
  {
   "cell_type": "code",
   "execution_count": 36,
   "id": "36ad90fa-c932-40ee-8dc3-ae0156b3ed37",
   "metadata": {},
   "outputs": [
    {
     "data": {
      "text/plain": [
       "1530"
      ]
     },
     "execution_count": 36,
     "metadata": {},
     "output_type": "execute_result"
    }
   ],
   "source": [
    "a1*a2"
   ]
  },
  {
   "cell_type": "code",
   "execution_count": 37,
   "id": "3a764728-5b64-43ae-a2ae-08fb63f41406",
   "metadata": {},
   "outputs": [],
   "source": [
    "aa1 , aa2 = 23 , 33"
   ]
  },
  {
   "cell_type": "code",
   "execution_count": 38,
   "id": "1259d794-7873-4e5c-9394-ac55f82e6929",
   "metadata": {},
   "outputs": [
    {
     "data": {
      "text/plain": [
       "23"
      ]
     },
     "execution_count": 38,
     "metadata": {},
     "output_type": "execute_result"
    }
   ],
   "source": [
    "aa1"
   ]
  },
  {
   "cell_type": "code",
   "execution_count": 39,
   "id": "dfef8f75-e0a0-42ed-a0e1-4781f6be94a0",
   "metadata": {},
   "outputs": [
    {
     "data": {
      "text/plain": [
       "33"
      ]
     },
     "execution_count": 39,
     "metadata": {},
     "output_type": "execute_result"
    }
   ],
   "source": [
    "aa2"
   ]
  },
  {
   "cell_type": "code",
   "execution_count": 40,
   "id": "2af435bf-afeb-4a88-8d65-7affb21bdead",
   "metadata": {},
   "outputs": [
    {
     "data": {
      "text/plain": [
       "56"
      ]
     },
     "execution_count": 40,
     "metadata": {},
     "output_type": "execute_result"
    }
   ],
   "source": [
    "aa1+aa2"
   ]
  },
  {
   "cell_type": "code",
   "execution_count": 1,
   "id": "6376cbbf-e251-41b2-8ab6-4d02ba1ce843",
   "metadata": {},
   "outputs": [],
   "source": [
    "x=23"
   ]
  },
  {
   "cell_type": "code",
   "execution_count": 2,
   "id": "95a9aece-4ce3-48fd-8932-f9b7a26257ee",
   "metadata": {},
   "outputs": [
    {
     "data": {
      "text/plain": [
       "23"
      ]
     },
     "execution_count": 2,
     "metadata": {},
     "output_type": "execute_result"
    }
   ],
   "source": [
    "x"
   ]
  },
  {
   "cell_type": "code",
   "execution_count": 3,
   "id": "179e3f13-d4c0-48fc-bd3f-7dbe9b17e196",
   "metadata": {},
   "outputs": [
    {
     "data": {
      "text/plain": [
       "int"
      ]
     },
     "execution_count": 3,
     "metadata": {},
     "output_type": "execute_result"
    }
   ],
   "source": [
    "type(x)"
   ]
  },
  {
   "cell_type": "code",
   "execution_count": 6,
   "id": "92d91f53-a2bb-4c41-8f74-4dcc800f5c8c",
   "metadata": {},
   "outputs": [
    {
     "data": {
      "text/plain": [
       "int"
      ]
     },
     "execution_count": 6,
     "metadata": {},
     "output_type": "execute_result"
    }
   ],
   "source": [
    "type(x)"
   ]
  },
  {
   "cell_type": "code",
   "execution_count": 11,
   "id": "e1b8796a-8026-45c3-980a-527aee292b32",
   "metadata": {},
   "outputs": [
    {
     "data": {
      "text/plain": [
       "int"
      ]
     },
     "execution_count": 11,
     "metadata": {},
     "output_type": "execute_result"
    }
   ],
   "source": [
    "type(x)"
   ]
  },
  {
   "cell_type": "code",
   "execution_count": 2,
   "id": "40e6515f-415b-4445-9741-7d2b2a14c8d5",
   "metadata": {},
   "outputs": [],
   "source": [
    "aa1=12\n",
    "aa2=23"
   ]
  },
  {
   "cell_type": "code",
   "execution_count": 3,
   "id": "e0779845-5f6d-4e24-b467-992a00cf7555",
   "metadata": {},
   "outputs": [
    {
     "data": {
      "text/plain": [
       "35"
      ]
     },
     "execution_count": 3,
     "metadata": {},
     "output_type": "execute_result"
    }
   ],
   "source": [
    "aa1+aa2"
   ]
  },
  {
   "cell_type": "code",
   "execution_count": 4,
   "id": "d374cfbd-932d-46cd-80fa-655ff8902de6",
   "metadata": {},
   "outputs": [
    {
     "data": {
      "text/plain": [
       "-11"
      ]
     },
     "execution_count": 4,
     "metadata": {},
     "output_type": "execute_result"
    }
   ],
   "source": [
    "aa1-aa2"
   ]
  },
  {
   "cell_type": "code",
   "execution_count": 5,
   "id": "11ac1c38-cf35-4b8b-a18e-cc7bb4620b27",
   "metadata": {},
   "outputs": [
    {
     "data": {
      "text/plain": [
       "0.5217391304347826"
      ]
     },
     "execution_count": 5,
     "metadata": {},
     "output_type": "execute_result"
    }
   ],
   "source": [
    "aa1/aa2"
   ]
  },
  {
   "cell_type": "code",
   "execution_count": 6,
   "id": "682af942-c022-4a68-beae-b93a642e7a07",
   "metadata": {},
   "outputs": [],
   "source": [
    "p, q, r,s= 234, \"Abhinesh\", True, 23.4"
   ]
  },
  {
   "cell_type": "code",
   "execution_count": 7,
   "id": "b47fca8d-dd5d-4bad-8e63-2ef124fb634d",
   "metadata": {},
   "outputs": [
    {
     "data": {
      "text/plain": [
       "234"
      ]
     },
     "execution_count": 7,
     "metadata": {},
     "output_type": "execute_result"
    }
   ],
   "source": [
    "p"
   ]
  },
  {
   "cell_type": "code",
   "execution_count": 8,
   "id": "500be029-3883-4ac9-8dac-509c9a0ca3be",
   "metadata": {},
   "outputs": [
    {
     "data": {
      "text/plain": [
       "'Abhinesh'"
      ]
     },
     "execution_count": 8,
     "metadata": {},
     "output_type": "execute_result"
    }
   ],
   "source": [
    "q"
   ]
  },
  {
   "cell_type": "code",
   "execution_count": 9,
   "id": "fba630c5-fc22-4a64-865f-4e4ba849a140",
   "metadata": {},
   "outputs": [
    {
     "data": {
      "text/plain": [
       "str"
      ]
     },
     "execution_count": 9,
     "metadata": {},
     "output_type": "execute_result"
    }
   ],
   "source": [
    "type(q)"
   ]
  },
  {
   "cell_type": "code",
   "execution_count": 10,
   "id": "99d4321e-0dac-40b5-a0ba-f5e67dbfc2df",
   "metadata": {},
   "outputs": [
    {
     "name": "stderr",
     "output_type": "stream",
     "text": [
      "UsageError: Line magic function `%a=345` not found.\n"
     ]
    }
   ],
   "source": [
    "%a=345"
   ]
  },
  {
   "cell_type": "code",
   "execution_count": 11,
   "id": "6add779b-27b8-4f9f-9893-0456ba450a36",
   "metadata": {},
   "outputs": [
    {
     "ename": "SyntaxError",
     "evalue": "invalid binary literal (2007337357.py, line 1)",
     "output_type": "error",
     "traceback": [
      "\u001b[0;36m  Cell \u001b[0;32mIn[11], line 1\u001b[0;36m\u001b[0m\n\u001b[0;31m    0b=A\u001b[0m\n\u001b[0m     ^\u001b[0m\n\u001b[0;31mSyntaxError\u001b[0m\u001b[0;31m:\u001b[0m invalid binary literal\n"
     ]
    }
   ],
   "source": [
    "0b=A"
   ]
  },
  {
   "cell_type": "code",
   "execution_count": 12,
   "id": "37ce715c-75eb-480a-9d3b-6d27c192f785",
   "metadata": {},
   "outputs": [
    {
     "ename": "NameError",
     "evalue": "name 'A' is not defined",
     "output_type": "error",
     "traceback": [
      "\u001b[0;31m---------------------------------------------------------------------------\u001b[0m",
      "\u001b[0;31mNameError\u001b[0m                                 Traceback (most recent call last)",
      "Cell \u001b[0;32mIn[12], line 1\u001b[0m\n\u001b[0;32m----> 1\u001b[0m b0\u001b[38;5;241m=\u001b[39m\u001b[43mA\u001b[49m\n",
      "\u001b[0;31mNameError\u001b[0m: name 'A' is not defined"
     ]
    }
   ],
   "source": [
    "b0=A"
   ]
  },
  {
   "cell_type": "code",
   "execution_count": 13,
   "id": "8e15ccd0-2ca6-4297-a3bd-87b91adec58f",
   "metadata": {},
   "outputs": [],
   "source": [
    "b0=12"
   ]
  },
  {
   "cell_type": "code",
   "execution_count": 14,
   "id": "ecb5bd19-e40c-4cd7-bbe8-5fc0255992d6",
   "metadata": {},
   "outputs": [],
   "source": [
    "_a=12"
   ]
  },
  {
   "cell_type": "code",
   "execution_count": 15,
   "id": "dbdc8425-6ff9-472f-864b-a5a7ad0115af",
   "metadata": {},
   "outputs": [
    {
     "ename": "SyntaxError",
     "evalue": "cannot assign to True (1505068229.py, line 1)",
     "output_type": "error",
     "traceback": [
      "\u001b[0;36m  Cell \u001b[0;32mIn[15], line 1\u001b[0;36m\u001b[0m\n\u001b[0;31m    True=23\u001b[0m\n\u001b[0m    ^\u001b[0m\n\u001b[0;31mSyntaxError\u001b[0m\u001b[0;31m:\u001b[0m cannot assign to True\n"
     ]
    }
   ],
   "source": [
    "True=23"
   ]
  },
  {
   "cell_type": "code",
   "execution_count": 16,
   "id": "005286b4-ca95-4aee-8ef7-72a7d47a33cb",
   "metadata": {},
   "outputs": [
    {
     "ename": "NameError",
     "evalue": "name 'true' is not defined",
     "output_type": "error",
     "traceback": [
      "\u001b[0;31m---------------------------------------------------------------------------\u001b[0m",
      "\u001b[0;31mNameError\u001b[0m                                 Traceback (most recent call last)",
      "Cell \u001b[0;32mIn[16], line 1\u001b[0m\n\u001b[0;32m----> 1\u001b[0m b1\u001b[38;5;241m=\u001b[39m\u001b[43mtrue\u001b[49m\n",
      "\u001b[0;31mNameError\u001b[0m: name 'true' is not defined"
     ]
    }
   ],
   "source": [
    " b1=true"
   ]
  },
  {
   "cell_type": "code",
   "execution_count": 17,
   "id": "7ff8659b-1c2e-4625-b67a-18af56b66400",
   "metadata": {},
   "outputs": [],
   "source": [
    "bi=True"
   ]
  },
  {
   "cell_type": "code",
   "execution_count": 18,
   "id": "15870e27-20ad-45e4-b5cc-96a9a8aa755c",
   "metadata": {},
   "outputs": [],
   "source": [
    "b1=True"
   ]
  },
  {
   "cell_type": "code",
   "execution_count": 19,
   "id": "133e0d5f-d685-49d7-997c-f671f08e8421",
   "metadata": {},
   "outputs": [
    {
     "ename": "NameError",
     "evalue": "name 'b2' is not defined",
     "output_type": "error",
     "traceback": [
      "\u001b[0;31m---------------------------------------------------------------------------\u001b[0m",
      "\u001b[0;31mNameError\u001b[0m                                 Traceback (most recent call last)",
      "Cell \u001b[0;32mIn[19], line 1\u001b[0m\n\u001b[0;32m----> 1\u001b[0m \u001b[43mb2\u001b[49m\n",
      "\u001b[0;31mNameError\u001b[0m: name 'b2' is not defined"
     ]
    }
   ],
   "source": [
    "b2"
   ]
  },
  {
   "cell_type": "code",
   "execution_count": 20,
   "id": "c1994110-f127-45cf-8244-a4b529b6e6d6",
   "metadata": {},
   "outputs": [],
   "source": [
    "b2=False"
   ]
  },
  {
   "cell_type": "code",
   "execution_count": 21,
   "id": "17ebf8ef-46cc-40f0-8abf-85c7374cf340",
   "metadata": {},
   "outputs": [
    {
     "data": {
      "text/plain": [
       "1"
      ]
     },
     "execution_count": 21,
     "metadata": {},
     "output_type": "execute_result"
    }
   ],
   "source": [
    "b1-b2"
   ]
  },
  {
   "cell_type": "code",
   "execution_count": 22,
   "id": "d07bed7a-f7c7-45f1-b9e7-98d66fb294f1",
   "metadata": {},
   "outputs": [
    {
     "data": {
      "text/plain": [
       "-1"
      ]
     },
     "execution_count": 22,
     "metadata": {},
     "output_type": "execute_result"
    }
   ],
   "source": [
    "b2-b1"
   ]
  },
  {
   "cell_type": "code",
   "execution_count": 23,
   "id": "6bd807bc-fbf8-4ee4-8745-5e94168ccb03",
   "metadata": {},
   "outputs": [
    {
     "ename": "ZeroDivisionError",
     "evalue": "division by zero",
     "output_type": "error",
     "traceback": [
      "\u001b[0;31m---------------------------------------------------------------------------\u001b[0m",
      "\u001b[0;31mZeroDivisionError\u001b[0m                         Traceback (most recent call last)",
      "Cell \u001b[0;32mIn[23], line 1\u001b[0m\n\u001b[0;32m----> 1\u001b[0m \u001b[43mb1\u001b[49m\u001b[38;5;241;43m/\u001b[39;49m\u001b[43mb2\u001b[49m\n",
      "\u001b[0;31mZeroDivisionError\u001b[0m: division by zero"
     ]
    }
   ],
   "source": [
    "b1/b2"
   ]
  },
  {
   "cell_type": "code",
   "execution_count": 24,
   "id": "79b2e424-8525-469a-920c-fc0c8ea4b365",
   "metadata": {},
   "outputs": [
    {
     "data": {
      "text/plain": [
       "0.0"
      ]
     },
     "execution_count": 24,
     "metadata": {},
     "output_type": "execute_result"
    }
   ],
   "source": [
    "b2/b1"
   ]
  },
  {
   "cell_type": "code",
   "execution_count": 26,
   "id": "3272650a-1d72-490c-a300-31a4270e7475",
   "metadata": {},
   "outputs": [],
   "source": [
    "s1= 'My name is Abhinesh singh'"
   ]
  },
  {
   "cell_type": "code",
   "execution_count": 27,
   "id": "33b68ab7-ab22-4636-a6fd-472a4d609867",
   "metadata": {},
   "outputs": [
    {
     "data": {
      "text/plain": [
       "'My name is Abhinesh singh'"
      ]
     },
     "execution_count": 27,
     "metadata": {},
     "output_type": "execute_result"
    }
   ],
   "source": [
    "s1"
   ]
  },
  {
   "cell_type": "code",
   "execution_count": 28,
   "id": "93e1bc1e-fe64-4fdf-bf48-08c3c4e3a2e1",
   "metadata": {},
   "outputs": [],
   "source": [
    "s2=\"Hello guys\""
   ]
  },
  {
   "cell_type": "code",
   "execution_count": 29,
   "id": "ac5d0889-1cb8-4ac9-9069-3e8fe6e1a7d8",
   "metadata": {},
   "outputs": [
    {
     "data": {
      "text/plain": [
       "'Hello guys'"
      ]
     },
     "execution_count": 29,
     "metadata": {},
     "output_type": "execute_result"
    }
   ],
   "source": [
    "s2"
   ]
  },
  {
   "cell_type": "code",
   "execution_count": 30,
   "id": "b03a34da-faa7-4fef-a2bb-5f04181eb20e",
   "metadata": {},
   "outputs": [
    {
     "ename": "TypeError",
     "evalue": "type() takes 1 or 3 arguments",
     "output_type": "error",
     "traceback": [
      "\u001b[0;31m---------------------------------------------------------------------------\u001b[0m",
      "\u001b[0;31mTypeError\u001b[0m                                 Traceback (most recent call last)",
      "Cell \u001b[0;32mIn[30], line 1\u001b[0m\n\u001b[0;32m----> 1\u001b[0m \u001b[38;5;28;43mtype\u001b[39;49m\u001b[43m(\u001b[49m\u001b[43ms1\u001b[49m\u001b[43m,\u001b[49m\u001b[43ms2\u001b[49m\u001b[43m)\u001b[49m\n",
      "\u001b[0;31mTypeError\u001b[0m: type() takes 1 or 3 arguments"
     ]
    }
   ],
   "source": [
    "type(s1,s2)"
   ]
  },
  {
   "cell_type": "code",
   "execution_count": 31,
   "id": "e0137f59-02b9-4546-adc1-912a81c9b4a7",
   "metadata": {},
   "outputs": [
    {
     "data": {
      "text/plain": [
       "str"
      ]
     },
     "execution_count": 31,
     "metadata": {},
     "output_type": "execute_result"
    }
   ],
   "source": [
    "type(s1)"
   ]
  },
  {
   "cell_type": "code",
   "execution_count": 32,
   "id": "91cf2cac-c5c1-453e-a573-ac455cf901ed",
   "metadata": {},
   "outputs": [
    {
     "data": {
      "text/plain": [
       "str"
      ]
     },
     "execution_count": 32,
     "metadata": {},
     "output_type": "execute_result"
    }
   ],
   "source": [
    "type(s2)"
   ]
  },
  {
   "cell_type": "code",
   "execution_count": 37,
   "id": "5434e119-ac82-452f-b625-659fd67ee403",
   "metadata": {},
   "outputs": [],
   "source": [
    "#this is my code to create a string variable with quotes\n",
    "s3= \"this is my first class for data science master's\""
   ]
  },
  {
   "cell_type": "code",
   "execution_count": 34,
   "id": "e591ccaf-de46-4f37-bade-fe3bc806b28b",
   "metadata": {},
   "outputs": [
    {
     "data": {
      "text/plain": [
       "\"this is my first class for data science master's\""
      ]
     },
     "execution_count": 34,
     "metadata": {},
     "output_type": "execute_result"
    }
   ],
   "source": [
    "s3"
   ]
  },
  {
   "cell_type": "code",
   "execution_count": 35,
   "id": "d7546299-5d1e-4698-a892-d5e6538877cb",
   "metadata": {},
   "outputs": [],
   "source": [
    "s4='this is my first class for data science masters\"s'"
   ]
  },
  {
   "cell_type": "code",
   "execution_count": 38,
   "id": "548952e9-c0ee-454f-a2be-d8151385b2cb",
   "metadata": {},
   "outputs": [
    {
     "data": {
      "text/plain": [
       "'this is my first class for data science masters\"s'"
      ]
     },
     "execution_count": 38,
     "metadata": {},
     "output_type": "execute_result"
    }
   ],
   "source": [
    "s4"
   ]
  },
  {
   "cell_type": "code",
   "execution_count": 39,
   "id": "731cc6b9-8be7-49d6-80f3-9da8694950ff",
   "metadata": {},
   "outputs": [],
   "source": [
    "'''this is my first python class \n",
    "I am try to learn variable Declaration \n",
    "so far learnt int ,boolean, string, comples, flat etc'''\n",
    "s5=10"
   ]
  },
  {
   "cell_type": "code",
   "execution_count": 40,
   "id": "9e6d6171-bdde-41bc-9a7d-ff563d9b1f47",
   "metadata": {},
   "outputs": [
    {
     "data": {
      "text/plain": [
       "10"
      ]
     },
     "execution_count": 40,
     "metadata": {},
     "output_type": "execute_result"
    }
   ],
   "source": [
    "s5"
   ]
  },
  {
   "cell_type": "code",
   "execution_count": 1,
   "id": "2fc9a77f-da12-43cb-9c33-caf8cbf7e132",
   "metadata": {},
   "outputs": [],
   "source": [
    "s7=23"
   ]
  },
  {
   "cell_type": "code",
   "execution_count": 2,
   "id": "cac7834e-550f-4095-98b6-785001c81520",
   "metadata": {},
   "outputs": [
    {
     "data": {
      "text/plain": [
       "23"
      ]
     },
     "execution_count": 2,
     "metadata": {},
     "output_type": "execute_result"
    }
   ],
   "source": [
    "s7"
   ]
  },
  {
   "cell_type": "code",
   "execution_count": 3,
   "id": "4246c165-9604-4492-885d-76a50ba1331a",
   "metadata": {},
   "outputs": [],
   "source": [
    "s8=\"Abhinesh\""
   ]
  },
  {
   "cell_type": "code",
   "execution_count": 4,
   "id": "91eafb28-5ea6-4b59-a95f-f526be608d0c",
   "metadata": {},
   "outputs": [],
   "source": [
    "s9=23"
   ]
  },
  {
   "cell_type": "code",
   "execution_count": 5,
   "id": "c38f97e6-35ec-4035-abf9-9e12f2174333",
   "metadata": {},
   "outputs": [
    {
     "ename": "TypeError",
     "evalue": "can only concatenate str (not \"int\") to str",
     "output_type": "error",
     "traceback": [
      "\u001b[0;31m---------------------------------------------------------------------------\u001b[0m",
      "\u001b[0;31mTypeError\u001b[0m                                 Traceback (most recent call last)",
      "Cell \u001b[0;32mIn[5], line 1\u001b[0m\n\u001b[0;32m----> 1\u001b[0m \u001b[43ms8\u001b[49m\u001b[38;5;241;43m+\u001b[39;49m\u001b[43ms9\u001b[49m\n",
      "\u001b[0;31mTypeError\u001b[0m: can only concatenate str (not \"int\") to str"
     ]
    }
   ],
   "source": [
    "s8+s9"
   ]
  },
  {
   "cell_type": "code",
   "execution_count": 8,
   "id": "b20997dc-7ec1-4c11-8db8-d14f25081219",
   "metadata": {},
   "outputs": [
    {
     "data": {
      "text/plain": [
       "'23'"
      ]
     },
     "execution_count": 8,
     "metadata": {},
     "output_type": "execute_result"
    }
   ],
   "source": [
    "# here we convert above int data type into string type \n",
    "# and also know as the type casting\n",
    "str(s9)"
   ]
  },
  {
   "cell_type": "code",
   "execution_count": 9,
   "id": "c27941d1-016e-4d71-bf02-cd6e9cc29778",
   "metadata": {},
   "outputs": [],
   "source": [
    "p1=10"
   ]
  },
  {
   "cell_type": "code",
   "execution_count": 10,
   "id": "0289e035-3c7c-433a-bf89-44fd063a0b78",
   "metadata": {},
   "outputs": [],
   "source": [
    "p2=str(p1)"
   ]
  },
  {
   "cell_type": "code",
   "execution_count": 11,
   "id": "7d2cf6b7-f151-4b26-9e99-3e6b95a8a6ee",
   "metadata": {},
   "outputs": [
    {
     "data": {
      "text/plain": [
       "'10'"
      ]
     },
     "execution_count": 11,
     "metadata": {},
     "output_type": "execute_result"
    }
   ],
   "source": [
    "p2"
   ]
  },
  {
   "cell_type": "code",
   "execution_count": 12,
   "id": "f5a4e367-777c-4f03-bfb5-84e60debd5c0",
   "metadata": {},
   "outputs": [
    {
     "data": {
      "text/plain": [
       "10"
      ]
     },
     "execution_count": 12,
     "metadata": {},
     "output_type": "execute_result"
    }
   ],
   "source": [
    "int(p2)"
   ]
  },
  {
   "cell_type": "code",
   "execution_count": null,
   "id": "7704cecc-8b31-40cd-a3e6-8d9dfeba5f28",
   "metadata": {},
   "outputs": [],
   "source": [
    "# here we learn  how to take input data  by user\n",
    "# by using this function --- input()"
   ]
  },
  {
   "cell_type": "code",
   "execution_count": null,
   "id": "945cba72-341f-4bf1-aa5e-67594d039c46",
   "metadata": {},
   "outputs": [],
   "source": []
  },
  {
   "cell_type": "code",
   "execution_count": null,
   "id": "7fd00a54-9ce6-4240-9609-55db23372068",
   "metadata": {},
   "outputs": [],
   "source": []
  },
  {
   "cell_type": "code",
   "execution_count": null,
   "id": "0c9426d5-e409-4404-b334-81216e64e6ec",
   "metadata": {},
   "outputs": [],
   "source": []
  },
  {
   "cell_type": "code",
   "execution_count": null,
   "id": "9f6de66e-97c9-413e-a4bf-8bc687f9da0f",
   "metadata": {},
   "outputs": [],
   "source": []
  },
  {
   "cell_type": "code",
   "execution_count": null,
   "id": "72565e77-0b4f-4bbb-87ed-61862465e7b3",
   "metadata": {},
   "outputs": [],
   "source": []
  }
 ],
 "metadata": {
  "kernelspec": {
   "display_name": "Python 3 (ipykernel)",
   "language": "python",
   "name": "python3"
  },
  "language_info": {
   "codemirror_mode": {
    "name": "ipython",
    "version": 3
   },
   "file_extension": ".py",
   "mimetype": "text/x-python",
   "name": "python",
   "nbconvert_exporter": "python",
   "pygments_lexer": "ipython3",
   "version": "3.10.8"
  }
 },
 "nbformat": 4,
 "nbformat_minor": 5
}
