{
 "cells": [
  {
   "cell_type": "code",
   "execution_count": 4,
   "id": "69ecf191-25fc-4b9b-a815-e99403d9cae9",
   "metadata": {},
   "outputs": [
    {
     "name": "stdout",
     "output_type": "stream",
     "text": [
      "3\n",
      "5\n",
      "6\n",
      "7\n",
      "8\n",
      "9\n"
     ]
    }
   ],
   "source": [
    "l =[1,3,4,5,6,7]\n",
    "\n",
    "for i in l:\n",
    "    print(i+2)"
   ]
  },
  {
   "cell_type": "code",
   "execution_count": 11,
   "id": "77af9afd-f6a8-41e0-9303-5b04672c582f",
   "metadata": {},
   "outputs": [
    {
     "name": "stdout",
     "output_type": "stream",
     "text": [
      "2236543\n",
      "Yes user is registered\n",
      "Yes student details are avaiable\n",
      "course access to this user is  ['dsa', 'dsm', 'bid data']\n",
      "289723\n",
      "3233872\n",
      "223263\n",
      "32234\n"
     ]
    }
   ],
   "source": [
    "mobile_no=[2236543,289723,3233872,223263,32234]\n",
    "student_no=2236543\n",
    "student_de={'mobile_no':2236543,'course':['dsa','dsm','bid data']}\n",
    "for i in mobile_no:\n",
    "    print(i)\n",
    "    if i == student_no:\n",
    "        print(\"Yes user is registered\")\n",
    "        if i ==student_de['mobile_no']:\n",
    "            print(\"Yes student details are avaiable\")\n",
    "            print(\"course access to this user is \",student_de['course'])"
   ]
  },
  {
   "cell_type": "code",
   "execution_count": 13,
   "id": "f5a07589-b0e5-4c45-be18-73d08ea3ebd8",
   "metadata": {},
   "outputs": [
    {
     "name": "stdout",
     "output_type": "stream",
     "text": [
      "1\n",
      "2\n",
      "3\n",
      "4\n",
      "5\n",
      "6\n",
      "Abhinesh\n",
      "singh\n"
     ]
    }
   ],
   "source": [
    "t=(1,2,3,4,5,6,'Abhinesh','singh')\n",
    "for i in t:\n",
    "    print(i)"
   ]
  },
  {
   "cell_type": "code",
   "execution_count": 15,
   "id": "1b75ea7b-2800-4217-ae9d-b6cc026a0e85",
   "metadata": {},
   "outputs": [
    {
     "name": "stdout",
     "output_type": "stream",
     "text": [
      "Abhinesh\n",
      "singh\n"
     ]
    }
   ],
   "source": [
    "t=(1,2,3,4,5,6,'Abhinesh','singh')\n",
    "for i in t:\n",
    "    if type(i)== str:\n",
    "        print(i)\n",
    "       "
   ]
  },
  {
   "cell_type": "code",
   "execution_count": 16,
   "id": "ff9753f5-5830-4c9e-b7a9-1cd12968c214",
   "metadata": {},
   "outputs": [
    {
     "name": "stdout",
     "output_type": "stream",
     "text": [
      "1\n",
      "2\n",
      "3\n",
      "4\n",
      "5\n",
      "6\n"
     ]
    }
   ],
   "source": [
    "t=(1,2,3,4,5,6,'Abhinesh','singh')\n",
    "for i in t:\n",
    "    if type(i)== int:\n",
    "        print(i)"
   ]
  },
  {
   "cell_type": "code",
   "execution_count": 23,
   "id": "4a060b52-eaa2-4ce9-9611-fe47d073872f",
   "metadata": {},
   "outputs": [
    {
     "name": "stdout",
     "output_type": "stream",
     "text": [
      "[1, 2, 3, 4, 5, 6]\n",
      "['Abhinesh', 'singh']\n"
     ]
    }
   ],
   "source": [
    "t=(1,2,3,4,5,6,'Abhinesh','singh')\n",
    "l_int=[]\n",
    "l_str=[]\n",
    "for i in t:\n",
    "    if type(i)== int:\n",
    "        l_int.append(i)\n",
    "       \n",
    "    elif type(i)== str:\n",
    "        l_str.append(i)\n",
    "        \n",
    "print(l_int)\n",
    "print(l_str)\n",
    "       \n",
    "        \n",
    "        \n",
    "       "
   ]
  },
  {
   "cell_type": "code",
   "execution_count": 24,
   "id": "cc019b3d-a15a-48be-80f8-de261f10eb8f",
   "metadata": {},
   "outputs": [
    {
     "name": "stdout",
     "output_type": "stream",
     "text": [
      "[1]\n",
      "[1, 2]\n",
      "[1, 2, 3]\n",
      "[1, 2, 3, 4]\n",
      "[1, 2, 3, 4, 5]\n",
      "[1, 2, 3, 4, 5, 6]\n",
      "['Abhinesh']\n",
      "['Abhinesh', 'singh']\n"
     ]
    }
   ],
   "source": [
    "t=(1,2,3,4,5,6,'Abhinesh','singh')\n",
    "l_int=[]\n",
    "l_str=[]\n",
    "for i in t:\n",
    "    if type(i)== int:\n",
    "        l_int.append(i)\n",
    "        print(l_int)\n",
    "       \n",
    "    elif type(i)== str:\n",
    "        l_str.append(i)\n",
    "        print(l_str)\n",
    "        "
   ]
  },
  {
   "cell_type": "code",
   "execution_count": 25,
   "id": "7663d9fd-332d-4d80-ab1c-49044acc8ab0",
   "metadata": {},
   "outputs": [
    {
     "name": "stdout",
     "output_type": "stream",
     "text": [
      "34\n",
      "3\n",
      "4\n",
      "5\n",
      "6\n",
      "42\n",
      "47\n"
     ]
    }
   ],
   "source": [
    "s={3,4,5,6,34,47,42,4,5}\n",
    "\n",
    "for i in s:\n",
    "    print(i)"
   ]
  },
  {
   "cell_type": "code",
   "execution_count": 28,
   "id": "15b8a8d0-5dd2-4d06-800b-10436f1375f5",
   "metadata": {},
   "outputs": [],
   "source": [
    "d={\"name\":\"Abhi\" , 'class' :[\"big data\" , \"data analysis\" , \"DSA\" , \"System design\"],\n",
    "  'mobile no': 905838674 ,\"E mail\" :'Abhinesh1455@gmail.com'}\n"
   ]
  },
  {
   "cell_type": "code",
   "execution_count": 29,
   "id": "9aa05ca6-e24c-4c95-bc6b-e79413dc91a3",
   "metadata": {},
   "outputs": [
    {
     "data": {
      "text/plain": [
       "{'name': 'Abhi',\n",
       " 'class': ['big data', 'data analysis', 'DSA', 'System design'],\n",
       " 'mobile no': 905838674,\n",
       " 'E mail': 'Abhinesh1455@gmail.com'}"
      ]
     },
     "execution_count": 29,
     "metadata": {},
     "output_type": "execute_result"
    }
   ],
   "source": [
    "d"
   ]
  },
  {
   "cell_type": "code",
   "execution_count": 34,
   "id": "ce39920e-7b78-4b35-993b-1a00ac037d34",
   "metadata": {},
   "outputs": [
    {
     "name": "stdout",
     "output_type": "stream",
     "text": [
      "Abhi\n",
      "['big data', 'data analysis', 'DSA', 'System design']\n",
      "905838674\n",
      "Abhinesh1455@gmail.com\n"
     ]
    }
   ],
   "source": [
    "for i in d.values():\n",
    "    print(i)"
   ]
  },
  {
   "cell_type": "code",
   "execution_count": 35,
   "id": "da899012-bbe7-49e6-a07a-101d44b5b6c0",
   "metadata": {},
   "outputs": [
    {
     "name": "stdout",
     "output_type": "stream",
     "text": [
      "['big data', 'data analysis', 'DSA', 'System design']\n"
     ]
    }
   ],
   "source": [
    "for i in d.values():\n",
    "    if type(i)==list:\n",
    "        print(i)"
   ]
  },
  {
   "cell_type": "code",
   "execution_count": 36,
   "id": "b15ef7d7-02ca-44a3-873b-9bb53934168b",
   "metadata": {},
   "outputs": [
    {
     "name": "stdout",
     "output_type": "stream",
     "text": [
      "yes this avaiable\n"
     ]
    }
   ],
   "source": [
    "for i in d.values():\n",
    "    if type(i)==list:\n",
    "        if 'System design' in i:\n",
    "            print(\"yes this avaiable\")\n",
    "            \n",
    "        "
   ]
  },
  {
   "cell_type": "code",
   "execution_count": null,
   "id": "88df9e74-34a5-472b-8345-414c1ec43f01",
   "metadata": {},
   "outputs": [],
   "source": []
  }
 ],
 "metadata": {
  "kernelspec": {
   "display_name": "Python 3 (ipykernel)",
   "language": "python",
   "name": "python3"
  },
  "language_info": {
   "codemirror_mode": {
    "name": "ipython",
    "version": 3
   },
   "file_extension": ".py",
   "mimetype": "text/x-python",
   "name": "python",
   "nbconvert_exporter": "python",
   "pygments_lexer": "ipython3",
   "version": "3.10.8"
  }
 },
 "nbformat": 4,
 "nbformat_minor": 5
}
