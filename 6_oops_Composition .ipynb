{
 "cells": [
  {
   "cell_type": "code",
   "execution_count": null,
   "id": "437a5e5c-312e-49f6-beee-1684061ea254",
   "metadata": {},
   "outputs": [],
   "source": [
    "composition\n",
    "Composition in Python involves creating a class by combining \n",
    "multiple smaller classes or components"
   ]
  },
  {
   "cell_type": "code",
   "execution_count": 1,
   "id": "432894ce-0d6f-4672-916b-97aee56f685b",
   "metadata": {},
   "outputs": [],
   "source": [
    "class pwskills:\n",
    "    def student(self):\n",
    "        return \"student details\"\n",
    "class datascience:\n",
    "    def __init__(self):\n",
    "        self.student=pwskills()\n",
    "    "
   ]
  },
  {
   "cell_type": "code",
   "execution_count": 2,
   "id": "06885a1f-d336-47ef-b23f-d81151c20785",
   "metadata": {},
   "outputs": [],
   "source": [
    "Abhi=pwskills()"
   ]
  },
  {
   "cell_type": "code",
   "execution_count": 3,
   "id": "7d2cf85a-c01d-4299-b5f7-b8b868d8bd27",
   "metadata": {},
   "outputs": [
    {
     "data": {
      "text/plain": [
       "'student details'"
      ]
     },
     "execution_count": 3,
     "metadata": {},
     "output_type": "execute_result"
    }
   ],
   "source": [
    "Abhi.student()"
   ]
  },
  {
   "cell_type": "code",
   "execution_count": 4,
   "id": "60f8f653-a9a4-4687-b50d-c36856499e04",
   "metadata": {},
   "outputs": [],
   "source": [
    "Abhinesh =datascience()\n"
   ]
  },
  {
   "cell_type": "code",
   "execution_count": 8,
   "id": "2c8cebde-ab29-4e13-bc27-5ae5ec8f985b",
   "metadata": {},
   "outputs": [
    {
     "data": {
      "text/plain": [
       "<__main__.pwskills at 0x7f419022ae00>"
      ]
     },
     "execution_count": 8,
     "metadata": {},
     "output_type": "execute_result"
    }
   ],
   "source": [
    "Abhinesh.student"
   ]
  },
  {
   "cell_type": "code",
   "execution_count": 9,
   "id": "f0d0e081-21c8-4a0f-9981-9f5deaf36a10",
   "metadata": {},
   "outputs": [
    {
     "data": {
      "text/plain": [
       "'student details'"
      ]
     },
     "execution_count": 9,
     "metadata": {},
     "output_type": "execute_result"
    }
   ],
   "source": [
    "Abhinesh.student.student()"
   ]
  },
  {
   "cell_type": "code",
   "execution_count": null,
   "id": "0110537a-16aa-4792-bf2b-1dd6c54f4605",
   "metadata": {},
   "outputs": [],
   "source": [
    "it is a way by which you will able to may be buid a complex object \n",
    "by combining the simplest one.\n",
    "like we see above "
   ]
  },
  {
   "cell_type": "code",
   "execution_count": null,
   "id": "38fd49b7-5e9f-445a-bc8f-37073431196b",
   "metadata": {},
   "outputs": [],
   "source": []
  },
  {
   "cell_type": "code",
   "execution_count": 12,
   "id": "ea15463a-203c-4ced-a5e2-ae89eb989572",
   "metadata": {},
   "outputs": [],
   "source": [
    "class data:\n",
    "    def __init__(self,mentor_name):\n",
    "        self.mentor_name=mentor_name\n",
    "\n",
    "class webdev:\n",
    "    def __init__(self,mentor,leture_name):\n",
    "        self.mentor=mentor\n",
    "        self.leture_name=leture_name\n",
    "        \n",
    "        "
   ]
  },
  {
   "cell_type": "code",
   "execution_count": 20,
   "id": "6dcf9006-3f84-4cb7-9312-6aea8376f712",
   "metadata": {},
   "outputs": [],
   "source": [
    "de=data(\"Abhinesh\")\n",
    "w=webdev(de,\"css\")"
   ]
  },
  {
   "cell_type": "code",
   "execution_count": 17,
   "id": "829feeda-77c3-437b-9d3c-1ca123b43810",
   "metadata": {},
   "outputs": [
    {
     "data": {
      "text/plain": [
       "'Abhinesh'"
      ]
     },
     "execution_count": 17,
     "metadata": {},
     "output_type": "execute_result"
    }
   ],
   "source": [
    "de.mentor_name"
   ]
  },
  {
   "cell_type": "code",
   "execution_count": 23,
   "id": "6155afb3-e1aa-418f-acab-372c5c79623a",
   "metadata": {},
   "outputs": [
    {
     "data": {
      "text/plain": [
       "'Abhinesh'"
      ]
     },
     "execution_count": 23,
     "metadata": {},
     "output_type": "execute_result"
    }
   ],
   "source": [
    "w.mentor.mentor_name"
   ]
  },
  {
   "cell_type": "code",
   "execution_count": null,
   "id": "3e237e7a-9fe0-4868-ad4a-75a5c04ab78f",
   "metadata": {},
   "outputs": [],
   "source": []
  }
 ],
 "metadata": {
  "kernelspec": {
   "display_name": "Python 3 (ipykernel)",
   "language": "python",
   "name": "python3"
  },
  "language_info": {
   "codemirror_mode": {
    "name": "ipython",
    "version": 3
   },
   "file_extension": ".py",
   "mimetype": "text/x-python",
   "name": "python",
   "nbconvert_exporter": "python",
   "pygments_lexer": "ipython3",
   "version": "3.10.8"
  }
 },
 "nbformat": 4,
 "nbformat_minor": 5
}
