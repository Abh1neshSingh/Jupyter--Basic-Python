{
 "cells": [
  {
   "cell_type": "code",
   "execution_count": 1,
   "id": "dab1042f-acc0-4aa7-8bf4-d6e110b04fae",
   "metadata": {},
   "outputs": [
    {
     "name": "stdout",
     "output_type": "stream",
     "text": [
      "A\n"
     ]
    }
   ],
   "source": [
    "print(\"A\")"
   ]
  },
  {
   "cell_type": "code",
   "execution_count": 2,
   "id": "cfeaeb0c-50b0-4585-a8b6-21a76e8aa206",
   "metadata": {},
   "outputs": [],
   "source": [
    "#--------------while loop--------------------------"
   ]
  },
  {
   "cell_type": "code",
   "execution_count": 7,
   "id": "b03cec4d-1745-488f-b12e-16a66835c872",
   "metadata": {},
   "outputs": [
    {
     "name": "stdin",
     "output_type": "stream",
     "text": [
      "Enter number 4\n"
     ]
    },
    {
     "name": "stdout",
     "output_type": "stream",
     "text": [
      "4\n",
      "5\n",
      "6\n",
      "7\n",
      "8\n",
      "9\n",
      "10\n"
     ]
    }
   ],
   "source": [
    "ct=int(input(\"Enter number\"))\n",
    "\n",
    "while ct<=10:\n",
    "    print(ct)\n",
    "    ct +=1"
   ]
  },
  {
   "cell_type": "code",
   "execution_count": 10,
   "id": "951986d8-e339-4150-a810-ad435c299789",
   "metadata": {},
   "outputs": [
    {
     "name": "stdin",
     "output_type": "stream",
     "text": [
      "Enter a word Hello\n"
     ]
    },
    {
     "name": "stdout",
     "output_type": "stream",
     "text": [
      "You enter a word: Hello\n"
     ]
    },
    {
     "name": "stdin",
     "output_type": "stream",
     "text": [
      "Enter a word hey\n"
     ]
    },
    {
     "name": "stdout",
     "output_type": "stream",
     "text": [
      "You enter a word: hey\n"
     ]
    },
    {
     "name": "stdin",
     "output_type": "stream",
     "text": [
      "Enter a word Abhinesh\n"
     ]
    },
    {
     "name": "stdout",
     "output_type": "stream",
     "text": [
      "You enter a word: Abhinesh\n"
     ]
    },
    {
     "name": "stdin",
     "output_type": "stream",
     "text": [
      "Enter a word quit\n"
     ]
    },
    {
     "name": "stdout",
     "output_type": "stream",
     "text": [
      "You enter a word: quit\n"
     ]
    }
   ],
   "source": [
    "text=\" \"\n",
    " \n",
    "while text!=\"quit\":\n",
    "        text=input(\"Enter a word\")\n",
    "        print(\"You enter a word:\",text)\n",
    "    "
   ]
  },
  {
   "cell_type": "code",
   "execution_count": 11,
   "id": "75d0f43b-2465-4498-95b6-3e65912c7ecc",
   "metadata": {},
   "outputs": [],
   "source": [
    "# if you know how time you will itreate go with for loop\n",
    "# if you don't know how time you will itreate go with while loop"
   ]
  },
  {
   "cell_type": "code",
   "execution_count": 12,
   "id": "cfa46664-8b84-4e77-a88b-4f74137463b3",
   "metadata": {},
   "outputs": [
    {
     "name": "stdin",
     "output_type": "stream",
     "text": [
      "Enter the age 4\n"
     ]
    },
    {
     "name": "stdout",
     "output_type": "stream",
     "text": [
      "You enterd: 4\n"
     ]
    },
    {
     "name": "stdin",
     "output_type": "stream",
     "text": [
      "Enter the age 6\n"
     ]
    },
    {
     "name": "stdout",
     "output_type": "stream",
     "text": [
      "You enterd: 6\n"
     ]
    },
    {
     "name": "stdin",
     "output_type": "stream",
     "text": [
      "Enter the age 4\n"
     ]
    },
    {
     "name": "stdout",
     "output_type": "stream",
     "text": [
      "You enterd: 4\n"
     ]
    },
    {
     "name": "stdin",
     "output_type": "stream",
     "text": [
      "Enter the age 2\n"
     ]
    },
    {
     "name": "stdout",
     "output_type": "stream",
     "text": [
      "You enterd: 2\n"
     ]
    },
    {
     "name": "stdin",
     "output_type": "stream",
     "text": [
      "Enter the age 54\n"
     ]
    },
    {
     "name": "stdout",
     "output_type": "stream",
     "text": [
      "You enterd: 54\n"
     ]
    },
    {
     "name": "stdin",
     "output_type": "stream",
     "text": [
      "Enter the age 6\n"
     ]
    },
    {
     "name": "stdout",
     "output_type": "stream",
     "text": [
      "You enterd: 6\n"
     ]
    },
    {
     "name": "stdin",
     "output_type": "stream",
     "text": [
      "Enter the age 423\n"
     ]
    },
    {
     "name": "stdout",
     "output_type": "stream",
     "text": [
      "You enterd: 423\n"
     ]
    },
    {
     "name": "stdin",
     "output_type": "stream",
     "text": [
      "Enter the age 23\n"
     ]
    },
    {
     "name": "stdout",
     "output_type": "stream",
     "text": [
      "You enterd: 23\n"
     ]
    }
   ],
   "source": [
    "age =0\n",
    "while age!=23:\n",
    "    age=int(input(\"Enter the age\"))\n",
    "    print(\"You enterd:\",age )"
   ]
  },
  {
   "cell_type": "code",
   "execution_count": 16,
   "id": "dbb76252-0204-465d-a256-fcf86ab7bcd9",
   "metadata": {},
   "outputs": [
    {
     "name": "stdin",
     "output_type": "stream",
     "text": [
      "Enter Your age 56\n"
     ]
    },
    {
     "name": "stdout",
     "output_type": "stream",
     "text": [
      "Invalid age\n"
     ]
    },
    {
     "name": "stdin",
     "output_type": "stream",
     "text": [
      "Enter Your age 22\n"
     ]
    },
    {
     "name": "stdout",
     "output_type": "stream",
     "text": [
      "Invalid age\n",
      "Your age is from list\n"
     ]
    }
   ],
   "source": [
    "list1=[23,23,22,21,20]\n",
    "age=0\n",
    "while age not in list1:\n",
    "    age = int(input(\"Enter Your age\"))\n",
    "    \n",
    "    print(\"Invalid age\")\n",
    "else:\n",
    "    print(\"Your age is from list\")\n"
   ]
  },
  {
   "cell_type": "code",
   "execution_count": null,
   "id": "0a23c159-bcee-4322-a8c8-b04bc2d03abb",
   "metadata": {},
   "outputs": [],
   "source": []
  }
 ],
 "metadata": {
  "kernelspec": {
   "display_name": "Python 3 (ipykernel)",
   "language": "python",
   "name": "python3"
  },
  "language_info": {
   "codemirror_mode": {
    "name": "ipython",
    "version": 3
   },
   "file_extension": ".py",
   "mimetype": "text/x-python",
   "name": "python",
   "nbconvert_exporter": "python",
   "pygments_lexer": "ipython3",
   "version": "3.10.8"
  }
 },
 "nbformat": 4,
 "nbformat_minor": 5
}
