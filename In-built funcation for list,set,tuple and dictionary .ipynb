{
 "cells": [
  {
   "cell_type": "code",
   "execution_count": 1,
   "id": "819af213-f84c-40c6-aaa9-4eab59716e82",
   "metadata": {},
   "outputs": [],
   "source": [
    "# --------------list in-built funcation---------------"
   ]
  },
  {
   "cell_type": "code",
   "execution_count": 4,
   "id": "dbf342da-eeb1-4564-be09-81516ec5e66a",
   "metadata": {},
   "outputs": [],
   "source": [
    "l1=[1,2,3,4,5,'Abhinesh',34+4j,232.34,[3,4,5,5]]"
   ]
  },
  {
   "cell_type": "code",
   "execution_count": 5,
   "id": "c40c10b5-a5d2-4a58-b354-b8b21f82f412",
   "metadata": {},
   "outputs": [
    {
     "data": {
      "text/plain": [
       "[1, 2, 3, 4, 5, 'Abhinesh', (34+4j), 232.34, [3, 4, 5, 5]]"
      ]
     },
     "execution_count": 5,
     "metadata": {},
     "output_type": "execute_result"
    }
   ],
   "source": [
    "l1"
   ]
  },
  {
   "cell_type": "code",
   "execution_count": 8,
   "id": "a3c6ed2c-0540-44e1-a6ae-d1039af6c2e1",
   "metadata": {},
   "outputs": [],
   "source": [
    "l2=[300,4,5,'pwskills','Abhinesh']"
   ]
  },
  {
   "cell_type": "code",
   "execution_count": 9,
   "id": "c2c69eb7-1bac-4b9f-b865-d4c369b6909d",
   "metadata": {},
   "outputs": [
    {
     "data": {
      "text/plain": [
       "[300, 4, 5, 'pwskills', 'Abhinesh']"
      ]
     },
     "execution_count": 9,
     "metadata": {},
     "output_type": "execute_result"
    }
   ],
   "source": [
    "l2"
   ]
  },
  {
   "cell_type": "code",
   "execution_count": 10,
   "id": "0a57fffa-2eed-4a0d-9815-3ef4e3ed2c44",
   "metadata": {},
   "outputs": [],
   "source": [
    "l1.append(\"Abhinesh\") # append means add but it add in last by defaults  "
   ]
  },
  {
   "cell_type": "code",
   "execution_count": 11,
   "id": "69ae9fb8-23e2-47e4-ac42-f28200c4e79d",
   "metadata": {},
   "outputs": [
    {
     "data": {
      "text/plain": [
       "[1, 2, 3, 4, 5, 'Abhinesh', (34+4j), 232.34, [3, 4, 5, 5], 'Abhinesh']"
      ]
     },
     "execution_count": 11,
     "metadata": {},
     "output_type": "execute_result"
    }
   ],
   "source": [
    "l1"
   ]
  },
  {
   "cell_type": "code",
   "execution_count": 12,
   "id": "d244cc06-7053-474f-b7a9-6433b3373e14",
   "metadata": {},
   "outputs": [],
   "source": [
    "l1.append(\"Singh\")"
   ]
  },
  {
   "cell_type": "code",
   "execution_count": 13,
   "id": "e86c85d7-85dc-41b2-822b-a2b0291b070d",
   "metadata": {},
   "outputs": [
    {
     "data": {
      "text/plain": [
       "[1, 2, 3, 4, 5, 'Abhinesh', (34+4j), 232.34, [3, 4, 5, 5], 'Abhinesh', 'Singh']"
      ]
     },
     "execution_count": 13,
     "metadata": {},
     "output_type": "execute_result"
    }
   ],
   "source": [
    "l1"
   ]
  },
  {
   "cell_type": "code",
   "execution_count": 15,
   "id": "4b6efe89-0d61-4546-98ef-72581cf8bddc",
   "metadata": {},
   "outputs": [],
   "source": [
    "# I want append data in list after 3 see how\n",
    "l1.insert(3, \"Ritika\")\n",
    "# here 3 is donote index and Ritika is data where  we insert it \n"
   ]
  },
  {
   "cell_type": "code",
   "execution_count": 16,
   "id": "1fe7eb01-d936-429b-b200-2a36a943cdd2",
   "metadata": {},
   "outputs": [
    {
     "data": {
      "text/plain": [
       "[1,\n",
       " 2,\n",
       " 3,\n",
       " 'Ritika',\n",
       " 4,\n",
       " 5,\n",
       " 'Abhinesh',\n",
       " (34+4j),\n",
       " 232.34,\n",
       " [3, 4, 5, 5],\n",
       " 'Abhinesh',\n",
       " 'Singh']"
      ]
     },
     "execution_count": 16,
     "metadata": {},
     "output_type": "execute_result"
    }
   ],
   "source": [
    "l1"
   ]
  },
  {
   "cell_type": "code",
   "execution_count": 17,
   "id": "cd398108-b67d-4911-852d-79960f7c560d",
   "metadata": {},
   "outputs": [],
   "source": [
    "l2.extend(\"sudh\") # here extend are split data Internally "
   ]
  },
  {
   "cell_type": "code",
   "execution_count": 18,
   "id": "7e85b9c7-bdb1-4638-a222-7e15e0c97107",
   "metadata": {},
   "outputs": [
    {
     "data": {
      "text/plain": [
       "[300, 4, 5, 'pwskills', 'Abhinesh', 's', 'u', 'd', 'h']"
      ]
     },
     "execution_count": 18,
     "metadata": {},
     "output_type": "execute_result"
    }
   ],
   "source": [
    "l2 # see sudh it is split internally"
   ]
  },
  {
   "cell_type": "code",
   "execution_count": 19,
   "id": "550a09eb-2175-4470-b7b2-1f4768075ddc",
   "metadata": {},
   "outputs": [],
   "source": [
    "l3=[1,2,3,4,5]"
   ]
  },
  {
   "cell_type": "code",
   "execution_count": 20,
   "id": "e4dcf057-f7e4-4a28-abbf-44723ddef2cd",
   "metadata": {},
   "outputs": [],
   "source": [
    "l3.append(6)"
   ]
  },
  {
   "cell_type": "code",
   "execution_count": 21,
   "id": "d250ffaa-cc91-46e5-9e3d-96293ec47e7e",
   "metadata": {},
   "outputs": [
    {
     "data": {
      "text/plain": [
       "[1, 2, 3, 4, 5, 6]"
      ]
     },
     "execution_count": 21,
     "metadata": {},
     "output_type": "execute_result"
    }
   ],
   "source": [
    "l3"
   ]
  },
  {
   "cell_type": "code",
   "execution_count": 22,
   "id": "ceaead08-279c-4d90-998a-95b84c580ba8",
   "metadata": {},
   "outputs": [],
   "source": [
    "l3.insert(0,0)"
   ]
  },
  {
   "cell_type": "code",
   "execution_count": 23,
   "id": "8fdeb65d-9da6-4781-afd5-8f9384f13707",
   "metadata": {},
   "outputs": [
    {
     "data": {
      "text/plain": [
       "[0, 1, 2, 3, 4, 5, 6]"
      ]
     },
     "execution_count": 23,
     "metadata": {},
     "output_type": "execute_result"
    }
   ],
   "source": [
    "l3"
   ]
  },
  {
   "cell_type": "code",
   "execution_count": 25,
   "id": "4e8da6c6-8908-460f-abcf-df9a966d1e65",
   "metadata": {},
   "outputs": [],
   "source": [
    "l3.extend([7,8,9])"
   ]
  },
  {
   "cell_type": "code",
   "execution_count": 26,
   "id": "afbd4cfb-9cbc-482c-abf9-4dc671ad3eb7",
   "metadata": {},
   "outputs": [
    {
     "data": {
      "text/plain": [
       "[0, 1, 2, 3, 4, 5, 6, 7, 8, 9]"
      ]
     },
     "execution_count": 26,
     "metadata": {},
     "output_type": "execute_result"
    }
   ],
   "source": [
    "l3"
   ]
  },
  {
   "cell_type": "code",
   "execution_count": 27,
   "id": "c686fd7e-11a3-4628-9ba5-f261483edaf5",
   "metadata": {},
   "outputs": [
    {
     "data": {
      "text/plain": [
       "9"
      ]
     },
     "execution_count": 27,
     "metadata": {},
     "output_type": "execute_result"
    }
   ],
   "source": [
    "l3.pop() # deletion of data\n",
    "# pop by default delete last data in given list"
   ]
  },
  {
   "cell_type": "code",
   "execution_count": 28,
   "id": "b2e2e278-61c5-43c2-ae55-48c6e9095ab2",
   "metadata": {},
   "outputs": [
    {
     "data": {
      "text/plain": [
       "[0, 1, 2, 3, 4, 5, 6, 7, 8]"
      ]
     },
     "execution_count": 28,
     "metadata": {},
     "output_type": "execute_result"
    }
   ],
   "source": [
    "l3 # see"
   ]
  },
  {
   "cell_type": "code",
   "execution_count": 29,
   "id": "f83fefe1-1c5a-404e-b62e-8d42305652f3",
   "metadata": {},
   "outputs": [
    {
     "data": {
      "text/plain": [
       "0"
      ]
     },
     "execution_count": 29,
     "metadata": {},
     "output_type": "execute_result"
    }
   ],
   "source": [
    "l3.pop(0)# delete data of 0 index"
   ]
  },
  {
   "cell_type": "code",
   "execution_count": 30,
   "id": "9f817c6f-d478-4d5e-808e-c523b729f66f",
   "metadata": {},
   "outputs": [
    {
     "data": {
      "text/plain": [
       "[1, 2, 3, 4, 5, 6, 7, 8]"
      ]
     },
     "execution_count": 30,
     "metadata": {},
     "output_type": "execute_result"
    }
   ],
   "source": [
    "l3"
   ]
  },
  {
   "cell_type": "code",
   "execution_count": 31,
   "id": "65bfcfea-7451-4527-bb31-7de57a309630",
   "metadata": {},
   "outputs": [],
   "source": [
    "del l3 # here del use for whole data or list in one time to Deleted "
   ]
  },
  {
   "cell_type": "code",
   "execution_count": 32,
   "id": "7f549de1-57fe-4f5a-9c3b-801e356cbc36",
   "metadata": {},
   "outputs": [
    {
     "ename": "NameError",
     "evalue": "name 'l3' is not defined",
     "output_type": "error",
     "traceback": [
      "\u001b[0;31m---------------------------------------------------------------------------\u001b[0m",
      "\u001b[0;31mNameError\u001b[0m                                 Traceback (most recent call last)",
      "Cell \u001b[0;32mIn[32], line 1\u001b[0m\n\u001b[0;32m----> 1\u001b[0m \u001b[43ml3\u001b[49m\n",
      "\u001b[0;31mNameError\u001b[0m: name 'l3' is not defined"
     ]
    }
   ],
   "source": [
    "l3 # see it showing  l3 list is not defined "
   ]
  },
  {
   "cell_type": "code",
   "execution_count": 33,
   "id": "1f46c95c-62dd-4433-ad96-a7a58589302e",
   "metadata": {},
   "outputs": [
    {
     "data": {
      "text/plain": [
       "[300, 4, 5, 'pwskills', 'Abhinesh', 's', 'u', 'd', 'h']"
      ]
     },
     "execution_count": 33,
     "metadata": {},
     "output_type": "execute_result"
    }
   ],
   "source": [
    "l2"
   ]
  },
  {
   "cell_type": "code",
   "execution_count": 34,
   "id": "427baae7-8c6c-469b-ba76-6ae5979b92b5",
   "metadata": {},
   "outputs": [],
   "source": [
    "l2.remove('s')"
   ]
  },
  {
   "cell_type": "code",
   "execution_count": 35,
   "id": "db83874d-6f6c-4e3f-8daa-867d72c5beaa",
   "metadata": {},
   "outputs": [
    {
     "data": {
      "text/plain": [
       "[300, 4, 5, 'pwskills', 'Abhinesh', 'u', 'd', 'h']"
      ]
     },
     "execution_count": 35,
     "metadata": {},
     "output_type": "execute_result"
    }
   ],
   "source": [
    "l2"
   ]
  },
  {
   "cell_type": "code",
   "execution_count": 36,
   "id": "a7c48416-8fe6-4760-b373-947af32c1b9d",
   "metadata": {},
   "outputs": [],
   "source": [
    "l2.clear() # it is clear all data of list"
   ]
  },
  {
   "cell_type": "code",
   "execution_count": 37,
   "id": "74973e93-0cf8-48c3-ae36-5bc3f684d6a2",
   "metadata": {},
   "outputs": [
    {
     "data": {
      "text/plain": [
       "[]"
      ]
     },
     "execution_count": 37,
     "metadata": {},
     "output_type": "execute_result"
    }
   ],
   "source": [
    "l2 # see list is empty "
   ]
  },
  {
   "cell_type": "code",
   "execution_count": 38,
   "id": "1cb272d7-9ea4-497a-afef-8a369c69fe30",
   "metadata": {},
   "outputs": [
    {
     "data": {
      "text/plain": [
       "[1,\n",
       " 2,\n",
       " 3,\n",
       " 'Ritika',\n",
       " 4,\n",
       " 5,\n",
       " 'Abhinesh',\n",
       " (34+4j),\n",
       " 232.34,\n",
       " [3, 4, 5, 5],\n",
       " 'Abhinesh',\n",
       " 'Singh']"
      ]
     },
     "execution_count": 38,
     "metadata": {},
     "output_type": "execute_result"
    }
   ],
   "source": [
    "l1"
   ]
  },
  {
   "cell_type": "code",
   "execution_count": 41,
   "id": "d676e537-529d-457d-a24e-7987a92c40bd",
   "metadata": {},
   "outputs": [
    {
     "data": {
      "text/plain": [
       "2"
      ]
     },
     "execution_count": 41,
     "metadata": {},
     "output_type": "execute_result"
    }
   ],
   "source": [
    "l1.count('Abhinesh')"
   ]
  },
  {
   "cell_type": "code",
   "execution_count": 42,
   "id": "3f8cdcc7-b274-4086-97a1-98a5c893c6f2",
   "metadata": {},
   "outputs": [
    {
     "data": {
      "text/plain": [
       "6"
      ]
     },
     "execution_count": 42,
     "metadata": {},
     "output_type": "execute_result"
    }
   ],
   "source": [
    "l1.index('Abhinesh')"
   ]
  },
  {
   "cell_type": "code",
   "execution_count": 43,
   "id": "2db88d8d-5953-49cf-b390-22950ba46c55",
   "metadata": {},
   "outputs": [],
   "source": [
    "l1.reverse()"
   ]
  },
  {
   "cell_type": "code",
   "execution_count": 44,
   "id": "22aa0171-399f-4d52-acaf-3b3ea07aad71",
   "metadata": {},
   "outputs": [
    {
     "data": {
      "text/plain": [
       "['Singh',\n",
       " 'Abhinesh',\n",
       " [3, 4, 5, 5],\n",
       " 232.34,\n",
       " (34+4j),\n",
       " 'Abhinesh',\n",
       " 5,\n",
       " 4,\n",
       " 'Ritika',\n",
       " 3,\n",
       " 2,\n",
       " 1]"
      ]
     },
     "execution_count": 44,
     "metadata": {},
     "output_type": "execute_result"
    }
   ],
   "source": [
    "l1"
   ]
  },
  {
   "cell_type": "code",
   "execution_count": 46,
   "id": "cda164fa-e522-4db9-8993-81f3fbbc728f",
   "metadata": {},
   "outputs": [
    {
     "data": {
      "text/plain": [
       "['Singh',\n",
       " 'Abhinesh',\n",
       " [3, 4, 5, 5],\n",
       " 232.34,\n",
       " (34+4j),\n",
       " 'Abhinesh',\n",
       " 5,\n",
       " 4,\n",
       " 'Ritika',\n",
       " 3,\n",
       " 2,\n",
       " 1]"
      ]
     },
     "execution_count": 46,
     "metadata": {},
     "output_type": "execute_result"
    }
   ],
   "source": [
    "l1"
   ]
  },
  {
   "cell_type": "code",
   "execution_count": 47,
   "id": "8a30a990-003c-4b93-9040-6c138a0dfd01",
   "metadata": {},
   "outputs": [],
   "source": [
    "l1.reverse()"
   ]
  },
  {
   "cell_type": "code",
   "execution_count": 48,
   "id": "956adfd6-889a-4d85-89e7-843a19cd0dd1",
   "metadata": {},
   "outputs": [
    {
     "data": {
      "text/plain": [
       "[1,\n",
       " 2,\n",
       " 3,\n",
       " 'Ritika',\n",
       " 4,\n",
       " 5,\n",
       " 'Abhinesh',\n",
       " (34+4j),\n",
       " 232.34,\n",
       " [3, 4, 5, 5],\n",
       " 'Abhinesh',\n",
       " 'Singh']"
      ]
     },
     "execution_count": 48,
     "metadata": {},
     "output_type": "execute_result"
    }
   ],
   "source": [
    "l1"
   ]
  },
  {
   "cell_type": "code",
   "execution_count": 49,
   "id": "71191f00-1832-456a-9566-7f60fbe45f16",
   "metadata": {},
   "outputs": [],
   "source": [
    "l3=[23,34,53,1,3,4,2,0]"
   ]
  },
  {
   "cell_type": "code",
   "execution_count": 50,
   "id": "2e721295-6bf6-458e-9598-44bc0566bb18",
   "metadata": {},
   "outputs": [
    {
     "data": {
      "text/plain": [
       "[23, 34, 53, 1, 3, 4, 2, 0]"
      ]
     },
     "execution_count": 50,
     "metadata": {},
     "output_type": "execute_result"
    }
   ],
   "source": [
    "l3"
   ]
  },
  {
   "cell_type": "code",
   "execution_count": 51,
   "id": "5ed216dd-46bb-4862-b659-2eaddf1bbff9",
   "metadata": {},
   "outputs": [],
   "source": [
    "l3.sort()"
   ]
  },
  {
   "cell_type": "code",
   "execution_count": 52,
   "id": "85bae3f9-453d-48ef-b4be-aad618b635da",
   "metadata": {},
   "outputs": [
    {
     "data": {
      "text/plain": [
       "[0, 1, 2, 3, 4, 23, 34, 53]"
      ]
     },
     "execution_count": 52,
     "metadata": {},
     "output_type": "execute_result"
    }
   ],
   "source": [
    "l3"
   ]
  },
  {
   "cell_type": "code",
   "execution_count": 53,
   "id": "bf74db6d-0d7b-4814-86ad-7bf2de33c03b",
   "metadata": {},
   "outputs": [
    {
     "ename": "TypeError",
     "evalue": "'<' not supported between instances of 'str' and 'int'",
     "output_type": "error",
     "traceback": [
      "\u001b[0;31m---------------------------------------------------------------------------\u001b[0m",
      "\u001b[0;31mTypeError\u001b[0m                                 Traceback (most recent call last)",
      "Cell \u001b[0;32mIn[53], line 1\u001b[0m\n\u001b[0;32m----> 1\u001b[0m \u001b[43ml1\u001b[49m\u001b[38;5;241;43m.\u001b[39;49m\u001b[43msort\u001b[49m\u001b[43m(\u001b[49m\u001b[43m)\u001b[49m\n",
      "\u001b[0;31mTypeError\u001b[0m: '<' not supported between instances of 'str' and 'int'"
     ]
    }
   ],
   "source": [
    "l1.sort()"
   ]
  },
  {
   "cell_type": "code",
   "execution_count": 54,
   "id": "76fdd1e3-6e33-403d-89b8-677bd31f5fbb",
   "metadata": {},
   "outputs": [],
   "source": [
    "# sort function are work with only homogenise types of data not heterogeneous "
   ]
  },
  {
   "cell_type": "code",
   "execution_count": 67,
   "id": "473af200-7769-4230-bdee-f65d9c898524",
   "metadata": {},
   "outputs": [],
   "source": [
    "l4=['abhi','kumar','abc']"
   ]
  },
  {
   "cell_type": "code",
   "execution_count": 68,
   "id": "b4151526-36ec-4550-8b61-5f3034cc178b",
   "metadata": {},
   "outputs": [],
   "source": [
    "l4.sort()"
   ]
  },
  {
   "cell_type": "code",
   "execution_count": 69,
   "id": "94f08dec-49b9-4d1d-aa05-6845b183aef3",
   "metadata": {},
   "outputs": [
    {
     "data": {
      "text/plain": [
       "['abc', 'abhi', 'kumar']"
      ]
     },
     "execution_count": 69,
     "metadata": {},
     "output_type": "execute_result"
    }
   ],
   "source": [
    "l4"
   ]
  },
  {
   "cell_type": "code",
   "execution_count": 70,
   "id": "d2d41534-e2c5-4c7a-98a0-1aec08f86578",
   "metadata": {},
   "outputs": [],
   "source": [
    "l4.sort(reverse=True)"
   ]
  },
  {
   "cell_type": "code",
   "execution_count": 71,
   "id": "23a29d12-bd8d-4a3a-9087-e445f2bb5643",
   "metadata": {},
   "outputs": [
    {
     "data": {
      "text/plain": [
       "['kumar', 'abhi', 'abc']"
      ]
     },
     "execution_count": 71,
     "metadata": {},
     "output_type": "execute_result"
    }
   ],
   "source": [
    "l4"
   ]
  },
  {
   "cell_type": "code",
   "execution_count": 81,
   "id": "fe2862c0-38c1-4dc7-b1ed-20b8f04bd5f2",
   "metadata": {},
   "outputs": [],
   "source": [
    "l5=[5,2,5,4,4,4,5,5,5,1,3,4,2] # sort and remove the duplicate "
   ]
  },
  {
   "cell_type": "code",
   "execution_count": 82,
   "id": "a70114b9-445c-472d-bc59-fd01d452b4dc",
   "metadata": {},
   "outputs": [
    {
     "data": {
      "text/plain": [
       "[5, 2, 5, 4, 4, 4, 5, 5, 5, 1, 3, 4, 2]"
      ]
     },
     "execution_count": 82,
     "metadata": {},
     "output_type": "execute_result"
    }
   ],
   "source": [
    "l5"
   ]
  },
  {
   "cell_type": "code",
   "execution_count": 85,
   "id": "349fc3a7-e976-4bc6-adb3-adb5f0f060e8",
   "metadata": {},
   "outputs": [],
   "source": [
    "l6=set(l5)"
   ]
  },
  {
   "cell_type": "code",
   "execution_count": 86,
   "id": "3496e324-9b83-41f0-82ab-00f694b6b948",
   "metadata": {},
   "outputs": [
    {
     "data": {
      "text/plain": [
       "{1, 2, 3, 4, 5}"
      ]
     },
     "execution_count": 86,
     "metadata": {},
     "output_type": "execute_result"
    }
   ],
   "source": [
    "l6"
   ]
  },
  {
   "cell_type": "code",
   "execution_count": 87,
   "id": "00718b20-9587-49b5-973d-b9717834b444",
   "metadata": {},
   "outputs": [
    {
     "data": {
      "text/plain": [
       "[1, 2, 3, 4, 5]"
      ]
     },
     "execution_count": 87,
     "metadata": {},
     "output_type": "execute_result"
    }
   ],
   "source": [
    "list(l6)"
   ]
  },
  {
   "cell_type": "code",
   "execution_count": 88,
   "id": "c438627d-2a46-44a0-b417-552307c313bf",
   "metadata": {},
   "outputs": [],
   "source": [
    "# see above way we sort and remove duplicate "
   ]
  },
  {
   "cell_type": "code",
   "execution_count": 89,
   "id": "eaf8f809-c2f4-4ae5-8d0c-0742c07fe94b",
   "metadata": {},
   "outputs": [],
   "source": [
    "l0=[2,4,5,6] # copy "
   ]
  },
  {
   "cell_type": "code",
   "execution_count": 90,
   "id": "defa2b41-3715-44f5-9f5e-55d5fe9116bf",
   "metadata": {},
   "outputs": [
    {
     "data": {
      "text/plain": [
       "[2, 4, 5, 6]"
      ]
     },
     "execution_count": 90,
     "metadata": {},
     "output_type": "execute_result"
    }
   ],
   "source": [
    "l0"
   ]
  },
  {
   "cell_type": "code",
   "execution_count": 91,
   "id": "b7301982-7bd2-4d0c-8289-a6a2629dc30b",
   "metadata": {},
   "outputs": [],
   "source": [
    "l7=l0 # this copy mehtod is knows as shallow copy"
   ]
  },
  {
   "cell_type": "code",
   "execution_count": 92,
   "id": "226e9807-24cf-4500-92f0-905797d52002",
   "metadata": {},
   "outputs": [
    {
     "data": {
      "text/plain": [
       "[2, 4, 5, 6]"
      ]
     },
     "execution_count": 92,
     "metadata": {},
     "output_type": "execute_result"
    }
   ],
   "source": [
    "l7"
   ]
  },
  {
   "cell_type": "code",
   "execution_count": 93,
   "id": "e48b61dc-21c7-4bd2-ac63-bd0c71f1da01",
   "metadata": {},
   "outputs": [
    {
     "data": {
      "text/plain": [
       "[2, 4, 5, 6]"
      ]
     },
     "execution_count": 93,
     "metadata": {},
     "output_type": "execute_result"
    }
   ],
   "source": [
    "l0"
   ]
  },
  {
   "cell_type": "code",
   "execution_count": 95,
   "id": "a030fe3a-6170-4536-a80f-ca61fe985d64",
   "metadata": {},
   "outputs": [],
   "source": [
    "l0[0]=5"
   ]
  },
  {
   "cell_type": "code",
   "execution_count": 96,
   "id": "5ed01fe7-600a-443c-8471-fcd11a9364e1",
   "metadata": {},
   "outputs": [
    {
     "data": {
      "text/plain": [
       "[5, 4, 5, 6]"
      ]
     },
     "execution_count": 96,
     "metadata": {},
     "output_type": "execute_result"
    }
   ],
   "source": [
    "l0"
   ]
  },
  {
   "cell_type": "code",
   "execution_count": 97,
   "id": "d99d3a25-df63-4022-a626-d0548dbc88f2",
   "metadata": {},
   "outputs": [
    {
     "data": {
      "text/plain": [
       "[5, 4, 5, 6]"
      ]
     },
     "execution_count": 97,
     "metadata": {},
     "output_type": "execute_result"
    }
   ],
   "source": [
    "l7"
   ]
  },
  {
   "cell_type": "code",
   "execution_count": 98,
   "id": "02201da4-c0db-4bcb-9392-f159e0e39660",
   "metadata": {},
   "outputs": [],
   "source": [
    "l8=l0.copy()  # is copy Method are called deep copy"
   ]
  },
  {
   "cell_type": "code",
   "execution_count": 99,
   "id": "a39e6396-229b-4b55-831f-d6cb6f34c6ac",
   "metadata": {},
   "outputs": [
    {
     "data": {
      "text/plain": [
       "[5, 4, 5, 6]"
      ]
     },
     "execution_count": 99,
     "metadata": {},
     "output_type": "execute_result"
    }
   ],
   "source": [
    "l8"
   ]
  },
  {
   "cell_type": "code",
   "execution_count": 100,
   "id": "6578a2cb-12e2-4569-b307-31ca4cb2f2a1",
   "metadata": {},
   "outputs": [
    {
     "data": {
      "text/plain": [
       "[5, 4, 5, 6]"
      ]
     },
     "execution_count": 100,
     "metadata": {},
     "output_type": "execute_result"
    }
   ],
   "source": [
    "l0"
   ]
  },
  {
   "cell_type": "code",
   "execution_count": 101,
   "id": "baaad493-cc23-4632-a80c-243285921c4c",
   "metadata": {},
   "outputs": [],
   "source": [
    "l0[3]=900"
   ]
  },
  {
   "cell_type": "code",
   "execution_count": 102,
   "id": "8378b7e3-8844-4a94-9347-bbf61cb6d42b",
   "metadata": {},
   "outputs": [
    {
     "data": {
      "text/plain": [
       "[5, 4, 5, 900]"
      ]
     },
     "execution_count": 102,
     "metadata": {},
     "output_type": "execute_result"
    }
   ],
   "source": [
    "l0"
   ]
  },
  {
   "cell_type": "code",
   "execution_count": 103,
   "id": "ff51e21e-e79b-4515-9731-1a8e27f16673",
   "metadata": {},
   "outputs": [
    {
     "data": {
      "text/plain": [
       "[5, 4, 5, 6]"
      ]
     },
     "execution_count": 103,
     "metadata": {},
     "output_type": "execute_result"
    }
   ],
   "source": [
    "l8"
   ]
  },
  {
   "cell_type": "code",
   "execution_count": null,
   "id": "9e5c2ec5-9f73-44a9-9bfd-5f74d2b9d344",
   "metadata": {},
   "outputs": [],
   "source": []
  },
  {
   "cell_type": "code",
   "execution_count": null,
   "id": "32f9df3d-382d-4dea-b03e-8ff2a8338d85",
   "metadata": {},
   "outputs": [],
   "source": []
  },
  {
   "cell_type": "code",
   "execution_count": 104,
   "id": "2ef355b9-ee66-46df-90eb-98b59ad1dca0",
   "metadata": {},
   "outputs": [],
   "source": [
    "# ----------------tuple in-built funcation-----------------"
   ]
  },
  {
   "cell_type": "code",
   "execution_count": 105,
   "id": "4532fa13-3d66-4a57-8c2f-dcd0ce350bd1",
   "metadata": {},
   "outputs": [],
   "source": [
    "t=(1,2,3,4,\"Abhi\",\"PWSkills\",34+4j,True)"
   ]
  },
  {
   "cell_type": "code",
   "execution_count": 106,
   "id": "b859e026-2950-4667-984a-35f236833ae3",
   "metadata": {},
   "outputs": [
    {
     "data": {
      "text/plain": [
       "(1, 2, 3, 4, 'Abhi', 'PWSkills', (34+4j), True)"
      ]
     },
     "execution_count": 106,
     "metadata": {},
     "output_type": "execute_result"
    }
   ],
   "source": [
    "t"
   ]
  },
  {
   "cell_type": "code",
   "execution_count": 107,
   "id": "53c33023-36b9-4350-820e-7c246e8643a0",
   "metadata": {},
   "outputs": [
    {
     "data": {
      "text/plain": [
       "1"
      ]
     },
     "execution_count": 107,
     "metadata": {},
     "output_type": "execute_result"
    }
   ],
   "source": [
    "t.count(2)"
   ]
  },
  {
   "cell_type": "code",
   "execution_count": 108,
   "id": "6da1db40-c256-46ea-9a72-339ddaddbfc0",
   "metadata": {},
   "outputs": [
    {
     "data": {
      "text/plain": [
       "1"
      ]
     },
     "execution_count": 108,
     "metadata": {},
     "output_type": "execute_result"
    }
   ],
   "source": [
    "t.count(\"Abhi\")"
   ]
  },
  {
   "cell_type": "code",
   "execution_count": 111,
   "id": "738a8b83-3628-4bf2-9e9c-f02513df3c3d",
   "metadata": {},
   "outputs": [
    {
     "data": {
      "text/plain": [
       "1"
      ]
     },
     "execution_count": 111,
     "metadata": {},
     "output_type": "execute_result"
    }
   ],
   "source": [
    "t.index(2)"
   ]
  },
  {
   "cell_type": "code",
   "execution_count": 113,
   "id": "5850c32d-1e53-4062-9cde-75a5e1bfef7d",
   "metadata": {},
   "outputs": [
    {
     "data": {
      "text/plain": [
       "4"
      ]
     },
     "execution_count": 113,
     "metadata": {},
     "output_type": "execute_result"
    }
   ],
   "source": [
    "t.index(\"Abhi\")"
   ]
  },
  {
   "cell_type": "code",
   "execution_count": null,
   "id": "7c5b5eba-023a-4785-bc32-2b111526971e",
   "metadata": {},
   "outputs": [],
   "source": []
  },
  {
   "cell_type": "code",
   "execution_count": 114,
   "id": "a458fcd6-7042-4681-97f9-3f0ca9b2dee5",
   "metadata": {},
   "outputs": [],
   "source": [
    "#-----------------set in-built funcation------------------"
   ]
  },
  {
   "cell_type": "code",
   "execution_count": 115,
   "id": "f54607f3-386c-4d18-bc62-02933f2fc788",
   "metadata": {},
   "outputs": [],
   "source": [
    "s={1,3,456,645,454,3,4,5,65,54,54,544,5}"
   ]
  },
  {
   "cell_type": "code",
   "execution_count": 116,
   "id": "9f8e0a54-f1b9-4ea2-ae2f-0c031ac06538",
   "metadata": {},
   "outputs": [
    {
     "data": {
      "text/plain": [
       "{1, 3, 4, 5, 54, 65, 454, 456, 544, 645}"
      ]
     },
     "execution_count": 116,
     "metadata": {},
     "output_type": "execute_result"
    }
   ],
   "source": [
    "s"
   ]
  },
  {
   "cell_type": "code",
   "execution_count": 117,
   "id": "9376c48a-5a76-4058-92a3-89a476eb9bdf",
   "metadata": {},
   "outputs": [],
   "source": [
    "s.add(232)"
   ]
  },
  {
   "cell_type": "code",
   "execution_count": 118,
   "id": "c660f7e6-2fec-4b5c-aaf3-69d08d9bee87",
   "metadata": {},
   "outputs": [
    {
     "data": {
      "text/plain": [
       "{1, 3, 4, 5, 54, 65, 232, 454, 456, 544, 645}"
      ]
     },
     "execution_count": 118,
     "metadata": {},
     "output_type": "execute_result"
    }
   ],
   "source": [
    "s"
   ]
  },
  {
   "cell_type": "code",
   "execution_count": 119,
   "id": "24e6ee91-f39f-42cd-b4e6-3fe509cd96f1",
   "metadata": {},
   "outputs": [],
   "source": [
    "s.discard(3)"
   ]
  },
  {
   "cell_type": "code",
   "execution_count": 120,
   "id": "df6eab31-37cc-4816-a8ab-a9aeb5e5e9a3",
   "metadata": {},
   "outputs": [
    {
     "data": {
      "text/plain": [
       "{1, 4, 5, 54, 65, 232, 454, 456, 544, 645}"
      ]
     },
     "execution_count": 120,
     "metadata": {},
     "output_type": "execute_result"
    }
   ],
   "source": [
    "s"
   ]
  },
  {
   "cell_type": "code",
   "execution_count": 121,
   "id": "d12eb95b-c35e-4f1d-9e96-05421a82381c",
   "metadata": {},
   "outputs": [
    {
     "data": {
      "text/plain": [
       "544"
      ]
     },
     "execution_count": 121,
     "metadata": {},
     "output_type": "execute_result"
    }
   ],
   "source": [
    "s.pop()"
   ]
  },
  {
   "cell_type": "code",
   "execution_count": 122,
   "id": "964b2ed6-2b88-4dab-9a26-0bfd6f319a60",
   "metadata": {},
   "outputs": [],
   "source": [
    "s.remove(5)"
   ]
  },
  {
   "cell_type": "code",
   "execution_count": 123,
   "id": "cf6bb608-50f3-4265-9b35-735585008c29",
   "metadata": {},
   "outputs": [
    {
     "data": {
      "text/plain": [
       "{1, 4, 54, 65, 232, 454, 456, 645}"
      ]
     },
     "execution_count": 123,
     "metadata": {},
     "output_type": "execute_result"
    }
   ],
   "source": [
    "s"
   ]
  },
  {
   "cell_type": "code",
   "execution_count": null,
   "id": "3e12b969-820c-433d-96e3-5f53d203a8d9",
   "metadata": {},
   "outputs": [],
   "source": []
  },
  {
   "cell_type": "code",
   "execution_count": null,
   "id": "bb59bba3-487f-4cd9-b876-3a777ac0e428",
   "metadata": {},
   "outputs": [],
   "source": []
  },
  {
   "cell_type": "code",
   "execution_count": 124,
   "id": "eee1bff0-4778-438f-9582-2782180eef1f",
   "metadata": {},
   "outputs": [],
   "source": [
    "#------------Dictioary in-built funcation--------------"
   ]
  },
  {
   "cell_type": "code",
   "execution_count": 128,
   "id": "e107d6b5-4002-4ccf-8f16-bb43f000be5b",
   "metadata": {},
   "outputs": [],
   "source": [
    "d={'name':'Abhinesh','subject':['data sciences ','big data','data analysis'],'number':7905838674}"
   ]
  },
  {
   "cell_type": "code",
   "execution_count": 129,
   "id": "461433e1-726e-413a-8a89-c37e4088a75b",
   "metadata": {},
   "outputs": [
    {
     "data": {
      "text/plain": [
       "{'name': 'Abhinesh',\n",
       " 'subject': ['data sciences ', 'big data', 'data analysis'],\n",
       " 'number': 7905838674}"
      ]
     },
     "execution_count": 129,
     "metadata": {},
     "output_type": "execute_result"
    }
   ],
   "source": [
    "d"
   ]
  },
  {
   "cell_type": "code",
   "execution_count": 132,
   "id": "c9cf70c3-62c8-4481-9102-c426a0438037",
   "metadata": {},
   "outputs": [
    {
     "data": {
      "text/plain": [
       "dict_keys(['name', 'subject', 'number'])"
      ]
     },
     "execution_count": 132,
     "metadata": {},
     "output_type": "execute_result"
    }
   ],
   "source": [
    "d.keys()"
   ]
  },
  {
   "cell_type": "code",
   "execution_count": 133,
   "id": "6b3b25d4-2b11-46f8-8e4c-eeb6a5940d24",
   "metadata": {},
   "outputs": [
    {
     "data": {
      "text/plain": [
       "['name', 'subject', 'number']"
      ]
     },
     "execution_count": 133,
     "metadata": {},
     "output_type": "execute_result"
    }
   ],
   "source": [
    "list(d.keys())"
   ]
  },
  {
   "cell_type": "code",
   "execution_count": 134,
   "id": "c896b030-2c13-43a7-91e3-5226b5cdacb8",
   "metadata": {},
   "outputs": [
    {
     "data": {
      "text/plain": [
       "dict_values(['Abhinesh', ['data sciences ', 'big data', 'data analysis'], 7905838674])"
      ]
     },
     "execution_count": 134,
     "metadata": {},
     "output_type": "execute_result"
    }
   ],
   "source": [
    "d.values()"
   ]
  },
  {
   "cell_type": "code",
   "execution_count": 135,
   "id": "9787c7f4-23f2-48da-a27f-eafdf6e4ee59",
   "metadata": {},
   "outputs": [
    {
     "data": {
      "text/plain": [
       "['Abhinesh', ['data sciences ', 'big data', 'data analysis'], 7905838674]"
      ]
     },
     "execution_count": 135,
     "metadata": {},
     "output_type": "execute_result"
    }
   ],
   "source": [
    "list(d.values())"
   ]
  },
  {
   "cell_type": "code",
   "execution_count": 136,
   "id": "ea26ef42-bc69-4705-aac1-5648c5fac014",
   "metadata": {},
   "outputs": [
    {
     "data": {
      "text/plain": [
       "dict_items([('name', 'Abhinesh'), ('subject', ['data sciences ', 'big data', 'data analysis']), ('number', 7905838674)])"
      ]
     },
     "execution_count": 136,
     "metadata": {},
     "output_type": "execute_result"
    }
   ],
   "source": [
    "d.items()"
   ]
  },
  {
   "cell_type": "code",
   "execution_count": 137,
   "id": "d72ca914-fd8b-40b2-a735-28740647b660",
   "metadata": {},
   "outputs": [
    {
     "data": {
      "text/plain": [
       "[('name', 'Abhinesh'),\n",
       " ('subject', ['data sciences ', 'big data', 'data analysis']),\n",
       " ('number', 7905838674)]"
      ]
     },
     "execution_count": 137,
     "metadata": {},
     "output_type": "execute_result"
    }
   ],
   "source": [
    "list(d.items())"
   ]
  },
  {
   "cell_type": "code",
   "execution_count": 138,
   "id": "897d139f-10ac-4cbd-b93d-bfae5457a71a",
   "metadata": {},
   "outputs": [
    {
     "data": {
      "text/plain": [
       "'Abhinesh'"
      ]
     },
     "execution_count": 138,
     "metadata": {},
     "output_type": "execute_result"
    }
   ],
   "source": [
    "d.get('name')"
   ]
  },
  {
   "cell_type": "code",
   "execution_count": 140,
   "id": "889ac8e4-d109-4f4a-989f-82dab8b74bc7",
   "metadata": {},
   "outputs": [
    {
     "data": {
      "text/plain": [
       "'Abhinesh'"
      ]
     },
     "execution_count": 140,
     "metadata": {},
     "output_type": "execute_result"
    }
   ],
   "source": [
    "d['name']"
   ]
  },
  {
   "cell_type": "code",
   "execution_count": 141,
   "id": "212143da-b928-407d-b871-f235bbe250d3",
   "metadata": {},
   "outputs": [
    {
     "data": {
      "text/plain": [
       "'Abhinesh'"
      ]
     },
     "execution_count": 141,
     "metadata": {},
     "output_type": "execute_result"
    }
   ],
   "source": [
    "d.pop('name')"
   ]
  },
  {
   "cell_type": "code",
   "execution_count": 142,
   "id": "c74a739b-34e7-45df-a3f7-34ea7e653b69",
   "metadata": {},
   "outputs": [
    {
     "data": {
      "text/plain": [
       "{'subject': ['data sciences ', 'big data', 'data analysis'],\n",
       " 'number': 7905838674}"
      ]
     },
     "execution_count": 142,
     "metadata": {},
     "output_type": "execute_result"
    }
   ],
   "source": [
    "d"
   ]
  },
  {
   "cell_type": "code",
   "execution_count": 144,
   "id": "eb1ce71d-08e7-4484-8a46-f5edc0380f29",
   "metadata": {},
   "outputs": [],
   "source": [
    "d={\"name\":\"Abhinesh\"}"
   ]
  },
  {
   "cell_type": "code",
   "execution_count": 145,
   "id": "740e0cd2-96b6-4059-9f6c-14a8ef9129a3",
   "metadata": {},
   "outputs": [
    {
     "data": {
      "text/plain": [
       "{'name': 'Abhinesh'}"
      ]
     },
     "execution_count": 145,
     "metadata": {},
     "output_type": "execute_result"
    }
   ],
   "source": [
    "d"
   ]
  },
  {
   "cell_type": "code",
   "execution_count": 147,
   "id": "2fec1bc3-b2ee-414b-98a0-ad950de5d597",
   "metadata": {},
   "outputs": [],
   "source": [
    "d['test']=\"dbbdcbnd\""
   ]
  },
  {
   "cell_type": "code",
   "execution_count": 148,
   "id": "6c6dcdf4-4584-49b9-925d-85ecd7dc0b1b",
   "metadata": {},
   "outputs": [
    {
     "data": {
      "text/plain": [
       "{'name': 'Abhinesh', 'test': 'dbbdcbnd'}"
      ]
     },
     "execution_count": 148,
     "metadata": {},
     "output_type": "execute_result"
    }
   ],
   "source": [
    "d"
   ]
  },
  {
   "cell_type": "code",
   "execution_count": null,
   "id": "5154f77d-41bf-4670-b2a7-4882412ca841",
   "metadata": {},
   "outputs": [],
   "source": []
  }
 ],
 "metadata": {
  "kernelspec": {
   "display_name": "Python 3 (ipykernel)",
   "language": "python",
   "name": "python3"
  },
  "language_info": {
   "codemirror_mode": {
    "name": "ipython",
    "version": 3
   },
   "file_extension": ".py",
   "mimetype": "text/x-python",
   "name": "python",
   "nbconvert_exporter": "python",
   "pygments_lexer": "ipython3",
   "version": "3.10.8"
  }
 },
 "nbformat": 4,
 "nbformat_minor": 5
}
