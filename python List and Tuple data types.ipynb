{
 "cells": [
  {
   "cell_type": "code",
   "execution_count": 1,
   "id": "1c02b465-26a2-4b4d-9cf4-c9e5eee48c2b",
   "metadata": {},
   "outputs": [],
   "source": [
    "# ------List ----------\n",
    "# list is nothing but it is a kind datatpype which is hold\n",
    "# the multiple type of data inside a list.\n",
    "#  syntax  of list is :- l=[]\n",
    "l= []"
   ]
  },
  {
   "cell_type": "code",
   "execution_count": 3,
   "id": "0050b980-3c69-4aac-9673-958098e5ce0d",
   "metadata": {},
   "outputs": [
    {
     "data": {
      "text/plain": [
       "list"
      ]
     },
     "execution_count": 3,
     "metadata": {},
     "output_type": "execute_result"
    }
   ],
   "source": [
    "type(l)"
   ]
  },
  {
   "cell_type": "code",
   "execution_count": 10,
   "id": "781cacd8-7699-454d-99a3-fd93bc8983a4",
   "metadata": {},
   "outputs": [],
   "source": [
    "# l1 is list which hold multiple types of data \n",
    "l1=[1,2,3,4,5,\"Abhinesh\", 2.6, 3+6j,True]\n"
   ]
  },
  {
   "cell_type": "code",
   "execution_count": 11,
   "id": "4ea8035f-c845-495b-9620-7423cbfa1b12",
   "metadata": {},
   "outputs": [
    {
     "data": {
      "text/plain": [
       "[1, 2, 3, 4, 5, 'Abhinesh', 2.6, (3+6j), True]"
      ]
     },
     "execution_count": 11,
     "metadata": {},
     "output_type": "execute_result"
    }
   ],
   "source": [
    "l1"
   ]
  },
  {
   "cell_type": "code",
   "execution_count": 13,
   "id": "2a92f2f1-d20a-4b48-b595-5349905d8673",
   "metadata": {},
   "outputs": [],
   "source": [
    "# list inside list \n",
    "l2=l1=[1,2,3,4,5,\"Abhinesh\", 2.6, 3+6j,True,[1,3,45,45]]"
   ]
  },
  {
   "cell_type": "code",
   "execution_count": 14,
   "id": "617afc05-9ec3-4ee5-ad5d-0909e5115000",
   "metadata": {},
   "outputs": [
    {
     "data": {
      "text/plain": [
       "[1, 2, 3, 4, 5, 'Abhinesh', 2.6, (3+6j), True, [1, 3, 45, 45]]"
      ]
     },
     "execution_count": 14,
     "metadata": {},
     "output_type": "execute_result"
    }
   ],
   "source": [
    "l2"
   ]
  },
  {
   "cell_type": "code",
   "execution_count": 16,
   "id": "362082d7-c258-4e80-a67a-f9669c3e30b0",
   "metadata": {},
   "outputs": [
    {
     "data": {
      "text/plain": [
       "1"
      ]
     },
     "execution_count": 16,
     "metadata": {},
     "output_type": "execute_result"
    }
   ],
   "source": [
    "l2[0]"
   ]
  },
  {
   "cell_type": "code",
   "execution_count": 40,
   "id": "ac5cee21-76b7-438c-b656-783646bc1418",
   "metadata": {},
   "outputs": [
    {
     "data": {
      "text/plain": [
       "[300, 2, 3, 4, 5, 'Abhinesh']"
      ]
     },
     "execution_count": 40,
     "metadata": {},
     "output_type": "execute_result"
    }
   ],
   "source": [
    "l2[0:6]"
   ]
  },
  {
   "cell_type": "code",
   "execution_count": 21,
   "id": "85445d06-f4a6-477c-9eaa-ac9362398312",
   "metadata": {},
   "outputs": [
    {
     "data": {
      "text/plain": [
       "[1, 3, 5, 2.6, True]"
      ]
     },
     "execution_count": 21,
     "metadata": {},
     "output_type": "execute_result"
    }
   ],
   "source": [
    "l2[0::2]"
   ]
  },
  {
   "cell_type": "code",
   "execution_count": 23,
   "id": "46ad2f6f-cc3f-4d2f-a258-6bbe3eb40af4",
   "metadata": {},
   "outputs": [
    {
     "data": {
      "text/plain": [
       "[1, 3, 45, 45]"
      ]
     },
     "execution_count": 23,
     "metadata": {},
     "output_type": "execute_result"
    }
   ],
   "source": [
    "l2[-1]"
   ]
  },
  {
   "cell_type": "code",
   "execution_count": 24,
   "id": "c3a49037-d924-4973-8d8b-824e8b71d643",
   "metadata": {},
   "outputs": [
    {
     "data": {
      "text/plain": [
       "45"
      ]
     },
     "execution_count": 24,
     "metadata": {},
     "output_type": "execute_result"
    }
   ],
   "source": [
    "#  accessing a list inside a list data \n",
    "l2[-1][3]"
   ]
  },
  {
   "cell_type": "code",
   "execution_count": 27,
   "id": "a0981d87-e477-4804-b31a-e05171532f99",
   "metadata": {},
   "outputs": [
    {
     "data": {
      "text/plain": [
       "[34, 2, 3, 4, 5, 'Abhinesh', 2.6, (3+6j), True, [1, 3, 45, 45]]"
      ]
     },
     "execution_count": 27,
     "metadata": {},
     "output_type": "execute_result"
    }
   ],
   "source": [
    "l2"
   ]
  },
  {
   "cell_type": "code",
   "execution_count": 28,
   "id": "a146bae4-477f-45a6-b6ed-b42dcce324f4",
   "metadata": {},
   "outputs": [],
   "source": [
    "l3=[89,343,34,\"Ritika\"]"
   ]
  },
  {
   "cell_type": "code",
   "execution_count": 29,
   "id": "8399155c-5be6-4bd1-9838-5fb05f3da1e4",
   "metadata": {},
   "outputs": [
    {
     "data": {
      "text/plain": [
       "[89, 343, 34, 'Ritika']"
      ]
     },
     "execution_count": 29,
     "metadata": {},
     "output_type": "execute_result"
    }
   ],
   "source": [
    "l3"
   ]
  },
  {
   "cell_type": "code",
   "execution_count": 30,
   "id": "a5443b2c-f33d-4678-8549-b49b10c9a7cd",
   "metadata": {},
   "outputs": [
    {
     "data": {
      "text/plain": [
       "[34,\n",
       " 2,\n",
       " 3,\n",
       " 4,\n",
       " 5,\n",
       " 'Abhinesh',\n",
       " 2.6,\n",
       " (3+6j),\n",
       " True,\n",
       " [1, 3, 45, 45],\n",
       " 89,\n",
       " 343,\n",
       " 34,\n",
       " 'Ritika']"
      ]
     },
     "execution_count": 30,
     "metadata": {},
     "output_type": "execute_result"
    }
   ],
   "source": [
    "# here we Concatenation of two list which are l2 and l3\n",
    "l2+l3\n"
   ]
  },
  {
   "cell_type": "code",
   "execution_count": 31,
   "id": "dd580068-558a-42a1-adec-aea4ce8d1e3c",
   "metadata": {},
   "outputs": [],
   "source": [
    "# assign value to 0th index in given list or change other value \n",
    "l2[0]=300 "
   ]
  },
  {
   "cell_type": "code",
   "execution_count": 32,
   "id": "105c1d72-3021-429c-b6c6-e047a62fac9a",
   "metadata": {},
   "outputs": [
    {
     "data": {
      "text/plain": [
       "[300, 2, 3, 4, 5, 'Abhinesh', 2.6, (3+6j), True, [1, 3, 45, 45]]"
      ]
     },
     "execution_count": 32,
     "metadata": {},
     "output_type": "execute_result"
    }
   ],
   "source": [
    "l2 # list is mutable"
   ]
  },
  {
   "cell_type": "code",
   "execution_count": null,
   "id": "a2daf526-b279-4d70-b52e-6fa5e3f1c2f0",
   "metadata": {},
   "outputs": [],
   "source": []
  },
  {
   "cell_type": "code",
   "execution_count": 33,
   "id": "6033cb49-7838-4d32-bc7c-48db3c8badde",
   "metadata": {},
   "outputs": [],
   "source": [
    "# --------tuple---------------\n",
    "\n",
    "# tuple is another Collection just like a list but \n",
    "# tuple is immutable.\n",
    "# Syntax of tuple :-  t=()"
   ]
  },
  {
   "cell_type": "code",
   "execution_count": 34,
   "id": "b48a3ca3-fbe9-40d3-bc98-6f592a991036",
   "metadata": {},
   "outputs": [],
   "source": [
    "t=(1,3,45,\"Abhinesh Singh\",23.4,323+5j,True)"
   ]
  },
  {
   "cell_type": "code",
   "execution_count": 35,
   "id": "4c04d40e-eb15-45ac-ad67-c7035d0cc191",
   "metadata": {},
   "outputs": [
    {
     "data": {
      "text/plain": [
       "(1, 3, 45, 'Abhinesh Singh', 23.4, (323+5j), True)"
      ]
     },
     "execution_count": 35,
     "metadata": {},
     "output_type": "execute_result"
    }
   ],
   "source": [
    "t"
   ]
  },
  {
   "cell_type": "code",
   "execution_count": 36,
   "id": "237f95dc-5319-4df7-adbc-3c35c5cf1de2",
   "metadata": {},
   "outputs": [
    {
     "data": {
      "text/plain": [
       "tuple"
      ]
     },
     "execution_count": 36,
     "metadata": {},
     "output_type": "execute_result"
    }
   ],
   "source": [
    "type(t)"
   ]
  },
  {
   "cell_type": "code",
   "execution_count": 37,
   "id": "cea2f72b-4804-4249-9f22-9069cef9ed4a",
   "metadata": {},
   "outputs": [
    {
     "data": {
      "text/plain": [
       "1"
      ]
     },
     "execution_count": 37,
     "metadata": {},
     "output_type": "execute_result"
    }
   ],
   "source": [
    "t[0]"
   ]
  },
  {
   "cell_type": "code",
   "execution_count": 38,
   "id": "03185ad1-4a9c-4972-a2a7-bae0331304c6",
   "metadata": {},
   "outputs": [
    {
     "data": {
      "text/plain": [
       "True"
      ]
     },
     "execution_count": 38,
     "metadata": {},
     "output_type": "execute_result"
    }
   ],
   "source": [
    "t[-1]"
   ]
  },
  {
   "cell_type": "code",
   "execution_count": 41,
   "id": "7358ba40-37ca-475d-8be0-8a896308eb05",
   "metadata": {},
   "outputs": [
    {
     "data": {
      "text/plain": [
       "(1, 3, 45, 'Abhinesh Singh')"
      ]
     },
     "execution_count": 41,
     "metadata": {},
     "output_type": "execute_result"
    }
   ],
   "source": [
    "t[0:4]"
   ]
  },
  {
   "cell_type": "code",
   "execution_count": 42,
   "id": "b3040f9d-cadf-4a0a-816c-8f5f1f5d710d",
   "metadata": {},
   "outputs": [
    {
     "data": {
      "text/plain": [
       "(1, 45, 23.4, True)"
      ]
     },
     "execution_count": 42,
     "metadata": {},
     "output_type": "execute_result"
    }
   ],
   "source": [
    "t[0::2]"
   ]
  },
  {
   "cell_type": "code",
   "execution_count": 43,
   "id": "af9cfa01-a5a3-4f99-bcb6-6accd3f5776c",
   "metadata": {},
   "outputs": [
    {
     "data": {
      "text/plain": [
       "(True, (323+5j), 23.4, 'Abhinesh Singh', 45, 3, 1)"
      ]
     },
     "execution_count": 43,
     "metadata": {},
     "output_type": "execute_result"
    }
   ],
   "source": [
    "t[::-1]"
   ]
  },
  {
   "cell_type": "code",
   "execution_count": 44,
   "id": "a642821e-a714-4ba1-80e7-84e4693f4a21",
   "metadata": {},
   "outputs": [
    {
     "data": {
      "text/plain": [
       "(1, 3, 45, 'Abhinesh Singh', 23.4, (323+5j), True)"
      ]
     },
     "execution_count": 44,
     "metadata": {},
     "output_type": "execute_result"
    }
   ],
   "source": [
    "t"
   ]
  },
  {
   "cell_type": "code",
   "execution_count": 46,
   "id": "e406a510-1f46-47e8-b578-1193f6f809e6",
   "metadata": {},
   "outputs": [],
   "source": [
    "# tuple is  immutable \n",
    "# so we cant do this \n",
    "# t[0]=23 it gives error"
   ]
  },
  {
   "cell_type": "code",
   "execution_count": 47,
   "id": "fd294223-3947-4733-be72-2d351a7dd6a4",
   "metadata": {},
   "outputs": [],
   "source": [
    "t1=(23,34,45,45,3,4)"
   ]
  },
  {
   "cell_type": "code",
   "execution_count": 48,
   "id": "d40bfde0-c5c8-4bf8-bb5f-74398e229af7",
   "metadata": {},
   "outputs": [
    {
     "data": {
      "text/plain": [
       "(1, 3, 45, 'Abhinesh Singh', 23.4, (323+5j), True, 23, 34, 45, 45, 3, 4)"
      ]
     },
     "execution_count": 48,
     "metadata": {},
     "output_type": "execute_result"
    }
   ],
   "source": [
    "t+t1 "
   ]
  },
  {
   "cell_type": "code",
   "execution_count": 49,
   "id": "0370cf64-8fcf-4fba-b603-b21ed37c5d20",
   "metadata": {},
   "outputs": [
    {
     "data": {
      "text/plain": [
       "(1,\n",
       " 3,\n",
       " 45,\n",
       " 'Abhinesh Singh',\n",
       " 23.4,\n",
       " (323+5j),\n",
       " True,\n",
       " 1,\n",
       " 3,\n",
       " 45,\n",
       " 'Abhinesh Singh',\n",
       " 23.4,\n",
       " (323+5j),\n",
       " True)"
      ]
     },
     "execution_count": 49,
     "metadata": {},
     "output_type": "execute_result"
    }
   ],
   "source": [
    "t*2"
   ]
  },
  {
   "cell_type": "code",
   "execution_count": 50,
   "id": "a555daba-0e0e-4afb-934f-3d805d477d13",
   "metadata": {},
   "outputs": [
    {
     "data": {
      "text/plain": [
       "[1, 3, 45, 'Abhinesh Singh', 23.4, (323+5j), True]"
      ]
     },
     "execution_count": 50,
     "metadata": {},
     "output_type": "execute_result"
    }
   ],
   "source": [
    "# here we covert tuple to list\n",
    "list(t)"
   ]
  },
  {
   "cell_type": "code",
   "execution_count": 51,
   "id": "f7f5434c-522b-43c6-a685-dc4c389e661d",
   "metadata": {},
   "outputs": [
    {
     "data": {
      "text/plain": [
       "(1, 3, 45, 'Abhinesh Singh', 23.4, (323+5j), True)"
      ]
     },
     "execution_count": 51,
     "metadata": {},
     "output_type": "execute_result"
    }
   ],
   "source": [
    "t"
   ]
  },
  {
   "cell_type": "code",
   "execution_count": 52,
   "id": "820c7f5a-97f4-4ee4-afa9-4368ad2c8581",
   "metadata": {},
   "outputs": [
    {
     "data": {
      "text/plain": [
       "7"
      ]
     },
     "execution_count": 52,
     "metadata": {},
     "output_type": "execute_result"
    }
   ],
   "source": [
    "len(t)"
   ]
  },
  {
   "cell_type": "code",
   "execution_count": 53,
   "id": "b7bb2f6c-8e7b-4d88-8ced-7adb50c722ca",
   "metadata": {},
   "outputs": [
    {
     "data": {
      "text/plain": [
       "10"
      ]
     },
     "execution_count": 53,
     "metadata": {},
     "output_type": "execute_result"
    }
   ],
   "source": [
    "len(l2)"
   ]
  },
  {
   "cell_type": "code",
   "execution_count": null,
   "id": "dd830f75-964f-44be-8b50-067349cbac33",
   "metadata": {},
   "outputs": [],
   "source": []
  }
 ],
 "metadata": {
  "kernelspec": {
   "display_name": "Python 3 (ipykernel)",
   "language": "python",
   "name": "python3"
  },
  "language_info": {
   "codemirror_mode": {
    "name": "ipython",
    "version": 3
   },
   "file_extension": ".py",
   "mimetype": "text/x-python",
   "name": "python",
   "nbconvert_exporter": "python",
   "pygments_lexer": "ipython3",
   "version": "3.10.8"
  }
 },
 "nbformat": 4,
 "nbformat_minor": 5
}
