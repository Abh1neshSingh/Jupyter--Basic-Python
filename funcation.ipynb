{
 "cells": [
  {
   "cell_type": "code",
   "execution_count": 1,
   "id": "8df14465-dbca-42da-819d-e3e46f43597d",
   "metadata": {},
   "outputs": [],
   "source": [
    "#----------Funcation------------------"
   ]
  },
  {
   "cell_type": "code",
   "execution_count": 3,
   "id": "41ada25a-53fe-435c-9875-a14ee964e32c",
   "metadata": {},
   "outputs": [],
   "source": [
    "# A function is a block of code which only runs when it is called.\n",
    "\n",
    "# You can pass data, known as parameters, into a function.\n",
    "\n",
    "# A function can return data as a result.\n",
    "\n"
   ]
  },
  {
   "cell_type": "code",
   "execution_count": 4,
   "id": "40cac8b5-ed4a-42a0-ad55-d8dc7b982f70",
   "metadata": {},
   "outputs": [],
   "source": [
    "def add_num(a,b): # def is keyword for creating a funcation \n",
    "    return(a+b)   # add_num is funcation name\n",
    "                  # "
   ]
  },
  {
   "cell_type": "code",
   "execution_count": 6,
   "id": "abbbac74-6201-4c51-a39d-1fe6238d7f0f",
   "metadata": {},
   "outputs": [],
   "source": [
    "# Crete a funcation\n",
    "\n",
    "def funcation_name(arguments ):\n",
    "    # funcation body\n",
    "    \n",
    "    return\n",
    "---------------------------------\n",
    "# call a funcation\n",
    "\n",
    "funcation_name()\n"
   ]
  },
  {
   "cell_type": "code",
   "execution_count": 5,
   "id": "dfb574ee-7374-453a-b776-123199e05c23",
   "metadata": {},
   "outputs": [],
   "source": [
    "def greet():\n",
    "    print(\"Hello World\")"
   ]
  },
  {
   "cell_type": "code",
   "execution_count": 8,
   "id": "c7457df2-6dc4-4445-8265-d725324745bd",
   "metadata": {},
   "outputs": [
    {
     "name": "stdout",
     "output_type": "stream",
     "text": [
      "Hello World\n"
     ]
    }
   ],
   "source": [
    "greet()"
   ]
  },
  {
   "cell_type": "code",
   "execution_count": 9,
   "id": "cf6ef4af-a6b4-405f-b74b-b35a42f46dfd",
   "metadata": {},
   "outputs": [],
   "source": [
    "def add_num():\n",
    "    a=100\n",
    "    b=234\n",
    "    c=a+b\n",
    "    print(c)"
   ]
  },
  {
   "cell_type": "code",
   "execution_count": 10,
   "id": "a556d380-1ec4-49ec-863c-b39d800d4ae0",
   "metadata": {},
   "outputs": [
    {
     "name": "stdout",
     "output_type": "stream",
     "text": [
      "334\n"
     ]
    }
   ],
   "source": [
    "add_num()"
   ]
  },
  {
   "cell_type": "code",
   "execution_count": 15,
   "id": "0b41f62f-7eef-46ef-99da-e09387ee8795",
   "metadata": {},
   "outputs": [],
   "source": [
    "def addnum():\n",
    "    a=input(\"Enter first number\")\n",
    "    b=input(\"Enter Second number\")\n",
    "    c= int(a)+int(b)\n",
    "    print(\"Sum of two number is:\",c)\n",
    "    "
   ]
  },
  {
   "cell_type": "code",
   "execution_count": 16,
   "id": "fe2679ea-9c6f-4abf-80c8-e4809f1e6a32",
   "metadata": {},
   "outputs": [
    {
     "name": "stdin",
     "output_type": "stream",
     "text": [
      "Enter first number 34\n",
      "Enter Second number 34\n"
     ]
    },
    {
     "name": "stdout",
     "output_type": "stream",
     "text": [
      "Sum of two number is: 68\n"
     ]
    }
   ],
   "source": [
    "addnum()\n"
   ]
  },
  {
   "cell_type": "code",
   "execution_count": null,
   "id": "65f163c3-43fc-4104-a833-2cf3de52c774",
   "metadata": {},
   "outputs": [],
   "source": []
  },
  {
   "cell_type": "code",
   "execution_count": 19,
   "id": "a7f8f8ba-8475-47ec-9b74-4824e809a2db",
   "metadata": {},
   "outputs": [],
   "source": [
    "def multi(x,y):\n",
    "    a=x\n",
    "    b=y\n",
    "    c=a*b\n",
    "    print(c)"
   ]
  },
  {
   "cell_type": "code",
   "execution_count": 21,
   "id": "fd678511-d885-4bc7-ac0d-c958fe5e76f8",
   "metadata": {},
   "outputs": [
    {
     "name": "stdout",
     "output_type": "stream",
     "text": [
      "1012\n"
     ]
    }
   ],
   "source": [
    "multi(23,44)"
   ]
  },
  {
   "cell_type": "code",
   "execution_count": 22,
   "id": "c0d27ca4-0c10-440b-901c-ffe87ffa6e9c",
   "metadata": {},
   "outputs": [
    {
     "name": "stdout",
     "output_type": "stream",
     "text": [
      "8\n"
     ]
    }
   ],
   "source": [
    "multi(2,4)"
   ]
  },
  {
   "cell_type": "code",
   "execution_count": 23,
   "id": "555422c7-ee0e-4d67-99d6-a696ddf4ba24",
   "metadata": {},
   "outputs": [],
   "source": [
    "def intro(name):\n",
    "    print(\"hi\",name)"
   ]
  },
  {
   "cell_type": "code",
   "execution_count": 24,
   "id": "79466817-0ebe-49b1-85aa-422477310685",
   "metadata": {},
   "outputs": [
    {
     "name": "stdout",
     "output_type": "stream",
     "text": [
      "hi Abhinesh\n"
     ]
    }
   ],
   "source": [
    "intro(\"Abhinesh\")"
   ]
  },
  {
   "cell_type": "code",
   "execution_count": 25,
   "id": "c690a20b-3ea8-4df7-979f-1e5dadc07401",
   "metadata": {},
   "outputs": [
    {
     "name": "stdout",
     "output_type": "stream",
     "text": [
      "hi Ritika\n"
     ]
    }
   ],
   "source": [
    "intro(\"Ritika\")"
   ]
  },
  {
   "cell_type": "code",
   "execution_count": 41,
   "id": "0e63ba86-515f-4ed4-9588-1fc77aabd1ad",
   "metadata": {},
   "outputs": [],
   "source": [
    "def name(first_name,last_name):\n",
    "    a=first_name\n",
    "    b=last_name\n",
    "    c=a+b\n",
    "    print(c)"
   ]
  },
  {
   "cell_type": "code",
   "execution_count": 42,
   "id": "b027ba90-3204-4e8e-8f48-ef78241ff8e7",
   "metadata": {},
   "outputs": [
    {
     "name": "stdout",
     "output_type": "stream",
     "text": [
      "AbhineshSingh\n"
     ]
    }
   ],
   "source": [
    "name(\"Abhinesh\",\"Singh\")"
   ]
  },
  {
   "cell_type": "code",
   "execution_count": 51,
   "id": "01fce69f-7fc3-4129-8d74-c8b75d25c6d5",
   "metadata": {},
   "outputs": [],
   "source": [
    "def name1(first_name,last_name):\n",
    "    print(\"hello\" ,first_name  + last_name)"
   ]
  },
  {
   "cell_type": "code",
   "execution_count": 52,
   "id": "18039bc2-cd42-44b5-9797-59f2ee63f122",
   "metadata": {},
   "outputs": [
    {
     "name": "stdout",
     "output_type": "stream",
     "text": [
      "hello Abhineshsingh\n"
     ]
    }
   ],
   "source": [
    "name1(\"Abhinesh\" , \"singh\")"
   ]
  },
  {
   "cell_type": "code",
   "execution_count": 54,
   "id": "45f2059c-2bfa-45e6-883d-42d6fbd6460e",
   "metadata": {},
   "outputs": [],
   "source": [
    "# programm for  -21 is give 21\n",
    "#               \n",
    "# means Absolute value"
   ]
  },
  {
   "cell_type": "code",
   "execution_count": 57,
   "id": "81cfec76-c42a-4c42-a4e2-764c1de7ab6a",
   "metadata": {},
   "outputs": [],
   "source": [
    "def absolute (n):\n",
    "    if (n>0):\n",
    "        print(n)\n",
    "    else:\n",
    "        print(-n)"
   ]
  },
  {
   "cell_type": "code",
   "execution_count": 58,
   "id": "0ee1ed6c-ae0d-4910-8218-1579da3e0551",
   "metadata": {},
   "outputs": [
    {
     "name": "stdout",
     "output_type": "stream",
     "text": [
      "5\n"
     ]
    }
   ],
   "source": [
    "absolute(-5)"
   ]
  },
  {
   "cell_type": "code",
   "execution_count": 59,
   "id": "c5d01a7b-ca2c-4c78-b9e9-5523a0be93e9",
   "metadata": {},
   "outputs": [
    {
     "name": "stdout",
     "output_type": "stream",
     "text": [
      "512\n"
     ]
    }
   ],
   "source": [
    "absolute(-512)"
   ]
  },
  {
   "cell_type": "code",
   "execution_count": 88,
   "id": "b79621c7-601a-4b11-a477-3d665492dd4e",
   "metadata": {},
   "outputs": [],
   "source": [
    "def full_name(a,b):\n",
    "    c=a+b\n",
    "    return (c)"
   ]
  },
  {
   "cell_type": "code",
   "execution_count": 91,
   "id": "5251771c-8d04-4bd7-9094-0662823bddec",
   "metadata": {},
   "outputs": [],
   "source": [
    "x=full_name(\"Pw\",\"skills\")"
   ]
  },
  {
   "cell_type": "code",
   "execution_count": 93,
   "id": "d814bdf3-c110-4e1e-a707-e8c8c44baef4",
   "metadata": {},
   "outputs": [
    {
     "data": {
      "text/plain": [
       "'Pwskills'"
      ]
     },
     "execution_count": 93,
     "metadata": {},
     "output_type": "execute_result"
    }
   ],
   "source": [
    "x"
   ]
  },
  {
   "cell_type": "code",
   "execution_count": 92,
   "id": "a5ae794e-cc70-4fdd-b339-c79a54bb9518",
   "metadata": {},
   "outputs": [
    {
     "data": {
      "text/plain": [
       "str"
      ]
     },
     "execution_count": 92,
     "metadata": {},
     "output_type": "execute_result"
    }
   ],
   "source": [
    "type(x)"
   ]
  },
  {
   "cell_type": "code",
   "execution_count": 94,
   "id": "4af0b0ca-02ca-4c47-a187-d1ab51c84a96",
   "metadata": {},
   "outputs": [],
   "source": [
    "def full_name(a,b):\n",
    "    c=a+b\n",
    "    return # here i nothing to difine what i want to return\n",
    "        # so its showing nonetype "
   ]
  },
  {
   "cell_type": "code",
   "execution_count": 95,
   "id": "d8e3e932-ca83-4367-9f66-e4a55378e219",
   "metadata": {},
   "outputs": [],
   "source": [
    "w=full_name(\"Pw\",\"skills\")"
   ]
  },
  {
   "cell_type": "code",
   "execution_count": 96,
   "id": "27cb39c7-0a1f-49ab-bd5c-65bc67e2ce7d",
   "metadata": {},
   "outputs": [],
   "source": [
    "w"
   ]
  },
  {
   "cell_type": "code",
   "execution_count": 97,
   "id": "acc7e378-0827-47b1-a025-cf4ca6018129",
   "metadata": {},
   "outputs": [
    {
     "data": {
      "text/plain": [
       "NoneType"
      ]
     },
     "execution_count": 97,
     "metadata": {},
     "output_type": "execute_result"
    }
   ],
   "source": [
    "type(w)"
   ]
  },
  {
   "cell_type": "code",
   "execution_count": 98,
   "id": "abe82303-7a55-4b13-ae37-c4849df67b10",
   "metadata": {},
   "outputs": [],
   "source": [
    "def cal (a,b):\n",
    "    c=a+b\n",
    "    d=a-b\n",
    "    e=a*b\n",
    "    return c,d,e"
   ]
  },
  {
   "cell_type": "code",
   "execution_count": 110,
   "id": "5ed7dcaa-6d5c-409c-a4c9-2aa05051d600",
   "metadata": {},
   "outputs": [],
   "source": [
    "y=cal(3,4)"
   ]
  },
  {
   "cell_type": "code",
   "execution_count": 112,
   "id": "9fc51b62-c18c-445a-9e60-4426c5e97c26",
   "metadata": {},
   "outputs": [
    {
     "data": {
      "text/plain": [
       "(7, -1, 12)"
      ]
     },
     "execution_count": 112,
     "metadata": {},
     "output_type": "execute_result"
    }
   ],
   "source": [
    "y"
   ]
  },
  {
   "cell_type": "code",
   "execution_count": 103,
   "id": "0639d78f-79b1-49d5-80f5-20e038e59568",
   "metadata": {},
   "outputs": [
    {
     "name": "stdin",
     "output_type": "stream",
     "text": [
      "Enter first number:  34\n",
      "Enter second number:  56\n"
     ]
    },
    {
     "name": "stdout",
     "output_type": "stream",
     "text": [
      "Sum: 90.0\n",
      "Difference: -22.0\n",
      "Product: 1904.0\n",
      "Quotient: 0.6071428571428571\n"
     ]
    }
   ],
   "source": [
    "def add(x, y):\n",
    "    return x + y\n",
    "\n",
    "def subtract(x, y):\n",
    "    return x - y\n",
    "\n",
    "def multiply(x, y):\n",
    "    return x * y\n",
    "\n",
    "def divide(x, y):\n",
    "    if y != 0:\n",
    "        return x / y\n",
    "    else:\n",
    "        return \"Cannot divide by zero\"\n",
    "\n",
    "# Get user input\n",
    "num1 = float(input(\"Enter first number: \"))\n",
    "num2 = float(input(\"Enter second number: \"))\n",
    "\n",
    "# Perform calculations\n",
    "sum_result = add(num1, num2)\n",
    "difference_result = subtract(num1, num2)\n",
    "product_result = multiply(num1, num2)\n",
    "quotient_result = divide(num1, num2)\n",
    "\n",
    "# Display results\n",
    "print(f\"Sum: {sum_result}\")\n",
    "print(f\"Difference: {difference_result}\")\n",
    "print(f\"Product: {product_result}\")\n",
    "print(f\"Quotient: {quotient_result}\")\n"
   ]
  },
  {
   "cell_type": "code",
   "execution_count": null,
   "id": "8706a716-85c1-489d-b317-7d40de518f41",
   "metadata": {},
   "outputs": [],
   "source": []
  },
  {
   "cell_type": "code",
   "execution_count": 106,
   "id": "0497a871-2857-4588-a9cf-1587dd6da3f2",
   "metadata": {},
   "outputs": [],
   "source": [
    "def area(r):\n",
    "    return 3.14 * r *r\n"
   ]
  },
  {
   "cell_type": "code",
   "execution_count": 114,
   "id": "cff0fc09-270f-45ae-a3fe-d0dc54e86e51",
   "metadata": {},
   "outputs": [],
   "source": [
    "b=area(3)"
   ]
  },
  {
   "cell_type": "code",
   "execution_count": 115,
   "id": "7b93c2c5-f5b3-4a6a-8303-88cbe7dd1bea",
   "metadata": {},
   "outputs": [
    {
     "data": {
      "text/plain": [
       "28.259999999999998"
      ]
     },
     "execution_count": 115,
     "metadata": {},
     "output_type": "execute_result"
    }
   ],
   "source": [
    "b"
   ]
  },
  {
   "cell_type": "code",
   "execution_count": null,
   "id": "69f02ad3-63af-4e9c-92bc-bd4908ea83a0",
   "metadata": {},
   "outputs": [],
   "source": []
  },
  {
   "cell_type": "code",
   "execution_count": 117,
   "id": "4adc88ef-1d6f-407d-aac7-32efce98e467",
   "metadata": {},
   "outputs": [],
   "source": [
    "def area_rec(l,b):\n",
    "    return l*b"
   ]
  },
  {
   "cell_type": "code",
   "execution_count": 126,
   "id": "8ff7a261-ea36-4122-a480-3e847958cf97",
   "metadata": {},
   "outputs": [
    {
     "data": {
      "text/plain": [
       "12"
      ]
     },
     "execution_count": 126,
     "metadata": {},
     "output_type": "execute_result"
    }
   ],
   "source": [
    "area_rec(3,4)"
   ]
  },
  {
   "cell_type": "code",
   "execution_count": 123,
   "id": "b753f770-bfdb-4624-83cc-7bb00de25aaa",
   "metadata": {},
   "outputs": [],
   "source": [
    "def area_tri(b,h):\n",
    "    return 1/2*b*h"
   ]
  },
  {
   "cell_type": "code",
   "execution_count": 127,
   "id": "7d662160-ca8c-4a98-887e-32a293335fd7",
   "metadata": {},
   "outputs": [
    {
     "data": {
      "text/plain": [
       "6.0"
      ]
     },
     "execution_count": 127,
     "metadata": {},
     "output_type": "execute_result"
    }
   ],
   "source": [
    "area_tri(4,3)"
   ]
  },
  {
   "cell_type": "code",
   "execution_count": null,
   "id": "54e3abc2-bbf3-499d-aca6-5fa15e9a500c",
   "metadata": {},
   "outputs": [],
   "source": []
  },
  {
   "cell_type": "code",
   "execution_count": 4,
   "id": "66740d5a-b380-47fd-b761-97b003fc8e7c",
   "metadata": {},
   "outputs": [],
   "source": [
    "# print the first 5 positive integers in ascending order\n",
    "# with one number in each line"
   ]
  },
  {
   "cell_type": "code",
   "execution_count": 5,
   "id": "4ec92af0-4cce-49b0-8310-7165fcaaca55",
   "metadata": {},
   "outputs": [],
   "source": [
    "def number():\n",
    "    for i in range(6):\n",
    "        print(i)"
   ]
  },
  {
   "cell_type": "code",
   "execution_count": 6,
   "id": "04ba1bc6-e2b0-4fcf-817d-cbca6ed752c6",
   "metadata": {},
   "outputs": [
    {
     "name": "stdout",
     "output_type": "stream",
     "text": [
      "0\n",
      "1\n",
      "2\n",
      "3\n",
      "4\n",
      "5\n"
     ]
    }
   ],
   "source": [
    "number()"
   ]
  },
  {
   "cell_type": "code",
   "execution_count": 7,
   "id": "bb4e9c8f-0806-497b-a393-fec2bc076f02",
   "metadata": {},
   "outputs": [],
   "source": [
    "# Accept an integer as input and print its square as ouput"
   ]
  },
  {
   "cell_type": "code",
   "execution_count": 14,
   "id": "060e339e-5f6f-476d-b8ef-8165dfb5d334",
   "metadata": {},
   "outputs": [],
   "source": [
    "def squ():\n",
    "    n=int(input(\"Enter a number\"))\n",
    "    sq=n*n\n",
    "    return sq"
   ]
  },
  {
   "cell_type": "code",
   "execution_count": 15,
   "id": "60bffb00-7665-4773-9f1b-460c08acad00",
   "metadata": {},
   "outputs": [
    {
     "name": "stdin",
     "output_type": "stream",
     "text": [
      "Enter a number 2\n"
     ]
    },
    {
     "data": {
      "text/plain": [
       "4"
      ]
     },
     "execution_count": 15,
     "metadata": {},
     "output_type": "execute_result"
    }
   ],
   "source": [
    "squ()"
   ]
  },
  {
   "cell_type": "code",
   "execution_count": 16,
   "id": "ea0a5cab-0f1f-4bed-ad6b-76619f61ab8d",
   "metadata": {},
   "outputs": [
    {
     "name": "stdin",
     "output_type": "stream",
     "text": [
      "Enter a number 9\n"
     ]
    },
    {
     "data": {
      "text/plain": [
       "81"
      ]
     },
     "execution_count": 16,
     "metadata": {},
     "output_type": "execute_result"
    }
   ],
   "source": [
    "squ()"
   ]
  },
  {
   "cell_type": "code",
   "execution_count": 17,
   "id": "d6aa5900-8a13-4757-bb6d-55080d77ce40",
   "metadata": {},
   "outputs": [],
   "source": [
    "# Accept an integer as input and print their sum as output"
   ]
  },
  {
   "cell_type": "code",
   "execution_count": 18,
   "id": "7f098a10-dbd8-4578-88a7-5e93f4b37763",
   "metadata": {},
   "outputs": [],
   "source": [
    "def sum():\n",
    "    num1=int(input(\"Enter first number\"))\n",
    "    num2=int(input(\"Enter Second  number\"))\n",
    "    add=num1+num2\n",
    "    return add"
   ]
  },
  {
   "cell_type": "code",
   "execution_count": 19,
   "id": "51b2be54-6e1c-4c81-b063-ede3dd33916d",
   "metadata": {},
   "outputs": [
    {
     "name": "stdin",
     "output_type": "stream",
     "text": [
      "Enter first number 23\n",
      "Enter Second  number 2\n"
     ]
    },
    {
     "data": {
      "text/plain": [
       "25"
      ]
     },
     "execution_count": 19,
     "metadata": {},
     "output_type": "execute_result"
    }
   ],
   "source": [
    "sum()"
   ]
  },
  {
   "cell_type": "code",
   "execution_count": 20,
   "id": "1862cc1e-6dba-4c40-acd2-0222d605cdcf",
   "metadata": {},
   "outputs": [],
   "source": [
    "def two_word(first,second):\n",
    "    print(first,\" \",second)"
   ]
  },
  {
   "cell_type": "code",
   "execution_count": 21,
   "id": "3f74d707-f0d4-492e-9b2d-7403e54e834e",
   "metadata": {},
   "outputs": [
    {
     "name": "stdout",
     "output_type": "stream",
     "text": [
      "Abhinesh   Singh\n"
     ]
    }
   ],
   "source": [
    "two_word(\"Abhinesh\",\"Singh\")"
   ]
  },
  {
   "cell_type": "code",
   "execution_count": 22,
   "id": "dbae1ca5-0abe-4601-9bbe-594f680cf9e1",
   "metadata": {},
   "outputs": [],
   "source": [
    "# create a python program that  include a user define\n",
    "# funcation called print_even number().\n",
    "# the funcation should prompt the user to set a range\n",
    "# limit before printing all even number upto that limit"
   ]
  },
  {
   "cell_type": "code",
   "execution_count": 23,
   "id": "180a705c-0fc0-49dd-aa27-1c490facdde7",
   "metadata": {},
   "outputs": [],
   "source": [
    "def print_even_num():\n",
    "    num1=int(input(\"Enter the first even number\"))\n",
    "    num2=int(input(\"Enter the Second  even number\"))\n",
    "    for i in range (num1,num2+1):\n",
    "        if i%2==0:\n",
    "            print(i)"
   ]
  },
  {
   "cell_type": "code",
   "execution_count": 24,
   "id": "d5d43b42-85d2-442c-af37-ff6fe213cfac",
   "metadata": {},
   "outputs": [
    {
     "name": "stdin",
     "output_type": "stream",
     "text": [
      "Enter the first even number 1\n",
      "Enter the Second  even number 10\n"
     ]
    },
    {
     "name": "stdout",
     "output_type": "stream",
     "text": [
      "2\n",
      "4\n",
      "6\n",
      "8\n",
      "10\n"
     ]
    }
   ],
   "source": [
    "print_even_num()"
   ]
  },
  {
   "cell_type": "code",
   "execution_count": null,
   "id": "c2dd34e3-accd-4349-9934-c3fba172277a",
   "metadata": {},
   "outputs": [],
   "source": []
  },
  {
   "cell_type": "code",
   "execution_count": null,
   "id": "e2b348b5-1445-4f55-844d-a6c29930d907",
   "metadata": {},
   "outputs": [],
   "source": []
  }
 ],
 "metadata": {
  "kernelspec": {
   "display_name": "Python 3 (ipykernel)",
   "language": "python",
   "name": "python3"
  },
  "language_info": {
   "codemirror_mode": {
    "name": "ipython",
    "version": 3
   },
   "file_extension": ".py",
   "mimetype": "text/x-python",
   "name": "python",
   "nbconvert_exporter": "python",
   "pygments_lexer": "ipython3",
   "version": "3.10.8"
  }
 },
 "nbformat": 4,
 "nbformat_minor": 5
}
