{
 "cells": [
  {
   "cell_type": "code",
   "execution_count": 1,
   "id": "51a48e7f-c708-4d74-9063-fa824501d9c2",
   "metadata": {},
   "outputs": [],
   "source": [
    "# Sting ---- in-built funcation"
   ]
  },
  {
   "cell_type": "code",
   "execution_count": 2,
   "id": "4ec57786-ccc9-40a4-98eb-3ae8719775df",
   "metadata": {},
   "outputs": [],
   "source": [
    "s1=\"Pwskills\""
   ]
  },
  {
   "cell_type": "code",
   "execution_count": 4,
   "id": "dd5c7d23-fed4-480b-95ba-dc49252690b3",
   "metadata": {},
   "outputs": [
    {
     "data": {
      "text/plain": [
       "2"
      ]
     },
     "execution_count": 4,
     "metadata": {},
     "output_type": "execute_result"
    }
   ],
   "source": [
    "s1.count('l') "
   ]
  },
  {
   "cell_type": "code",
   "execution_count": 10,
   "id": "0f748911-3c89-4abd-8727-0b82422441b9",
   "metadata": {},
   "outputs": [],
   "source": [
    "# firstly we click the varible name and click dot lile \n",
    "# s1.\n",
    "# then Automatically come a pop-up of in-bult function .\n",
    "# if you are not able to a learn these funcation \n",
    "# then click between bracket of those funcation \n",
    "# and press shift and tab after it it will show pop-up of \n",
    "# those function working and its Condition of working "
   ]
  },
  {
   "cell_type": "code",
   "execution_count": 11,
   "id": "4cff6473-574c-4b7b-99d0-9f810c33174c",
   "metadata": {},
   "outputs": [
    {
     "data": {
      "text/plain": [
       "2"
      ]
     },
     "execution_count": 11,
     "metadata": {},
     "output_type": "execute_result"
    }
   ],
   "source": [
    "s1.find('s') # its find of s index ."
   ]
  },
  {
   "cell_type": "code",
   "execution_count": 14,
   "id": "a226d99a-bc5b-4be5-a05c-bfa8d88ce5f9",
   "metadata": {},
   "outputs": [
    {
     "data": {
      "text/plain": [
       "0"
      ]
     },
     "execution_count": 14,
     "metadata": {},
     "output_type": "execute_result"
    }
   ],
   "source": [
    "s1.index('P')"
   ]
  },
  {
   "cell_type": "code",
   "execution_count": 15,
   "id": "6a5a7039-1cee-493c-a1cf-7b649fa31afe",
   "metadata": {},
   "outputs": [
    {
     "data": {
      "text/plain": [
       "2"
      ]
     },
     "execution_count": 15,
     "metadata": {},
     "output_type": "execute_result"
    }
   ],
   "source": [
    "s1.index('s')"
   ]
  },
  {
   "cell_type": "code",
   "execution_count": 16,
   "id": "c968548d-331a-4c40-bfee-e4f9058e58bb",
   "metadata": {},
   "outputs": [
    {
     "data": {
      "text/plain": [
       "-1"
      ]
     },
     "execution_count": 16,
     "metadata": {},
     "output_type": "execute_result"
    }
   ],
   "source": [
    "s1.find('z')"
   ]
  },
  {
   "cell_type": "code",
   "execution_count": 17,
   "id": "c2d0b154-6bb9-44c5-a088-d6848323c7b3",
   "metadata": {},
   "outputs": [
    {
     "ename": "ValueError",
     "evalue": "substring not found",
     "output_type": "error",
     "traceback": [
      "\u001b[0;31m---------------------------------------------------------------------------\u001b[0m",
      "\u001b[0;31mValueError\u001b[0m                                Traceback (most recent call last)",
      "Cell \u001b[0;32mIn[17], line 1\u001b[0m\n\u001b[0;32m----> 1\u001b[0m \u001b[43ms1\u001b[49m\u001b[38;5;241;43m.\u001b[39;49m\u001b[43mindex\u001b[49m\u001b[43m(\u001b[49m\u001b[38;5;124;43m'\u001b[39;49m\u001b[38;5;124;43mz\u001b[39;49m\u001b[38;5;124;43m'\u001b[39;49m\u001b[43m)\u001b[49m\n",
      "\u001b[0;31mValueError\u001b[0m: substring not found"
     ]
    }
   ],
   "source": [
    "s1.index('z')"
   ]
  },
  {
   "cell_type": "code",
   "execution_count": 18,
   "id": "d223de4c-90d8-4f01-8acb-5a7b80f7167b",
   "metadata": {},
   "outputs": [],
   "source": [
    "# difference between find and index are the ---\n",
    "# we use find if  character not found in your String\n",
    "# then it will give -1\n",
    "# we use index if Character are not found in Your String\n",
    "# it will give an error message of --subrting is not found"
   ]
  },
  {
   "cell_type": "code",
   "execution_count": 19,
   "id": "6ba27409-84d6-4893-a916-d3e03229da3a",
   "metadata": {},
   "outputs": [
    {
     "data": {
      "text/plain": [
       "'PWSKILLS'"
      ]
     },
     "execution_count": 19,
     "metadata": {},
     "output_type": "execute_result"
    }
   ],
   "source": [
    "s1.upper()"
   ]
  },
  {
   "cell_type": "code",
   "execution_count": 20,
   "id": "812b7d64-e03a-49b3-b1fc-b6d716646b32",
   "metadata": {},
   "outputs": [
    {
     "data": {
      "text/plain": [
       "'pwskills'"
      ]
     },
     "execution_count": 20,
     "metadata": {},
     "output_type": "execute_result"
    }
   ],
   "source": [
    "s1.lower()"
   ]
  },
  {
   "cell_type": "code",
   "execution_count": 21,
   "id": "4d49553e-4fbe-4ecf-a716-f2b2398d1bfa",
   "metadata": {},
   "outputs": [
    {
     "data": {
      "text/plain": [
       "'Pwskills'"
      ]
     },
     "execution_count": 21,
     "metadata": {},
     "output_type": "execute_result"
    }
   ],
   "source": [
    "s1.title()"
   ]
  },
  {
   "cell_type": "code",
   "execution_count": 22,
   "id": "6ccb2977-b682-43f5-aa48-854360978799",
   "metadata": {},
   "outputs": [],
   "source": [
    "s2= \"My name is abhinesh singh\""
   ]
  },
  {
   "cell_type": "code",
   "execution_count": 24,
   "id": "11975e1c-b591-49aa-a742-0cd0d0167fc2",
   "metadata": {},
   "outputs": [
    {
     "data": {
      "text/plain": [
       "'My Name Is Abhinesh Singh'"
      ]
     },
     "execution_count": 24,
     "metadata": {},
     "output_type": "execute_result"
    }
   ],
   "source": [
    "s2.title() # title covert the every word of first latter in camel cases"
   ]
  },
  {
   "cell_type": "code",
   "execution_count": 26,
   "id": "1c34d082-0957-4a3e-8f3a-2272489762d0",
   "metadata": {},
   "outputs": [
    {
     "data": {
      "text/plain": [
       "['My', 'name', 'is', 'abhinesh', 'singh']"
      ]
     },
     "execution_count": 26,
     "metadata": {},
     "output_type": "execute_result"
    }
   ],
   "source": [
    "s2.split() # it is awlays return data in list"
   ]
  },
  {
   "cell_type": "code",
   "execution_count": 29,
   "id": "26fc7208-023f-42e7-b83e-f3d398ebd926",
   "metadata": {},
   "outputs": [],
   "source": [
    "s3=\" my name,is,abhinesh,singh\""
   ]
  },
  {
   "cell_type": "code",
   "execution_count": 31,
   "id": "2709d0e8-5446-43a8-ba63-03f5289df735",
   "metadata": {},
   "outputs": [
    {
     "data": {
      "text/plain": [
       "['my', 'name,is,abhinesh,singh']"
      ]
     },
     "execution_count": 31,
     "metadata": {},
     "output_type": "execute_result"
    }
   ],
   "source": [
    "s3.split() # split it by based up separator and \n",
    "           # by defaults  space is separator"
   ]
  },
  {
   "cell_type": "code",
   "execution_count": 32,
   "id": "02630838-3113-46d7-a819-bd8e679d9b69",
   "metadata": {},
   "outputs": [
    {
     "data": {
      "text/plain": [
       "[' my name', 'is', 'abhinesh', 'singh']"
      ]
     },
     "execution_count": 32,
     "metadata": {},
     "output_type": "execute_result"
    }
   ],
   "source": [
    "# also we are split by own choice by using , or latter or anythings\n",
    "# where you want split form it\n",
    "s3.split(',')"
   ]
  },
  {
   "cell_type": "code",
   "execution_count": 34,
   "id": "b5923356-3dd8-4834-afb5-2306deb17b2a",
   "metadata": {},
   "outputs": [
    {
     "data": {
      "text/plain": [
       "[' my name,i', ',abhine', 'h,', 'ingh']"
      ]
     },
     "execution_count": 34,
     "metadata": {},
     "output_type": "execute_result"
    }
   ],
   "source": [
    "s3.split('s')"
   ]
  },
  {
   "cell_type": "code",
   "execution_count": 35,
   "id": "f1049a07-175d-4623-ab03-03f7da57d0c8",
   "metadata": {},
   "outputs": [],
   "source": [
    "s4 =\"this is my fsds prg class . i am attending this class for 4th time\""
   ]
  },
  {
   "cell_type": "code",
   "execution_count": 37,
   "id": "b76fd6df-fd8e-472a-81b7-822c9486d129",
   "metadata": {},
   "outputs": [
    {
     "data": {
      "text/plain": [
       "['this is my fsds prg class ', ' i am attending this class for 4th time']"
      ]
     },
     "execution_count": 37,
     "metadata": {},
     "output_type": "execute_result"
    }
   ],
   "source": [
    "# we split this string in two Sentence \n",
    "s4.split('.')"
   ]
  },
  {
   "cell_type": "code",
   "execution_count": 39,
   "id": "618b7109-8f00-4ac7-a7d2-c59f850792e2",
   "metadata": {},
   "outputs": [
    {
     "data": {
      "text/plain": [
       "'this is my fsds prg class '"
      ]
     },
     "execution_count": 39,
     "metadata": {},
     "output_type": "execute_result"
    }
   ],
   "source": [
    "s4.split('.')[0]"
   ]
  },
  {
   "cell_type": "code",
   "execution_count": 42,
   "id": "560102bc-b967-454d-a945-a3db2bdff959",
   "metadata": {},
   "outputs": [
    {
     "data": {
      "text/plain": [
       "' i am attending this class for 4th time'"
      ]
     },
     "execution_count": 42,
     "metadata": {},
     "output_type": "execute_result"
    }
   ],
   "source": [
    "s4.split('.')[1]"
   ]
  },
  {
   "cell_type": "code",
   "execution_count": 43,
   "id": "19d35dbd-02fa-429e-83cd-b342b08989b6",
   "metadata": {},
   "outputs": [
    {
     "data": {
      "text/plain": [
       "' I Am Attending This Class For 4Th Time'"
      ]
     },
     "execution_count": 43,
     "metadata": {},
     "output_type": "execute_result"
    }
   ],
   "source": [
    "s4.split('.')[1].title()"
   ]
  },
  {
   "cell_type": "code",
   "execution_count": 44,
   "id": "5b308315-0258-48ff-85e3-2171719dcfde",
   "metadata": {},
   "outputs": [
    {
     "data": {
      "text/plain": [
       "'Pwskills'"
      ]
     },
     "execution_count": 44,
     "metadata": {},
     "output_type": "execute_result"
    }
   ],
   "source": [
    "s1.capitalize()"
   ]
  },
  {
   "cell_type": "code",
   "execution_count": 47,
   "id": "314d2e71-5c3f-478e-b14f-cfb964873858",
   "metadata": {},
   "outputs": [
    {
     "data": {
      "text/plain": [
       "'My name is abhinesh singh'"
      ]
     },
     "execution_count": 47,
     "metadata": {},
     "output_type": "execute_result"
    }
   ],
   "source": [
    "s2.capitalize() # it is only Capital latter on fist word of string"
   ]
  },
  {
   "cell_type": "code",
   "execution_count": 46,
   "id": "d38776b0-d2f0-4a4d-8605-a61584f9c0ab",
   "metadata": {},
   "outputs": [
    {
     "data": {
      "text/plain": [
       "'My Name Is Abhinesh Singh'"
      ]
     },
     "execution_count": 46,
     "metadata": {},
     "output_type": "execute_result"
    }
   ],
   "source": [
    "s2.title()"
   ]
  },
  {
   "cell_type": "code",
   "execution_count": 48,
   "id": "ad12bac8-c229-4ec7-bc41-5a243fe61ef5",
   "metadata": {},
   "outputs": [
    {
     "data": {
      "text/plain": [
       "'My aame is abhiaesh siagh'"
      ]
     },
     "execution_count": 48,
     "metadata": {},
     "output_type": "execute_result"
    }
   ],
   "source": [
    "s2.replace('n','a')"
   ]
  },
  {
   "cell_type": "code",
   "execution_count": 49,
   "id": "65191fc3-ea4c-41d4-8d76-4d01245486db",
   "metadata": {},
   "outputs": [
    {
     "data": {
      "text/plain": [
       "'My name is abhinesh singh'"
      ]
     },
     "execution_count": 49,
     "metadata": {},
     "output_type": "execute_result"
    }
   ],
   "source": [
    "s2"
   ]
  },
  {
   "cell_type": "code",
   "execution_count": 52,
   "id": "c1a38a6f-5d41-4062-81c6-009b9ea567c8",
   "metadata": {},
   "outputs": [
    {
     "data": {
      "text/plain": [
       "'----------------Pwskills----------------'"
      ]
     },
     "execution_count": 52,
     "metadata": {},
     "output_type": "execute_result"
    }
   ],
   "source": [
    "s1.center(40,'-')"
   ]
  },
  {
   "cell_type": "code",
   "execution_count": 53,
   "id": "dc2869d1-9ae6-4d55-aeff-6a9ce4b1a33b",
   "metadata": {},
   "outputs": [
    {
     "data": {
      "text/plain": [
       "'Pwskills'"
      ]
     },
     "execution_count": 53,
     "metadata": {},
     "output_type": "execute_result"
    }
   ],
   "source": [
    "s1.rstrip() # these strip based like rstrip and lstrip are \n",
    "            # remove space  "
   ]
  },
  {
   "cell_type": "code",
   "execution_count": 57,
   "id": "9247427b-8a4f-4f66-9471-3dea7a7e3bce",
   "metadata": {},
   "outputs": [],
   "source": [
    "s5=\"     pwskills.       \""
   ]
  },
  {
   "cell_type": "code",
   "execution_count": 58,
   "id": "0119f120-f0b3-4bc9-beae-d19ba1b742c3",
   "metadata": {},
   "outputs": [
    {
     "data": {
      "text/plain": [
       "'     pwskills.       '"
      ]
     },
     "execution_count": 58,
     "metadata": {},
     "output_type": "execute_result"
    }
   ],
   "source": [
    "s5"
   ]
  },
  {
   "cell_type": "code",
   "execution_count": 59,
   "id": "b394b3ba-8cbb-4389-a49a-ee9789bd3ebc",
   "metadata": {},
   "outputs": [
    {
     "data": {
      "text/plain": [
       "['pwskills.']"
      ]
     },
     "execution_count": 59,
     "metadata": {},
     "output_type": "execute_result"
    }
   ],
   "source": [
    "s5.rsplit()"
   ]
  },
  {
   "cell_type": "code",
   "execution_count": 60,
   "id": "b4f7bc28-b4f5-465d-9dca-ce621111e4d9",
   "metadata": {},
   "outputs": [
    {
     "data": {
      "text/plain": [
       "'pwskills.       '"
      ]
     },
     "execution_count": 60,
     "metadata": {},
     "output_type": "execute_result"
    }
   ],
   "source": [
    "s5.lstrip()"
   ]
  },
  {
   "cell_type": "code",
   "execution_count": 61,
   "id": "456539cd-28a3-4132-80c8-597e1ac3e91a",
   "metadata": {},
   "outputs": [
    {
     "data": {
      "text/plain": [
       "'pwskills.'"
      ]
     },
     "execution_count": 61,
     "metadata": {},
     "output_type": "execute_result"
    }
   ],
   "source": [
    "s5.strip()"
   ]
  },
  {
   "cell_type": "code",
   "execution_count": 62,
   "id": "ea59216c-1bd0-485d-85bc-01a64f3b82e4",
   "metadata": {},
   "outputs": [
    {
     "data": {
      "text/plain": [
       "'Pwskills'"
      ]
     },
     "execution_count": 62,
     "metadata": {},
     "output_type": "execute_result"
    }
   ],
   "source": [
    "s1"
   ]
  },
  {
   "cell_type": "code",
   "execution_count": 65,
   "id": "c3c864e6-eedc-42ae-b8a3-2b78006a488d",
   "metadata": {},
   "outputs": [
    {
     "data": {
      "text/plain": [
       "True"
      ]
     },
     "execution_count": 65,
     "metadata": {},
     "output_type": "execute_result"
    }
   ],
   "source": [
    "s1.isalnum() # here some is based funcation\n",
    "             # is based  funcation always give true or false\n",
    "    "
   ]
  },
  {
   "cell_type": "code",
   "execution_count": 64,
   "id": "d6d14b1c-ff84-40e3-b5ee-0b33051e5269",
   "metadata": {},
   "outputs": [
    {
     "data": {
      "text/plain": [
       "True"
      ]
     },
     "execution_count": 64,
     "metadata": {},
     "output_type": "execute_result"
    }
   ],
   "source": [
    "s1.isalpha()"
   ]
  },
  {
   "cell_type": "code",
   "execution_count": 66,
   "id": "d311ee6e-7e08-42ca-924f-1a1b63f7469c",
   "metadata": {},
   "outputs": [
    {
     "data": {
      "text/plain": [
       "False"
      ]
     },
     "execution_count": 66,
     "metadata": {},
     "output_type": "execute_result"
    }
   ],
   "source": [
    "s1.isnumeric()"
   ]
  },
  {
   "cell_type": "code",
   "execution_count": 67,
   "id": "e3b13960-ba18-4340-ab1b-663cf06f976e",
   "metadata": {},
   "outputs": [
    {
     "data": {
      "text/plain": [
       "False"
      ]
     },
     "execution_count": 67,
     "metadata": {},
     "output_type": "execute_result"
    }
   ],
   "source": [
    "s1.islower()"
   ]
  },
  {
   "cell_type": "code",
   "execution_count": 68,
   "id": "1c38e6e5-6580-4a53-aa8e-2791a6988ac2",
   "metadata": {},
   "outputs": [
    {
     "data": {
      "text/plain": [
       "True"
      ]
     },
     "execution_count": 68,
     "metadata": {},
     "output_type": "execute_result"
    }
   ],
   "source": [
    "s1.isascii()"
   ]
  },
  {
   "cell_type": "code",
   "execution_count": null,
   "id": "02114eac-387a-44a0-a2e2-e5b0dbfce8b4",
   "metadata": {},
   "outputs": [],
   "source": []
  }
 ],
 "metadata": {
  "kernelspec": {
   "display_name": "Python 3 (ipykernel)",
   "language": "python",
   "name": "python3"
  },
  "language_info": {
   "codemirror_mode": {
    "name": "ipython",
    "version": 3
   },
   "file_extension": ".py",
   "mimetype": "text/x-python",
   "name": "python",
   "nbconvert_exporter": "python",
   "pygments_lexer": "ipython3",
   "version": "3.10.8"
  }
 },
 "nbformat": 4,
 "nbformat_minor": 5
}
