{
 "cells": [
  {
   "cell_type": "code",
   "execution_count": 1,
   "id": "530245a9-ab9f-4350-94e0-f5c482d6a709",
   "metadata": {},
   "outputs": [],
   "source": [
    "# inheritance --\n",
    "\n",
    "Inheritance is a fundamental concept in object-oriented\n",
    "programming (OOP) that allows a class\n",
    "(called a subclass or derived class) to inherit the properties \n",
    "and methods of another class (called a superclass or base class).\n",
    "This promotes code reusability and allows you to create a\n",
    "hierarchy of classes."
   ]
  },
  {
   "cell_type": "code",
   "execution_count": 9,
   "id": "5e6a01eb-92b4-4a89-ba75-a4c16b25b6fc",
   "metadata": {},
   "outputs": [],
   "source": [
    "class a:\n",
    "    def test(self):\n",
    "        print(\"this test method is part of class a\")\n",
    "    def test1(self):\n",
    "        print(\"this is test1 from class a\")"
   ]
  },
  {
   "cell_type": "code",
   "execution_count": 10,
   "id": "5e82bdc7-83d8-4b54-b6c3-d4fb83849a58",
   "metadata": {},
   "outputs": [],
   "source": [
    "obj_a=a()"
   ]
  },
  {
   "cell_type": "code",
   "execution_count": 11,
   "id": "4edb44ad-921b-48eb-9a15-220574f489e1",
   "metadata": {},
   "outputs": [
    {
     "name": "stdout",
     "output_type": "stream",
     "text": [
      "this test method is part of class a\n"
     ]
    }
   ],
   "source": [
    "obj_a.test()"
   ]
  },
  {
   "cell_type": "code",
   "execution_count": 17,
   "id": "fc9bc22f-6664-4bbe-ad96-a9c5030b061d",
   "metadata": {},
   "outputs": [
    {
     "name": "stdout",
     "output_type": "stream",
     "text": [
      "this is test1 from class a\n"
     ]
    }
   ],
   "source": [
    "obj_a.test1()"
   ]
  },
  {
   "cell_type": "code",
   "execution_count": 19,
   "id": "12474309-bff3-4c8c-94a6-730a4d209c4e",
   "metadata": {},
   "outputs": [],
   "source": [
    "class b(a):\n",
    "    def test1b(self):\n",
    "        print(\"this is a part of class b\")\n",
    "    "
   ]
  },
  {
   "cell_type": "code",
   "execution_count": 20,
   "id": "e369ea68-5152-4c97-aaf6-669af48cdc9a",
   "metadata": {},
   "outputs": [],
   "source": [
    "obj_b=b()"
   ]
  },
  {
   "cell_type": "code",
   "execution_count": 15,
   "id": "d701bf2e-6388-4eea-8be7-f087a75b53f2",
   "metadata": {},
   "outputs": [
    {
     "name": "stdout",
     "output_type": "stream",
     "text": [
      "this test method is part of class a\n"
     ]
    }
   ],
   "source": [
    "obj_b.test()"
   ]
  },
  {
   "cell_type": "code",
   "execution_count": 21,
   "id": "74e91e13-e635-4fc7-bb71-6eb56ec73468",
   "metadata": {},
   "outputs": [
    {
     "name": "stdout",
     "output_type": "stream",
     "text": [
      "this is test1 from class a\n"
     ]
    }
   ],
   "source": [
    "obj_b.test1()"
   ]
  },
  {
   "cell_type": "code",
   "execution_count": 22,
   "id": "d51727ff-a7af-4bcf-8035-681990f94aac",
   "metadata": {},
   "outputs": [
    {
     "name": "stdout",
     "output_type": "stream",
     "text": [
      "this is a part of class b\n"
     ]
    }
   ],
   "source": [
    "obj_b.test1b()"
   ]
  },
  {
   "cell_type": "code",
   "execution_count": 23,
   "id": "94750f81-6d3f-4576-973c-04a4a41fefa7",
   "metadata": {},
   "outputs": [],
   "source": [
    "class lecture:\n",
    "    def topic(self):\n",
    "        print(\"Todays class we are Discussing about Inheritance in oops\")\n",
    "    def timing(self):\n",
    "        print(\"timing for todays class is 9 AM IST \")\n",
    "    def end_time(self):\n",
    "        print(\"today i will try to end class bit early\")"
   ]
  },
  {
   "cell_type": "code",
   "execution_count": 24,
   "id": "34306557-9e23-44bf-9f2f-c6132092a644",
   "metadata": {},
   "outputs": [],
   "source": [
    "class student(lecture):\n",
    "    def student_details(self):\n",
    "        print(\"this class will give you a student details\")\n",
    "        "
   ]
  },
  {
   "cell_type": "code",
   "execution_count": 25,
   "id": "289bf92a-0fdf-4c33-9e9a-dc59ce389694",
   "metadata": {},
   "outputs": [],
   "source": [
    "Abhinesh=student()"
   ]
  },
  {
   "cell_type": "code",
   "execution_count": 26,
   "id": "36daceed-2340-434c-b292-ca62d7af9a5c",
   "metadata": {},
   "outputs": [
    {
     "name": "stdout",
     "output_type": "stream",
     "text": [
      "Todays class we are Discussing about Inheritance in oops\n"
     ]
    }
   ],
   "source": [
    "Abhinesh.topic()"
   ]
  },
  {
   "cell_type": "code",
   "execution_count": 27,
   "id": "a9b88c0c-0afc-46e6-8b24-182bceee6af1",
   "metadata": {},
   "outputs": [
    {
     "name": "stdout",
     "output_type": "stream",
     "text": [
      "timing for todays class is 9 AM IST \n"
     ]
    }
   ],
   "source": [
    "Abhinesh.timing()"
   ]
  },
  {
   "cell_type": "code",
   "execution_count": 28,
   "id": "2db5b864-ab4f-481a-b5aa-40ff9072aec5",
   "metadata": {},
   "outputs": [
    {
     "name": "stdout",
     "output_type": "stream",
     "text": [
      "today i will try to end class bit early\n"
     ]
    }
   ],
   "source": [
    "Abhinesh.end_time()"
   ]
  },
  {
   "cell_type": "code",
   "execution_count": 29,
   "id": "c24002a1-3d02-4b34-9e6b-9fb5933d11b2",
   "metadata": {},
   "outputs": [],
   "source": [
    "ritika=student()"
   ]
  },
  {
   "cell_type": "code",
   "execution_count": 30,
   "id": "ed6a13dc-59d5-4a60-8b27-49179ae46559",
   "metadata": {},
   "outputs": [
    {
     "name": "stdout",
     "output_type": "stream",
     "text": [
      "Todays class we are Discussing about Inheritance in oops\n"
     ]
    }
   ],
   "source": [
    "ritika.topic()"
   ]
  },
  {
   "cell_type": "code",
   "execution_count": 48,
   "id": "690584f6-61e2-4a35-a996-30ddecec125b",
   "metadata": {},
   "outputs": [],
   "source": [
    "class lecture:   #.   Multi - level inheritance \n",
    "    def topic(self):\n",
    "        print(\"Todays class we are Discussing about Inheritance in oops\")\n",
    "    def timing(self):\n",
    "        print(\"timing for todays class is 9 AM IST \")\n",
    "    def end_time(self):\n",
    "        print(\"today i will try to end class bit early\")"
   ]
  },
  {
   "cell_type": "code",
   "execution_count": 49,
   "id": "1d2f3621-bddb-45e5-aedf-ca26a013831f",
   "metadata": {},
   "outputs": [],
   "source": [
    "class student(lecture):\n",
    "    def student_details(self):\n",
    "        print(\"this class will give you a student details\")"
   ]
  },
  {
   "cell_type": "code",
   "execution_count": 50,
   "id": "f7a3ca95-11c5-4ee0-80eb-c77e485e62a4",
   "metadata": {},
   "outputs": [],
   "source": [
    "class teacher(student):\n",
    "    def details(self):\n",
    "        print(\"this will give you a details about teacher \")"
   ]
  },
  {
   "cell_type": "code",
   "execution_count": 51,
   "id": "71383c12-fb70-4cc8-ac48-4ae6ff2b76d1",
   "metadata": {},
   "outputs": [],
   "source": [
    "tech=teacher()"
   ]
  },
  {
   "cell_type": "code",
   "execution_count": 52,
   "id": "c1e5fd20-7ddf-4073-9470-9d8c9b9522a5",
   "metadata": {},
   "outputs": [
    {
     "name": "stdout",
     "output_type": "stream",
     "text": [
      "this class will give you a student details\n"
     ]
    }
   ],
   "source": [
    "tech.student_details()"
   ]
  },
  {
   "cell_type": "code",
   "execution_count": 53,
   "id": "ed43b390-69bc-4d9b-afb1-042390f1b254",
   "metadata": {},
   "outputs": [
    {
     "name": "stdout",
     "output_type": "stream",
     "text": [
      "Todays class we are Discussing about Inheritance in oops\n"
     ]
    }
   ],
   "source": [
    "tech.topic()"
   ]
  },
  {
   "cell_type": "code",
   "execution_count": 54,
   "id": "9c7e272a-2428-460e-88c0-1426d7fcae41",
   "metadata": {},
   "outputs": [
    {
     "name": "stdout",
     "output_type": "stream",
     "text": [
      "today i will try to end class bit early\n"
     ]
    }
   ],
   "source": [
    "tech.end_time()"
   ]
  },
  {
   "cell_type": "code",
   "execution_count": null,
   "id": "99bc0121-b6e8-4818-b6cc-8142fbc34ac4",
   "metadata": {},
   "outputs": [],
   "source": []
  },
  {
   "cell_type": "code",
   "execution_count": 37,
   "id": "d1db8828-30b1-48c4-b4b5-ac9d004a0dd2",
   "metadata": {},
   "outputs": [],
   "source": [
    "# Above classes like \n",
    "lecture class ------->student class -------->Teacher class\n",
    "this type of inheritance Property is called Multi-Level Inheritances"
   ]
  },
  {
   "cell_type": "code",
   "execution_count": null,
   "id": "37673c1a-9957-474d-a627-6b1a56a31062",
   "metadata": {},
   "outputs": [],
   "source": [
    "Multi-level inheritance is a concept in object-oriented programming\n",
    "where a class is derived from another class, and then another \n",
    "class is derived from this derived class, forming a chain \n",
    "or hierarchy of classes. Each class in the hierarchy inherits \n",
    "properties and behaviors from its parent class.\n",
    "\n",
    "above code : ______________\n",
    "            |              |\n",
    "            | Lecture class|----Grand parent \n",
    "                   | \n",
    "                   |\n",
    "                   |\n",
    "                   👇🏻\n",
    "             Student class --------parent\n",
    "                   |\n",
    "                   |\n",
    "                   |\n",
    "                   👇🏻\n",
    "              techer class ---------child\n",
    "                                 techer class are access all data \n",
    "                                 of above classes\n",
    "\n"
   ]
  },
  {
   "cell_type": "code",
   "execution_count": 57,
   "id": "531b5934-f8e6-4841-b4ad-5e1a0d6ebf05",
   "metadata": {},
   "outputs": [],
   "source": [
    "class lecture:       #multiple inheritance \n",
    "    def topic(self):\n",
    "        print(\"Todays class we are Discussing about Inheritance in oops\")\n",
    "    def timing(self):\n",
    "        print(\"timing for todays class is 9 AM IST \")\n",
    "    def end_time(self):\n",
    "        print(\"today i will try to end class bit early\")"
   ]
  },
  {
   "cell_type": "code",
   "execution_count": 58,
   "id": "4475d300-6a0b-4411-a297-1afeba1137c9",
   "metadata": {},
   "outputs": [],
   "source": [
    "class student:\n",
    "    def student_details(self):\n",
    "        print(\"this class will give you a student details\")\n",
    "    def timing(self):\n",
    "        print(\"this is a timing function from student class\")"
   ]
  },
  {
   "cell_type": "code",
   "execution_count": 62,
   "id": "4044fa78-e2c3-4bb9-8847-8bdd0fb8c927",
   "metadata": {},
   "outputs": [],
   "source": [
    "class teacher(lecture,student):\n",
    "    def details(self):\n",
    "        print(\"this will give you a details about teacher \")"
   ]
  },
  {
   "cell_type": "code",
   "execution_count": 63,
   "id": "a61ef43e-4e0b-48ef-805f-4acc5c565eda",
   "metadata": {},
   "outputs": [],
   "source": [
    "teher=teacher()"
   ]
  },
  {
   "cell_type": "code",
   "execution_count": 44,
   "id": "e246d447-7736-4935-8e61-f6c8ac13054f",
   "metadata": {},
   "outputs": [
    {
     "name": "stdout",
     "output_type": "stream",
     "text": [
      "Todays class we are Discussing about Inheritance in oops\n"
     ]
    }
   ],
   "source": [
    "teher.topic()"
   ]
  },
  {
   "cell_type": "code",
   "execution_count": 45,
   "id": "7c5a2a0b-99ef-4274-a12b-ce7862032c31",
   "metadata": {},
   "outputs": [
    {
     "name": "stdout",
     "output_type": "stream",
     "text": [
      "this class will give you a student details\n"
     ]
    }
   ],
   "source": [
    "teher.student_details()"
   ]
  },
  {
   "cell_type": "code",
   "execution_count": 64,
   "id": "cdf048a5-155d-4b0b-b7ca-79af9e0c5b0f",
   "metadata": {},
   "outputs": [
    {
     "name": "stdout",
     "output_type": "stream",
     "text": [
      "timing for todays class is 9 AM IST \n"
     ]
    }
   ],
   "source": [
    "teher.timing()"
   ]
  },
  {
   "cell_type": "code",
   "execution_count": null,
   "id": "352e3631-7cdd-47fa-846b-a49466ac3a81",
   "metadata": {},
   "outputs": [],
   "source": [
    "Multiple inheritance is a concept in object-oriented programming\n",
    "where a class can inherit attributes and methods from more than \n",
    "one base class. In other words, a derived class \n",
    "can have multiple parent classes. This allows a class to inherit \n",
    "and combine the features of multiple classes, providing a way to\n",
    "model complex relationships and reuse code.\n",
    "\n",
    "\n",
    "above code : \n",
    "             father                           mother\n",
    "            _______________                ______________\n",
    "            | Lecture class|               |Student class|\n",
    "            |______________|               |_____________|\n",
    "                  |                               |\n",
    "                  |                               |\n",
    "                  |                               |\n",
    "                  |                               |\n",
    "                  |_______________________________|\n",
    "                                |\n",
    "                                |\n",
    "                                |\n",
    "                         _______|_________\n",
    "                         |               |\n",
    "                         | teacher class |----child\n",
    "                         -----------------\n",
    "\n"
   ]
  },
  {
   "cell_type": "code",
   "execution_count": null,
   "id": "9f930d46-4a46-4524-8261-c67f02d3e9db",
   "metadata": {},
   "outputs": [],
   "source": []
  },
  {
   "cell_type": "code",
   "execution_count": 2,
   "id": "48cfa02c-5521-4466-82fc-3c89690780cc",
   "metadata": {},
   "outputs": [],
   "source": [
    "# Super method"
   ]
  },
  {
   "cell_type": "code",
   "execution_count": 10,
   "id": "cf357b35-ee39-4226-b2b9-4f32bda2c7dd",
   "metadata": {},
   "outputs": [],
   "source": [
    "class pwskills:\n",
    "    \n",
    "    def __init__(self,mentor):\n",
    "        self.mentor=mentor\n",
    "    \n",
    "    def mentor_name(self):\n",
    "        print(self.mentor)\n",
    "class dataScience(pwskills):\n",
    "    def __init__(self,mentor,mentor_mail_id):\n",
    "        self.mentor=mentor\n",
    "        self.mentor_mail_id=mentor_mail_id\n",
    "    \n",
    "    def show_info(self):\n",
    "        print(self.mentor,self.mentor_mail_id)\n",
    "        "
   ]
  },
  {
   "cell_type": "code",
   "execution_count": 11,
   "id": "65a61981-a131-4b02-a55e-9141e5d746d7",
   "metadata": {},
   "outputs": [],
   "source": [
    "python_basic=dataScience(\"Abhinesh\",\"Abhinesh1455@gmail.com\")"
   ]
  },
  {
   "cell_type": "code",
   "execution_count": 12,
   "id": "c5d9126f-1c52-4b44-98db-573f90bd742e",
   "metadata": {},
   "outputs": [
    {
     "name": "stdout",
     "output_type": "stream",
     "text": [
      "Abhinesh Abhinesh1455@gmail.com\n"
     ]
    }
   ],
   "source": [
    "python_basic.show_info()"
   ]
  },
  {
   "cell_type": "code",
   "execution_count": 13,
   "id": "e92753e4-335f-47fd-ac3e-1d4d5db72d87",
   "metadata": {},
   "outputs": [
    {
     "name": "stdout",
     "output_type": "stream",
     "text": [
      "Abhinesh\n"
     ]
    }
   ],
   "source": [
    "python_basic.mentor_name()"
   ]
  },
  {
   "cell_type": "code",
   "execution_count": 44,
   "id": "131aed58-7530-4f5c-bc56-550cfa5c91b1",
   "metadata": {},
   "outputs": [],
   "source": [
    "\n",
    "class pwskills:\n",
    "    \n",
    "    def __init__(self,mentor):\n",
    "        self.mentor=mentor\n",
    "    \n",
    "    def mentor_name(self):\n",
    "        print(self.mentor)\n",
    "class dataScience(pwskills):\n",
    "    def __init__(self,mentor,mentor_mail_id):\n",
    "        #self.mentor=mentor\n",
    "        super().__init__(mentor)\n",
    "        self.mentor_mail_id=mentor_mail_id\n",
    "    \n",
    "    def show_info(self):\n",
    "        super().mentor_name()\n",
    "        print(self.mentor,self.mentor_mail_id)\n",
    "        "
   ]
  },
  {
   "cell_type": "code",
   "execution_count": 45,
   "id": "ef8de26a-3bfe-4f57-88e4-3ef173c4224c",
   "metadata": {},
   "outputs": [],
   "source": [
    "python_basic=dataScience(\"Abhinesh\",\"Abhinesh1455@gmail.com\")"
   ]
  },
  {
   "cell_type": "code",
   "execution_count": 46,
   "id": "d891262d-0be9-4a1a-80a8-09687038641f",
   "metadata": {},
   "outputs": [
    {
     "name": "stdout",
     "output_type": "stream",
     "text": [
      "Abhinesh\n",
      "Abhinesh Abhinesh1455@gmail.com\n"
     ]
    }
   ],
   "source": [
    "python_basic.show_info()"
   ]
  },
  {
   "cell_type": "code",
   "execution_count": 47,
   "id": "bf8a7901-cb9e-4f4a-a143-77bc74474192",
   "metadata": {},
   "outputs": [
    {
     "name": "stdout",
     "output_type": "stream",
     "text": [
      "Abhinesh\n"
     ]
    }
   ],
   "source": [
    "python_basic.mentor_name()"
   ]
  },
  {
   "cell_type": "code",
   "execution_count": null,
   "id": "1250aca0-3e87-4e2f-8db7-fa68a857edab",
   "metadata": {},
   "outputs": [],
   "source": []
  },
  {
   "cell_type": "code",
   "execution_count": 60,
   "id": "03f6f9db-0aa1-4e45-bf20-a4bfe151210a",
   "metadata": {},
   "outputs": [],
   "source": [
    "class human:\n",
    "    def __init__(self):\n",
    "        pass\n",
    "    def eat(self):\n",
    "        print(\"print the eat method from human\")\n",
    "    \n"
   ]
  },
  {
   "cell_type": "code",
   "execution_count": 65,
   "id": "70f5a6aa-9036-4125-abda-d541aedcbd13",
   "metadata": {},
   "outputs": [],
   "source": [
    "class male(human):\n",
    "    def __init__(self,name):\n",
    "        self.name=name\n",
    "        \n",
    "    def eat(self):\n",
    "        super().eat()\n",
    "        print(self.name)"
   ]
  },
  {
   "cell_type": "code",
   "execution_count": 66,
   "id": "1585ce80-bccb-4139-9907-0f23567f02d1",
   "metadata": {},
   "outputs": [],
   "source": [
    "Abhi=male(\"Abhinesh Singh\")"
   ]
  },
  {
   "cell_type": "code",
   "execution_count": 67,
   "id": "3213f2e3-e3d7-44e2-9387-5d2c4808d575",
   "metadata": {},
   "outputs": [
    {
     "name": "stdout",
     "output_type": "stream",
     "text": [
      "print the eat method from human\n",
      "Abhinesh Singh\n"
     ]
    }
   ],
   "source": [
    "Abhi.eat()"
   ]
  },
  {
   "cell_type": "code",
   "execution_count": null,
   "id": "5551884d-a739-4499-963f-c6097b194a7a",
   "metadata": {},
   "outputs": [],
   "source": []
  },
  {
   "cell_type": "code",
   "execution_count": 68,
   "id": "51c6c583-af43-4dfe-8c08-d578078114f0",
   "metadata": {},
   "outputs": [],
   "source": [
    "# destructor: A kind of entity or kind of function or method\n",
    "#             which will destroyed the object automatically ."
   ]
  },
  {
   "cell_type": "code",
   "execution_count": 77,
   "id": "68ce28c5-d10f-44b3-88df-6d736b56aaf1",
   "metadata": {},
   "outputs": [],
   "source": [
    "class fileopen:\n",
    "    def __init__(self,filename):\n",
    "        self.filename=filename\n",
    "        \n",
    "    def open_file(self):\n",
    "        print(\"this will open the file\",self.filename)\n",
    "    \n",
    "    def __del__(self):#destructor\n",
    "        self.filename\n",
    "\n",
    "        \n",
    "    "
   ]
  },
  {
   "cell_type": "code",
   "execution_count": 78,
   "id": "31da84ec-4edb-4f0c-8e00-a276463b1caa",
   "metadata": {},
   "outputs": [],
   "source": [
    "f1=fileopen(\"f1.txt\")"
   ]
  },
  {
   "cell_type": "code",
   "execution_count": 79,
   "id": "9c20fd75-b062-45ec-abdd-b71e0cbcab46",
   "metadata": {},
   "outputs": [
    {
     "name": "stdout",
     "output_type": "stream",
     "text": [
      "this will open the file f1.txt\n"
     ]
    }
   ],
   "source": [
    "f1.open_file()"
   ]
  },
  {
   "cell_type": "code",
   "execution_count": null,
   "id": "3c6c3d2b-ec1b-41e8-a73a-5920b01b9344",
   "metadata": {},
   "outputs": [],
   "source": []
  },
  {
   "cell_type": "code",
   "execution_count": 97,
   "id": "2e6da2fe-dcc0-4969-857e-9b156db15e25",
   "metadata": {},
   "outputs": [],
   "source": [
    "import time\n",
    "class timer:\n",
    "    def __init__(self):\n",
    "        self.start_time=time.time()\n",
    "        \n",
    "    def task (self):\n",
    "        time_spent=time.time()-self.start_time\n",
    "        print(time_spent)\n",
    "        \n",
    "    \n",
    "    def __del__(self):\n",
    "        print(\"\")\n",
    "        \n",
    "    def __str__(self):  # str will call when ever print object\n",
    "        return \"this is my class time\"\n",
    "    \n",
    "\n"
   ]
  },
  {
   "cell_type": "code",
   "execution_count": 98,
   "id": "40927c32-34b9-46ac-99a5-d596acb888a3",
   "metadata": {},
   "outputs": [
    {
     "name": "stdout",
     "output_type": "stream",
     "text": [
      "\n"
     ]
    }
   ],
   "source": [
    "times=timer()"
   ]
  },
  {
   "cell_type": "code",
   "execution_count": 99,
   "id": "e00b067d-fe40-4923-bf4d-edae36e533ad",
   "metadata": {},
   "outputs": [
    {
     "name": "stdout",
     "output_type": "stream",
     "text": [
      "2.1410250663757324\n"
     ]
    }
   ],
   "source": [
    "times.task()"
   ]
  },
  {
   "cell_type": "code",
   "execution_count": 100,
   "id": "bf6fec8b-7a7b-4b5f-a5ae-d19f68817806",
   "metadata": {},
   "outputs": [
    {
     "name": "stdout",
     "output_type": "stream",
     "text": [
      "this is my class time\n"
     ]
    }
   ],
   "source": [
    "print(times)"
   ]
  },
  {
   "cell_type": "code",
   "execution_count": null,
   "id": "44793cf8-06d7-4c17-8fb9-2d44b9dbe63d",
   "metadata": {},
   "outputs": [],
   "source": []
  },
  {
   "cell_type": "code",
   "execution_count": 1,
   "id": "5c686426-c115-42ed-be3d-b4cb89985a71",
   "metadata": {},
   "outputs": [],
   "source": [
    "# Decorators:-Decorators is nothing but a kind of Capability which is\n",
    "#given inside python so you try to use nature of one function or may \n",
    "#be Property of one funcation into other funcation .\n",
    "#And same go to classes"
   ]
  },
  {
   "cell_type": "code",
   "execution_count": null,
   "id": "fb5443cf-23d1-4cc4-a64d-eb2b88165b8f",
   "metadata": {},
   "outputs": [],
   "source": [
    "In Python, a decorator is a special type of function that can\n",
    "be used to modify or extend the behavior of another function.\n",
    "You can think of it as a way to wrap or decorate a function \n",
    "with additional functionality.\n",
    "\n",
    "Here's a simple explanation:\n",
    "\n",
    "Function A: This is the original function that you want to \n",
    "enhance or modify.\n",
    "\n",
    "Decorator B: This is another function that you define \n",
    "separately. It takes Function A as an input, adds some extra \n",
    "functionality to it, and returns a new function.\n",
    "\n",
    "Usage of Decorator: When you apply the decorator to \n",
    "Function A, it effectively replaces Function A with the new\n",
    "function created by the decorator. So, whenever you call\n",
    "Function A, you're actually invoking the enhanced version \n",
    "provided by the decorator."
   ]
  },
  {
   "cell_type": "code",
   "execution_count": 2,
   "id": "f178daad-0cef-4717-9373-8f174ffcab13",
   "metadata": {},
   "outputs": [],
   "source": [
    "# for function "
   ]
  },
  {
   "cell_type": "code",
   "execution_count": 7,
   "id": "815e4f8c-701e-4d32-ae8d-7a5157ab096b",
   "metadata": {},
   "outputs": [],
   "source": [
    "def test(func):\n",
    "    def inner_test():\n",
    "        print(\"this is start of my inner test\")\n",
    "        func()\n",
    "        print(\"this is end of my inner test\")\n",
    "    return inner_test\n",
    "@test\n",
    "def test1():\n",
    "    print(\"this is my test1\")"
   ]
  },
  {
   "cell_type": "code",
   "execution_count": 8,
   "id": "b08eeb1e-81b9-4067-8b0e-806194ea3fc5",
   "metadata": {},
   "outputs": [
    {
     "name": "stdout",
     "output_type": "stream",
     "text": [
      "this is start of my inner test\n",
      "this is my test1\n",
      "this is end of my inner test\n"
     ]
    }
   ],
   "source": [
    "test1()"
   ]
  },
  {
   "cell_type": "code",
   "execution_count": 11,
   "id": "fbd8197f-f608-4da0-b24c-ea93b6295024",
   "metadata": {},
   "outputs": [
    {
     "name": "stdout",
     "output_type": "stream",
     "text": [
      "this is start of my inner test\n",
      "this is my test1\n",
      "this is end of my inner test\n"
     ]
    },
    {
     "data": {
      "text/plain": [
       "<function __main__.test.<locals>.inner_test()>"
      ]
     },
     "execution_count": 11,
     "metadata": {},
     "output_type": "execute_result"
    }
   ],
   "source": [
    "test(test1())"
   ]
  },
  {
   "cell_type": "code",
   "execution_count": 6,
   "id": "562c48ae-d817-48a6-a42a-c79d6dd73652",
   "metadata": {},
   "outputs": [],
   "source": [
    "import time\n",
    "def print_list(l):\n",
    "    start_time=time.time()\n",
    "    for i in l:\n",
    "        print(i)\n",
    "    end_time=time.time()\n",
    "    total_time=end_time-start_time\n",
    "    print(total_time)\n",
    "    "
   ]
  },
  {
   "cell_type": "code",
   "execution_count": 7,
   "id": "a9f649b0-6aa3-4cb9-8d59-c3d7bcd32ce6",
   "metadata": {},
   "outputs": [],
   "source": [
    "def print_key(d):\n",
    "    \n",
    "    print(d.keys())\n",
    "    "
   ]
  },
  {
   "cell_type": "code",
   "execution_count": 8,
   "id": "924fa3d3-0051-48d2-8ed9-2a83ff7dccd2",
   "metadata": {},
   "outputs": [],
   "source": [
    "def find_time(func):\n",
    "    def cal_time(*args):\n",
    "        start_time=time.time()\n",
    "        func(*args)\n",
    "        end_time=time.time()\n",
    "        total_time=end_time-start_time\n",
    "        print(total_time)\n",
    "    return cal_time"
   ]
  },
  {
   "cell_type": "code",
   "execution_count": 9,
   "id": "05c1c893-83a6-42cb-bcf1-a4120076daba",
   "metadata": {},
   "outputs": [],
   "source": [
    "@find_time\n",
    "def print_key(d):\n",
    "    \n",
    "    print(d.keys())"
   ]
  },
  {
   "cell_type": "code",
   "execution_count": 10,
   "id": "f7561542-657e-450d-b1a2-d9f018f825ce",
   "metadata": {},
   "outputs": [
    {
     "name": "stdout",
     "output_type": "stream",
     "text": [
      "dict_keys(['key', 'name'])\n",
      "6.413459777832031e-05\n"
     ]
    }
   ],
   "source": [
    "print_key({'key':'values','name':'Abhinesh'})"
   ]
  },
  {
   "cell_type": "code",
   "execution_count": 11,
   "id": "fa1a65d4-eb48-4c74-8f0c-50f2a7754bce",
   "metadata": {},
   "outputs": [],
   "source": [
    "@find_time\n",
    "def print_list(l):\n",
    "    \n",
    "    for i in l:\n",
    "        print(i)\n",
    "    \n",
    "    "
   ]
  },
  {
   "cell_type": "code",
   "execution_count": 12,
   "id": "5bbd2de0-19eb-4782-bef2-7e51bd3366a8",
   "metadata": {},
   "outputs": [
    {
     "name": "stdout",
     "output_type": "stream",
     "text": [
      "1\n",
      "3\n",
      "4\n",
      "4\n",
      "5\n",
      "4\n",
      "5\n",
      "3\n",
      "8.344650268554688e-05\n"
     ]
    }
   ],
   "source": [
    "print_list([1,3,4,4,5,4,5,3])"
   ]
  },
  {
   "cell_type": "code",
   "execution_count": null,
   "id": "f37df6c0-a571-4b1c-ab93-4a32de906a04",
   "metadata": {},
   "outputs": [],
   "source": []
  },
  {
   "cell_type": "code",
   "execution_count": 13,
   "id": "7f7a5114-fbe1-4e42-907a-4a938d5b9ea2",
   "metadata": {},
   "outputs": [],
   "source": [
    "import logging\n",
    "def log_fun(func):\n",
    "    def log_inner(*args):\n",
    "        logging.basicConfig(filename=\"testing.log\", level=logging.INFO)\n",
    "        logging.info(\"This is the a start of my function\")\n",
    "        func(*args)\n",
    "        logging.info(\"this is the a end of my function\")\n",
    "    return log_inner\n",
    "    "
   ]
  },
  {
   "cell_type": "code",
   "execution_count": 14,
   "id": "dd8f5fb4-58cb-42d3-a9d0-509cdff87802",
   "metadata": {},
   "outputs": [],
   "source": [
    "@find_time\n",
    "@log_fun\n",
    "def print_list(l):\n",
    "    for i in l:\n",
    "        print(i)"
   ]
  },
  {
   "cell_type": "code",
   "execution_count": 39,
   "id": "24cd00a8-3df8-40cb-aab8-08db8f90111e",
   "metadata": {},
   "outputs": [
    {
     "name": "stdout",
     "output_type": "stream",
     "text": [
      "343\n",
      "2\n",
      "43\n",
      "34\n",
      "43\n",
      "4\n",
      "2\n",
      "4\n",
      "3\n",
      "4\n",
      "3\n",
      "4\n",
      "0.0007038116455078125\n"
     ]
    }
   ],
   "source": [
    "print_list([343,2,43,34,43,4,2,4,3,4,3,4])"
   ]
  },
  {
   "cell_type": "code",
   "execution_count": null,
   "id": "74dff9f1-742a-49f5-b45f-61f32d0ecdd8",
   "metadata": {},
   "outputs": [],
   "source": [
    "INFO:root:This is the a start of my function\n",
    "INFO:root:this is the a end of my function"
   ]
  },
  {
   "cell_type": "code",
   "execution_count": null,
   "id": "cd9ba5e4-4798-4692-8c25-2faf31623502",
   "metadata": {},
   "outputs": [],
   "source": []
  },
  {
   "cell_type": "code",
   "execution_count": 15,
   "id": "33acd660-5e25-4923-b3d9-bb926454dac7",
   "metadata": {},
   "outputs": [],
   "source": [
    "# for class"
   ]
  },
  {
   "cell_type": "code",
   "execution_count": 34,
   "id": "34029c46-b086-4c7d-8031-f4353c4092dd",
   "metadata": {},
   "outputs": [],
   "source": [
    "class abhi:\n",
    "    def __init__(self,subject):\n",
    "        self.__subject=subject"
   ]
  },
  {
   "cell_type": "code",
   "execution_count": 35,
   "id": "dbcb0e25-8935-43ad-8ab1-013abd707c64",
   "metadata": {},
   "outputs": [],
   "source": [
    "a1=abhi(\"Data Scientists\")\n"
   ]
  },
  {
   "cell_type": "code",
   "execution_count": 38,
   "id": "67ace830-f375-4444-bd03-b42d996a0017",
   "metadata": {},
   "outputs": [],
   "source": [
    "a1._abhi__subject=\"big data\""
   ]
  },
  {
   "cell_type": "code",
   "execution_count": 39,
   "id": "317e6d16-8bf3-43c5-a2db-48b7165cbf14",
   "metadata": {},
   "outputs": [
    {
     "data": {
      "text/plain": [
       "'big data'"
      ]
     },
     "execution_count": 39,
     "metadata": {},
     "output_type": "execute_result"
    }
   ],
   "source": [
    "a1._abhi__subject"
   ]
  },
  {
   "cell_type": "code",
   "execution_count": 40,
   "id": "6c72e57a-af4b-4d94-82ee-0a702aa9497a",
   "metadata": {},
   "outputs": [],
   "source": [
    "# this Above code perform by Decorators"
   ]
  },
  {
   "cell_type": "code",
   "execution_count": 45,
   "id": "5f874f07-983c-4a84-ba24-a26db2467a9b",
   "metadata": {},
   "outputs": [],
   "source": [
    "class abhi:\n",
    "    def __init__(self,subject):\n",
    "        self.__subject=subject\n",
    "    @property   # it is class and it is in-built Decorators\n",
    "    def subject1(self):\n",
    "        return self.__subject\n",
    "    \n",
    "    @subject1.setter\n",
    "    def subject1(self,subject):\n",
    "        self.__subject=subject\n",
    "        \n",
    "    @subject1.getter\n",
    "    def subject1(self):\n",
    "        return self.__subject\n",
    "        \n",
    "        \n",
    "        \n",
    "\n",
    "\n",
    "    "
   ]
  },
  {
   "cell_type": "code",
   "execution_count": 46,
   "id": "1ebf36a5-71e7-41ff-829f-f0c2285cd1b3",
   "metadata": {},
   "outputs": [],
   "source": [
    "a2=abhi(\"Data Analysts\")"
   ]
  },
  {
   "cell_type": "code",
   "execution_count": 48,
   "id": "1924446c-af11-429d-a085-f1eecdf65b15",
   "metadata": {},
   "outputs": [
    {
     "data": {
      "text/plain": [
       "'Data Analysts'"
      ]
     },
     "execution_count": 48,
     "metadata": {},
     "output_type": "execute_result"
    }
   ],
   "source": [
    "a2.subject1"
   ]
  },
  {
   "cell_type": "code",
   "execution_count": 49,
   "id": "56484fac-858d-4a3e-9078-dda659244cd2",
   "metadata": {},
   "outputs": [],
   "source": [
    "a2.subject1=\"Data Science\""
   ]
  },
  {
   "cell_type": "code",
   "execution_count": 50,
   "id": "8a0dc87d-3227-40d2-b022-c26758f33bc3",
   "metadata": {},
   "outputs": [
    {
     "data": {
      "text/plain": [
       "'Data Science'"
      ]
     },
     "execution_count": 50,
     "metadata": {},
     "output_type": "execute_result"
    }
   ],
   "source": [
    "a2.subject1"
   ]
  },
  {
   "cell_type": "code",
   "execution_count": null,
   "id": "ceabd2b5-e9b7-415a-a1e5-d3bc714839ef",
   "metadata": {},
   "outputs": [],
   "source": []
  }
 ],
 "metadata": {
  "kernelspec": {
   "display_name": "Python 3 (ipykernel)",
   "language": "python",
   "name": "python3"
  },
  "language_info": {
   "codemirror_mode": {
    "name": "ipython",
    "version": 3
   },
   "file_extension": ".py",
   "mimetype": "text/x-python",
   "name": "python",
   "nbconvert_exporter": "python",
   "pygments_lexer": "ipython3",
   "version": "3.10.8"
  }
 },
 "nbformat": 4,
 "nbformat_minor": 5
}
