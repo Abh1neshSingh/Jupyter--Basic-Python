{
 "cells": [
  {
   "cell_type": "code",
   "execution_count": 1,
   "id": "3cd4ce16-677f-4888-968c-118246adb828",
   "metadata": {},
   "outputs": [],
   "source": [
    "# Condication Statement "
   ]
  },
  {
   "cell_type": "code",
   "execution_count": 2,
   "id": "04744fb8-06cf-4d2f-84fc-24c9d9cbee74",
   "metadata": {},
   "outputs": [],
   "source": [
    "# if and else"
   ]
  },
  {
   "cell_type": "code",
   "execution_count": 4,
   "id": "c05c99b2-7f91-4644-ac35-f10d80732c41",
   "metadata": {},
   "outputs": [],
   "source": [
    "a=500\n",
    "price=345\n",
    "if price <=500:\n",
    "    pass"
   ]
  },
  {
   "cell_type": "code",
   "execution_count": 5,
   "id": "ab4fa6b8-55a8-4237-8bc4-4c904d1cd150",
   "metadata": {},
   "outputs": [
    {
     "data": {
      "text/plain": [
       "True"
      ]
     },
     "execution_count": 5,
     "metadata": {},
     "output_type": "execute_result"
    }
   ],
   "source": [
    "price <=500"
   ]
  },
  {
   "cell_type": "code",
   "execution_count": 15,
   "id": "fc77972b-23c8-43ca-966c-7231d7a99870",
   "metadata": {},
   "outputs": [
    {
     "name": "stdin",
     "output_type": "stream",
     "text": [
      "Enter the price 23433\n"
     ]
    },
    {
     "name": "stdout",
     "output_type": "stream",
     "text": [
      "t shirt\n"
     ]
    }
   ],
   "source": [
    "\n",
    "price=int(input(\"Enter the price\"))\n",
    "if price <=500 and price >=250 :\n",
    "    print(\"yes i will be  able to buy shoes\")\n",
    "elif price <250:\n",
    "    print(\" i buy sliper\")\n",
    "elif price >500:\n",
    "    print(\"t shirt\")\n",
    "\n",
    "    \n",
    "else:\n",
    "    print(\"No i will be not able to buy\")"
   ]
  },
  {
   "cell_type": "code",
   "execution_count": null,
   "id": "7948e500-7eec-4d5c-a312-7a5a205ffe05",
   "metadata": {
    "tags": []
   },
   "outputs": [],
   "source": []
  },
  {
   "cell_type": "code",
   "execution_count": 24,
   "id": "483d1992-5cb8-4ca1-ba26-5e1baafb874f",
   "metadata": {},
   "outputs": [
    {
     "name": "stdout",
     "output_type": "stream",
     "text": [
      "yes it is Available uder my budget\n",
      " i will shirt\n",
      "Yes white is my fav color\n"
     ]
    }
   ],
   "source": [
    "a=500\n",
    "shirt_p=200\n",
    "pant_p=500\n",
    "coat_p=800\n",
    "my_s='M'\n",
    "sto_s=['M','L','S','XXL']\n",
    "my_favColor='white'\n",
    "sto_color=['white','red','blue','black']\n",
    "\n",
    "if coat_p <=a:\n",
    "    print(\"I buy coat\")\n",
    "elif pant_p <500:\n",
    "    print(\"I buy pant\")\n",
    "elif shirt_p <500:\n",
    "    print(\"yes it is Available uder my budget\")\n",
    "    if my_s in sto_s:\n",
    "        print(\" i will shirt\")\n",
    "        if my_favColor in sto_color:\n",
    "            print(\"Yes white is my fav color\")\n",
    "        else:\n",
    "            print(\"My fav color is not present\")\n",
    "    else:\n",
    "        print(\"My size is not Available\")\n",
    "else:\n",
    "    print(\"i wont be able to buy\")\n",
    "    \n"
   ]
  },
  {
   "cell_type": "code",
   "execution_count": 19,
   "id": "13fe7437-f4ca-4485-8acc-dc0049219351",
   "metadata": {},
   "outputs": [
    {
     "data": {
      "text/plain": [
       "False"
      ]
     },
     "execution_count": 19,
     "metadata": {},
     "output_type": "execute_result"
    }
   ],
   "source": [
    "my_s ==sto_s"
   ]
  },
  {
   "cell_type": "code",
   "execution_count": null,
   "id": "7584981b-6ed9-4a71-bbb0-5a18b517577d",
   "metadata": {},
   "outputs": [],
   "source": []
  },
  {
   "cell_type": "code",
   "execution_count": 26,
   "id": "38b66c18-9cd0-4c75-92b0-37cde8d59e4d",
   "metadata": {},
   "outputs": [
    {
     "name": "stdout",
     "output_type": "stream",
     "text": [
      "Yes I am doing this couse\n"
     ]
    }
   ],
   "source": [
    "course=['DSM','DSA','Java','Big data','DA']\n",
    "price=20000\n",
    "mentor=\"Ram Singh\"\n",
    "if 'DSM' in course and price==20000 and 'Ram Singh' ==mentor:\n",
    "    print(\"Yes I am doing this couse\")"
   ]
  },
  {
   "cell_type": "code",
   "execution_count": null,
   "id": "5da96eef-6e6a-46b5-8d51-5a1521a215f6",
   "metadata": {},
   "outputs": [],
   "source": []
  },
  {
   "cell_type": "code",
   "execution_count": 27,
   "id": "e11c5ac4-7fbb-4d27-867a-49dbb1bfe6dc",
   "metadata": {},
   "outputs": [
    {
     "name": "stdout",
     "output_type": "stream",
     "text": [
      "not able to  buy it\n"
     ]
    }
   ],
   "source": [
    "course =20000\n",
    "\n",
    "if 10000<=course<=15000:\n",
    "    print(\"I will try to buy it\")\n",
    "else:\n",
    "    print(\"not able to  buy it\")"
   ]
  },
  {
   "cell_type": "code",
   "execution_count": 28,
   "id": "c1c064e6-bb3a-4756-bddb-f6afb5fe7789",
   "metadata": {},
   "outputs": [
    {
     "data": {
      "text/plain": [
       "False"
      ]
     },
     "execution_count": 28,
     "metadata": {},
     "output_type": "execute_result"
    }
   ],
   "source": [
    "10000<=course<=15000"
   ]
  },
  {
   "cell_type": "code",
   "execution_count": null,
   "id": "389a93e9-c9d1-421c-9202-3ef9361a3ed8",
   "metadata": {},
   "outputs": [],
   "source": []
  },
  {
   "cell_type": "code",
   "execution_count": 3,
   "id": "c13d9208-558c-49af-b9f0-2b111c62a9ad",
   "metadata": {},
   "outputs": [
    {
     "name": "stdin",
     "output_type": "stream",
     "text": [
      "Enter Your username Abhi\n",
      "Enter your Password  Abhi@123\n"
     ]
    },
    {
     "name": "stdout",
     "output_type": "stream",
     "text": [
      "You have login in Successfully\n"
     ]
    }
   ],
   "source": [
    "user_name=\"Abhi\"\n",
    "password=\"Abhi@123\"\n",
    "\n",
    "if user_name == input(\"Enter Your username\") and password == input(\"Enter your Password \"):\n",
    "    print(\"You have login in Successfully\")\n",
    "else:\n",
    "    print(\"Enter Correct username and password \")\n"
   ]
  },
  {
   "cell_type": "code",
   "execution_count": 14,
   "id": "b49fa13b-6d00-4b40-a27f-cf361b657970",
   "metadata": {},
   "outputs": [
    {
     "name": "stdin",
     "output_type": "stream",
     "text": [
      "Enter your Mobile Number 7905838674\n"
     ]
    },
    {
     "name": "stdout",
     "output_type": "stream",
     "text": [
      "Yes you are a registered user\n"
     ]
    },
    {
     "name": "stdin",
     "output_type": "stream",
     "text": [
      "Enter OTP that we have sent on your mobile no 12345\n"
     ]
    },
    {
     "name": "stdout",
     "output_type": "stream",
     "text": [
      "Your are logged in Successfully \n"
     ]
    }
   ],
   "source": [
    "mobile_no=7905838674\n",
    "otp=12345\n",
    "if mobile_no == int(input(\"Enter your Mobile Number\")):\n",
    "    print(\"Yes you are a registered user\")\n",
    "    if otp==int(input(\"Enter OTP that we have sent on your mobile no\")):\n",
    "        print(\"Your are logged in Successfully \")\n",
    "    else:\n",
    "        print(\"OTP is not correct please try to enter again\")\n",
    "else:\n",
    "    print(\"You have not entered valid mobile no\")\n",
    "        "
   ]
  },
  {
   "cell_type": "code",
   "execution_count": null,
   "id": "ecbafdbe-a271-405e-a34f-ac9d448a678a",
   "metadata": {},
   "outputs": [],
   "source": [
    "\n",
    "        "
   ]
  },
  {
   "cell_type": "code",
   "execution_count": 15,
   "id": "146da5cf-dcdc-49bb-a509-42c3b1dcdab6",
   "metadata": {},
   "outputs": [
    {
     "name": "stdin",
     "output_type": "stream",
     "text": [
      "Enter your Mobile Number 12345\n"
     ]
    },
    {
     "name": "stdout",
     "output_type": "stream",
     "text": [
      "Yes you are a registered user\n"
     ]
    },
    {
     "name": "stdin",
     "output_type": "stream",
     "text": [
      "Enter OTP that we have sent on your mobile no 12345\n"
     ]
    },
    {
     "name": "stdout",
     "output_type": "stream",
     "text": [
      "Your are logged in Successfully \n"
     ]
    }
   ],
   "source": [
    "mobile_no={7905838674,12345,123456}\n",
    "otp=12345\n",
    "if int(input(\"Enter your Mobile Number\")) in mobile_no:\n",
    "    print(\"Yes you are a registered user\")\n",
    "    if otp==int(input(\"Enter OTP that we have sent on your mobile no\")):\n",
    "        print(\"Your are logged in Successfully \")\n",
    "    else:\n",
    "        print(\"OTP is not correct please try to enter again\")\n",
    "else:\n",
    "    print(\"You have not entered valid mobile no\")"
   ]
  },
  {
   "cell_type": "code",
   "execution_count": null,
   "id": "b90b82bc-12ab-4a32-a473-8e9583f32339",
   "metadata": {},
   "outputs": [],
   "source": []
  },
  {
   "cell_type": "code",
   "execution_count": 16,
   "id": "f383433e-546e-43f9-83dc-65578fd2c214",
   "metadata": {},
   "outputs": [],
   "source": []
  },
  {
   "cell_type": "code",
   "execution_count": null,
   "id": "dfa5681d-e543-4d9d-8f51-d7a54e1098a7",
   "metadata": {},
   "outputs": [],
   "source": []
  }
 ],
 "metadata": {
  "kernelspec": {
   "display_name": "Python 3 (ipykernel)",
   "language": "python",
   "name": "python3"
  },
  "language_info": {
   "codemirror_mode": {
    "name": "ipython",
    "version": 3
   },
   "file_extension": ".py",
   "mimetype": "text/x-python",
   "name": "python",
   "nbconvert_exporter": "python",
   "pygments_lexer": "ipython3",
   "version": "3.10.8"
  }
 },
 "nbformat": 4,
 "nbformat_minor": 5
}
