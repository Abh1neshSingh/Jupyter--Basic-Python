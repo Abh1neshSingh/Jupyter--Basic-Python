{
 "cells": [
  {
   "cell_type": "code",
   "execution_count": 1,
   "id": "ba0e071d-4cd9-4e80-9fb4-563e691f2ebc",
   "metadata": {},
   "outputs": [],
   "source": [
    "a=123"
   ]
  },
  {
   "cell_type": "code",
   "execution_count": 2,
   "id": "98887818-1c16-4d20-b2fc-be322b31570a",
   "metadata": {},
   "outputs": [
    {
     "data": {
      "text/plain": [
       "123"
      ]
     },
     "execution_count": 2,
     "metadata": {},
     "output_type": "execute_result"
    }
   ],
   "source": [
    "a"
   ]
  },
  {
   "cell_type": "code",
   "execution_count": 5,
   "id": "b4088814-6e92-4268-9295-108af0a77a76",
   "metadata": {},
   "outputs": [
    {
     "name": "stdin",
     "output_type": "stream",
     "text": [
      " 32434\n"
     ]
    }
   ],
   "source": [
    "# its is the meathod for taking user input\n",
    "# by using this funcation--- input()\n",
    "b=input()"
   ]
  },
  {
   "cell_type": "code",
   "execution_count": 10,
   "id": "f4bba546-7f01-4eea-867b-2f7716440c3c",
   "metadata": {},
   "outputs": [
    {
     "data": {
      "text/plain": [
       "'32434'"
      ]
     },
     "execution_count": 10,
     "metadata": {},
     "output_type": "execute_result"
    }
   ],
   "source": [
    "b\n",
    "# what ever input give as  user input its  give a string value"
   ]
  },
  {
   "cell_type": "code",
   "execution_count": 11,
   "id": "176cc934-4da0-4ebb-9130-c36a85a33622",
   "metadata": {},
   "outputs": [
    {
     "data": {
      "text/plain": [
       "str"
      ]
     },
     "execution_count": 11,
     "metadata": {},
     "output_type": "execute_result"
    }
   ],
   "source": [
    "type(b)"
   ]
  },
  {
   "cell_type": "code",
   "execution_count": 12,
   "id": "6adee88a-b92e-424e-ac9b-a21b30ce2263",
   "metadata": {},
   "outputs": [
    {
     "data": {
      "text/plain": [
       "32434"
      ]
     },
     "execution_count": 12,
     "metadata": {},
     "output_type": "execute_result"
    }
   ],
   "source": [
    "# so here we covert into int by typecasting\n",
    "int(b)"
   ]
  },
  {
   "cell_type": "code",
   "execution_count": 13,
   "id": "caf2f35d-e738-404d-a7b8-b6ac182840ea",
   "metadata": {},
   "outputs": [
    {
     "name": "stdin",
     "output_type": "stream",
     "text": [
      " 343\n"
     ]
    }
   ],
   "source": [
    "c= int (input())"
   ]
  },
  {
   "cell_type": "code",
   "execution_count": 14,
   "id": "18475ef8-65cb-4f7b-842f-96762f8f3f1f",
   "metadata": {},
   "outputs": [
    {
     "data": {
      "text/plain": [
       "343"
      ]
     },
     "execution_count": 14,
     "metadata": {},
     "output_type": "execute_result"
    }
   ],
   "source": [
    "c"
   ]
  },
  {
   "cell_type": "code",
   "execution_count": 15,
   "id": "d451e3c4-17cd-4dba-9536-73ec55c060ed",
   "metadata": {},
   "outputs": [
    {
     "data": {
      "text/plain": [
       "int"
      ]
     },
     "execution_count": 15,
     "metadata": {},
     "output_type": "execute_result"
    }
   ],
   "source": [
    "type(c)"
   ]
  },
  {
   "cell_type": "code",
   "execution_count": 16,
   "id": "8c784325-3d19-4b72-b5ff-15168c34411f",
   "metadata": {},
   "outputs": [
    {
     "data": {
      "text/plain": [
       "343.0"
      ]
     },
     "execution_count": 16,
     "metadata": {},
     "output_type": "execute_result"
    }
   ],
   "source": [
    "float(c)"
   ]
  },
  {
   "cell_type": "code",
   "execution_count": 2,
   "id": "14b3719f-060e-4804-92df-3022eec3d5ea",
   "metadata": {},
   "outputs": [
    {
     "name": "stdin",
     "output_type": "stream",
     "text": [
      " 345345.343\n"
     ]
    }
   ],
   "source": [
    "d=float(input())"
   ]
  },
  {
   "cell_type": "code",
   "execution_count": 3,
   "id": "181cba89-e254-4b1a-8562-7a4ab7765c3a",
   "metadata": {},
   "outputs": [
    {
     "data": {
      "text/plain": [
       "345345.343"
      ]
     },
     "execution_count": 3,
     "metadata": {},
     "output_type": "execute_result"
    }
   ],
   "source": [
    "d"
   ]
  },
  {
   "cell_type": "code",
   "execution_count": 4,
   "id": "e2bdab8c-9445-438c-a347-1692a57b3a8d",
   "metadata": {},
   "outputs": [
    {
     "data": {
      "text/plain": [
       "float"
      ]
     },
     "execution_count": 4,
     "metadata": {},
     "output_type": "execute_result"
    }
   ],
   "source": [
    "type(d)"
   ]
  },
  {
   "cell_type": "code",
   "execution_count": 1,
   "id": "51b1d03f-f0dc-4692-8a32-745b214965cb",
   "metadata": {},
   "outputs": [],
   "source": [
    "s =\"Abhinesh\" \n",
    "\n",
    "''' Abhinesh is a string . string is  made by multiple \n",
    "    char and its storing by internly by the help  of indexing\n",
    "    \n",
    "\n",
    "'''"
   ]
  },
  {
   "cell_type": "code",
   "execution_count": 2,
   "id": "9b57dc10-1cc2-4205-9cd8-9255fbeffbb5",
   "metadata": {},
   "outputs": [
    {
     "data": {
      "text/plain": [
       "'b'"
      ]
     },
     "execution_count": 2,
     "metadata": {},
     "output_type": "execute_result"
    }
   ],
   "source": [
    "s [1]"
   ]
  },
  {
   "cell_type": "code",
   "execution_count": 4,
   "id": "83b9c85b-5d72-496b-9a80-501ef387635a",
   "metadata": {},
   "outputs": [
    {
     "data": {
      "text/plain": [
       "'h'"
      ]
     },
     "execution_count": 4,
     "metadata": {},
     "output_type": "execute_result"
    }
   ],
   "source": [
    "s[7]"
   ]
  },
  {
   "cell_type": "code",
   "execution_count": 5,
   "id": "bce5c8b2-5c40-4598-bac4-bc15b766f028",
   "metadata": {},
   "outputs": [
    {
     "data": {
      "text/plain": [
       "'A'"
      ]
     },
     "execution_count": 5,
     "metadata": {},
     "output_type": "execute_result"
    }
   ],
   "source": [
    "s[-8]"
   ]
  },
  {
   "cell_type": "code",
   "execution_count": 6,
   "id": "7dd1949d-057c-4ae3-8e5d-be4612d8bf21",
   "metadata": {},
   "outputs": [
    {
     "data": {
      "text/plain": [
       "'h'"
      ]
     },
     "execution_count": 6,
     "metadata": {},
     "output_type": "execute_result"
    }
   ],
   "source": [
    "s[-1]"
   ]
  },
  {
   "cell_type": "code",
   "execution_count": 33,
   "id": "72044821-6702-4c0b-8b60-5199b788ddcb",
   "metadata": {},
   "outputs": [],
   "source": [
    "s1= \"pwskills\" # learn slice for indexing  it means access the pw indexes"
   ]
  },
  {
   "cell_type": "code",
   "execution_count": 9,
   "id": "95526169-63b7-414c-9591-ba5f32b6dd9d",
   "metadata": {},
   "outputs": [
    {
     "data": {
      "text/plain": [
       "'pw'"
      ]
     },
     "execution_count": 9,
     "metadata": {},
     "output_type": "execute_result"
    }
   ],
   "source": [
    "s1[0:2]"
   ]
  },
  {
   "cell_type": "code",
   "execution_count": 12,
   "id": "34ca9944-398b-481a-98dd-f7ad61365000",
   "metadata": {},
   "outputs": [
    {
     "data": {
      "text/plain": [
       "'skills'"
      ]
     },
     "execution_count": 12,
     "metadata": {},
     "output_type": "execute_result"
    }
   ],
   "source": [
    "s1[2:8]"
   ]
  },
  {
   "cell_type": "code",
   "execution_count": 13,
   "id": "4c5927e1-5f2a-493b-b138-9a33a2a11dfe",
   "metadata": {},
   "outputs": [
    {
     "data": {
      "text/plain": [
       "'skills'"
      ]
     },
     "execution_count": 13,
     "metadata": {},
     "output_type": "execute_result"
    }
   ],
   "source": [
    "s1[2:]"
   ]
  },
  {
   "cell_type": "code",
   "execution_count": 15,
   "id": "e94dcdec-52b5-4472-ba9b-2af52f0084cc",
   "metadata": {},
   "outputs": [
    {
     "data": {
      "text/plain": [
       "'psil'"
      ]
     },
     "execution_count": 15,
     "metadata": {},
     "output_type": "execute_result"
    }
   ],
   "source": [
    "s1[0:7:2] #learn jumping for indixing it means access \n",
    "        # likewise -- psil"
   ]
  },
  {
   "cell_type": "code",
   "execution_count": 19,
   "id": "071db672-24d2-4c0b-a807-40addfa913a7",
   "metadata": {},
   "outputs": [
    {
     "data": {
      "text/plain": [
       "'slli'"
      ]
     },
     "execution_count": 19,
     "metadata": {},
     "output_type": "execute_result"
    }
   ],
   "source": [
    "s1[7:3:-1] # accessing in reverse order by sceling"
   ]
  },
  {
   "cell_type": "code",
   "execution_count": 22,
   "id": "0b2604a4-f1a5-48ea-962b-40f99c35c619",
   "metadata": {},
   "outputs": [
    {
     "data": {
      "text/plain": [
       "'slli'"
      ]
     },
     "execution_count": 22,
     "metadata": {},
     "output_type": "execute_result"
    }
   ],
   "source": [
    "s1[-1:-5:-1]"
   ]
  },
  {
   "cell_type": "code",
   "execution_count": 24,
   "id": "b56a55e2-53c6-43cd-b260-85323ccfe59a",
   "metadata": {},
   "outputs": [
    {
     "data": {
      "text/plain": [
       "'sllikswp'"
      ]
     },
     "execution_count": 24,
     "metadata": {},
     "output_type": "execute_result"
    }
   ],
   "source": [
    "s1[-1:-9:-1]"
   ]
  },
  {
   "cell_type": "code",
   "execution_count": 26,
   "id": "1e7781bb-88e3-4f50-8fa7-6b58789897f3",
   "metadata": {},
   "outputs": [
    {
     "data": {
      "text/plain": [
       "'sllikswp'"
      ]
     },
     "execution_count": 26,
     "metadata": {},
     "output_type": "execute_result"
    }
   ],
   "source": [
    "s1[7:-9:-1]"
   ]
  },
  {
   "cell_type": "code",
   "execution_count": 27,
   "id": "91c6bfdd-6b8d-4142-afc7-17cda5b6fc5b",
   "metadata": {},
   "outputs": [
    {
     "data": {
      "text/plain": [
       "'sllikswp'"
      ]
     },
     "execution_count": 27,
     "metadata": {},
     "output_type": "execute_result"
    }
   ],
   "source": [
    "s1[7::-1]"
   ]
  },
  {
   "cell_type": "code",
   "execution_count": 28,
   "id": "85a4e4d1-6380-4fec-90df-ded65aa3cb08",
   "metadata": {},
   "outputs": [
    {
     "data": {
      "text/plain": [
       "'sllikswp'"
      ]
     },
     "execution_count": 28,
     "metadata": {},
     "output_type": "execute_result"
    }
   ],
   "source": [
    "s1[::-1]"
   ]
  },
  {
   "cell_type": "code",
   "execution_count": 34,
   "id": "c74a7153-7da2-494e-a18a-16cc993e8130",
   "metadata": {},
   "outputs": [
    {
     "data": {
      "text/plain": [
       "'p'"
      ]
     },
     "execution_count": 34,
     "metadata": {},
     "output_type": "execute_result"
    }
   ],
   "source": [
    "s1[0]"
   ]
  },
  {
   "cell_type": "code",
   "execution_count": null,
   "id": "73af3546-66c0-412f-a5a7-3facddfc4970",
   "metadata": {},
   "outputs": [],
   "source": []
  }
 ],
 "metadata": {
  "kernelspec": {
   "display_name": "Python 3 (ipykernel)",
   "language": "python",
   "name": "python3"
  },
  "language_info": {
   "codemirror_mode": {
    "name": "ipython",
    "version": 3
   },
   "file_extension": ".py",
   "mimetype": "text/x-python",
   "name": "python",
   "nbconvert_exporter": "python",
   "pygments_lexer": "ipython3",
   "version": "3.10.8"
  }
 },
 "nbformat": 4,
 "nbformat_minor": 5
}
